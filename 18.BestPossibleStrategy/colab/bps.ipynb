{
  "nbformat": 4,
  "nbformat_minor": 0,
  "metadata": {
    "colab": {
      "provenance": []
    },
    "kernelspec": {
      "name": "python3",
      "display_name": "Python 3"
    },
    "language_info": {
      "name": "python"
    }
  },
  "cells": [
    {
      "cell_type": "markdown",
      "source": [
        "Copy the files **spy.csv.gz** located in https://github.com/crapher/medium/tree/main/18.BestPossibleStrategy/data to your colab folder"
      ],
      "metadata": {
        "id": "IYmbAYBansva"
      }
    },
    {
      "cell_type": "code",
      "execution_count": 1,
      "metadata": {
        "id": "-LjpN-v8Btt7"
      },
      "outputs": [],
      "source": [
        "import numpy as np\n",
        "import pandas as pd"
      ]
    },
    {
      "cell_type": "code",
      "source": [
        "# Constants\n",
        "MIN_RANGE_UP = 0.01\n",
        "SOURCE_FILE = './spy.csv.gz'\n",
        "DESTINATION_FILE = './spy.target.csv.gz'"
      ],
      "metadata": {
        "id": "36mzjkH6B-7a"
      },
      "execution_count": 2,
      "outputs": []
    },
    {
      "cell_type": "code",
      "source": [
        "# Loading data\n",
        "df = pd.read_csv(SOURCE_FILE, compression='gzip')"
      ],
      "metadata": {
        "id": "Eck0aed5QLR4"
      },
      "execution_count": 3,
      "outputs": []
    },
    {
      "cell_type": "code",
      "source": [
        "# Initialize variables\n",
        "values = df['close']\n",
        "length = len(values)\n",
        "target = np.zeros(length)"
      ],
      "metadata": {
        "id": "Olt-N2rNCBa6"
      },
      "execution_count": 4,
      "outputs": []
    },
    {
      "cell_type": "code",
      "source": [
        "# Algorithm to generate the target column\n",
        "i = 0\n",
        "while i < length:\n",
        "\n",
        "    curr_value = values[i]\n",
        "    prev_value = curr_value\n",
        "\n",
        "    open_idx = None\n",
        "    close_idx = None\n",
        "\n",
        "    for j in range(i + 1, length):\n",
        "        next_value = values[j]\n",
        "        ratio = next_value / curr_value - 1\n",
        "\n",
        "        if open_idx is not None: # Look for position close\n",
        "            if next_value < prev_value:\n",
        "                close_idx = j - 1\n",
        "                i = close_idx\n",
        "                break\n",
        "            prev_value = next_value\n",
        "        elif ratio < 0:\n",
        "            break\n",
        "        elif ratio >= MIN_RANGE_UP: # Look for position open\n",
        "            open_idx = i\n",
        "            prev_value = next_value\n",
        "\n",
        "    if open_idx is not None and close_idx is not None:\n",
        "        target[open_idx] = 1\n",
        "        target[close_idx] = -1\n",
        "\n",
        "    i += 1"
      ],
      "metadata": {
        "id": "ytemL7k3QRGf"
      },
      "execution_count": 5,
      "outputs": []
    },
    {
      "cell_type": "code",
      "source": [
        "# Assign target to dataset\n",
        "df['target'] = target.astype('int')"
      ],
      "metadata": {
        "id": "SJop-YM2QSry"
      },
      "execution_count": 6,
      "outputs": []
    },
    {
      "cell_type": "code",
      "source": [
        "# Generate the new file\n",
        "df.to_csv(DESTINATION_FILE, compression='gzip', index=False)"
      ],
      "metadata": {
        "id": "3wnO_sueQVOA"
      },
      "execution_count": 7,
      "outputs": []
    },
    {
      "cell_type": "code",
      "source": [],
      "metadata": {
        "id": "ic9KpzXRQroc"
      },
      "execution_count": null,
      "outputs": []
    }
  ]
}