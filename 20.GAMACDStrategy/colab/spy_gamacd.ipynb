{
  "nbformat": 4,
  "nbformat_minor": 0,
  "metadata": {
    "colab": {
      "provenance": []
    },
    "kernelspec": {
      "name": "python3",
      "display_name": "Python 3"
    },
    "language_info": {
      "name": "python"
    }
  },
  "cells": [
    {
      "cell_type": "markdown",
      "source": [
        "Copy the files **spy.train.csv.gz** and **spy.test.csv.gz** located in https://github.com/crapher/medium/tree/main/20.GAMACDStrategy/data to your colab folder"
      ],
      "metadata": {
        "id": "Xz3pn01fvRO6"
      }
    },
    {
      "cell_type": "code",
      "execution_count": 1,
      "metadata": {
        "colab": {
          "base_uri": "https://localhost:8080/"
        },
        "id": "mo8ddHSbuzCO",
        "outputId": "e1ad393c-84d5-45a1-eb95-d567178a8aec"
      },
      "outputs": [
        {
          "output_type": "stream",
          "name": "stdout",
          "text": [
            "Requirement already satisfied: pandas_ta in /usr/local/lib/python3.10/dist-packages (0.3.14b0)\n",
            "Requirement already satisfied: pygad in /usr/local/lib/python3.10/dist-packages (3.2.0)\n",
            "Requirement already satisfied: yfinance in /usr/local/lib/python3.10/dist-packages (0.2.28)\n",
            "Requirement already satisfied: pandas in /usr/local/lib/python3.10/dist-packages (from pandas_ta) (1.5.3)\n",
            "Requirement already satisfied: cloudpickle in /usr/local/lib/python3.10/dist-packages (from pygad) (2.2.1)\n",
            "Requirement already satisfied: matplotlib in /usr/local/lib/python3.10/dist-packages (from pygad) (3.7.1)\n",
            "Requirement already satisfied: numpy in /usr/local/lib/python3.10/dist-packages (from pygad) (1.23.5)\n",
            "Requirement already satisfied: requests>=2.31 in /usr/local/lib/python3.10/dist-packages (from yfinance) (2.31.0)\n",
            "Requirement already satisfied: multitasking>=0.0.7 in /usr/local/lib/python3.10/dist-packages (from yfinance) (0.0.11)\n",
            "Requirement already satisfied: lxml>=4.9.1 in /usr/local/lib/python3.10/dist-packages (from yfinance) (4.9.3)\n",
            "Requirement already satisfied: appdirs>=1.4.4 in /usr/local/lib/python3.10/dist-packages (from yfinance) (1.4.4)\n",
            "Requirement already satisfied: pytz>=2022.5 in /usr/local/lib/python3.10/dist-packages (from yfinance) (2023.3.post1)\n",
            "Requirement already satisfied: frozendict>=2.3.4 in /usr/local/lib/python3.10/dist-packages (from yfinance) (2.3.8)\n",
            "Requirement already satisfied: beautifulsoup4>=4.11.1 in /usr/local/lib/python3.10/dist-packages (from yfinance) (4.11.2)\n",
            "Requirement already satisfied: html5lib>=1.1 in /usr/local/lib/python3.10/dist-packages (from yfinance) (1.1)\n",
            "Requirement already satisfied: soupsieve>1.2 in /usr/local/lib/python3.10/dist-packages (from beautifulsoup4>=4.11.1->yfinance) (2.5)\n",
            "Requirement already satisfied: six>=1.9 in /usr/local/lib/python3.10/dist-packages (from html5lib>=1.1->yfinance) (1.16.0)\n",
            "Requirement already satisfied: webencodings in /usr/local/lib/python3.10/dist-packages (from html5lib>=1.1->yfinance) (0.5.1)\n",
            "Requirement already satisfied: python-dateutil>=2.8.1 in /usr/local/lib/python3.10/dist-packages (from pandas->pandas_ta) (2.8.2)\n",
            "Requirement already satisfied: charset-normalizer<4,>=2 in /usr/local/lib/python3.10/dist-packages (from requests>=2.31->yfinance) (3.2.0)\n",
            "Requirement already satisfied: idna<4,>=2.5 in /usr/local/lib/python3.10/dist-packages (from requests>=2.31->yfinance) (3.4)\n",
            "Requirement already satisfied: urllib3<3,>=1.21.1 in /usr/local/lib/python3.10/dist-packages (from requests>=2.31->yfinance) (2.0.4)\n",
            "Requirement already satisfied: certifi>=2017.4.17 in /usr/local/lib/python3.10/dist-packages (from requests>=2.31->yfinance) (2023.7.22)\n",
            "Requirement already satisfied: contourpy>=1.0.1 in /usr/local/lib/python3.10/dist-packages (from matplotlib->pygad) (1.1.0)\n",
            "Requirement already satisfied: cycler>=0.10 in /usr/local/lib/python3.10/dist-packages (from matplotlib->pygad) (0.11.0)\n",
            "Requirement already satisfied: fonttools>=4.22.0 in /usr/local/lib/python3.10/dist-packages (from matplotlib->pygad) (4.42.1)\n",
            "Requirement already satisfied: kiwisolver>=1.0.1 in /usr/local/lib/python3.10/dist-packages (from matplotlib->pygad) (1.4.5)\n",
            "Requirement already satisfied: packaging>=20.0 in /usr/local/lib/python3.10/dist-packages (from matplotlib->pygad) (23.1)\n",
            "Requirement already satisfied: pillow>=6.2.0 in /usr/local/lib/python3.10/dist-packages (from matplotlib->pygad) (9.4.0)\n",
            "Requirement already satisfied: pyparsing>=2.3.1 in /usr/local/lib/python3.10/dist-packages (from matplotlib->pygad) (3.1.1)\n"
          ]
        }
      ],
      "source": [
        "!pip install pandas_ta pygad yfinance"
      ]
    },
    {
      "cell_type": "code",
      "source": [
        "import numpy as np\n",
        "import pandas as pd\n",
        "import pandas_ta as ta\n",
        "import pygad\n",
        "\n",
        "from tqdm import tqdm"
      ],
      "metadata": {
        "id": "QVV6vi5Yu6BF"
      },
      "execution_count": 2,
      "outputs": []
    },
    {
      "cell_type": "code",
      "source": [
        "# Constants\n",
        "DEBUG = 0\n",
        "CASH = 10_000\n",
        "SOLUTIONS = 30\n",
        "GENERATIONS = 50\n",
        "FILE_TRAIN = './spy.train.csv.gz'\n",
        "FILE_TEST = './spy.test.csv.gz'\n",
        "TREND_LEN = 7\n",
        "MIN_TRADES_PER_DAY = 1\n",
        "MAX_TRADES_PER_DAY = 10"
      ],
      "metadata": {
        "id": "9Ad0Gmp3u7hp"
      },
      "execution_count": 3,
      "outputs": []
    },
    {
      "cell_type": "code",
      "source": [
        "# Configuration\n",
        "np.set_printoptions(suppress=True)\n",
        "pd.options.mode.chained_assignment = None"
      ],
      "metadata": {
        "id": "h6DQqkNHu9TY"
      },
      "execution_count": 4,
      "outputs": []
    },
    {
      "cell_type": "code",
      "source": [
        "# Loading data, and split in train and test datasets\n",
        "def get_data():\n",
        "\n",
        "    train = pd.read_csv(FILE_TRAIN, compression='gzip')\n",
        "    train['date'] = pd.to_datetime(train['date'])\n",
        "    train.ta.ppo(close=train['close'], append=True)\n",
        "    train = train.dropna().reset_index(drop=True)\n",
        "\n",
        "    test = pd.read_csv(FILE_TEST, compression='gzip')\n",
        "    test['date'] = pd.to_datetime(test['date'])\n",
        "    test.ta.ppo(close=test['close'], append=True)\n",
        "    test = test.dropna().reset_index(drop=True)\n",
        "\n",
        "    train = train[train['date'] > (test['date'].max() - pd.Timedelta(365 * 10, 'D'))]\n",
        "\n",
        "    return train, test"
      ],
      "metadata": {
        "id": "8OPrJxnbu9jI"
      },
      "execution_count": 5,
      "outputs": []
    },
    {
      "cell_type": "code",
      "source": [
        "# Define fitness function to be used by the PyGAD instance\n",
        "def fitness_func(self, solution, sol_idx):\n",
        "\n",
        "    # Get Reward from train data\n",
        "    reward, wins, losses, pnl = get_result(train, train_dates,\n",
        "                                 solution[           :TREND_LEN*1],\n",
        "                                 solution[TREND_LEN*1:TREND_LEN*2],\n",
        "                                 solution[TREND_LEN*2:TREND_LEN*3],\n",
        "                                 solution[TREND_LEN*3:TREND_LEN*4])\n",
        "\n",
        "    if DEBUG:\n",
        "        print(f'\\n{reward:10.2f}, {pnl:10.2f}, {wins:6.0f}, {losses:6.0f}, {solution[TREND_LEN*1:TREND_LEN*2]}, {solution[TREND_LEN*3:TREND_LEN*4]}', end='')\n",
        "\n",
        "    # Return the solution reward\n",
        "    return reward"
      ],
      "metadata": {
        "id": "VZnS1hPIu9w6"
      },
      "execution_count": 6,
      "outputs": []
    },
    {
      "cell_type": "code",
      "source": [
        "# Define a reward function\n",
        "def get_result(df, business_dates, min_dist_buy, trend_buy, max_dist_sell, trend_sell, is_test=False):\n",
        "\n",
        "    # Min/Max Trades\n",
        "    min_trades = len(business_dates) * MIN_TRADES_PER_DAY\n",
        "    max_trades = len(business_dates) * MAX_TRADES_PER_DAY\n",
        "\n",
        "    # Buy & Sell Signals\n",
        "    buy_mask = True\n",
        "    sell_mask = True\n",
        "\n",
        "    for i in range(0, len(min_dist_buy)):\n",
        "\n",
        "        buy_mask = buy_mask & (df['PPOh_12_26_9'] > min_dist_buy[i])\n",
        "        sell_mask = sell_mask & (df['PPOh_12_26_9'] < max_dist_sell[i])\n",
        "\n",
        "        if i == 0: continue\n",
        "\n",
        "        if trend_buy[i] > 0:\n",
        "            buy_mask = buy_mask & (df['PPOh_12_26_9'].shift(i - 1) > df['PPOh_12_26_9'].shift(i))\n",
        "        elif trend_buy[i] < 0:\n",
        "            buy_mask = buy_mask & (df['PPOh_12_26_9'].shift(i - 1) < df['PPOh_12_26_9'].shift(i))\n",
        "\n",
        "        if trend_sell[i] > 0:\n",
        "            sell_mask = sell_mask & (df['PPOh_12_26_9'].shift(i - 1) > df['PPOh_12_26_9'].shift(i))\n",
        "        elif trend_sell[i] < 0:\n",
        "            sell_mask = sell_mask & (df['PPOh_12_26_9'].shift(i - 1) < df['PPOh_12_26_9'].shift(i))\n",
        "\n",
        "    if buy_mask.sum() == 0: # Return if there are no buy signals\n",
        "        return max(-999999, -len(df) + buy_mask.sum()), 0, 0, 0\n",
        "\n",
        "    if sell_mask.sum() == 0: # Return if there are no sell signals\n",
        "        return max(-999999, -len(df) + sell_mask.sum()), 0, 0, 0\n",
        "\n",
        "    df['signal'] = np.where(buy_mask, 1, 0)\n",
        "    df['signal'] = np.where(sell_mask, -1, df['signal'])\n",
        "\n",
        "    # Remove all rows without operations, rows with the same consecutive operation, first row selling, and last row buying\n",
        "    ops = df[df['signal'] != 0]\n",
        "    ops = ops[ops['signal'] != ops['signal'].shift()]\n",
        "    if (len(ops) > 0) and (ops.iat[0, -1] == -1): ops = ops.iloc[1:]\n",
        "    if (len(ops) > 0) and (ops.iat[-1, -1] == 1): ops = ops.iloc[:-1]\n",
        "\n",
        "    if len(ops) == 0: # Return if there are no operations\n",
        "        return -min_trades, 0, 0, 0\n",
        "\n",
        "    # Calculate P&L / operation\n",
        "    ops['pnl'] = np.where(ops['signal'] == -1, (ops['close'] - ops['close'].shift()) * (CASH // ops['close'].shift()), 0)\n",
        "\n",
        "    # Calculate total P&L, wins, and losses\n",
        "    pnl = ops['pnl'].sum()\n",
        "    wins = len(ops[ops['pnl'] > 0])\n",
        "    losses = len(ops[ops['pnl'] < 0])\n",
        "\n",
        "    # Calculate Expected Value\n",
        "    valid_ops = ops[ops['pnl'] != 0]\n",
        "    if len(valid_ops) == 0: # Return if there are no valid operations\n",
        "        return -min_trades, 0, 0, 0\n",
        "\n",
        "    if not is_test and (len(valid_ops) < min_trades):\n",
        "        ev = -min_trades + len(valid_ops) # Penalize if there are less trades than the minimum allowed\n",
        "    elif not is_test and (len(valid_ops) > max_trades):\n",
        "        ev = -min_trades # Penalize if there are more trades than the maximum allowed\n",
        "    else:\n",
        "        win_rate = wins / (wins + losses) if (wins + losses) > 0 else 0\n",
        "        ev = win_rate * ops[ops['pnl'] > 0]['pnl'].sum() - (1 - win_rate) * -ops[ops['pnl'] < 0]['pnl'].sum()\n",
        "\n",
        "    return ev, wins, losses, pnl"
      ],
      "metadata": {
        "id": "MEEEJUGTu-CM"
      },
      "execution_count": 7,
      "outputs": []
    },
    {
      "cell_type": "code",
      "source": [
        "# Get Train and Test data\n",
        "train, test = get_data()"
      ],
      "metadata": {
        "id": "-zyil-ltvFX6"
      },
      "execution_count": 8,
      "outputs": []
    },
    {
      "cell_type": "code",
      "source": [
        "# Calculate Business days for train and test datasets\n",
        "train_dates = train[['date']].set_index('date').resample('1D').max()\n",
        "train_dates = train_dates[train_dates.index.dayofweek < 5]\n",
        "\n",
        "test_dates = test[['date']].set_index('date').resample('1D').max()\n",
        "test_dates = test_dates[test_dates.index.dayofweek < 5]"
      ],
      "metadata": {
        "id": "cXqEAuYcvFlM"
      },
      "execution_count": 9,
      "outputs": []
    },
    {
      "cell_type": "code",
      "source": [
        "# Process data\n",
        "print(\"\".center(60, \"*\"))\n",
        "print(f' PROCESSING DATA '.center(60, '*'))\n",
        "print(\"\".center(60, \"*\"))\n",
        "\n",
        "with tqdm(total=GENERATIONS) as pbar:\n",
        "\n",
        "    # Define Gene space based on configuration\n",
        "    gene_space = []\n",
        "\n",
        "    for i in range(TREND_LEN):\n",
        "        gene_space.append({'low': -1, 'high': 1.1, 'step': 0.1})\n",
        "\n",
        "    for i in range(TREND_LEN):\n",
        "        gene_space.append({'low': -1, 'high': 2, 'step': 1})\n",
        "\n",
        "    for i in range(TREND_LEN):\n",
        "        gene_space.append({'low': -1, 'high': 1.1, 'step': 0.1})\n",
        "\n",
        "    for i in range(TREND_LEN):\n",
        "        gene_space.append({'low': -1, 'high': 2, 'step': 1})\n",
        "\n",
        "    # Create Genetic Algorithm\n",
        "    ga_instance = pygad.GA(num_generations=GENERATIONS,\n",
        "                           num_parents_mating=5,\n",
        "                           fitness_func=fitness_func,\n",
        "                           sol_per_pop=SOLUTIONS,\n",
        "                           num_genes=len(gene_space),\n",
        "                           gene_space=gene_space,\n",
        "                           parent_selection_type=\"sss\",\n",
        "                           crossover_type=\"single_point\",\n",
        "                           mutation_type=\"random\",\n",
        "                           mutation_by_replacement=True,\n",
        "                           mutation_num_genes=2,\n",
        "                           keep_parents=-1,\n",
        "                           random_seed=42,\n",
        "                           on_generation=lambda _: pbar.update(1),\n",
        "                           )\n",
        "\n",
        "    # Run the Genetic Algorithm\n",
        "    ga_instance.run()"
      ],
      "metadata": {
        "colab": {
          "base_uri": "https://localhost:8080/"
        },
        "id": "dKqI6FqLvFyV",
        "outputId": "64c765cc-c4e7-4f04-9bef-67f5eaef8642"
      },
      "execution_count": 10,
      "outputs": [
        {
          "output_type": "stream",
          "name": "stdout",
          "text": [
            "************************************************************\n",
            "********************* PROCESSING DATA **********************\n",
            "************************************************************\n"
          ]
        },
        {
          "output_type": "stream",
          "name": "stderr",
          "text": [
            "100%|██████████| 50/50 [01:47<00:00,  2.16s/it]\n"
          ]
        }
      ]
    },
    {
      "cell_type": "code",
      "source": [
        "# Show details of the best solution.\n",
        "solution, _, _ = ga_instance.best_solution()\n",
        "\n",
        "print('\\n')\n",
        "print(f' Best Solution Parameters '.center(60, '*'))\n",
        "print(f\"Min Dist Buy    : {solution[           :TREND_LEN*1]}\")\n",
        "print(f\"Trend Buy       : {solution[TREND_LEN*1:TREND_LEN*2]}\")\n",
        "print(f\"Max Dist Sell   : {solution[TREND_LEN*2:TREND_LEN*3]}\")\n",
        "print(f\"Trend Sell      : {solution[TREND_LEN*3:TREND_LEN*4]}\")\n",
        "\n",
        "# Get Reward from train data\n",
        "reward, wins, losses, profit = get_result(train, train_dates,\n",
        "                                          solution[           :TREND_LEN*1],\n",
        "                                          solution[TREND_LEN*1:TREND_LEN*2],\n",
        "                                          solution[TREND_LEN*2:TREND_LEN*3],\n",
        "                                          solution[TREND_LEN*3:TREND_LEN*4],\n",
        "                                          True)\n",
        "\n",
        "print(f' Result (TRAIN) '.center(60, '*'))\n",
        "print(f\"* Reward         : {reward:.2f}\")\n",
        "print(f\"* Profit / Loss  : {profit:.2f}\")\n",
        "print(f\"* Wins / Losses  : {wins} / {losses}\")\n",
        "print(f\"* Win Rate       : {(100 * (wins/(wins + losses)) if wins + losses > 0 else 0):.2f}%\")\n",
        "\n",
        "# Get Reward from test data\n",
        "reward, wins, losses, profit = get_result(test, test_dates,\n",
        "                                          solution[           :TREND_LEN*1],\n",
        "                                          solution[TREND_LEN*1:TREND_LEN*2],\n",
        "                                          solution[TREND_LEN*2:TREND_LEN*3],\n",
        "                                          solution[TREND_LEN*3:TREND_LEN*4],\n",
        "                                          True)\n",
        "\n",
        "# Show the final result\n",
        "print(f' Result (TEST) '.center(60, '*'))\n",
        "print(f\"* Reward         : {reward:.2f}\")\n",
        "print(f\"* Profit / Loss  : {profit:.2f}\")\n",
        "print(f\"* Wins / Losses  : {wins} / {losses}\")\n",
        "print(f\"* Win Rate       : {(100 * (wins/(wins + losses)) if wins + losses > 0 else 0):.2f}%\")"
      ],
      "metadata": {
        "colab": {
          "base_uri": "https://localhost:8080/"
        },
        "id": "5gZBdZZFvGAv",
        "outputId": "cdad607b-c930-4df1-b312-c99335f6fb1b"
      },
      "execution_count": 11,
      "outputs": [
        {
          "output_type": "stream",
          "name": "stdout",
          "text": [
            "\n",
            "\n",
            "***************** Best Solution Parameters *****************\n",
            "Min Dist Buy    : [-0.2 -0.9 -0.2 -0.8 -0.5 -1.  -0.7]\n",
            "Trend Buy       : [ 0. -1.  1.  0.  0.  0.  0.]\n",
            "Max Dist Sell   : [0.5 0.4 1.  0.8 0.7 0.6 0.9]\n",
            "Trend Sell      : [-1.  1.  1.  0. -1.  1.  1.]\n",
            "********************** Result (TRAIN) **********************\n",
            "* Reward         : 26064.74\n",
            "* Profit / Loss  : 10242.80\n",
            "* Wins / Losses  : 11569 / 8668\n",
            "* Win Rate       : 57.17%\n",
            "********************** Result (TEST) ***********************\n",
            "* Reward         : 6148.22\n",
            "* Profit / Loss  : 723.88\n",
            "* Wins / Losses  : 2141 / 1636\n",
            "* Win Rate       : 56.69%\n"
          ]
        }
      ]
    }
  ]
}