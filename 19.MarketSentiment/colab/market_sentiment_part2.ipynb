{
  "cells": [
    {
      "cell_type": "markdown",
      "source": [
        "Copy the files **market_sentiment_data.csv.gz** located in https://github.com/crapher/medium/tree/main/19.MarketSentiment/data to your colab folder"
      ],
      "metadata": {
        "id": "IRFqJtLpYZ2K"
      }
    },
    {
      "cell_type": "code",
      "source": [
        "!pip install pandas_ta"
      ],
      "metadata": {
        "colab": {
          "base_uri": "https://localhost:8080/"
        },
        "id": "MVu60_f9Yq93",
        "outputId": "a776aa0b-0a80-4de7-acc9-e013cd3ff809"
      },
      "execution_count": 1,
      "outputs": [
        {
          "output_type": "stream",
          "name": "stdout",
          "text": [
            "Requirement already satisfied: pandas_ta in /usr/local/lib/python3.10/dist-packages (0.3.14b0)\n",
            "Requirement already satisfied: pandas in /usr/local/lib/python3.10/dist-packages (from pandas_ta) (1.5.3)\n",
            "Requirement already satisfied: python-dateutil>=2.8.1 in /usr/local/lib/python3.10/dist-packages (from pandas->pandas_ta) (2.8.2)\n",
            "Requirement already satisfied: pytz>=2020.1 in /usr/local/lib/python3.10/dist-packages (from pandas->pandas_ta) (2023.3.post1)\n",
            "Requirement already satisfied: numpy>=1.21.0 in /usr/local/lib/python3.10/dist-packages (from pandas->pandas_ta) (1.23.5)\n",
            "Requirement already satisfied: six>=1.5 in /usr/local/lib/python3.10/dist-packages (from python-dateutil>=2.8.1->pandas->pandas_ta) (1.16.0)\n"
          ]
        }
      ]
    },
    {
      "cell_type": "code",
      "execution_count": 2,
      "metadata": {
        "id": "3TbwWxHfhKgS"
      },
      "outputs": [],
      "source": [
        "import os\n",
        "import pandas as pd\n",
        "import numpy as np\n",
        "import yfinance as yf\n",
        "import pandas_ta as ta"
      ]
    },
    {
      "cell_type": "code",
      "execution_count": 3,
      "metadata": {
        "id": "2KSbk-nVhhjU"
      },
      "outputs": [],
      "source": [
        "# Configuration\n",
        "np.set_printoptions(suppress=True)\n",
        "pd.options.mode.chained_assignment = None\n",
        "\n",
        "# Constants\n",
        "SYMBOL_SD = 'E-MINI S&P 500 - CHICAGO MERCANTILE EXCHANGE'\n",
        "SYMBOLS_SD_TO_MERGE = ['E-MINI S&P 500 STOCK INDEX - CHICAGO MERCANTILE EXCHANGE']\n",
        "SYMBOL_QT = 'SPY'\n",
        "\n",
        "FILENAME_SD = './market_sentiment_data.csv.gz'\n",
        "FILENAME_QT = f'./{SYMBOL_QT}.csv.gz'\n",
        "\n",
        "CASH = 10_000\n",
        "BB_LENGTH = 20\n",
        "MIN_BANDWIDTH = 0\n",
        "MAX_BUY_PERC = 0.25\n",
        "MIN_SELL_PERC = 0.75"
      ]
    },
    {
      "cell_type": "code",
      "source": [
        "def get_data():\n",
        "\n",
        "    # Read Sentiment Data\n",
        "    df_sd = pd.read_csv(FILENAME_SD)\n",
        "\n",
        "    # Merge Symbols If Exists A Symbol With Different Names\n",
        "    if SYMBOLS_SD_TO_MERGE is not None or len(SYMBOLS_SD_TO_MERGE) > 0:\n",
        "        for symbol_to_merge in SYMBOLS_SD_TO_MERGE:\n",
        "            df_sd['Market_and_Exchange_Names'] = df_sd['Market_and_Exchange_Names'].str.replace(symbol_to_merge, SYMBOL_SD)\n",
        "\n",
        "    # Sort By Report Date\n",
        "    df_sd = df_sd.sort_values('Report_Date_as_YYYY-MM-DD')\n",
        "\n",
        "    # Filter Required Symbol\n",
        "    df_sd = df_sd[df_sd['Market_and_Exchange_Names'] == SYMBOL_SD]\n",
        "    df_sd['Report_Date_as_YYYY-MM-DD'] = pd.to_datetime(df_sd['Report_Date_as_YYYY-MM-DD'])\n",
        "\n",
        "    # Remove Unneeded Columns And Rename The Rest\n",
        "    df_sd = df_sd.rename(columns={'Report_Date_as_YYYY-MM-DD':'report_date'})\n",
        "    df_sd = df_sd.drop('Market_and_Exchange_Names', axis=1)\n",
        "\n",
        "    # Read / Get & Save Market Data\n",
        "    if not os.path.exists(FILENAME_QT):\n",
        "        ticker = yf.Ticker(SYMBOL_QT)\n",
        "        df = ticker.history(\n",
        "            interval='1d',\n",
        "            start=min(df_sd['report_date']),\n",
        "            end=max(df_sd['report_date']))\n",
        "\n",
        "        df = df.reset_index()\n",
        "        df['Date'] = df['Date'].dt.date\n",
        "        df = df[['Date','Close']]\n",
        "        df.columns = ['date', 'close']\n",
        "        if len(df) > 0: df.to_csv(FILENAME_QT, index=False)\n",
        "    else:\n",
        "        df = pd.read_csv(FILENAME_QT)\n",
        "    df['date'] = pd.to_datetime(df['date'])\n",
        "\n",
        "    # Merge Market Sentiment Data And Market Data\n",
        "    tolerance = pd.Timedelta('7 day')\n",
        "    df = pd.merge_asof(left=df_sd,right=df,left_on='report_date',right_on='date',direction='backward',tolerance=tolerance)\n",
        "    df = df.rename(columns={'date':'quote_date'})\n",
        "\n",
        "    # Clean Data And Rename Columns\n",
        "    df = df.dropna()\n",
        "    df.columns = ['report_date', 'dealer_long', 'dealer_short', 'lev_money_long', 'lev_money_short', 'quote_date', 'close']\n",
        "\n",
        "    return df"
      ],
      "metadata": {
        "id": "LZQ6RZQxI79z"
      },
      "execution_count": 4,
      "outputs": []
    },
    {
      "cell_type": "code",
      "execution_count": 5,
      "metadata": {
        "id": "SLoGIvzAhypE"
      },
      "outputs": [],
      "source": [
        "def get_result(df, field, bb_length, min_bandwidth, max_buy_perc, min_sell_perc):\n",
        "\n",
        "    # Generate a copy to avoid changing the original data\n",
        "    df = df.copy().reset_index(drop=True)\n",
        "\n",
        "    # Calculate Bollinger Bands With The Specified Field\n",
        "    df.ta.bbands(close=df[field], length=bb_length, append=True)\n",
        "    df['high_limit'] = df[f'BBU_{bb_length}_2.0'] + (df[f'BBU_{bb_length}_2.0'] - df[f'BBL_{bb_length}_2.0']) / 2\n",
        "    df['low_limit'] = df[f'BBL_{bb_length}_2.0'] - (df[f'BBU_{bb_length}_2.0'] - df[f'BBL_{bb_length}_2.0']) / 2\n",
        "    df['close_percentage'] = np.clip((df[field] - df['low_limit']) / (df['high_limit'] - df['low_limit']), 0, 1)\n",
        "    df['bandwidth'] = np.clip(df[f'BBB_{bb_length}_2.0'] / 100, 0, 1)\n",
        "\n",
        "    df = df.dropna()\n",
        "\n",
        "    # Buy Signal\n",
        "    df['signal'] = np.where((df['bandwidth'] > min_bandwidth) & (df['close_percentage'] < max_buy_perc), 1, 0)\n",
        "\n",
        "    # Sell Signal\n",
        "    df['signal'] = np.where((df['close_percentage'] > min_sell_perc), -1, df['signal'])\n",
        "\n",
        "    # Remove all rows without operations, rows with the same consecutive operation, first row selling, and last row buying\n",
        "    result = df[df['signal'] != 0]\n",
        "    result = result[result['signal'] != result['signal'].shift()]\n",
        "    if (len(result) > 0) and (result.iat[0, -1] == -1): result = result.iloc[1:]\n",
        "    if (len(result) > 0) and (result.iat[-1, -1] == 1): result = result.iloc[:-1]\n",
        "\n",
        "    # Calculate the reward / operation\n",
        "    result['total_reward'] = np.where(result['signal'] == -1, (result['close'] - result['close'].shift()) * (CASH // result['close'].shift()), 0)\n",
        "\n",
        "    # Generate the result\n",
        "    total_reward = result['total_reward'].sum()\n",
        "    wins = len(result[result['total_reward'] > 0])\n",
        "    losses = len(result[result['total_reward'] < 0])\n",
        "\n",
        "    return total_reward, wins, losses"
      ]
    },
    {
      "cell_type": "code",
      "source": [
        "# Get Required Data\n",
        "df = get_data()"
      ],
      "metadata": {
        "id": "-0OZQYfygV_-"
      },
      "execution_count": 6,
      "outputs": []
    },
    {
      "cell_type": "code",
      "source": [
        "# Get Result Based Calculating the BB on Each Field to Check Which is the Most Accurate\n",
        "for field in ['dealer_long', 'dealer_short', 'lev_money_long', 'lev_money_short']:\n",
        "\n",
        "    total_reward, wins, losses = get_result(df, field, BB_LENGTH, MIN_BANDWIDTH, MAX_BUY_PERC, MIN_SELL_PERC)\n",
        "\n",
        "    print(f' Result (Field: {field}) '.center(60, '*'))\n",
        "    print(f\"* Profit / Loss  : {total_reward:.2f}\")\n",
        "    print(f\"* Wins / Losses  : {wins} / {losses}\")\n",
        "    print(f\"* Win Rate       : {(100 * (wins/(wins + losses)) if wins + losses > 0 else 0):.2f}%\")\n"
      ],
      "metadata": {
        "colab": {
          "base_uri": "https://localhost:8080/"
        },
        "id": "RE6stVgBYXRM",
        "outputId": "475298b0-e0da-44b1-e8d2-72f54ee7c93c"
      },
      "execution_count": 7,
      "outputs": [
        {
          "output_type": "stream",
          "name": "stdout",
          "text": [
            "*************** Result (Field: dealer_long) ****************\n",
            "* Profit / Loss  : 12560.13\n",
            "* Wins / Losses  : 10 / 1\n",
            "* Win Rate       : 90.91%\n",
            "*************** Result (Field: dealer_short) ***************\n",
            "* Profit / Loss  : 8331.07\n",
            "* Wins / Losses  : 9 / 4\n",
            "* Win Rate       : 69.23%\n",
            "************** Result (Field: lev_money_long) **************\n",
            "* Profit / Loss  : 7429.20\n",
            "* Wins / Losses  : 7 / 3\n",
            "* Win Rate       : 70.00%\n",
            "************* Result (Field: lev_money_short) **************\n",
            "* Profit / Loss  : 9185.55\n",
            "* Wins / Losses  : 8 / 2\n",
            "* Win Rate       : 80.00%\n"
          ]
        }
      ]
    }
  ],
  "metadata": {
    "colab": {
      "provenance": []
    },
    "kernelspec": {
      "display_name": "Python 3",
      "name": "python3"
    },
    "language_info": {
      "name": "python"
    }
  },
  "nbformat": 4,
  "nbformat_minor": 0
}