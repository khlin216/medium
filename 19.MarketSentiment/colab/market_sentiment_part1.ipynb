{
  "cells": [
    {
      "cell_type": "code",
      "execution_count": 1,
      "metadata": {
        "id": "3TbwWxHfhKgS"
      },
      "outputs": [],
      "source": [
        "import io\n",
        "import requests as rq\n",
        "import pandas as pd"
      ]
    },
    {
      "cell_type": "code",
      "execution_count": 2,
      "metadata": {
        "id": "2KSbk-nVhhjU"
      },
      "outputs": [],
      "source": [
        "BUNDLE_URL = 'https://www.cftc.gov/files/dea/history/fin_fut_txt_2006_2016.zip'\n",
        "YEAR_URL = 'https://www.cftc.gov/files/dea/history/fut_fin_txt_{}.zip'"
      ]
    },
    {
      "cell_type": "code",
      "source": [
        "def get_dataframe(url):\n",
        "    hdr = {'User-Agent': 'Mozilla/5.0 (X11; Linux x86_64) AppleWebKit/537.11 (KHTML, like Gecko) Chrome/23.0.1271.64 Safari/537.11'}\n",
        "\n",
        "    df = pd.read_csv(url, compression='zip', storage_options=hdr, low_memory=False)\n",
        "    df = df[['Market_and_Exchange_Names',\n",
        "         'Report_Date_as_YYYY-MM-DD',\n",
        "         'Pct_of_OI_Dealer_Long_All',\n",
        "         'Pct_of_OI_Dealer_Short_All',\n",
        "         'Pct_of_OI_Lev_Money_Long_All',\n",
        "         'Pct_of_OI_Lev_Money_Short_All']]\n",
        "\n",
        "    df['Report_Date_as_YYYY-MM-DD'] = pd.to_datetime(df['Report_Date_as_YYYY-MM-DD'])\n",
        "    return df"
      ],
      "metadata": {
        "id": "LZQ6RZQxI79z"
      },
      "execution_count": 3,
      "outputs": []
    },
    {
      "cell_type": "code",
      "execution_count": 4,
      "metadata": {
        "id": "SLoGIvzAhypE"
      },
      "outputs": [],
      "source": [
        "df = get_dataframe(BUNDLE_URL)\n",
        "df = df[df['Report_Date_as_YYYY-MM-DD'] < '2016-01-01']\n",
        "\n",
        "for year in range(2016, 2024):\n",
        "    tmp_df = get_dataframe(YEAR_URL.format(year))\n",
        "    df = pd.concat([df, tmp_df])\n",
        "\n",
        "df = df.sort_values(['Market_and_Exchange_Names','Report_Date_as_YYYY-MM-DD']).reset_index(drop=True)\n",
        "df = df.drop_duplicates()\n",
        "df.to_csv('./market_sentiment_data.csv.gz', index=False)"
      ]
    }
  ],
  "metadata": {
    "colab": {
      "provenance": []
    },
    "kernelspec": {
      "display_name": "Python 3",
      "name": "python3"
    },
    "language_info": {
      "name": "python"
    }
  },
  "nbformat": 4,
  "nbformat_minor": 0
}