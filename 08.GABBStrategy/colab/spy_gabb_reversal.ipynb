{
  "nbformat": 4,
  "nbformat_minor": 0,
  "metadata": {
    "colab": {
      "provenance": []
    },
    "kernelspec": {
      "name": "python3",
      "display_name": "Python 3"
    },
    "language_info": {
      "name": "python"
    }
  },
  "cells": [
    {
      "cell_type": "markdown",
      "source": [
        "Copy the files **spy.train.csv.gz** and **spy.test.csv.gz** located in https://github.com/crapher/medium/tree/main/08.GABBStrategy/data to your colab folder"
      ],
      "metadata": {
        "id": "IYmbAYBansva"
      }
    },
    {
      "cell_type": "code",
      "source": [
        "!pip install pandas_ta tqdm pygad"
      ],
      "metadata": {
        "colab": {
          "base_uri": "https://localhost:8080/"
        },
        "id": "bU4G0gi-gdc5",
        "outputId": "68926a9e-5d83-4bce-eef6-f336070c4d99"
      },
      "execution_count": 1,
      "outputs": [
        {
          "output_type": "stream",
          "name": "stdout",
          "text": [
            "Requirement already satisfied: pandas_ta in /usr/local/lib/python3.10/dist-packages (0.3.14b0)\n",
            "Requirement already satisfied: tqdm in /usr/local/lib/python3.10/dist-packages (4.66.1)\n",
            "Requirement already satisfied: pygad in /usr/local/lib/python3.10/dist-packages (3.2.0)\n",
            "Requirement already satisfied: pandas in /usr/local/lib/python3.10/dist-packages (from pandas_ta) (1.5.3)\n",
            "Requirement already satisfied: cloudpickle in /usr/local/lib/python3.10/dist-packages (from pygad) (2.2.1)\n",
            "Requirement already satisfied: matplotlib in /usr/local/lib/python3.10/dist-packages (from pygad) (3.7.1)\n",
            "Requirement already satisfied: numpy in /usr/local/lib/python3.10/dist-packages (from pygad) (1.23.5)\n",
            "Requirement already satisfied: contourpy>=1.0.1 in /usr/local/lib/python3.10/dist-packages (from matplotlib->pygad) (1.1.1)\n",
            "Requirement already satisfied: cycler>=0.10 in /usr/local/lib/python3.10/dist-packages (from matplotlib->pygad) (0.12.1)\n",
            "Requirement already satisfied: fonttools>=4.22.0 in /usr/local/lib/python3.10/dist-packages (from matplotlib->pygad) (4.43.1)\n",
            "Requirement already satisfied: kiwisolver>=1.0.1 in /usr/local/lib/python3.10/dist-packages (from matplotlib->pygad) (1.4.5)\n",
            "Requirement already satisfied: packaging>=20.0 in /usr/local/lib/python3.10/dist-packages (from matplotlib->pygad) (23.2)\n",
            "Requirement already satisfied: pillow>=6.2.0 in /usr/local/lib/python3.10/dist-packages (from matplotlib->pygad) (9.4.0)\n",
            "Requirement already satisfied: pyparsing>=2.3.1 in /usr/local/lib/python3.10/dist-packages (from matplotlib->pygad) (3.1.1)\n",
            "Requirement already satisfied: python-dateutil>=2.7 in /usr/local/lib/python3.10/dist-packages (from matplotlib->pygad) (2.8.2)\n",
            "Requirement already satisfied: pytz>=2020.1 in /usr/local/lib/python3.10/dist-packages (from pandas->pandas_ta) (2023.3.post1)\n",
            "Requirement already satisfied: six>=1.5 in /usr/local/lib/python3.10/dist-packages (from python-dateutil>=2.7->matplotlib->pygad) (1.16.0)\n"
          ]
        }
      ]
    },
    {
      "cell_type": "code",
      "execution_count": 2,
      "metadata": {
        "id": "-LjpN-v8Btt7"
      },
      "outputs": [],
      "source": [
        "import numpy as np\n",
        "import pandas as pd\n",
        "import pandas_ta as ta\n",
        "import pygad\n",
        "\n",
        "from tqdm import tqdm\n"
      ]
    },
    {
      "cell_type": "code",
      "source": [
        "# Constants\n",
        "CASH = 1000\n",
        "SOLUTIONS = 30\n",
        "GENERATIONS = 50\n",
        "TRAIN_FILE = 'spy.train.csv.gz'\n",
        "TEST_FILE = 'spy.test.csv.gz'"
      ],
      "metadata": {
        "id": "36mzjkH6B-7a"
      },
      "execution_count": 3,
      "outputs": []
    },
    {
      "cell_type": "code",
      "source": [
        "# Configuration\n",
        "np.set_printoptions(suppress=True)\n",
        "pd.options.mode.chained_assignment = None"
      ],
      "metadata": {
        "id": "Eck0aed5QLR4"
      },
      "execution_count": 4,
      "outputs": []
    },
    {
      "cell_type": "code",
      "source": [
        "# Loading data, and split in train and test datasets\n",
        "def get_data():\n",
        "\n",
        "    train = pd.read_csv(TRAIN_FILE, compression='gzip')\n",
        "    train['date'] = pd.to_datetime(train['date'])\n",
        "    train = train.dropna()\n",
        "\n",
        "    test = pd.read_csv(TEST_FILE, compression='gzip')\n",
        "    test['date'] = pd.to_datetime(test['date'])\n",
        "    test = test.dropna()\n",
        "\n",
        "    return train, test"
      ],
      "metadata": {
        "id": "Olt-N2rNCBa6"
      },
      "execution_count": 5,
      "outputs": []
    },
    {
      "cell_type": "code",
      "source": [
        "# Define fitness function to be used by the PyGAD instance\n",
        "def fitness_func(self, solution, sol_idx):\n",
        "\n",
        "    # Get Reward from train data\n",
        "    reward, _, _, _ = get_result(train, solution[0], solution[1], solution[2], solution[3])\n",
        "\n",
        "    # Return the solution reward\n",
        "    return reward"
      ],
      "metadata": {
        "id": "ytemL7k3QRGf"
      },
      "execution_count": 6,
      "outputs": []
    },
    {
      "cell_type": "code",
      "source": [
        "# Define a reward function\n",
        "def get_result(df, buy_length, buy_std, sell_length, sell_std, is_test=False):\n",
        "\n",
        "    # Round to 2 digit to avoid the Bollinger bands function to generate weird field names\n",
        "    buy_std = round(buy_std, 2)\n",
        "    sell_std = round(sell_std, 2)\n",
        "\n",
        "    # Generate suffixes for Bollinger bands fields\n",
        "    buy_suffix = f'{int(buy_length)}_{buy_std}'\n",
        "    sell_suffix = f'{int(sell_length)}_{sell_std}'\n",
        "\n",
        "    # Generate a copy to avoid changing the original data\n",
        "    df = df.copy().reset_index(drop=True)\n",
        "\n",
        "    # Calculate Bollinger bands based on parameters\n",
        "    if not f'BBU_{buy_suffix}' in df.columns:\n",
        "        df.ta.bbands(close=df['close'], length=buy_length, std=buy_std, append=True)\n",
        "    if not f'BBU_{sell_suffix}' in df.columns:\n",
        "        df.ta.bbands(close=df['close'], length=sell_length, std=sell_std, append=True)\n",
        "    df = df.dropna()\n",
        "\n",
        "    # Buy Signal\n",
        "    df['signal'] = np.where(df['close'] < df[f'BBL_{buy_suffix}'], 1, 0)\n",
        "\n",
        "    # Sell Signal\n",
        "    df['signal'] = np.where(df['close'] > df[f'BBU_{sell_suffix}'], -1, df['signal'])\n",
        "\n",
        "    # Remove all rows without operations, rows with the same consecutive operation, first row selling, and last row buying\n",
        "    result = df[df['signal'] != 0]\n",
        "    result = result[result['signal'] != result['signal'].shift()]\n",
        "    if (len(result) > 0) and (result.iat[0, -1] == -1): result = result.iloc[1:]\n",
        "    if (len(result) > 0) and (result.iat[-1, -1] == 1): result = result.iloc[:-1]\n",
        "\n",
        "    # Calculate the reward & result / operation\n",
        "    result['reward'] = np.where(result['signal'] == -1, (result['close'] - result['close'].shift()) * (CASH // result['close'].shift()), 0)\n",
        "    result['wins'] = np.where(result['reward'] > 0, 1, 0)\n",
        "    result['losses'] = np.where(result['reward'] < 0, 1, 0)\n",
        "\n",
        "    # Generate window and filter windows without operations\n",
        "    result_window = result.set_index('date').resample('3M').agg(\n",
        "        {'close':'last','reward':'sum','wins':'sum','losses':'sum'}).reset_index()\n",
        "\n",
        "    min_operations = 252 # 1 Year\n",
        "    result_window = result_window[(result_window['wins'] + result_window['losses']) != 0]\n",
        "\n",
        "    # Generate the result\n",
        "    wins = result_window['wins'].mean() if len(result_window) > 0 else 0\n",
        "    losses = result_window['losses'].mean() if len(result_window) > 0 else 0\n",
        "    reward = result_window['reward'].mean() if (min_operations < (wins + losses)) or is_test else -min_operations + (wins + losses)\n",
        "    pnl = result_window['reward'].sum()\n",
        "\n",
        "    return reward, wins, losses, pnl"
      ],
      "metadata": {
        "id": "SJop-YM2QSry"
      },
      "execution_count": 7,
      "outputs": []
    },
    {
      "cell_type": "code",
      "source": [
        "# Get Train and Test data\n",
        "train, test = get_data()\n",
        "\n",
        "# Process data\n",
        "print(\"\".center(60, \"*\"))\n",
        "print(f' PROCESSING DATA '.center(60, '*'))\n",
        "print(\"\".center(60, \"*\"))\n",
        "\n",
        "with tqdm(total=GENERATIONS) as pbar:\n",
        "\n",
        "    # Create Genetic Algorithm\n",
        "    ga_instance = pygad.GA(num_generations=GENERATIONS,\n",
        "                           num_parents_mating=5,\n",
        "                           fitness_func=fitness_func,\n",
        "                           sol_per_pop=SOLUTIONS,\n",
        "                           num_genes=4,\n",
        "                           gene_space=[\n",
        "                            {'low': 1, 'high': 200, 'step': 1},\n",
        "                            {'low': 0.1, 'high': 3, 'step': 0.01},\n",
        "                            {'low': 1, 'high': 200, 'step': 1},\n",
        "                            {'low': 0.1, 'high': 3, 'step': 0.01}],\n",
        "                           parent_selection_type=\"sss\",\n",
        "                           crossover_type=\"single_point\",\n",
        "                           mutation_type=\"random\",\n",
        "                           mutation_num_genes=1,\n",
        "                           keep_parents=-1,\n",
        "                           random_seed=42,\n",
        "                           on_generation=lambda _: pbar.update(1),\n",
        "                           )\n",
        "\n",
        "    # Run the Genetic Algorithm\n",
        "    ga_instance.run()"
      ],
      "metadata": {
        "colab": {
          "base_uri": "https://localhost:8080/"
        },
        "id": "3wnO_sueQVOA",
        "outputId": "b1258954-72f5-4e87-bf8b-6a8a64ced348"
      },
      "execution_count": 8,
      "outputs": [
        {
          "output_type": "stream",
          "name": "stdout",
          "text": [
            "************************************************************\n",
            "********************* PROCESSING DATA **********************\n",
            "************************************************************\n"
          ]
        },
        {
          "output_type": "stream",
          "name": "stderr",
          "text": [
            "100%|██████████| 50/50 [03:26<00:00,  4.14s/it]\n"
          ]
        }
      ]
    },
    {
      "cell_type": "code",
      "source": [
        "# Show details of the best solution.\n",
        "solution, solution_fitness, _ = ga_instance.best_solution()\n",
        "\n",
        "print(f' Best Solution Parameters '.center(60, '*'))\n",
        "print(f'Buy Length    : {solution[0]:.0f}')\n",
        "print(f'Buy Std       : {solution[1]:.2f}')\n",
        "print(f'Sell Length   : {solution[2]:.0f}')\n",
        "print(f'Sell Std      : {solution[3]:.2f}')\n",
        "\n",
        "# Get result from train data\n",
        "reward, wins, losses, pnl = get_result(train, solution[0], solution[1], solution[2], solution[3])\n",
        "\n",
        "# Show the train result\n",
        "print(f' Result (TRAIN) '.center(60, '*'))\n",
        "print(f'* Reward                   : {reward:.2f}')\n",
        "print(f'* Profit / Loss (B&H)      : {(train[\"close\"].iloc[-1] - train[\"close\"].iloc[0]) * (CASH // train[\"close\"].iloc[0]):.2f}')\n",
        "print(f'* Profit / Loss (Strategy) : {pnl:.2f}')\n",
        "print(f'* Wins / Losses            : {wins:.2f} / {losses:.2f}')\n",
        "print(f'* Win Rate                 : {(100 * (wins/(wins + losses)) if wins + losses > 0 else 0):.2f}%')\n",
        "\n",
        "# Get result from test data\n",
        "reward, wins, losses, pnl = get_result(test, solution[0], solution[1], solution[2], solution[3], True)\n",
        "\n",
        "# Show the test result\n",
        "print(f' Result (TEST) '.center(60, '*'))\n",
        "print(f'* Reward                   : {reward:.2f}')\n",
        "print(f'* Profit / Loss (B&H)      : {(test[\"close\"].iloc[-1] - test[\"close\"].iloc[0]) * (CASH // test[\"close\"].iloc[0]):.2f}')\n",
        "print(f'* Profit / Loss (Strategy) : {pnl:.2f}')\n",
        "print(f'* Wins / Losses            : {wins:.2f} / {losses:.2f}')\n",
        "print(f'* Win Rate                 : {(100 * (wins/(wins + losses)) if wins + losses > 0 else 0):.2f}%')\n"
      ],
      "metadata": {
        "colab": {
          "base_uri": "https://localhost:8080/"
        },
        "id": "oPmuEWE0KLrF",
        "outputId": "77472436-1a59-4016-ba8e-6c1842ff9bc9"
      },
      "execution_count": 9,
      "outputs": [
        {
          "output_type": "stream",
          "name": "stdout",
          "text": [
            "***************** Best Solution Parameters *****************\n",
            "Buy Length    : 3\n",
            "Buy Std       : 0.17\n",
            "Sell Length   : 3\n",
            "Sell Std      : 1.11\n",
            "********************** Result (TRAIN) **********************\n",
            "* Reward                   : 68.91\n",
            "* Profit / Loss (B&H)      : 2040.01\n",
            "* Profit / Loss (Strategy) : 3790.27\n",
            "* Wins / Losses            : 483.13 / 236.27\n",
            "* Win Rate                 : 67.16%\n",
            "********************** Result (TEST) ***********************\n",
            "* Reward                   : 21.65\n",
            "* Profit / Loss (B&H)      : 56.70\n",
            "* Profit / Loss (Strategy) : 216.48\n",
            "* Wins / Losses            : 379.80 / 184.60\n",
            "* Win Rate                 : 67.29%\n"
          ]
        }
      ]
    }
  ]
}