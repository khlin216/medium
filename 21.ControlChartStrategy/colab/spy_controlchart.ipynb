{
  "nbformat": 4,
  "nbformat_minor": 0,
  "metadata": {
    "colab": {
      "provenance": []
    },
    "kernelspec": {
      "name": "python3",
      "display_name": "Python 3"
    },
    "language_info": {
      "name": "python"
    }
  },
  "cells": [
    {
      "cell_type": "markdown",
      "source": [
        "Copy the file **spy.csv.gz** located in https://github.com/crapher/medium/tree/main/21.ControlChartStrategy/data to your colab folder"
      ],
      "metadata": {
        "id": "Xz3pn01fvRO6"
      }
    },
    {
      "cell_type": "code",
      "source": [
        "import os\n",
        "import numpy as np\n",
        "import pandas as pd\n",
        "\n",
        "from scipy import signal"
      ],
      "metadata": {
        "id": "QVV6vi5Yu6BF"
      },
      "execution_count": 1,
      "outputs": []
    },
    {
      "cell_type": "code",
      "source": [
        "# Constants\n",
        "FILENAME = './spy.csv.gz'\n",
        "DEFAULT_WINDOW = 10\n",
        "CASH = 10_000"
      ],
      "metadata": {
        "id": "9Ad0Gmp3u7hp"
      },
      "execution_count": 2,
      "outputs": []
    },
    {
      "cell_type": "code",
      "source": [
        "# Configuration\n",
        "np.set_printoptions(suppress=True)\n",
        "pd.options.mode.chained_assignment = None"
      ],
      "metadata": {
        "id": "h6DQqkNHu9TY"
      },
      "execution_count": 3,
      "outputs": []
    },
    {
      "cell_type": "code",
      "source": [
        "# Loading dataset\n",
        "def get_data(filename):\n",
        "\n",
        "    df = pd.read_csv(filename, compression='gzip')\n",
        "    df['date'] = pd.to_datetime(df['date'])\n",
        "    df = df.set_index('date').resample('5T').agg('last')\n",
        "    df = df.dropna()\n",
        "    df['feature'] = signal.detrend(df['close'])\n",
        "\n",
        "    return df.reset_index(drop=True)"
      ],
      "metadata": {
        "id": "8OPrJxnbu9jI"
      },
      "execution_count": 4,
      "outputs": []
    },
    {
      "cell_type": "code",
      "source": [
        "# Show result based on the selected rule\n",
        "def show_result(df, signal_field):\n",
        "\n",
        "    # Remove all rows without operations, rows with the same consecutive operation, first row selling, and last row buying\n",
        "    ops = df[df[signal_field] != 0]\n",
        "    ops = ops[ops[signal_field] != ops[signal_field].shift()]\n",
        "    if (len(ops) > 0) and (ops.iat[0, -1] == -1): ops = ops.iloc[1:]\n",
        "    if (len(ops) > 0) and (ops.iat[-1, -1] == 1): ops = ops.iloc[:-1]\n",
        "\n",
        "    # Calculate P&L / operation\n",
        "    ops['pnl'] = np.where(ops[signal_field] == -1, (ops['close'] - ops['close'].shift()) * (CASH // ops['close'].shift()), 0)\n",
        "\n",
        "    # Calculate total P&L, wins, and losses\n",
        "    pnl = ops['pnl'].sum()\n",
        "    wins = len(ops[ops['pnl'] > 0])\n",
        "    losses = len(ops[ops['pnl'] < 0])\n",
        "\n",
        "    # Show Result\n",
        "    print(f' Result ({signal_field}) '.center(60, '*'))\n",
        "    print(f\"* Profit / Loss  : {pnl:.2f}\")\n",
        "    print(f\"* Wins / Losses  : {wins} / {losses}\")\n",
        "    print(f\"* Win Rate       : {(100 * (wins/(wins + losses)) if wins + losses > 0 else 0):.2f}%\")"
      ],
      "metadata": {
        "id": "VZnS1hPIu9w6"
      },
      "execution_count": 5,
      "outputs": []
    },
    {
      "cell_type": "code",
      "source": [
        "# Rules definition\n",
        "def apply_rule_1(df, window = DEFAULT_WINDOW):\n",
        "\n",
        "    # One point beyond the 3 stdev control limit\n",
        "\n",
        "    df['sma'] = df['feature'].rolling(window=window).mean()\n",
        "    df['3std'] = 3 * df['feature'].rolling(window=window).std()\n",
        "\n",
        "    df['rule1'] = np.where(df['feature'] < df['sma'] - df['3std'], 1, 0)\n",
        "    df['rule1'] = np.where(df['feature'] > df['sma'] - df['3std'], -1, df['rule1'])\n",
        "\n",
        "    return df.drop(['sma','3std'], axis=1)\n",
        "\n",
        "def apply_rule_2(df, window = DEFAULT_WINDOW):\n",
        "\n",
        "    # Eight or more points on one side of the centerline without crossing\n",
        "\n",
        "    df['sma'] = df['feature'].rolling(window=window).mean()\n",
        "\n",
        "    for side in ['upper', 'lower']:\n",
        "        df['count_' + side] = (df['feature'] > df['sma']) if side == 'upper' else (df['feature'] < df['sma'])\n",
        "        df['count_' + side] = df['count_' + side].astype(int)\n",
        "        df['count_' + side] = df['count_' + side].rolling(window=8).sum()\n",
        "\n",
        "    df['rule2'] = np.where(df['count_upper'] >= 8, 1, 0)\n",
        "    df['rule2'] = np.where(df['count_lower'] >= 8, -1, df['rule2'])\n",
        "\n",
        "    return df.drop(['sma','count_upper','count_lower'], axis=1)\n",
        "\n",
        "def apply_rule_3(df, window = DEFAULT_WINDOW):\n",
        "\n",
        "    # Four out of five points over 1 stdev or under -1 stdev\n",
        "\n",
        "    df['sma'] = df['feature'].rolling(window=window).mean()\n",
        "    df['1std'] = df['feature'].rolling(window=window).std()\n",
        "\n",
        "    df['rule3'] = np.where((df['feature'] < df['sma'] - df['1std']).rolling(window=5).sum() >= 4, 1, 0)\n",
        "    df['rule3'] = np.where((df['feature'] > df['sma'] + df['1std']).rolling(window=5).sum() >= 4, -1, df['rule3'])\n",
        "\n",
        "    return df.drop(['sma','1std'], axis=1)\n",
        "\n",
        "def apply_rule_4(df):\n",
        "\n",
        "    # Six points or more in a row steadily increasing or decreasing\n",
        "\n",
        "    df['rule4'] = np.where((df['feature'] < df['feature'].shift(1)) &\n",
        "                           (df['feature'].shift(1) < df['feature'].shift(2)) &\n",
        "                           (df['feature'].shift(2) < df['feature'].shift(3)) &\n",
        "                           (df['feature'].shift(3) < df['feature'].shift(4)) &\n",
        "                           (df['feature'].shift(4) < df['feature'].shift(5)), 1, 0)\n",
        "\n",
        "    df['rule4'] = np.where((df['feature'] > df['feature'].shift(1)) &\n",
        "                           (df['feature'].shift(1) > df['feature'].shift(2)) &\n",
        "                           (df['feature'].shift(2) > df['feature'].shift(3)) &\n",
        "                           (df['feature'].shift(3) > df['feature'].shift(4)) &\n",
        "                           (df['feature'].shift(4) > df['feature'].shift(5)), -1, df['rule4'])\n",
        "\n",
        "    return df\n",
        "\n",
        "def apply_rule_5(df, window = DEFAULT_WINDOW):\n",
        "\n",
        "    # Two out of three points over 2 stdev or under -2 stdev\n",
        "\n",
        "    df['sma'] = df['feature'].rolling(window=window).mean()\n",
        "    df['2std'] = 2 * df['feature'].rolling(window=window).std()\n",
        "\n",
        "    df['rule5'] = np.where((df['feature'] < df['sma'] - df['2std']).rolling(window=3).sum() >= 2, 1, 0)\n",
        "    df['rule5'] = np.where((df['feature'] > df['sma'] + df['2std']).rolling(window=3).sum() >= 2, -1, df['rule5'])\n",
        "\n",
        "    return df.drop(['sma','2std'], axis=1)\n",
        "\n",
        "def apply_rule_6(df, window = DEFAULT_WINDOW):\n",
        "\n",
        "    # 14 points in a row alternating up and down\n",
        "\n",
        "    df['sma'] = df['feature'].rolling(window=window).mean()\n",
        "    df['1std'] = df['feature'].rolling(window=window).std()\n",
        "    df['2std'] = 2 * df['1std']\n",
        "\n",
        "    # Determine the zones for each row\n",
        "    df['zone'] = None\n",
        "    df.loc[df['feature'] > df['sma'], 'zone'] = '+C'\n",
        "    df.loc[df['feature'] > df['sma'] + df['1std'], 'zone'] = '+B'\n",
        "    df.loc[df['feature'] > df['sma'] + df['2std'], 'zone'] = '+A'\n",
        "    df.loc[df['feature'] < df['sma'], 'zone'] = '-C'\n",
        "    df.loc[df['feature'] < df['sma'] - df['1std'], 'zone'] = '-B'\n",
        "    df.loc[df['feature'] < df['sma'] - df['2std'], 'zone'] = '-A'\n",
        "\n",
        "    df['rule6'] = np.where((df['zone'] != df['zone'].shift()).rolling(window=14).sum() >= 14, 1, -1)\n",
        "\n",
        "    return df.drop(['sma','1std','2std','zone'], axis=1)"
      ],
      "metadata": {
        "id": "MEEEJUGTu-CM"
      },
      "execution_count": 6,
      "outputs": []
    },
    {
      "cell_type": "code",
      "source": [
        "df = get_data(FILENAME)"
      ],
      "metadata": {
        "id": "-zyil-ltvFX6"
      },
      "execution_count": 7,
      "outputs": []
    },
    {
      "cell_type": "code",
      "source": [
        "df = apply_rule_1(df)\n",
        "show_result(df, 'rule1')\n",
        "\n",
        "df = apply_rule_2(df)\n",
        "show_result(df, 'rule2')\n",
        "\n",
        "df = apply_rule_3(df)\n",
        "show_result(df, 'rule3')\n",
        "\n",
        "df = apply_rule_4(df)\n",
        "show_result(df, 'rule4')\n",
        "\n",
        "df = apply_rule_5(df)\n",
        "show_result(df, 'rule5')\n",
        "\n",
        "df = apply_rule_6(df)\n",
        "show_result(df, 'rule6')"
      ],
      "metadata": {
        "id": "cXqEAuYcvFlM",
        "colab": {
          "base_uri": "https://localhost:8080/"
        },
        "outputId": "d2a04b64-97ff-4066-fddd-9380511791a2"
      },
      "execution_count": 8,
      "outputs": [
        {
          "output_type": "stream",
          "name": "stdout",
          "text": [
            "********************** Result (rule1) **********************\n",
            "* Profit / Loss  : 0.00\n",
            "* Wins / Losses  : 0 / 0\n",
            "* Win Rate       : 0.00%\n",
            "********************** Result (rule2) **********************\n",
            "* Profit / Loss  : 1586.95\n",
            "* Wins / Losses  : 220 / 362\n",
            "* Win Rate       : 37.80%\n",
            "********************** Result (rule3) **********************\n",
            "* Profit / Loss  : -1650.16\n",
            "* Wins / Losses  : 377 / 201\n",
            "* Win Rate       : 65.22%\n",
            "********************** Result (rule4) **********************\n",
            "* Profit / Loss  : 436.89\n",
            "* Wins / Losses  : 172 / 108\n",
            "* Win Rate       : 61.43%\n",
            "********************** Result (rule5) **********************\n",
            "* Profit / Loss  : 2609.08\n",
            "* Wins / Losses  : 73 / 42\n",
            "* Win Rate       : 63.48%\n",
            "********************** Result (rule6) **********************\n",
            "* Profit / Loss  : 30.63\n",
            "* Wins / Losses  : 3 / 0\n",
            "* Win Rate       : 100.00%\n"
          ]
        }
      ]
    },
    {
      "cell_type": "code",
      "source": [],
      "metadata": {
        "id": "AjnER2lEZlZY"
      },
      "execution_count": null,
      "outputs": []
    }
  ]
}