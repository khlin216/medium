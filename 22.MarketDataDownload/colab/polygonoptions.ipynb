{
  "nbformat": 4,
  "nbformat_minor": 0,
  "metadata": {
    "colab": {
      "provenance": []
    },
    "kernelspec": {
      "name": "python3",
      "display_name": "Python 3"
    },
    "language_info": {
      "name": "python"
    }
  },
  "cells": [
    {
      "cell_type": "code",
      "source": [
        "!pip install polygon-api-client"
      ],
      "metadata": {
        "id": "sbLYO4qtSg_5"
      },
      "execution_count": null,
      "outputs": []
    },
    {
      "cell_type": "code",
      "execution_count": null,
      "metadata": {
        "id": "0lklp9eXR_uM"
      },
      "outputs": [],
      "source": [
        "import os\n",
        "import pandas as pd\n",
        "\n",
        "from tqdm import tqdm\n",
        "from datetime import datetime, timedelta\n",
        "from polygon import RESTClient, exceptions\n",
        "\n",
        "API_KEY = 'YOUR_API_KEY'"
      ]
    },
    {
      "cell_type": "code",
      "source": [
        "UNDERLYING_TICKER = 'SPY'\n",
        "\n",
        "FILEPATH = f'./{UNDERLYING_TICKER.lower()}'\n",
        "DATAPATH = f'{FILEPATH}/rawdata'\n",
        "INDEX_FILE = f'{FILEPATH}/index.csv.gz'\n",
        "\n",
        "EXPIRATION_DATE_MIN = (datetime.now() - timedelta(days=2 * 365)).strftime(\"%Y-%m-%d\")\n",
        "MAX_DAYS_TO_EXPIRATION = 7"
      ],
      "metadata": {
        "id": "3-zoRAqFSC1B"
      },
      "execution_count": null,
      "outputs": []
    },
    {
      "cell_type": "code",
      "source": [
        "os.makedirs(FILEPATH, exist_ok=True)"
      ],
      "metadata": {
        "id": "XG70kJ9NSCyz"
      },
      "execution_count": null,
      "outputs": []
    },
    {
      "cell_type": "code",
      "source": [
        "client = RESTClient(api_key=API_KEY)"
      ],
      "metadata": {
        "id": "o6B9V3sZSCwf"
      },
      "execution_count": null,
      "outputs": []
    },
    {
      "cell_type": "code",
      "source": [
        "contracts = []\n",
        "\n",
        "for contract in client.list_options_contracts(\n",
        "    underlying_ticker=UNDERLYING_TICKER,\n",
        "    expiration_date_gte=EXPIRATION_DATE_MIN,\n",
        "    expired=True,\n",
        "    limit=1000):\n",
        "    contracts.append(contract)"
      ],
      "metadata": {
        "id": "FiyfqWVxSCua"
      },
      "execution_count": null,
      "outputs": []
    },
    {
      "cell_type": "code",
      "source": [
        "df_index = pd.DataFrame.from_dict(contracts)\n",
        "df_index.to_csv(INDEX_FILE, index=False, compression='gzip')"
      ],
      "metadata": {
        "id": "X-pPuXgzSTy6"
      },
      "execution_count": null,
      "outputs": []
    },
    {
      "cell_type": "code",
      "source": [
        "df_index['expiration_date'] = pd.to_datetime(df_index['expiration_date'])\n",
        "\n",
        "os.makedirs(DATAPATH, exist_ok=True)"
      ],
      "metadata": {
        "id": "ujQfpIMuSTws"
      },
      "execution_count": null,
      "outputs": []
    },
    {
      "cell_type": "code",
      "source": [
        "for contract in tqdm(df_index.to_dict('records')):\n",
        "\n",
        "    expire_date = contract['expiration_date']\n",
        "    day_folder = f'{DATAPATH}/{expire_date.strftime(\"%Y/%m/%d\")}'\n",
        "    file_name = f'{day_folder}/{contract[\"ticker\"]}.csv.gz'.replace('O:','')\n",
        "\n",
        "    start_date = expire_date - timedelta(days=MAX_DAYS_TO_EXPIRATION)\n",
        "    end_date = expire_date + timedelta(days=1)\n",
        "\n",
        "    try:\n",
        "        aggs = client.get_aggs(\n",
        "            contract['ticker'], 1, 'minute',\n",
        "            start_date.strftime('%Y-%m-%d'),\n",
        "            end_date.strftime('%Y-%m-%d')\n",
        "            )\n",
        "\n",
        "        df_data = pd.DataFrame.from_dict(aggs)\n",
        "        if df_data.empty:\n",
        "            continue\n",
        "\n",
        "        os.makedirs(day_folder, exist_ok=True)\n",
        "        df_data['date'] = pd.to_datetime(df_data['timestamp'], unit='ms')\n",
        "        df_data['strike'] = contract['strike_price']\n",
        "        df_data['expire_date'] = contract['expiration_date']\n",
        "        df_data = df_data[['date','expire_date','strike','open','high','low','close','volume']]\n",
        "        df_data.to_csv(file_name, index=False, compression='gzip')\n",
        "\n",
        "    except:\n",
        "        pass"
      ],
      "metadata": {
        "id": "pado26YCSCg6"
      },
      "execution_count": null,
      "outputs": []
    }
  ]
}