{
  "nbformat": 4,
  "nbformat_minor": 0,
  "metadata": {
    "colab": {
      "provenance": []
    },
    "kernelspec": {
      "name": "python3",
      "display_name": "Python 3"
    },
    "language_info": {
      "name": "python"
    }
  },
  "cells": [
    {
      "cell_type": "markdown",
      "source": [
        "# Download the required data file"
      ],
      "metadata": {
        "id": "1SizpzyQVt2E"
      }
    },
    {
      "cell_type": "code",
      "execution_count": 1,
      "metadata": {
        "id": "nbYzCko0VZxS"
      },
      "outputs": [],
      "source": [
        "import requests as rq"
      ]
    },
    {
      "cell_type": "code",
      "source": [
        "TICKER = 'GDX'\n",
        "FILENAME = f'{TICKER.lower()}.csv.gz'\n",
        "URL = f'https://github.com/crapher/medium/raw/main/25.BBGASeries/data/{FILENAME}'"
      ],
      "metadata": {
        "id": "P0fDSib-ZD3l"
      },
      "execution_count": 2,
      "outputs": []
    },
    {
      "cell_type": "code",
      "source": [
        "response = rq.get(URL)\n",
        "\n",
        "with open(FILENAME, \"wb\") as f:\n",
        "    f.write(response.content)"
      ],
      "metadata": {
        "id": "SB8MFbToX717"
      },
      "execution_count": 3,
      "outputs": []
    },
    {
      "cell_type": "markdown",
      "source": [
        "# Install dependencies\n"
      ],
      "metadata": {
        "id": "ajHte_t4VnQi"
      }
    },
    {
      "cell_type": "code",
      "source": [
        "!pip install pandas_ta pygad"
      ],
      "metadata": {
        "colab": {
          "base_uri": "https://localhost:8080/"
        },
        "id": "DjN1YZy0V65h",
        "outputId": "47f25679-691b-4890-bf16-9cc6c453ac12"
      },
      "execution_count": 4,
      "outputs": [
        {
          "output_type": "stream",
          "name": "stdout",
          "text": [
            "Requirement already satisfied: pandas_ta in /usr/local/lib/python3.10/dist-packages (0.3.14b0)\n",
            "Requirement already satisfied: pygad in /usr/local/lib/python3.10/dist-packages (3.2.0)\n",
            "Requirement already satisfied: pandas in /usr/local/lib/python3.10/dist-packages (from pandas_ta) (1.5.3)\n",
            "Requirement already satisfied: cloudpickle in /usr/local/lib/python3.10/dist-packages (from pygad) (2.2.1)\n",
            "Requirement already satisfied: matplotlib in /usr/local/lib/python3.10/dist-packages (from pygad) (3.7.1)\n",
            "Requirement already satisfied: numpy in /usr/local/lib/python3.10/dist-packages (from pygad) (1.23.5)\n",
            "Requirement already satisfied: contourpy>=1.0.1 in /usr/local/lib/python3.10/dist-packages (from matplotlib->pygad) (1.2.0)\n",
            "Requirement already satisfied: cycler>=0.10 in /usr/local/lib/python3.10/dist-packages (from matplotlib->pygad) (0.12.1)\n",
            "Requirement already satisfied: fonttools>=4.22.0 in /usr/local/lib/python3.10/dist-packages (from matplotlib->pygad) (4.46.0)\n",
            "Requirement already satisfied: kiwisolver>=1.0.1 in /usr/local/lib/python3.10/dist-packages (from matplotlib->pygad) (1.4.5)\n",
            "Requirement already satisfied: packaging>=20.0 in /usr/local/lib/python3.10/dist-packages (from matplotlib->pygad) (23.2)\n",
            "Requirement already satisfied: pillow>=6.2.0 in /usr/local/lib/python3.10/dist-packages (from matplotlib->pygad) (9.4.0)\n",
            "Requirement already satisfied: pyparsing>=2.3.1 in /usr/local/lib/python3.10/dist-packages (from matplotlib->pygad) (3.1.1)\n",
            "Requirement already satisfied: python-dateutil>=2.7 in /usr/local/lib/python3.10/dist-packages (from matplotlib->pygad) (2.8.2)\n",
            "Requirement already satisfied: pytz>=2020.1 in /usr/local/lib/python3.10/dist-packages (from pandas->pandas_ta) (2023.3.post1)\n",
            "Requirement already satisfied: six>=1.5 in /usr/local/lib/python3.10/dist-packages (from python-dateutil>=2.7->matplotlib->pygad) (1.16.0)\n"
          ]
        }
      ]
    },
    {
      "cell_type": "markdown",
      "source": [
        "# Import required packages"
      ],
      "metadata": {
        "id": "O_Xt9n9dWCBU"
      }
    },
    {
      "cell_type": "code",
      "source": [
        "import numpy as np\n",
        "import pandas as pd\n",
        "import pandas_ta as ta\n",
        "import pygad\n",
        "\n",
        "from tqdm import tqdm\n"
      ],
      "metadata": {
        "id": "P-BZ45gtVdUr"
      },
      "execution_count": 5,
      "outputs": []
    },
    {
      "cell_type": "markdown",
      "source": [
        "# User Configuration"
      ],
      "metadata": {
        "id": "aBroh4lDWOXS"
      }
    },
    {
      "cell_type": "code",
      "source": [
        "CASH = 10_000                       # Cash available for operations\n",
        "\n",
        "BB_SMA = 20                         # Bollinger bands SMA\n",
        "BB_STD = 2.0                        # Bollinger bands standard deviation\n",
        "BB_MAX_BANDWIDTH = 5                # Bollinger bands maximum volatility allowed\n",
        "\n",
        "DAYS_FOR_TESTING = 365 * 1.5        # Days used for testing\n",
        "WINDOW_REWARD = '3M'                # Window used to calculate the reward of a solution\n",
        "WINDOW_MIN_OPERATIONS = 21 * 3      # Minimum operations quantity required to calculate the reward\n",
        "\n",
        "GENERATIONS = 50                    # Iterations count used by the genetic algorithm\n",
        "SOLUTIONS = 20                      # Solutions / iteration calculated by the genetic algorithm"
      ],
      "metadata": {
        "id": "EecXslz4WACi"
      },
      "execution_count": 6,
      "outputs": []
    },
    {
      "cell_type": "markdown",
      "source": [
        "# Set constants, prepare configuration, and set output format"
      ],
      "metadata": {
        "id": "7b8jObSlWZtA"
      }
    },
    {
      "cell_type": "code",
      "source": [
        "### Constants ###\n",
        "TIMEFRAMES = ['5T','15T','1H']"
      ],
      "metadata": {
        "id": "ztk5us1zWZOW"
      },
      "execution_count": 7,
      "outputs": []
    },
    {
      "cell_type": "code",
      "source": [
        "### Data format & preparation ###\n",
        "BB_SMA = int(BB_SMA)\n",
        "BB_STD = round(BB_STD, 2)\n",
        "BB_UPPER = f'BBU_{int(BB_SMA)}_{BB_STD}'\n",
        "BB_LOWER = f'BBL_{int(BB_SMA)}_{BB_STD}'\n",
        "BB_VOLATILITY = f'BBB_{int(BB_SMA)}_{BB_STD}'\n",
        "\n",
        "DAYS_FOR_TESTING = int(DAYS_FOR_TESTING)\n",
        "WINDOW_MIN_OPERATIONS = int(WINDOW_MIN_OPERATIONS)"
      ],
      "metadata": {
        "id": "xNx3I9BPWlpI"
      },
      "execution_count": 8,
      "outputs": []
    },
    {
      "cell_type": "code",
      "source": [
        "### Output preparation ###\n",
        "np.set_printoptions(suppress=True)\n",
        "pd.options.mode.chained_assignment = None"
      ],
      "metadata": {
        "id": "I_aRc3atWnal"
      },
      "execution_count": 9,
      "outputs": []
    },
    {
      "cell_type": "markdown",
      "source": [
        "# Data Functions"
      ],
      "metadata": {
        "id": "CCyLu1y1Wv1K"
      }
    },
    {
      "cell_type": "code",
      "source": [
        "def get_data(ticker, timeframe):\n",
        "\n",
        "    # Read data from file\n",
        "    df = pd.read_csv(FILENAME)\n",
        "    df['date'] = pd.to_datetime(df['date'])\n",
        "\n",
        "    df = df.set_index('date').resample(timeframe).agg({'close':'last'}).dropna().reset_index()\n",
        "\n",
        "    # Calculate bollinger bands based on configuration\n",
        "    df.ta.bbands(close=df['close'], length=BB_SMA, std=BB_STD, append=True)\n",
        "    df = df.dropna()\n",
        "\n",
        "    # Calculate limits (lower: 25% - upper: 75%), close percentage, and volatility\n",
        "    df['high_limit'] = df[BB_UPPER] + (df[BB_UPPER] - df[BB_LOWER]) / 2\n",
        "    df['low_limit'] = df[BB_LOWER] - (df[BB_UPPER] - df[BB_LOWER]) / 2\n",
        "    df['close_percentage'] = np.clip((df['close'] - df['low_limit']) / (df['high_limit'] - df['low_limit']), 0, 1)\n",
        "    df['volatility'] = np.clip(df[BB_VOLATILITY] / (100 / BB_MAX_BANDWIDTH), 0, 1)\n",
        "\n",
        "    # Remove all the bollinger bands fields that won't be needed from now on\n",
        "    df = df.loc[:,~df.columns.str.startswith('BB')]\n",
        "\n",
        "    # Split the data in train and test\n",
        "    train = df[df['date'].dt.date <= (df['date'].dt.date.max() - pd.Timedelta(DAYS_FOR_TESTING, 'D'))]\n",
        "    test = df[df['date'] > train['date'].max()]\n",
        "\n",
        "    return train, test"
      ],
      "metadata": {
        "id": "Pupg4EQBWxoC"
      },
      "execution_count": 10,
      "outputs": []
    },
    {
      "cell_type": "code",
      "source": [
        "def get_result(df, min_volatility, max_buy_perc, min_sell_perc):\n",
        "\n",
        "    # Generate a copy to avoid changing the original data\n",
        "    df = df.copy().reset_index(drop=True)\n",
        "\n",
        "    # Buy signal\n",
        "    df['signal'] = np.where((df['volatility'] > min_volatility) & (df['close_percentage'] < max_buy_perc), 1, 0)\n",
        "\n",
        "    # Sell signal\n",
        "    df['signal'] = np.where((df['close_percentage'] > min_sell_perc), -1, df['signal'])\n",
        "\n",
        "    # Remove all rows without operations, rows with the same consecutive operation, first row selling, and last row buying\n",
        "    result = df[df['signal'] != 0]\n",
        "    result = result[result['signal'] != result['signal'].shift()]\n",
        "    if (len(result) > 0) and (result.iat[0, -1] == -1): result = result.iloc[1:]\n",
        "    if (len(result) > 0) and (result.iat[-1, -1] == 1): result = result.iloc[:-1]\n",
        "\n",
        "    # Calculate pnl, wins, losses, and reward / operation\n",
        "    result['pnl'] = np.where(result['signal'] == -1, (result['close'] - result['close'].shift()) * (CASH // result['close'].shift()), 0)\n",
        "    result['wins'] = np.where(result['pnl'] > 0, 1, 0)\n",
        "    result['losses'] = np.where(result['pnl'] < 0, 1, 0)\n",
        "\n",
        "    # Remove bars without operations\n",
        "    result = result[result['signal'] == -1]\n",
        "\n",
        "    # Remove the signal column and return the dataset\n",
        "    return result.drop('signal', axis=1)"
      ],
      "metadata": {
        "id": "cp3NZ0T7W8Es"
      },
      "execution_count": 11,
      "outputs": []
    },
    {
      "cell_type": "code",
      "source": [
        "def calculate_reward(df):\n",
        "\n",
        "    # Generate window to calculate reward average\n",
        "    df_reward = df.set_index('date').resample(WINDOW_REWARD).agg(\n",
        "        {'close':'last','wins':'sum','losses':'sum','pnl':'sum'}).reset_index()\n",
        "\n",
        "    # Generate reward\n",
        "    wins = df_reward['wins'].mean() if len(df_reward) > 0 else 0\n",
        "    losses = df_reward['losses'].mean() if len(df_reward) > 0 else 0\n",
        "    reward = df_reward['pnl'].mean() if (WINDOW_MIN_OPERATIONS < (wins + losses)) else -WINDOW_MIN_OPERATIONS + (wins + losses)\n",
        "\n",
        "    return reward"
      ],
      "metadata": {
        "id": "gXWAzOO9XAtM"
      },
      "execution_count": 12,
      "outputs": []
    },
    {
      "cell_type": "code",
      "source": [
        "def show_result(df, name, show_monthly):\n",
        "\n",
        "    # Calculate required values\n",
        "    reward = calculate_reward(df)\n",
        "    pnl = df['pnl'].sum()\n",
        "    wins = df['wins'].sum() if len(df) > 0 else 0\n",
        "    losses = df['losses'].sum() if len(df) > 0 else 0\n",
        "    win_rate = (100 * (wins / (wins + losses)) if wins + losses > 0 else 0)\n",
        "    max_profit = df['pnl'].max()\n",
        "    min_drawdown = df['pnl'].min()\n",
        "    avg_pnl = df['pnl'].mean()\n",
        "\n",
        "    # Show the summarized result\n",
        "    print(f' SUMMARIZED RESULT - {name} '.center(60, '*'))\n",
        "    print(f'* Reward              : {reward:.2f}')\n",
        "    print(f'* Profit / Loss       : {pnl:.2f}')\n",
        "    print(f'* Wins / Losses       : {wins:.0f} / {losses:.0f} ({win_rate:.2f}%)')\n",
        "    print(f'* Max Profit          : {max_profit:.2f}')\n",
        "    print(f'* Max Drawdown        : {min_drawdown:.2f}')\n",
        "    print(f'* Profit / Loss (Avg) : {avg_pnl:.2f}')\n",
        "\n",
        "    # Show the monthly result\n",
        "    if show_monthly:\n",
        "        print(f' MONTHLY DETAIL RESULT '.center(60, '*'))\n",
        "        df_monthly = df.set_index('date').resample('1M').agg(\n",
        "            {'wins':'sum','losses':'sum','pnl':'sum'}).reset_index()\n",
        "        df_monthly = df_monthly[['date','pnl','wins','losses']]\n",
        "        df_monthly['year_month'] = df_monthly['date'].dt.strftime('%Y-%m')\n",
        "        df_monthly = df_monthly.drop('date', axis=1)\n",
        "        df_monthly = df_monthly.groupby(['year_month']).sum()\n",
        "        df_monthly['win_rate'] = round(100 * df_monthly['wins'] / (df_monthly['wins'] + df_monthly['losses']), 2)\n",
        "\n",
        "        print(df_monthly)"
      ],
      "metadata": {
        "id": "UkeZ_q--XDeo"
      },
      "execution_count": 13,
      "outputs": []
    },
    {
      "cell_type": "markdown",
      "source": [
        "# Genetic Algorithm funcions"
      ],
      "metadata": {
        "id": "p-yL8vgnXEJ8"
      }
    },
    {
      "cell_type": "code",
      "source": [
        "def fitness_func(self, solution, sol_idx):\n",
        "\n",
        "    # Get reward from train data\n",
        "    result = get_result(train, solution[0], solution[1], solution[2])\n",
        "\n",
        "    # Return the solution reward\n",
        "    return calculate_reward(result)"
      ],
      "metadata": {
        "id": "WEpJ8LgEXGVm"
      },
      "execution_count": 14,
      "outputs": []
    },
    {
      "cell_type": "code",
      "source": [
        "def get_best_solution():\n",
        "\n",
        "    with tqdm(total=GENERATIONS) as pbar:\n",
        "\n",
        "        # Create genetic algorithm\n",
        "        ga_instance = pygad.GA(num_generations=GENERATIONS,\n",
        "                               num_parents_mating=5,\n",
        "                               fitness_func=fitness_func,\n",
        "                               sol_per_pop=SOLUTIONS,\n",
        "                               num_genes=3,\n",
        "                               gene_space=[\n",
        "                                {'low': 0, 'high': 1, 'step': 0.0001},\n",
        "                                {'low': 0, 'high': 1, 'step': 0.0001},\n",
        "                                {'low': 0, 'high': 1, 'step': 0.0001}],\n",
        "                               parent_selection_type='sss',\n",
        "                               crossover_type='single_point',\n",
        "                               mutation_type='random',\n",
        "                               mutation_num_genes=1,\n",
        "                               keep_parents=-1,\n",
        "                               random_seed=42,\n",
        "                               on_generation=lambda _: pbar.update(1),\n",
        "                               )\n",
        "\n",
        "        # Run the genetic algorithm\n",
        "        ga_instance.run()\n",
        "\n",
        "    # Return the best solution\n",
        "    return ga_instance.best_solution()[0]"
      ],
      "metadata": {
        "id": "N0Zb8A4IXII2"
      },
      "execution_count": 15,
      "outputs": []
    },
    {
      "cell_type": "markdown",
      "source": [
        "# Main function"
      ],
      "metadata": {
        "id": "oB3ag1tyXM3U"
      }
    },
    {
      "cell_type": "code",
      "source": [
        "def main(ticker):\n",
        "\n",
        "    global train\n",
        "\n",
        "    for timeframe in TIMEFRAMES:\n",
        "\n",
        "        # Get Train and Test data for timeframe\n",
        "        train, test = get_data(ticker, timeframe)\n",
        "\n",
        "        # Process timeframe\n",
        "        print(''.center(60, '*'))\n",
        "        print(f' PROCESSING {ticker.upper()} - TIMEFRAME {timeframe} '.center(60, '*'))\n",
        "        print(''.center(60, '*'))\n",
        "\n",
        "        solution = get_best_solution()\n",
        "\n",
        "        print(f' Best Solution Parameters '.center(60, '*'))\n",
        "        print(f'Min Volatility   : {solution[0]:6.4f}')\n",
        "        print(f'Max Perc to Buy  : {solution[1]:6.4f}')\n",
        "        print(f'Min Perc to Sell : {solution[2]:6.4f}')\n",
        "\n",
        "        # Show the train result\n",
        "        result = get_result(train, solution[0], solution[1], solution[2])\n",
        "        show_result(result, f'TRAIN ({train[\"date\"].min().date()} - {train[\"date\"].max().date()})', False)\n",
        "\n",
        "        # Show the test result\n",
        "        result = get_result(test, solution[0], solution[1], solution[2])\n",
        "        show_result(result, f'TEST ({test[\"date\"].min().date()} - {test[\"date\"].max().date()})', True)\n",
        "\n",
        "        print('')"
      ],
      "metadata": {
        "id": "9zIVOWunXLRs"
      },
      "execution_count": 16,
      "outputs": []
    },
    {
      "cell_type": "code",
      "source": [
        "main(TICKER)"
      ],
      "metadata": {
        "colab": {
          "base_uri": "https://localhost:8080/"
        },
        "id": "nGv3LZzHXQ6_",
        "outputId": "902ea945-7281-4c41-93e5-f2e8b75a5206"
      },
      "execution_count": 17,
      "outputs": [
        {
          "output_type": "stream",
          "name": "stdout",
          "text": [
            "************************************************************\n",
            "************** PROCESSING GDX - TIMEFRAME 5T ***************\n",
            "************************************************************\n"
          ]
        },
        {
          "output_type": "stream",
          "name": "stderr",
          "text": [
            "100%|██████████| 50/50 [00:46<00:00,  1.09it/s]\n"
          ]
        },
        {
          "output_type": "stream",
          "name": "stdout",
          "text": [
            "***************** Best Solution Parameters *****************\n",
            "Min Volatility   : 0.0545\n",
            "Max Perc to Buy  : 0.9235\n",
            "Min Perc to Sell : 0.4968\n",
            "*** SUMMARIZED RESULT - TRAIN (2008-05-05 - 2022-06-01) ****\n",
            "* Reward              : 242.03\n",
            "* Profit / Loss       : 14037.60\n",
            "* Wins / Losses       : 4950 / 1973 (71.50%)\n",
            "* Max Profit          : 1045.75\n",
            "* Max Drawdown        : -1235.56\n",
            "* Profit / Loss (Avg) : 1.99\n",
            "**** SUMMARIZED RESULT - TEST (2022-06-02 - 2023-11-30) ****\n",
            "* Reward              : -280.18\n",
            "* Profit / Loss       : -1961.23\n",
            "* Wins / Losses       : 443 / 212 (67.63%)\n",
            "* Max Profit          : 282.03\n",
            "* Max Drawdown        : -590.10\n",
            "* Profit / Loss (Avg) : -2.98\n",
            "****************** MONTHLY DETAIL RESULT *******************\n",
            "                  pnl  wins  losses  win_rate\n",
            "year_month                                   \n",
            "2022-06    -1344.9881    18      21     46.15\n",
            "2022-07     -664.0468    36      16     69.23\n",
            "2022-08     -536.9246    28      16     63.64\n",
            "2022-09      348.0451    37      12     75.51\n",
            "2022-10      373.0208    34      18     65.38\n",
            "2022-11      187.8735    42       9     82.35\n",
            "2022-12     -294.8654    35      13     72.92\n",
            "2023-01       45.8744    20       8     71.43\n",
            "2023-02     -320.3835    18      12     60.00\n",
            "2023-03      530.7791    25      12     67.57\n",
            "2023-04      186.7548    20       9     68.97\n",
            "2023-05      -88.6152    25      14     64.10\n",
            "2023-06      216.8963    22       9     70.97\n",
            "2023-07      102.2705    17       7     70.83\n",
            "2023-08     -317.5379    13       9     59.09\n",
            "2023-09     -851.6230     8      13     38.10\n",
            "2023-10       94.2750    20       9     68.97\n",
            "2023-11      371.9642    25       5     83.33\n",
            "\n",
            "************************************************************\n",
            "************** PROCESSING GDX - TIMEFRAME 15T **************\n",
            "************************************************************\n"
          ]
        },
        {
          "output_type": "stream",
          "name": "stderr",
          "text": [
            "100%|██████████| 50/50 [00:20<00:00,  2.44it/s]\n"
          ]
        },
        {
          "output_type": "stream",
          "name": "stdout",
          "text": [
            "***************** Best Solution Parameters *****************\n",
            "Min Volatility   : 0.0775\n",
            "Max Perc to Buy  : 0.9771\n",
            "Min Perc to Sell : 0.6241\n",
            "*** SUMMARIZED RESULT - TRAIN (2008-05-05 - 2022-06-01) ****\n",
            "* Reward              : -0.05\n",
            "* Profit / Loss       : -6979.52\n",
            "* Wins / Losses       : 2769 / 882 (75.84%)\n",
            "* Max Profit          : 754.28\n",
            "* Max Drawdown        : -2206.16\n",
            "* Profit / Loss (Avg) : -1.90\n",
            "**** SUMMARIZED RESULT - TEST (2022-06-02 - 2023-11-30) ****\n",
            "* Reward              : -13.14\n",
            "* Profit / Loss       : -1933.26\n",
            "* Wins / Losses       : 246 / 103 (70.49%)\n",
            "* Max Profit          : 564.46\n",
            "* Max Drawdown        : -737.76\n",
            "* Profit / Loss (Avg) : -5.48\n",
            "****************** MONTHLY DETAIL RESULT *******************\n",
            "                  pnl  wins  losses  win_rate\n",
            "year_month                                   \n",
            "2022-06     -840.3970    10       6     62.50\n",
            "2022-07    -1232.7386    16      10     61.54\n",
            "2022-08     -699.3327    12       9     57.14\n",
            "2022-09      626.3064    21       6     77.78\n",
            "2022-10      264.3340    14       5     73.68\n",
            "2022-11      881.2107    17       5     77.27\n",
            "2022-12       16.0779    15       6     71.43\n",
            "2023-01      897.6507    23       5     82.14\n",
            "2023-02    -1006.4562     6       5     54.55\n",
            "2023-03     1348.7196    24       4     85.71\n",
            "2023-04      -19.7250    11       6     64.71\n",
            "2023-05     -183.3840     9       6     60.00\n",
            "2023-06        9.9604    11       6     64.71\n",
            "2023-07      -21.2933    13       4     76.47\n",
            "2023-08     -873.7028     9       4     69.23\n",
            "2023-09     -784.5292     7       5     58.33\n",
            "2023-10      258.7602    20       5     80.00\n",
            "2023-11     -574.7201     8       6     57.14\n",
            "\n",
            "************************************************************\n",
            "************** PROCESSING GDX - TIMEFRAME 1H ***************\n",
            "************************************************************\n"
          ]
        },
        {
          "output_type": "stream",
          "name": "stderr",
          "text": [
            "100%|██████████| 50/50 [00:15<00:00,  3.28it/s]\n"
          ]
        },
        {
          "output_type": "stream",
          "name": "stdout",
          "text": [
            "***************** Best Solution Parameters *****************\n",
            "Min Volatility   : 0.0098\n",
            "Max Perc to Buy  : 0.9771\n",
            "Min Perc to Sell : 0.5535\n",
            "*** SUMMARIZED RESULT - TRAIN (2008-05-07 - 2022-06-01) ****\n",
            "* Reward              : -39.00\n",
            "* Profit / Loss       : 1491.85\n",
            "* Wins / Losses       : 1037 / 331 (75.80%)\n",
            "* Max Profit          : 1028.30\n",
            "* Max Drawdown        : -2276.35\n",
            "* Profit / Loss (Avg) : 1.09\n",
            "**** SUMMARIZED RESULT - TEST (2022-06-02 - 2023-11-30) ****\n",
            "* Reward              : -43.86\n",
            "* Profit / Loss       : 1482.07\n",
            "* Wins / Losses       : 98 / 36 (73.13%)\n",
            "* Max Profit          : 551.23\n",
            "* Max Drawdown        : -1192.80\n",
            "* Profit / Loss (Avg) : 10.98\n",
            "****************** MONTHLY DETAIL RESULT *******************\n",
            "                  pnl  wins  losses  win_rate\n",
            "year_month                                   \n",
            "2022-06       73.1779     4       3     57.14\n",
            "2022-07      177.8759     8       3     72.73\n",
            "2022-08      582.6968     8       1     88.89\n",
            "2022-09     -707.6619     5       3     62.50\n",
            "2022-10      408.4800     6       1     85.71\n",
            "2022-11      456.4157     5       2     71.43\n",
            "2022-12      650.2849     7       1     87.50\n",
            "2023-01      596.0064     6       1     85.71\n",
            "2023-02     -825.2630     4       3     57.14\n",
            "2023-03     1383.7739     6       1     85.71\n",
            "2023-04      222.8495     5       1     83.33\n",
            "2023-05     -736.5923     4       3     57.14\n",
            "2023-06      304.0921     6       3     66.67\n",
            "2023-07       -6.2218     4       2     66.67\n",
            "2023-08     -306.2513     5       2     71.43\n",
            "2023-09       83.1048     4       1     80.00\n",
            "2023-10     -964.9376     4       3     57.14\n",
            "2023-11       90.2368     7       2     77.78\n",
            "\n"
          ]
        }
      ]
    }
  ]
}