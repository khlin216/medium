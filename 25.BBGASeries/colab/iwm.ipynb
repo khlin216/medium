{
  "nbformat": 4,
  "nbformat_minor": 0,
  "metadata": {
    "colab": {
      "provenance": []
    },
    "kernelspec": {
      "name": "python3",
      "display_name": "Python 3"
    },
    "language_info": {
      "name": "python"
    }
  },
  "cells": [
    {
      "cell_type": "markdown",
      "source": [
        "# Download the required data file"
      ],
      "metadata": {
        "id": "1SizpzyQVt2E"
      }
    },
    {
      "cell_type": "code",
      "execution_count": 1,
      "metadata": {
        "id": "nbYzCko0VZxS"
      },
      "outputs": [],
      "source": [
        "import requests as rq"
      ]
    },
    {
      "cell_type": "code",
      "source": [
        "TICKER = 'IWM'\n",
        "FILENAME = f'{TICKER.lower()}.csv.gz'\n",
        "URL = f'https://github.com/crapher/medium/raw/main/25.BBGASeries/data/{FILENAME}'"
      ],
      "metadata": {
        "id": "P0fDSib-ZD3l"
      },
      "execution_count": 2,
      "outputs": []
    },
    {
      "cell_type": "code",
      "source": [
        "response = rq.get(URL)\n",
        "\n",
        "with open(FILENAME, \"wb\") as f:\n",
        "    f.write(response.content)"
      ],
      "metadata": {
        "id": "SB8MFbToX717"
      },
      "execution_count": 3,
      "outputs": []
    },
    {
      "cell_type": "markdown",
      "source": [
        "# Install dependencies\n"
      ],
      "metadata": {
        "id": "ajHte_t4VnQi"
      }
    },
    {
      "cell_type": "code",
      "source": [
        "!pip install pandas_ta pygad"
      ],
      "metadata": {
        "colab": {
          "base_uri": "https://localhost:8080/"
        },
        "id": "DjN1YZy0V65h",
        "outputId": "075918d3-be79-426a-bae4-0bc59e46bbcc"
      },
      "execution_count": 4,
      "outputs": [
        {
          "output_type": "stream",
          "name": "stdout",
          "text": [
            "Collecting pandas_ta\n",
            "  Downloading pandas_ta-0.3.14b.tar.gz (115 kB)\n",
            "\u001b[2K     \u001b[90m━━━━━━━━━━━━━━━━━━━━━━━━━━━━━━━━━━━━━━━━\u001b[0m \u001b[32m115.1/115.1 kB\u001b[0m \u001b[31m2.4 MB/s\u001b[0m eta \u001b[36m0:00:00\u001b[0m\n",
            "\u001b[?25h  Preparing metadata (setup.py) ... \u001b[?25l\u001b[?25hdone\n",
            "Collecting pygad\n",
            "  Downloading pygad-3.2.0-py3-none-any.whl (80 kB)\n",
            "\u001b[2K     \u001b[90m━━━━━━━━━━━━━━━━━━━━━━━━━━━━━━━━━━━━━━━━\u001b[0m \u001b[32m80.8/80.8 kB\u001b[0m \u001b[31m6.0 MB/s\u001b[0m eta \u001b[36m0:00:00\u001b[0m\n",
            "\u001b[?25hRequirement already satisfied: pandas in /usr/local/lib/python3.10/dist-packages (from pandas_ta) (1.5.3)\n",
            "Requirement already satisfied: cloudpickle in /usr/local/lib/python3.10/dist-packages (from pygad) (2.2.1)\n",
            "Requirement already satisfied: matplotlib in /usr/local/lib/python3.10/dist-packages (from pygad) (3.7.1)\n",
            "Requirement already satisfied: numpy in /usr/local/lib/python3.10/dist-packages (from pygad) (1.23.5)\n",
            "Requirement already satisfied: contourpy>=1.0.1 in /usr/local/lib/python3.10/dist-packages (from matplotlib->pygad) (1.2.0)\n",
            "Requirement already satisfied: cycler>=0.10 in /usr/local/lib/python3.10/dist-packages (from matplotlib->pygad) (0.12.1)\n",
            "Requirement already satisfied: fonttools>=4.22.0 in /usr/local/lib/python3.10/dist-packages (from matplotlib->pygad) (4.46.0)\n",
            "Requirement already satisfied: kiwisolver>=1.0.1 in /usr/local/lib/python3.10/dist-packages (from matplotlib->pygad) (1.4.5)\n",
            "Requirement already satisfied: packaging>=20.0 in /usr/local/lib/python3.10/dist-packages (from matplotlib->pygad) (23.2)\n",
            "Requirement already satisfied: pillow>=6.2.0 in /usr/local/lib/python3.10/dist-packages (from matplotlib->pygad) (9.4.0)\n",
            "Requirement already satisfied: pyparsing>=2.3.1 in /usr/local/lib/python3.10/dist-packages (from matplotlib->pygad) (3.1.1)\n",
            "Requirement already satisfied: python-dateutil>=2.7 in /usr/local/lib/python3.10/dist-packages (from matplotlib->pygad) (2.8.2)\n",
            "Requirement already satisfied: pytz>=2020.1 in /usr/local/lib/python3.10/dist-packages (from pandas->pandas_ta) (2023.3.post1)\n",
            "Requirement already satisfied: six>=1.5 in /usr/local/lib/python3.10/dist-packages (from python-dateutil>=2.7->matplotlib->pygad) (1.16.0)\n",
            "Building wheels for collected packages: pandas_ta\n",
            "  Building wheel for pandas_ta (setup.py) ... \u001b[?25l\u001b[?25hdone\n",
            "  Created wheel for pandas_ta: filename=pandas_ta-0.3.14b0-py3-none-any.whl size=218907 sha256=360361bdab88f47937b5fa7d25cdeffd12a07f0696eebca29ae43e3eb3ae2006\n",
            "  Stored in directory: /root/.cache/pip/wheels/69/00/ac/f7fa862c34b0e2ef320175100c233377b4c558944f12474cf0\n",
            "Successfully built pandas_ta\n",
            "Installing collected packages: pygad, pandas_ta\n",
            "Successfully installed pandas_ta-0.3.14b0 pygad-3.2.0\n"
          ]
        }
      ]
    },
    {
      "cell_type": "markdown",
      "source": [
        "# Import required packages"
      ],
      "metadata": {
        "id": "O_Xt9n9dWCBU"
      }
    },
    {
      "cell_type": "code",
      "source": [
        "import numpy as np\n",
        "import pandas as pd\n",
        "import pandas_ta as ta\n",
        "import pygad\n",
        "\n",
        "from tqdm import tqdm\n"
      ],
      "metadata": {
        "id": "P-BZ45gtVdUr"
      },
      "execution_count": 5,
      "outputs": []
    },
    {
      "cell_type": "markdown",
      "source": [
        "# User Configuration"
      ],
      "metadata": {
        "id": "aBroh4lDWOXS"
      }
    },
    {
      "cell_type": "code",
      "source": [
        "CASH = 10_000                       # Cash available for operations\n",
        "\n",
        "BB_SMA = 20                         # Bollinger bands SMA\n",
        "BB_STD = 2.0                        # Bollinger bands standard deviation\n",
        "BB_MAX_BANDWIDTH = 5                # Bollinger bands maximum volatility allowed\n",
        "\n",
        "DAYS_FOR_TESTING = 365 * 1.5        # Days used for testing\n",
        "WINDOW_REWARD = '3M'                # Window used to calculate the reward of a solution\n",
        "WINDOW_MIN_OPERATIONS = 21 * 3      # Minimum operations quantity required to calculate the reward\n",
        "\n",
        "GENERATIONS = 50                    # Iterations count used by the genetic algorithm\n",
        "SOLUTIONS = 20                      # Solutions / iteration calculated by the genetic algorithm"
      ],
      "metadata": {
        "id": "EecXslz4WACi"
      },
      "execution_count": 6,
      "outputs": []
    },
    {
      "cell_type": "markdown",
      "source": [
        "# Set constants, prepare configuration, and set output format"
      ],
      "metadata": {
        "id": "7b8jObSlWZtA"
      }
    },
    {
      "cell_type": "code",
      "source": [
        "### Constants ###\n",
        "TIMEFRAMES = ['5T','15T','1H']"
      ],
      "metadata": {
        "id": "ztk5us1zWZOW"
      },
      "execution_count": 7,
      "outputs": []
    },
    {
      "cell_type": "code",
      "source": [
        "### Data format & preparation ###\n",
        "BB_SMA = int(BB_SMA)\n",
        "BB_STD = round(BB_STD, 2)\n",
        "BB_UPPER = f'BBU_{int(BB_SMA)}_{BB_STD}'\n",
        "BB_LOWER = f'BBL_{int(BB_SMA)}_{BB_STD}'\n",
        "BB_VOLATILITY = f'BBB_{int(BB_SMA)}_{BB_STD}'\n",
        "\n",
        "DAYS_FOR_TESTING = int(DAYS_FOR_TESTING)\n",
        "WINDOW_MIN_OPERATIONS = int(WINDOW_MIN_OPERATIONS)"
      ],
      "metadata": {
        "id": "xNx3I9BPWlpI"
      },
      "execution_count": 8,
      "outputs": []
    },
    {
      "cell_type": "code",
      "source": [
        "### Output preparation ###\n",
        "np.set_printoptions(suppress=True)\n",
        "pd.options.mode.chained_assignment = None"
      ],
      "metadata": {
        "id": "I_aRc3atWnal"
      },
      "execution_count": 9,
      "outputs": []
    },
    {
      "cell_type": "markdown",
      "source": [
        "# Data Functions"
      ],
      "metadata": {
        "id": "CCyLu1y1Wv1K"
      }
    },
    {
      "cell_type": "code",
      "source": [
        "def get_data(ticker, timeframe):\n",
        "\n",
        "    # Read data from file\n",
        "    df = pd.read_csv(FILENAME)\n",
        "    df['date'] = pd.to_datetime(df['date'])\n",
        "\n",
        "    df = df.set_index('date').resample(timeframe).agg({'close':'last'}).dropna().reset_index()\n",
        "\n",
        "    # Calculate bollinger bands based on configuration\n",
        "    df.ta.bbands(close=df['close'], length=BB_SMA, std=BB_STD, append=True)\n",
        "    df = df.dropna()\n",
        "\n",
        "    # Calculate limits (lower: 25% - upper: 75%), close percentage, and volatility\n",
        "    df['high_limit'] = df[BB_UPPER] + (df[BB_UPPER] - df[BB_LOWER]) / 2\n",
        "    df['low_limit'] = df[BB_LOWER] - (df[BB_UPPER] - df[BB_LOWER]) / 2\n",
        "    df['close_percentage'] = np.clip((df['close'] - df['low_limit']) / (df['high_limit'] - df['low_limit']), 0, 1)\n",
        "    df['volatility'] = np.clip(df[BB_VOLATILITY] / (100 / BB_MAX_BANDWIDTH), 0, 1)\n",
        "\n",
        "    # Remove all the bollinger bands fields that won't be needed from now on\n",
        "    df = df.loc[:,~df.columns.str.startswith('BB')]\n",
        "\n",
        "    # Split the data in train and test\n",
        "    train = df[df['date'].dt.date <= (df['date'].dt.date.max() - pd.Timedelta(DAYS_FOR_TESTING, 'D'))]\n",
        "    test = df[df['date'] > train['date'].max()]\n",
        "\n",
        "    return train, test"
      ],
      "metadata": {
        "id": "Pupg4EQBWxoC"
      },
      "execution_count": 10,
      "outputs": []
    },
    {
      "cell_type": "code",
      "source": [
        "def get_result(df, min_volatility, max_buy_perc, min_sell_perc):\n",
        "\n",
        "    # Generate a copy to avoid changing the original data\n",
        "    df = df.copy().reset_index(drop=True)\n",
        "\n",
        "    # Buy signal\n",
        "    df['signal'] = np.where((df['volatility'] > min_volatility) & (df['close_percentage'] < max_buy_perc), 1, 0)\n",
        "\n",
        "    # Sell signal\n",
        "    df['signal'] = np.where((df['close_percentage'] > min_sell_perc), -1, df['signal'])\n",
        "\n",
        "    # Remove all rows without operations, rows with the same consecutive operation, first row selling, and last row buying\n",
        "    result = df[df['signal'] != 0]\n",
        "    result = result[result['signal'] != result['signal'].shift()]\n",
        "    if (len(result) > 0) and (result.iat[0, -1] == -1): result = result.iloc[1:]\n",
        "    if (len(result) > 0) and (result.iat[-1, -1] == 1): result = result.iloc[:-1]\n",
        "\n",
        "    # Calculate pnl, wins, losses, and reward / operation\n",
        "    result['pnl'] = np.where(result['signal'] == -1, (result['close'] - result['close'].shift()) * (CASH // result['close'].shift()), 0)\n",
        "    result['wins'] = np.where(result['pnl'] > 0, 1, 0)\n",
        "    result['losses'] = np.where(result['pnl'] < 0, 1, 0)\n",
        "\n",
        "    # Remove bars without operations\n",
        "    result = result[result['signal'] == -1]\n",
        "\n",
        "    # Remove the signal column and return the dataset\n",
        "    return result.drop('signal', axis=1)"
      ],
      "metadata": {
        "id": "cp3NZ0T7W8Es"
      },
      "execution_count": 11,
      "outputs": []
    },
    {
      "cell_type": "code",
      "source": [
        "def calculate_reward(df):\n",
        "\n",
        "    # Generate window to calculate reward average\n",
        "    df_reward = df.set_index('date').resample(WINDOW_REWARD).agg(\n",
        "        {'close':'last','wins':'sum','losses':'sum','pnl':'sum'}).reset_index()\n",
        "\n",
        "    # Generate reward\n",
        "    wins = df_reward['wins'].mean() if len(df_reward) > 0 else 0\n",
        "    losses = df_reward['losses'].mean() if len(df_reward) > 0 else 0\n",
        "    reward = df_reward['pnl'].mean() if (WINDOW_MIN_OPERATIONS < (wins + losses)) else -WINDOW_MIN_OPERATIONS + (wins + losses)\n",
        "\n",
        "    return reward"
      ],
      "metadata": {
        "id": "gXWAzOO9XAtM"
      },
      "execution_count": 12,
      "outputs": []
    },
    {
      "cell_type": "code",
      "source": [
        "def show_result(df, name, show_monthly):\n",
        "\n",
        "    # Calculate required values\n",
        "    reward = calculate_reward(df)\n",
        "    pnl = df['pnl'].sum()\n",
        "    wins = df['wins'].sum() if len(df) > 0 else 0\n",
        "    losses = df['losses'].sum() if len(df) > 0 else 0\n",
        "    win_rate = (100 * (wins / (wins + losses)) if wins + losses > 0 else 0)\n",
        "    max_profit = df['pnl'].max()\n",
        "    min_drawdown = df['pnl'].min()\n",
        "    avg_pnl = df['pnl'].mean()\n",
        "\n",
        "    # Show the summarized result\n",
        "    print(f' SUMMARIZED RESULT - {name} '.center(60, '*'))\n",
        "    print(f'* Reward              : {reward:.2f}')\n",
        "    print(f'* Profit / Loss       : {pnl:.2f}')\n",
        "    print(f'* Wins / Losses       : {wins:.0f} / {losses:.0f} ({win_rate:.2f}%)')\n",
        "    print(f'* Max Profit          : {max_profit:.2f}')\n",
        "    print(f'* Max Drawdown        : {min_drawdown:.2f}')\n",
        "    print(f'* Profit / Loss (Avg) : {avg_pnl:.2f}')\n",
        "\n",
        "    # Show the monthly result\n",
        "    if show_monthly:\n",
        "        print(f' MONTHLY DETAIL RESULT '.center(60, '*'))\n",
        "        df_monthly = df.set_index('date').resample('1M').agg(\n",
        "            {'wins':'sum','losses':'sum','pnl':'sum'}).reset_index()\n",
        "        df_monthly = df_monthly[['date','pnl','wins','losses']]\n",
        "        df_monthly['year_month'] = df_monthly['date'].dt.strftime('%Y-%m')\n",
        "        df_monthly = df_monthly.drop('date', axis=1)\n",
        "        df_monthly = df_monthly.groupby(['year_month']).sum()\n",
        "        df_monthly['win_rate'] = round(100 * df_monthly['wins'] / (df_monthly['wins'] + df_monthly['losses']), 2)\n",
        "\n",
        "        print(df_monthly)"
      ],
      "metadata": {
        "id": "UkeZ_q--XDeo"
      },
      "execution_count": 13,
      "outputs": []
    },
    {
      "cell_type": "markdown",
      "source": [
        "# Genetic Algorithm funcions"
      ],
      "metadata": {
        "id": "p-yL8vgnXEJ8"
      }
    },
    {
      "cell_type": "code",
      "source": [
        "def fitness_func(self, solution, sol_idx):\n",
        "\n",
        "    # Get reward from train data\n",
        "    result = get_result(train, solution[0], solution[1], solution[2])\n",
        "\n",
        "    # Return the solution reward\n",
        "    return calculate_reward(result)"
      ],
      "metadata": {
        "id": "WEpJ8LgEXGVm"
      },
      "execution_count": 14,
      "outputs": []
    },
    {
      "cell_type": "code",
      "source": [
        "def get_best_solution():\n",
        "\n",
        "    with tqdm(total=GENERATIONS) as pbar:\n",
        "\n",
        "        # Create genetic algorithm\n",
        "        ga_instance = pygad.GA(num_generations=GENERATIONS,\n",
        "                               num_parents_mating=5,\n",
        "                               fitness_func=fitness_func,\n",
        "                               sol_per_pop=SOLUTIONS,\n",
        "                               num_genes=3,\n",
        "                               gene_space=[\n",
        "                                {'low': 0, 'high': 1, 'step': 0.0001},\n",
        "                                {'low': 0, 'high': 1, 'step': 0.0001},\n",
        "                                {'low': 0, 'high': 1, 'step': 0.0001}],\n",
        "                               parent_selection_type='sss',\n",
        "                               crossover_type='single_point',\n",
        "                               mutation_type='random',\n",
        "                               mutation_num_genes=1,\n",
        "                               keep_parents=-1,\n",
        "                               random_seed=42,\n",
        "                               on_generation=lambda _: pbar.update(1),\n",
        "                               )\n",
        "\n",
        "        # Run the genetic algorithm\n",
        "        ga_instance.run()\n",
        "\n",
        "    # Return the best solution\n",
        "    return ga_instance.best_solution()[0]"
      ],
      "metadata": {
        "id": "N0Zb8A4IXII2"
      },
      "execution_count": 15,
      "outputs": []
    },
    {
      "cell_type": "markdown",
      "source": [
        "# Main function"
      ],
      "metadata": {
        "id": "oB3ag1tyXM3U"
      }
    },
    {
      "cell_type": "code",
      "source": [
        "def main(ticker):\n",
        "\n",
        "    global train\n",
        "\n",
        "    for timeframe in TIMEFRAMES:\n",
        "\n",
        "        # Get Train and Test data for timeframe\n",
        "        train, test = get_data(ticker, timeframe)\n",
        "\n",
        "        # Process timeframe\n",
        "        print(''.center(60, '*'))\n",
        "        print(f' PROCESSING {ticker.upper()} - TIMEFRAME {timeframe} '.center(60, '*'))\n",
        "        print(''.center(60, '*'))\n",
        "\n",
        "        solution = get_best_solution()\n",
        "\n",
        "        print(f' Best Solution Parameters '.center(60, '*'))\n",
        "        print(f'Min Volatility   : {solution[0]:6.4f}')\n",
        "        print(f'Max Perc to Buy  : {solution[1]:6.4f}')\n",
        "        print(f'Min Perc to Sell : {solution[2]:6.4f}')\n",
        "\n",
        "        # Show the train result\n",
        "        result = get_result(train, solution[0], solution[1], solution[2])\n",
        "        show_result(result, f'TRAIN ({train[\"date\"].min().date()} - {train[\"date\"].max().date()})', False)\n",
        "\n",
        "        # Show the test result\n",
        "        result = get_result(test, solution[0], solution[1], solution[2])\n",
        "        show_result(result, f'TEST ({test[\"date\"].min().date()} - {test[\"date\"].max().date()})', True)\n",
        "\n",
        "        print('')"
      ],
      "metadata": {
        "id": "9zIVOWunXLRs"
      },
      "execution_count": 16,
      "outputs": []
    },
    {
      "cell_type": "code",
      "source": [
        "main(TICKER)"
      ],
      "metadata": {
        "colab": {
          "base_uri": "https://localhost:8080/"
        },
        "id": "nGv3LZzHXQ6_",
        "outputId": "d07d31e1-0713-45a1-a38b-1e6a971fcf6f"
      },
      "execution_count": 17,
      "outputs": [
        {
          "output_type": "stream",
          "name": "stdout",
          "text": [
            "************************************************************\n",
            "************** PROCESSING IWM - TIMEFRAME 5T ***************\n",
            "************************************************************\n"
          ]
        },
        {
          "output_type": "stream",
          "name": "stderr",
          "text": [
            "100%|██████████| 50/50 [00:43<00:00,  1.14it/s]\n"
          ]
        },
        {
          "output_type": "stream",
          "name": "stdout",
          "text": [
            "***************** Best Solution Parameters *****************\n",
            "Min Volatility   : 0.0098\n",
            "Max Perc to Buy  : 0.9235\n",
            "Min Perc to Sell : 0.6612\n",
            "*** SUMMARIZED RESULT - TRAIN (2008-05-05 - 2022-06-01) ****\n",
            "* Reward              : 459.30\n",
            "* Profit / Loss       : 26639.29\n",
            "* Wins / Losses       : 12358 / 3092 (79.99%)\n",
            "* Max Profit          : 684.12\n",
            "* Max Drawdown        : -1464.32\n",
            "* Profit / Loss (Avg) : 1.72\n",
            "**** SUMMARIZED RESULT - TEST (2022-06-02 - 2023-11-30) ****\n",
            "* Reward              : 105.43\n",
            "* Profit / Loss       : 738.04\n",
            "* Wins / Losses       : 1301 / 357 (78.47%)\n",
            "* Max Profit          : 336.89\n",
            "* Max Drawdown        : -459.80\n",
            "* Profit / Loss (Avg) : 0.44\n",
            "****************** MONTHLY DETAIL RESULT *******************\n",
            "                 pnl  wins  losses  win_rate\n",
            "year_month                                  \n",
            "2022-06    -330.0022    64      19     77.11\n",
            "2022-07     888.4730    84      18     82.35\n",
            "2022-08    -811.3510    68      20     77.27\n",
            "2022-09    -307.9056    94      21     81.74\n",
            "2022-10     335.4379    68      18     79.07\n",
            "2022-11    -551.1526    46      21     68.66\n",
            "2022-12    -742.5736    49      23     68.06\n",
            "2023-01     914.8885   106      12     89.83\n",
            "2023-02     136.9861    64      16     80.00\n",
            "2023-03     200.6109    77      26     74.76\n",
            "2023-04    -110.4986    63      17     78.75\n",
            "2023-05      11.8402    99      18     84.62\n",
            "2023-06     510.6044    76      18     80.85\n",
            "2023-07     711.2876    81      18     81.82\n",
            "2023-08     122.5931    92      23     80.00\n",
            "2023-09    -223.1295    45      20     69.23\n",
            "2023-10    -602.7927    67      29     69.79\n",
            "2023-11     584.7213    58      20     74.36\n",
            "\n",
            "************************************************************\n",
            "************** PROCESSING IWM - TIMEFRAME 15T **************\n",
            "************************************************************\n"
          ]
        },
        {
          "output_type": "stream",
          "name": "stderr",
          "text": [
            "100%|██████████| 50/50 [00:19<00:00,  2.57it/s]\n"
          ]
        },
        {
          "output_type": "stream",
          "name": "stdout",
          "text": [
            "***************** Best Solution Parameters *****************\n",
            "Min Volatility   : 0.0077\n",
            "Max Perc to Buy  : 0.9633\n",
            "Min Perc to Sell : 0.6891\n",
            "*** SUMMARIZED RESULT - TRAIN (2008-05-05 - 2022-06-01) ****\n",
            "* Reward              : 200.22\n",
            "* Profit / Loss       : 11612.94\n",
            "* Wins / Losses       : 3498 / 943 (78.77%)\n",
            "* Max Profit          : 595.80\n",
            "* Max Drawdown        : -1706.99\n",
            "* Profit / Loss (Avg) : 2.61\n",
            "**** SUMMARIZED RESULT - TEST (2022-06-02 - 2023-11-30) ****\n",
            "* Reward              : -1.29\n",
            "* Profit / Loss       : -292.44\n",
            "* Wins / Losses       : 324 / 108 (75.00%)\n",
            "* Max Profit          : 343.38\n",
            "* Max Drawdown        : -695.76\n",
            "* Profit / Loss (Avg) : -0.68\n",
            "****************** MONTHLY DETAIL RESULT *******************\n",
            "                  pnl  wins  losses  win_rate\n",
            "year_month                                   \n",
            "2022-06     -692.0450    16       5     76.19\n",
            "2022-07     1161.4340    22       4     84.62\n",
            "2022-08     -446.3782    21       4     84.00\n",
            "2022-09     -571.4700    21       9     70.00\n",
            "2022-10      975.4441    22       5     81.48\n",
            "2022-11     -205.6616    14       6     70.00\n",
            "2022-12     -860.0975    10       8     55.56\n",
            "2023-01      470.0220    26       4     86.67\n",
            "2023-02      188.9245    21       6     77.78\n",
            "2023-03     -462.3594    20       6     76.92\n",
            "2023-04      137.0739    21       7     75.00\n",
            "2023-05      -77.5050    16       8     66.67\n",
            "2023-06      473.6339    23       7     76.67\n",
            "2023-07      606.1247    23       4     85.19\n",
            "2023-08       22.7965    16       8     66.67\n",
            "2023-09     -393.0850    10       6     62.50\n",
            "2023-10     -816.1638    11       5     68.75\n",
            "2023-11      196.8756    11       6     64.71\n",
            "\n",
            "************************************************************\n",
            "************** PROCESSING IWM - TIMEFRAME 1H ***************\n",
            "************************************************************\n"
          ]
        },
        {
          "output_type": "stream",
          "name": "stderr",
          "text": [
            "100%|██████████| 50/50 [00:14<00:00,  3.56it/s]\n"
          ]
        },
        {
          "output_type": "stream",
          "name": "stdout",
          "text": [
            "***************** Best Solution Parameters *****************\n",
            "Min Volatility   : 0.0009\n",
            "Max Perc to Buy  : 0.9633\n",
            "Min Perc to Sell : 0.6320\n",
            "*** SUMMARIZED RESULT - TRAIN (2008-05-07 - 2022-06-01) ****\n",
            "* Reward              : -36.28\n",
            "* Profit / Loss       : 8551.61\n",
            "* Wins / Losses       : 1241 / 282 (81.48%)\n",
            "* Max Profit          : 508.80\n",
            "* Max Drawdown        : -2697.82\n",
            "* Profit / Loss (Avg) : 5.59\n",
            "**** SUMMARIZED RESULT - TEST (2022-06-02 - 2023-11-30) ****\n",
            "* Reward              : -41.71\n",
            "* Profit / Loss       : 342.74\n",
            "* Wins / Losses       : 115 / 34 (77.18%)\n",
            "* Max Profit          : 269.40\n",
            "* Max Drawdown        : -878.74\n",
            "* Profit / Loss (Avg) : 2.30\n",
            "****************** MONTHLY DETAIL RESULT *******************\n",
            "                  pnl  wins  losses  win_rate\n",
            "year_month                                   \n",
            "2022-06      -47.5300    10       2     83.33\n",
            "2022-07      603.9822     9       2     81.82\n",
            "2022-08      344.6724    12       1     92.31\n",
            "2022-09    -1208.6550     0       3      0.00\n",
            "2022-10      644.8500     8       2     80.00\n",
            "2022-11      -52.8058     5       3     62.50\n",
            "2022-12     -385.3957     2       2     50.00\n",
            "2023-01      694.3050     9       1     90.00\n",
            "2023-02      205.6600     8       2     80.00\n",
            "2023-03     -526.8964     6       2     75.00\n",
            "2023-04      -44.5112     5       2     71.43\n",
            "2023-05      172.8250     8       2     80.00\n",
            "2023-06      334.9941     6       1     85.71\n",
            "2023-07      411.7051     9       2     81.82\n",
            "2023-08     -368.7500     4       1     80.00\n",
            "2023-09     -337.7412     3       2     60.00\n",
            "2023-10     -594.6300     4       3     57.14\n",
            "2023-11      496.6650     7       1     87.50\n",
            "\n"
          ]
        }
      ]
    }
  ]
}