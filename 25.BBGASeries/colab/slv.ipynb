{
  "nbformat": 4,
  "nbformat_minor": 0,
  "metadata": {
    "colab": {
      "provenance": []
    },
    "kernelspec": {
      "name": "python3",
      "display_name": "Python 3"
    },
    "language_info": {
      "name": "python"
    }
  },
  "cells": [
    {
      "cell_type": "markdown",
      "source": [
        "# Download the required data file"
      ],
      "metadata": {
        "id": "1SizpzyQVt2E"
      }
    },
    {
      "cell_type": "code",
      "execution_count": 1,
      "metadata": {
        "id": "nbYzCko0VZxS"
      },
      "outputs": [],
      "source": [
        "import requests as rq"
      ]
    },
    {
      "cell_type": "code",
      "source": [
        "TICKER = 'SLV'\n",
        "FILENAME = f'{TICKER.lower()}.csv.gz'\n",
        "URL = f'https://github.com/crapher/medium/raw/main/25.BBGASeries/data/{FILENAME}'"
      ],
      "metadata": {
        "id": "P0fDSib-ZD3l"
      },
      "execution_count": 2,
      "outputs": []
    },
    {
      "cell_type": "code",
      "source": [
        "response = rq.get(URL)\n",
        "\n",
        "with open(FILENAME, \"wb\") as f:\n",
        "    f.write(response.content)"
      ],
      "metadata": {
        "id": "SB8MFbToX717"
      },
      "execution_count": 3,
      "outputs": []
    },
    {
      "cell_type": "markdown",
      "source": [
        "# Install dependencies\n"
      ],
      "metadata": {
        "id": "ajHte_t4VnQi"
      }
    },
    {
      "cell_type": "code",
      "source": [
        "!pip install pandas_ta pygad"
      ],
      "metadata": {
        "colab": {
          "base_uri": "https://localhost:8080/"
        },
        "id": "DjN1YZy0V65h",
        "outputId": "5f145905-fcd0-4929-aaba-7aefe9ab4443"
      },
      "execution_count": 4,
      "outputs": [
        {
          "output_type": "stream",
          "name": "stdout",
          "text": [
            "Collecting pandas_ta\n",
            "  Downloading pandas_ta-0.3.14b.tar.gz (115 kB)\n",
            "\u001b[2K     \u001b[90m━━━━━━━━━━━━━━━━━━━━━━━━━━━━━━━━━━━━━━━━\u001b[0m \u001b[32m115.1/115.1 kB\u001b[0m \u001b[31m1.3 MB/s\u001b[0m eta \u001b[36m0:00:00\u001b[0m\n",
            "\u001b[?25h  Preparing metadata (setup.py) ... \u001b[?25l\u001b[?25hdone\n",
            "Collecting pygad\n",
            "  Downloading pygad-3.2.0-py3-none-any.whl (80 kB)\n",
            "\u001b[2K     \u001b[90m━━━━━━━━━━━━━━━━━━━━━━━━━━━━━━━━━━━━━━━━\u001b[0m \u001b[32m80.8/80.8 kB\u001b[0m \u001b[31m5.1 MB/s\u001b[0m eta \u001b[36m0:00:00\u001b[0m\n",
            "\u001b[?25hRequirement already satisfied: pandas in /usr/local/lib/python3.10/dist-packages (from pandas_ta) (1.5.3)\n",
            "Requirement already satisfied: cloudpickle in /usr/local/lib/python3.10/dist-packages (from pygad) (2.2.1)\n",
            "Requirement already satisfied: matplotlib in /usr/local/lib/python3.10/dist-packages (from pygad) (3.7.1)\n",
            "Requirement already satisfied: numpy in /usr/local/lib/python3.10/dist-packages (from pygad) (1.23.5)\n",
            "Requirement already satisfied: contourpy>=1.0.1 in /usr/local/lib/python3.10/dist-packages (from matplotlib->pygad) (1.2.0)\n",
            "Requirement already satisfied: cycler>=0.10 in /usr/local/lib/python3.10/dist-packages (from matplotlib->pygad) (0.12.1)\n",
            "Requirement already satisfied: fonttools>=4.22.0 in /usr/local/lib/python3.10/dist-packages (from matplotlib->pygad) (4.46.0)\n",
            "Requirement already satisfied: kiwisolver>=1.0.1 in /usr/local/lib/python3.10/dist-packages (from matplotlib->pygad) (1.4.5)\n",
            "Requirement already satisfied: packaging>=20.0 in /usr/local/lib/python3.10/dist-packages (from matplotlib->pygad) (23.2)\n",
            "Requirement already satisfied: pillow>=6.2.0 in /usr/local/lib/python3.10/dist-packages (from matplotlib->pygad) (9.4.0)\n",
            "Requirement already satisfied: pyparsing>=2.3.1 in /usr/local/lib/python3.10/dist-packages (from matplotlib->pygad) (3.1.1)\n",
            "Requirement already satisfied: python-dateutil>=2.7 in /usr/local/lib/python3.10/dist-packages (from matplotlib->pygad) (2.8.2)\n",
            "Requirement already satisfied: pytz>=2020.1 in /usr/local/lib/python3.10/dist-packages (from pandas->pandas_ta) (2023.3.post1)\n",
            "Requirement already satisfied: six>=1.5 in /usr/local/lib/python3.10/dist-packages (from python-dateutil>=2.7->matplotlib->pygad) (1.16.0)\n",
            "Building wheels for collected packages: pandas_ta\n",
            "  Building wheel for pandas_ta (setup.py) ... \u001b[?25l\u001b[?25hdone\n",
            "  Created wheel for pandas_ta: filename=pandas_ta-0.3.14b0-py3-none-any.whl size=218907 sha256=d459ff25c10e4d0ee4018320acbb36d92baf892cfe3fa57e6916ffc0b918378b\n",
            "  Stored in directory: /root/.cache/pip/wheels/69/00/ac/f7fa862c34b0e2ef320175100c233377b4c558944f12474cf0\n",
            "Successfully built pandas_ta\n",
            "Installing collected packages: pygad, pandas_ta\n",
            "Successfully installed pandas_ta-0.3.14b0 pygad-3.2.0\n"
          ]
        }
      ]
    },
    {
      "cell_type": "markdown",
      "source": [
        "# Import required packages"
      ],
      "metadata": {
        "id": "O_Xt9n9dWCBU"
      }
    },
    {
      "cell_type": "code",
      "source": [
        "import numpy as np\n",
        "import pandas as pd\n",
        "import pandas_ta as ta\n",
        "import pygad\n",
        "\n",
        "from tqdm import tqdm\n"
      ],
      "metadata": {
        "id": "P-BZ45gtVdUr"
      },
      "execution_count": 5,
      "outputs": []
    },
    {
      "cell_type": "markdown",
      "source": [
        "# User Configuration"
      ],
      "metadata": {
        "id": "aBroh4lDWOXS"
      }
    },
    {
      "cell_type": "code",
      "source": [
        "CASH = 10_000                       # Cash available for operations\n",
        "\n",
        "BB_SMA = 20                         # Bollinger bands SMA\n",
        "BB_STD = 2.0                        # Bollinger bands standard deviation\n",
        "BB_MAX_BANDWIDTH = 5                # Bollinger bands maximum volatility allowed\n",
        "\n",
        "DAYS_FOR_TESTING = 365 * 1.5        # Days used for testing\n",
        "WINDOW_REWARD = '3M'                # Window used to calculate the reward of a solution\n",
        "WINDOW_MIN_OPERATIONS = 21 * 3      # Minimum operations quantity required to calculate the reward\n",
        "\n",
        "GENERATIONS = 50                    # Iterations count used by the genetic algorithm\n",
        "SOLUTIONS = 20                      # Solutions / iteration calculated by the genetic algorithm"
      ],
      "metadata": {
        "id": "EecXslz4WACi"
      },
      "execution_count": 6,
      "outputs": []
    },
    {
      "cell_type": "markdown",
      "source": [
        "# Set constants, prepare configuration, and set output format"
      ],
      "metadata": {
        "id": "7b8jObSlWZtA"
      }
    },
    {
      "cell_type": "code",
      "source": [
        "### Constants ###\n",
        "TIMEFRAMES = ['5T','15T','1H']"
      ],
      "metadata": {
        "id": "ztk5us1zWZOW"
      },
      "execution_count": 7,
      "outputs": []
    },
    {
      "cell_type": "code",
      "source": [
        "### Data format & preparation ###\n",
        "BB_SMA = int(BB_SMA)\n",
        "BB_STD = round(BB_STD, 2)\n",
        "BB_UPPER = f'BBU_{int(BB_SMA)}_{BB_STD}'\n",
        "BB_LOWER = f'BBL_{int(BB_SMA)}_{BB_STD}'\n",
        "BB_VOLATILITY = f'BBB_{int(BB_SMA)}_{BB_STD}'\n",
        "\n",
        "DAYS_FOR_TESTING = int(DAYS_FOR_TESTING)\n",
        "WINDOW_MIN_OPERATIONS = int(WINDOW_MIN_OPERATIONS)"
      ],
      "metadata": {
        "id": "xNx3I9BPWlpI"
      },
      "execution_count": 8,
      "outputs": []
    },
    {
      "cell_type": "code",
      "source": [
        "### Output preparation ###\n",
        "np.set_printoptions(suppress=True)\n",
        "pd.options.mode.chained_assignment = None"
      ],
      "metadata": {
        "id": "I_aRc3atWnal"
      },
      "execution_count": 9,
      "outputs": []
    },
    {
      "cell_type": "markdown",
      "source": [
        "# Data Functions"
      ],
      "metadata": {
        "id": "CCyLu1y1Wv1K"
      }
    },
    {
      "cell_type": "code",
      "source": [
        "def get_data(ticker, timeframe):\n",
        "\n",
        "    # Read data from file\n",
        "    df = pd.read_csv(FILENAME)\n",
        "    df['date'] = pd.to_datetime(df['date'])\n",
        "\n",
        "    df = df.set_index('date').resample(timeframe).agg({'close':'last'}).dropna().reset_index()\n",
        "\n",
        "    # Calculate bollinger bands based on configuration\n",
        "    df.ta.bbands(close=df['close'], length=BB_SMA, std=BB_STD, append=True)\n",
        "    df = df.dropna()\n",
        "\n",
        "    # Calculate limits (lower: 25% - upper: 75%), close percentage, and volatility\n",
        "    df['high_limit'] = df[BB_UPPER] + (df[BB_UPPER] - df[BB_LOWER]) / 2\n",
        "    df['low_limit'] = df[BB_LOWER] - (df[BB_UPPER] - df[BB_LOWER]) / 2\n",
        "    df['close_percentage'] = np.clip((df['close'] - df['low_limit']) / (df['high_limit'] - df['low_limit']), 0, 1)\n",
        "    df['volatility'] = np.clip(df[BB_VOLATILITY] / (100 / BB_MAX_BANDWIDTH), 0, 1)\n",
        "\n",
        "    # Remove all the bollinger bands fields that won't be needed from now on\n",
        "    df = df.loc[:,~df.columns.str.startswith('BB')]\n",
        "\n",
        "    # Split the data in train and test\n",
        "    train = df[df['date'].dt.date <= (df['date'].dt.date.max() - pd.Timedelta(DAYS_FOR_TESTING, 'D'))]\n",
        "    test = df[df['date'] > train['date'].max()]\n",
        "\n",
        "    return train, test"
      ],
      "metadata": {
        "id": "Pupg4EQBWxoC"
      },
      "execution_count": 10,
      "outputs": []
    },
    {
      "cell_type": "code",
      "source": [
        "def get_result(df, min_volatility, max_buy_perc, min_sell_perc):\n",
        "\n",
        "    # Generate a copy to avoid changing the original data\n",
        "    df = df.copy().reset_index(drop=True)\n",
        "\n",
        "    # Buy signal\n",
        "    df['signal'] = np.where((df['volatility'] > min_volatility) & (df['close_percentage'] < max_buy_perc), 1, 0)\n",
        "\n",
        "    # Sell signal\n",
        "    df['signal'] = np.where((df['close_percentage'] > min_sell_perc), -1, df['signal'])\n",
        "\n",
        "    # Remove all rows without operations, rows with the same consecutive operation, first row selling, and last row buying\n",
        "    result = df[df['signal'] != 0]\n",
        "    result = result[result['signal'] != result['signal'].shift()]\n",
        "    if (len(result) > 0) and (result.iat[0, -1] == -1): result = result.iloc[1:]\n",
        "    if (len(result) > 0) and (result.iat[-1, -1] == 1): result = result.iloc[:-1]\n",
        "\n",
        "    # Calculate pnl, wins, losses, and reward / operation\n",
        "    result['pnl'] = np.where(result['signal'] == -1, (result['close'] - result['close'].shift()) * (CASH // result['close'].shift()), 0)\n",
        "    result['wins'] = np.where(result['pnl'] > 0, 1, 0)\n",
        "    result['losses'] = np.where(result['pnl'] < 0, 1, 0)\n",
        "\n",
        "    # Remove bars without operations\n",
        "    result = result[result['signal'] == -1]\n",
        "\n",
        "    # Remove the signal column and return the dataset\n",
        "    return result.drop('signal', axis=1)"
      ],
      "metadata": {
        "id": "cp3NZ0T7W8Es"
      },
      "execution_count": 11,
      "outputs": []
    },
    {
      "cell_type": "code",
      "source": [
        "def calculate_reward(df):\n",
        "\n",
        "    # Generate window to calculate reward average\n",
        "    df_reward = df.set_index('date').resample(WINDOW_REWARD).agg(\n",
        "        {'close':'last','wins':'sum','losses':'sum','pnl':'sum'}).reset_index()\n",
        "\n",
        "    # Generate reward\n",
        "    wins = df_reward['wins'].mean() if len(df_reward) > 0 else 0\n",
        "    losses = df_reward['losses'].mean() if len(df_reward) > 0 else 0\n",
        "    reward = df_reward['pnl'].mean() if (WINDOW_MIN_OPERATIONS < (wins + losses)) else -WINDOW_MIN_OPERATIONS + (wins + losses)\n",
        "\n",
        "    return reward"
      ],
      "metadata": {
        "id": "gXWAzOO9XAtM"
      },
      "execution_count": 12,
      "outputs": []
    },
    {
      "cell_type": "code",
      "source": [
        "def show_result(df, name, show_monthly):\n",
        "\n",
        "    # Calculate required values\n",
        "    reward = calculate_reward(df)\n",
        "    pnl = df['pnl'].sum()\n",
        "    wins = df['wins'].sum() if len(df) > 0 else 0\n",
        "    losses = df['losses'].sum() if len(df) > 0 else 0\n",
        "    win_rate = (100 * (wins / (wins + losses)) if wins + losses > 0 else 0)\n",
        "    max_profit = df['pnl'].max()\n",
        "    min_drawdown = df['pnl'].min()\n",
        "    avg_pnl = df['pnl'].mean()\n",
        "\n",
        "    # Show the summarized result\n",
        "    print(f' SUMMARIZED RESULT - {name} '.center(60, '*'))\n",
        "    print(f'* Reward              : {reward:.2f}')\n",
        "    print(f'* Profit / Loss       : {pnl:.2f}')\n",
        "    print(f'* Wins / Losses       : {wins:.0f} / {losses:.0f} ({win_rate:.2f}%)')\n",
        "    print(f'* Max Profit          : {max_profit:.2f}')\n",
        "    print(f'* Max Drawdown        : {min_drawdown:.2f}')\n",
        "    print(f'* Profit / Loss (Avg) : {avg_pnl:.2f}')\n",
        "\n",
        "    # Show the monthly result\n",
        "    if show_monthly:\n",
        "        print(f' MONTHLY DETAIL RESULT '.center(60, '*'))\n",
        "        df_monthly = df.set_index('date').resample('1M').agg(\n",
        "            {'wins':'sum','losses':'sum','pnl':'sum'}).reset_index()\n",
        "        df_monthly = df_monthly[['date','pnl','wins','losses']]\n",
        "        df_monthly['year_month'] = df_monthly['date'].dt.strftime('%Y-%m')\n",
        "        df_monthly = df_monthly.drop('date', axis=1)\n",
        "        df_monthly = df_monthly.groupby(['year_month']).sum()\n",
        "        df_monthly['win_rate'] = round(100 * df_monthly['wins'] / (df_monthly['wins'] + df_monthly['losses']), 2)\n",
        "\n",
        "        print(df_monthly)"
      ],
      "metadata": {
        "id": "UkeZ_q--XDeo"
      },
      "execution_count": 13,
      "outputs": []
    },
    {
      "cell_type": "markdown",
      "source": [
        "# Genetic Algorithm funcions"
      ],
      "metadata": {
        "id": "p-yL8vgnXEJ8"
      }
    },
    {
      "cell_type": "code",
      "source": [
        "def fitness_func(self, solution, sol_idx):\n",
        "\n",
        "    # Get reward from train data\n",
        "    result = get_result(train, solution[0], solution[1], solution[2])\n",
        "\n",
        "    # Return the solution reward\n",
        "    return calculate_reward(result)"
      ],
      "metadata": {
        "id": "WEpJ8LgEXGVm"
      },
      "execution_count": 14,
      "outputs": []
    },
    {
      "cell_type": "code",
      "source": [
        "def get_best_solution():\n",
        "\n",
        "    with tqdm(total=GENERATIONS) as pbar:\n",
        "\n",
        "        # Create genetic algorithm\n",
        "        ga_instance = pygad.GA(num_generations=GENERATIONS,\n",
        "                               num_parents_mating=5,\n",
        "                               fitness_func=fitness_func,\n",
        "                               sol_per_pop=SOLUTIONS,\n",
        "                               num_genes=3,\n",
        "                               gene_space=[\n",
        "                                {'low': 0, 'high': 1, 'step': 0.0001},\n",
        "                                {'low': 0, 'high': 1, 'step': 0.0001},\n",
        "                                {'low': 0, 'high': 1, 'step': 0.0001}],\n",
        "                               parent_selection_type='sss',\n",
        "                               crossover_type='single_point',\n",
        "                               mutation_type='random',\n",
        "                               mutation_num_genes=1,\n",
        "                               keep_parents=-1,\n",
        "                               random_seed=42,\n",
        "                               on_generation=lambda _: pbar.update(1),\n",
        "                               )\n",
        "\n",
        "        # Run the genetic algorithm\n",
        "        ga_instance.run()\n",
        "\n",
        "    # Return the best solution\n",
        "    return ga_instance.best_solution()[0]"
      ],
      "metadata": {
        "id": "N0Zb8A4IXII2"
      },
      "execution_count": 15,
      "outputs": []
    },
    {
      "cell_type": "markdown",
      "source": [
        "# Main function"
      ],
      "metadata": {
        "id": "oB3ag1tyXM3U"
      }
    },
    {
      "cell_type": "code",
      "source": [
        "def main(ticker):\n",
        "\n",
        "    global train\n",
        "\n",
        "    for timeframe in TIMEFRAMES:\n",
        "\n",
        "        # Get Train and Test data for timeframe\n",
        "        train, test = get_data(ticker, timeframe)\n",
        "\n",
        "        # Process timeframe\n",
        "        print(''.center(60, '*'))\n",
        "        print(f' PROCESSING {ticker.upper()} - TIMEFRAME {timeframe} '.center(60, '*'))\n",
        "        print(''.center(60, '*'))\n",
        "\n",
        "        solution = get_best_solution()\n",
        "\n",
        "        print(f' Best Solution Parameters '.center(60, '*'))\n",
        "        print(f'Min Volatility   : {solution[0]:6.4f}')\n",
        "        print(f'Max Perc to Buy  : {solution[1]:6.4f}')\n",
        "        print(f'Min Perc to Sell : {solution[2]:6.4f}')\n",
        "\n",
        "        # Show the train result\n",
        "        result = get_result(train, solution[0], solution[1], solution[2])\n",
        "        show_result(result, f'TRAIN ({train[\"date\"].min().date()} - {train[\"date\"].max().date()})', False)\n",
        "\n",
        "        # Show the test result\n",
        "        result = get_result(test, solution[0], solution[1], solution[2])\n",
        "        show_result(result, f'TEST ({test[\"date\"].min().date()} - {test[\"date\"].max().date()})', True)\n",
        "\n",
        "        print('')"
      ],
      "metadata": {
        "id": "9zIVOWunXLRs"
      },
      "execution_count": 16,
      "outputs": []
    },
    {
      "cell_type": "code",
      "source": [
        "main(TICKER)"
      ],
      "metadata": {
        "colab": {
          "base_uri": "https://localhost:8080/"
        },
        "id": "nGv3LZzHXQ6_",
        "outputId": "c31fb42c-f724-4226-8dd3-f592ef1cc398"
      },
      "execution_count": 17,
      "outputs": [
        {
          "output_type": "stream",
          "name": "stdout",
          "text": [
            "************************************************************\n",
            "************** PROCESSING SLV - TIMEFRAME 5T ***************\n",
            "************************************************************\n"
          ]
        },
        {
          "output_type": "stream",
          "name": "stderr",
          "text": [
            "100%|██████████| 50/50 [00:44<00:00,  1.13it/s]\n"
          ]
        },
        {
          "output_type": "stream",
          "name": "stdout",
          "text": [
            "***************** Best Solution Parameters *****************\n",
            "Min Volatility   : 0.0064\n",
            "Max Perc to Buy  : 0.9235\n",
            "Min Perc to Sell : 0.5315\n",
            "*** SUMMARIZED RESULT - TRAIN (2008-05-05 - 2022-06-01) ****\n",
            "* Reward              : 591.59\n",
            "* Profit / Loss       : 34312.36\n",
            "* Wins / Losses       : 13564 / 3313 (80.37%)\n",
            "* Max Profit          : 1034.80\n",
            "* Max Drawdown        : -1623.52\n",
            "* Profit / Loss (Avg) : 1.95\n",
            "**** SUMMARIZED RESULT - TEST (2022-06-02 - 2023-11-30) ****\n",
            "* Reward              : 292.37\n",
            "* Profit / Loss       : 2046.57\n",
            "* Wins / Losses       : 1236 / 409 (75.14%)\n",
            "* Max Profit          : 495.03\n",
            "* Max Drawdown        : -489.49\n",
            "* Profit / Loss (Avg) : 1.23\n",
            "****************** MONTHLY DETAIL RESULT *******************\n",
            "                  pnl  wins  losses  win_rate\n",
            "year_month                                   \n",
            "2022-06     -884.7931    49      24     67.12\n",
            "2022-07      -89.2131    70      24     74.47\n",
            "2022-08     -583.8497    79      27     74.53\n",
            "2022-09      294.4439    65      20     76.47\n",
            "2022-10     -118.9656    60      20     75.00\n",
            "2022-11     1291.0341    71      18     79.78\n",
            "2022-12      253.9636    61      22     73.49\n",
            "2023-01      230.2974    79      19     80.61\n",
            "2023-02     -455.5070    61      24     71.76\n",
            "2023-03     1010.1625    84      21     80.00\n",
            "2023-04      290.9931    67      18     78.82\n",
            "2023-05     -204.8562    79      24     76.70\n",
            "2023-06     -101.8531    73      19     79.35\n",
            "2023-07      624.9913    73      18     80.22\n",
            "2023-08       19.3691    69      28     71.13\n",
            "2023-09     -782.6449    56      29     65.88\n",
            "2023-10      444.5513    73      33     68.87\n",
            "2023-11      808.4466    67      21     76.14\n",
            "\n",
            "************************************************************\n",
            "************** PROCESSING SLV - TIMEFRAME 15T **************\n",
            "************************************************************\n"
          ]
        },
        {
          "output_type": "stream",
          "name": "stderr",
          "text": [
            "100%|██████████| 50/50 [00:19<00:00,  2.58it/s]\n"
          ]
        },
        {
          "output_type": "stream",
          "name": "stdout",
          "text": [
            "***************** Best Solution Parameters *****************\n",
            "Min Volatility   : 0.0364\n",
            "Max Perc to Buy  : 0.9235\n",
            "Min Perc to Sell : 0.4413\n",
            "*** SUMMARIZED RESULT - TRAIN (2008-05-05 - 2022-06-01) ****\n",
            "* Reward              : 96.47\n",
            "* Profit / Loss       : 5595.38\n",
            "* Wins / Losses       : 2688 / 968 (73.52%)\n",
            "* Max Profit          : 1176.00\n",
            "* Max Drawdown        : -1854.26\n",
            "* Profit / Loss (Avg) : 1.48\n",
            "**** SUMMARIZED RESULT - TEST (2022-06-02 - 2023-11-30) ****\n",
            "* Reward              : -3.29\n",
            "* Profit / Loss       : -337.12\n",
            "* Wins / Losses       : 283 / 135 (67.70%)\n",
            "* Max Profit          : 528.24\n",
            "* Max Drawdown        : -516.81\n",
            "* Profit / Loss (Avg) : -0.80\n",
            "****************** MONTHLY DETAIL RESULT *******************\n",
            "                 pnl  wins  losses  win_rate\n",
            "year_month                                  \n",
            "2022-06    -863.9981     5       8     38.46\n",
            "2022-07    -946.8365    10       8     55.56\n",
            "2022-08    -320.4607    19       9     67.86\n",
            "2022-09     122.2600    18       7     72.00\n",
            "2022-10     376.3504    21       7     75.00\n",
            "2022-11     597.4668    15       5     75.00\n",
            "2022-12     815.0509    26       6     81.25\n",
            "2023-01     436.2091    19       7     73.08\n",
            "2023-02    -395.5186    14      13     51.85\n",
            "2023-03     337.4710    26       5     83.87\n",
            "2023-04      40.7957    11       6     64.71\n",
            "2023-05     205.9611    18      10     64.29\n",
            "2023-06     382.1888    16       9     64.00\n",
            "2023-07    -119.9719     6       4     60.00\n",
            "2023-08      81.4593    19       8     70.37\n",
            "2023-09    -727.3064     8       8     50.00\n",
            "2023-10    -218.6896    16      11     59.26\n",
            "2023-11    -139.5558    16       4     80.00\n",
            "\n",
            "************************************************************\n",
            "************** PROCESSING SLV - TIMEFRAME 1H ***************\n",
            "************************************************************\n"
          ]
        },
        {
          "output_type": "stream",
          "name": "stderr",
          "text": [
            "100%|██████████| 50/50 [00:14<00:00,  3.39it/s]\n"
          ]
        },
        {
          "output_type": "stream",
          "name": "stdout",
          "text": [
            "***************** Best Solution Parameters *****************\n",
            "Min Volatility   : 0.0009\n",
            "Max Perc to Buy  : 0.9771\n",
            "Min Perc to Sell : 0.5881\n",
            "*** SUMMARIZED RESULT - TRAIN (2008-05-07 - 2022-06-01) ****\n",
            "* Reward              : -40.23\n",
            "* Profit / Loss       : 3600.15\n",
            "* Wins / Losses       : 1024 / 274 (78.89%)\n",
            "* Max Profit          : 680.60\n",
            "* Max Drawdown        : -2773.40\n",
            "* Profit / Loss (Avg) : 2.74\n",
            "**** SUMMARIZED RESULT - TEST (2022-06-02 - 2023-11-30) ****\n",
            "* Reward              : -44.14\n",
            "* Profit / Loss       : 1410.70\n",
            "* Wins / Losses       : 102 / 30 (77.27%)\n",
            "* Max Profit          : 628.10\n",
            "* Max Drawdown        : -1100.63\n",
            "* Profit / Loss (Avg) : 10.69\n",
            "****************** MONTHLY DETAIL RESULT *******************\n",
            "                  pnl  wins  losses  win_rate\n",
            "year_month                                   \n",
            "2022-06      -31.0472     3       1     75.00\n",
            "2022-07     -983.1672     9       3     75.00\n",
            "2022-08      -64.9130     5       2     71.43\n",
            "2022-09       51.0626     9       2     81.82\n",
            "2022-10      136.1430     2       1     66.67\n",
            "2022-11     1054.6391     8       1     88.89\n",
            "2022-12      747.0269     5       1     83.33\n",
            "2023-01      654.6918     6       2     75.00\n",
            "2023-02     -976.2850     2       3     40.00\n",
            "2023-03      360.9978     5       1     83.33\n",
            "2023-04      250.9916     6       1     85.71\n",
            "2023-05     -396.4293     5       2     71.43\n",
            "2023-06      166.8218     5       2     71.43\n",
            "2023-07      886.5153     8       2     80.00\n",
            "2023-08     -494.9278     4       1     80.00\n",
            "2023-09     -387.1337     7       2     77.78\n",
            "2023-10       -9.4028     6       2     75.00\n",
            "2023-11      445.1123     7       1     87.50\n",
            "\n"
          ]
        }
      ]
    }
  ]
}