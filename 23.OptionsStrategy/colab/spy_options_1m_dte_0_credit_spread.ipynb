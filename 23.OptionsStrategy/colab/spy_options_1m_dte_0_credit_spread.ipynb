{
  "nbformat": 4,
  "nbformat_minor": 0,
  "metadata": {
    "colab": {
      "provenance": []
    },
    "kernelspec": {
      "name": "python3",
      "display_name": "Python 3"
    },
    "language_info": {
      "name": "python"
    }
  },
  "cells": [
    {
      "cell_type": "markdown",
      "source": [
        "Copy the file **spy_dte_0.csv.gz** located in https://github.com/crapher/medium/tree/main/23.OptionsStrategy/data to your colab folder"
      ],
      "metadata": {
        "id": "_XQkxgIHPS8z"
      }
    },
    {
      "cell_type": "code",
      "execution_count": 1,
      "metadata": {
        "id": "-LjpN-v8Btt7"
      },
      "outputs": [],
      "source": [
        "import warnings\n",
        "import numpy as np\n",
        "import pandas as pd\n",
        "\n",
        "from tqdm import tqdm"
      ]
    },
    {
      "cell_type": "code",
      "source": [
        "# Constants\n",
        "DEBUG = 1\n",
        "OPTIONS_FILE='./spy_dte_0.csv.gz'\n",
        "\n",
        "FEES_PER_CONTRACT = 0.6\n",
        "CONTRACTS = 10\n",
        "\n",
        "HOUR_OPEN = 10\n",
        "MINUTE_OPEN = 30\n",
        "STRIKES = 1\n",
        "DIST_BETWEEN_STRIKES = 2\n",
        "MAX_CHANGE_BEARISH = -0.35\n",
        "MIN_CHANGE_BULLISH = 0.35"
      ],
      "metadata": {
        "id": "I1F7CD1kQPEx"
      },
      "execution_count": 2,
      "outputs": []
    },
    {
      "cell_type": "code",
      "source": [
        "### Configuration ###\n",
        "warnings.filterwarnings(\"ignore\")\n",
        "np.set_printoptions(suppress=True)\n",
        "pd.options.mode.chained_assignment = None"
      ],
      "metadata": {
        "id": "3fZAJpXWmGHy"
      },
      "execution_count": 3,
      "outputs": []
    },
    {
      "cell_type": "code",
      "source": [
        "### Helper functions ###\n",
        "def get_vertical_option_kind(df, max_change_bearish, min_change_bullish):\n",
        "\n",
        "    changes = 100 * (df['close_underlying'].values / df['close_underlying'].values[0] - 1)\n",
        "\n",
        "    change = changes[-1]\n",
        "    min_change = min(changes)\n",
        "    max_change = max(changes)\n",
        "\n",
        "    if change < max_change_bearish and max_change < min_change_bullish:\n",
        "        return 'C' # Sell Call Vertical\n",
        "    elif change > min_change_bullish and min_change > max_change_bearish:\n",
        "        return 'P' # Sell Put Vertical\n",
        "    else:\n",
        "        return ''\n",
        "\n",
        "def get_vertical_strikes(df, kind, strikes, dist_between_strikes):\n",
        "\n",
        "    if kind == 'P':\n",
        "        sell_strike = int(df['close_underlying'].values[0]) - strikes\n",
        "        buy_strike  = sell_strike - dist_between_strikes\n",
        "    else:\n",
        "        sell_strike = int(df['close_underlying'].values[0]) + strikes\n",
        "        buy_strike  = sell_strike + dist_between_strikes\n",
        "\n",
        "    return (buy_strike, sell_strike)\n",
        "\n",
        "def get_vertical_result(df, kind, buy_strike, sell_strike):\n",
        "\n",
        "    # Open Vertical\n",
        "    df = df.sort_values('date', ascending=True)\n",
        "\n",
        "    stock_price = df['close_underlying'].values[0]\n",
        "    buy_price   = df[(df['strike'] == buy_strike)  & (df['kind'] == kind)]['close'].values[0]\n",
        "    sell_price  = df[(df['strike'] == sell_strike) & (df['kind'] == kind)]['close'].values[0]\n",
        "\n",
        "    open_cost  = -100 * buy_price\n",
        "    open_cost +=  100 * sell_price\n",
        "    open_cost *= CONTRACTS\n",
        "\n",
        "    if DEBUG:\n",
        "        tqdm.write(f' OPEN {kind} ({stock_price:6.2f}): SELL {sell_strike} @ {sell_price:6.2f} -  BUY {buy_strike} @ {buy_price:6.2f} - TOTAL: {(-buy_price + sell_price):6.2f}')\n",
        "\n",
        "    # Close Vertical (Prices are 0 if they are OTM/ATM or the difference between the strike and the underlying's close price if they are ITM)\n",
        "    stock_price = df['close_underlying'].values[-1]\n",
        "    sell_price = 0 if (kind == 'P' and buy_strike <= stock_price) or (kind == 'C' and buy_strike >= stock_price) else abs(buy_strike - stock_price)\n",
        "    buy_price = 0 if (kind == 'P' and sell_strike <= stock_price) or (kind == 'C' and sell_strike >= stock_price) else abs(sell_strike - stock_price)\n",
        "\n",
        "    if DEBUG:\n",
        "        tqdm.write(f'CLOSE {kind} ({stock_price:6.2f}):  BUY {sell_strike} @ {buy_price:6.2f} - SELL {buy_strike} @ {sell_price:6.2f} - TOTAL: {(-buy_price + sell_price):6.2f}')\n",
        "\n",
        "    close_cost = -100 * buy_price\n",
        "    close_cost += 100 * sell_price\n",
        "    close_cost *= CONTRACTS\n",
        "\n",
        "    if DEBUG:\n",
        "        tqdm.write(f'**************** Processed Date: {df[\"date\"].dt.date.values[0]} - Result: {open_cost + close_cost:8.2f} ****************')\n",
        "\n",
        "    return open_cost + close_cost"
      ],
      "metadata": {
        "id": "kfv-C_mjxN2F"
      },
      "execution_count": 4,
      "outputs": []
    },
    {
      "cell_type": "code",
      "source": [
        "### Read File ###\n",
        "df = pd.read_csv(OPTIONS_FILE, header=0)\n",
        "df['date'] = pd.to_datetime(df['date'])"
      ],
      "metadata": {
        "id": "36mzjkH6B-7a"
      },
      "execution_count": 5,
      "outputs": []
    },
    {
      "cell_type": "code",
      "source": [
        "### Get all the expiration dates ###\n",
        "expirations = df['expire_date'].unique().tolist()"
      ],
      "metadata": {
        "id": "BGeOrtCZxSDj"
      },
      "execution_count": 6,
      "outputs": []
    },
    {
      "cell_type": "code",
      "source": [
        "### Get P&L by day ###\n",
        "pnl = []\n",
        "df_trend = df[(df.date.dt.hour < HOUR_OPEN) | ((df.date.dt.hour == HOUR_OPEN) & (df.date.dt.minute < MINUTE_OPEN))]\n",
        "df_cost = df[(df.date.dt.hour > HOUR_OPEN) | ((df.date.dt.hour == HOUR_OPEN) & (df.date.dt.minute >= MINUTE_OPEN))]\n",
        "df_open = df_cost[(df_cost.date.dt.hour == HOUR_OPEN) & (df_cost.date.dt.minute == MINUTE_OPEN)]\n",
        "\n",
        "for expiration in tqdm(expirations):\n",
        "\n",
        "    try:\n",
        "        kind = get_vertical_option_kind(df_trend[df_trend['expire_date'] == expiration], MAX_CHANGE_BEARISH, MIN_CHANGE_BULLISH)\n",
        "\n",
        "        if kind == '':\n",
        "            if DEBUG:\n",
        "                tqdm.write(f'**************** Processed Date: {expiration} - Result: -- NA -- ****************')\n",
        "\n",
        "            continue\n",
        "\n",
        "        (buy_strike, sell_strike) = get_vertical_strikes(df_open[df_open['expire_date'] == expiration], kind, STRIKES, DIST_BETWEEN_STRIKES)\n",
        "        result = get_vertical_result(df_cost[df_cost['expire_date'] == expiration], kind, buy_strike, sell_strike)\n",
        "\n",
        "        pnl.append([expiration, result])\n",
        "\n",
        "    except Exception as ex:\n",
        "        continue"
      ],
      "metadata": {
        "id": "Eck0aed5QLR4",
        "colab": {
          "base_uri": "https://localhost:8080/"
        },
        "outputId": "34662c2d-bb43-4bf1-efce-4473588a5fdf"
      },
      "execution_count": 7,
      "outputs": [
        {
          "output_type": "stream",
          "name": "stderr",
          "text": [
            "  1%|          | 4/370 [00:00<00:39,  9.17it/s]"
          ]
        },
        {
          "output_type": "stream",
          "name": "stdout",
          "text": [
            " OPEN P (419.24): SELL 418 @   0.38 -  BUY 416 @   0.12 - TOTAL:   0.26\n",
            "CLOSE P (420.84):  BUY 418 @   0.00 - SELL 416 @   0.00 - TOTAL:   0.00\n",
            "**************** Processed Date: 2021-06-21 - Result:   260.00 ****************\n",
            "**************** Processed Date: 2021-06-23 - Result: -- NA -- ****************\n",
            "**************** Processed Date: 2021-06-25 - Result: -- NA -- ****************\n",
            "**************** Processed Date: 2021-06-28 - Result: -- NA -- ****************\n",
            "**************** Processed Date: 2021-06-30 - Result: -- NA -- ****************\n"
          ]
        },
        {
          "output_type": "stream",
          "name": "stderr",
          "text": []
        },
        {
          "output_type": "stream",
          "name": "stdout",
          "text": [
            "**************** Processed Date: 2021-07-02 - Result: -- NA -- ****************\n"
          ]
        },
        {
          "output_type": "stream",
          "name": "stderr",
          "text": [
            "  2%|▏         | 7/370 [00:00<00:38,  9.50it/s]"
          ]
        },
        {
          "output_type": "stream",
          "name": "stdout",
          "text": [
            " OPEN C (432.06): SELL 433 @   0.18 -  BUY 435 @   0.02 - TOTAL:   0.16\n",
            "CLOSE C (432.90):  BUY 433 @   0.00 - SELL 435 @   0.00 - TOTAL:   0.00\n",
            "**************** Processed Date: 2021-07-06 - Result:   160.00 ****************\n",
            "**************** Processed Date: 2021-07-07 - Result: -- NA -- ****************\n"
          ]
        },
        {
          "output_type": "stream",
          "name": "stderr",
          "text": [
            "  2%|▏         | 9/370 [00:01<00:41,  8.65it/s]"
          ]
        },
        {
          "output_type": "stream",
          "name": "stdout",
          "text": [
            " OPEN P (434.15): SELL 433 @   0.28 -  BUY 431 @   0.08 - TOTAL:   0.20\n",
            "CLOSE P (435.49):  BUY 433 @   0.00 - SELL 431 @   0.00 - TOTAL:   0.00\n",
            "**************** Processed Date: 2021-07-09 - Result:   200.00 ****************\n",
            "**************** Processed Date: 2021-07-12 - Result: -- NA -- ****************\n",
            "**************** Processed Date: 2021-07-14 - Result: -- NA -- ****************\n"
          ]
        },
        {
          "output_type": "stream",
          "name": "stderr",
          "text": [
            "  3%|▎         | 12/370 [00:01<00:40,  8.93it/s]"
          ]
        },
        {
          "output_type": "stream",
          "name": "stdout",
          "text": [
            " OPEN C (433.69): SELL 434 @   0.74 -  BUY 436 @   0.17 - TOTAL:   0.57\n",
            "CLOSE C (431.40):  BUY 434 @   0.00 - SELL 436 @   0.00 - TOTAL:   0.00\n",
            "**************** Processed Date: 2021-07-16 - Result:   570.00 ****************\n"
          ]
        },
        {
          "output_type": "stream",
          "name": "stderr",
          "text": [
            "  4%|▍         | 16/370 [00:01<00:33, 10.49it/s]"
          ]
        },
        {
          "output_type": "stream",
          "name": "stdout",
          "text": [
            " OPEN C (423.63): SELL 424 @   1.50 -  BUY 426 @   0.69 - TOTAL:   0.81\n",
            "CLOSE C (424.96):  BUY 424 @   0.96 - SELL 426 @   0.00 - TOTAL:  -0.96\n",
            "**************** Processed Date: 2021-07-19 - Result:  -150.00 ****************\n",
            "**************** Processed Date: 2021-07-21 - Result: -- NA -- ****************\n",
            "**************** Processed Date: 2021-07-23 - Result: -- NA -- ****************\n",
            "**************** Processed Date: 2021-07-26 - Result: -- NA -- ****************\n"
          ]
        },
        {
          "output_type": "stream",
          "name": "stderr",
          "text": [
            "  6%|▌         | 21/370 [00:02<00:24, 14.36it/s]"
          ]
        },
        {
          "output_type": "stream",
          "name": "stdout",
          "text": [
            "**************** Processed Date: 2021-07-28 - Result: -- NA -- ****************\n",
            "**************** Processed Date: 2021-07-30 - Result: -- NA -- ****************\n",
            "**************** Processed Date: 2021-08-02 - Result: -- NA -- ****************\n",
            "**************** Processed Date: 2021-08-04 - Result: -- NA -- ****************\n",
            "**************** Processed Date: 2021-08-06 - Result: -- NA -- ****************\n"
          ]
        },
        {
          "output_type": "stream",
          "name": "stderr",
          "text": [
            "  6%|▋         | 24/370 [00:02<00:20, 16.49it/s]"
          ]
        },
        {
          "output_type": "stream",
          "name": "stdout",
          "text": [
            "**************** Processed Date: 2021-08-09 - Result: -- NA -- ****************\n",
            "**************** Processed Date: 2021-08-11 - Result: -- NA -- ****************\n",
            "**************** Processed Date: 2021-08-13 - Result: -- NA -- ****************\n",
            "**************** Processed Date: 2021-08-16 - Result: -- NA -- ****************\n",
            "**************** Processed Date: 2021-08-18 - Result: -- NA -- ****************\n"
          ]
        },
        {
          "output_type": "stream",
          "name": "stderr",
          "text": [
            "  7%|▋         | 27/370 [00:02<00:25, 13.52it/s]"
          ]
        },
        {
          "output_type": "stream",
          "name": "stdout",
          "text": [
            " OPEN P (442.68): SELL 441 @   0.41 -  BUY 439 @   0.17 - TOTAL:   0.24\n",
            "CLOSE P (443.33):  BUY 441 @   0.00 - SELL 439 @   0.00 - TOTAL:   0.00\n",
            "**************** Processed Date: 2021-08-20 - Result:   240.00 ****************\n",
            "**************** Processed Date: 2021-08-23 - Result: -- NA -- ****************\n",
            "**************** Processed Date: 2021-08-25 - Result: -- NA -- ****************\n"
          ]
        },
        {
          "output_type": "stream",
          "name": "stderr",
          "text": [
            "  9%|▉         | 33/370 [00:02<00:23, 14.10it/s]"
          ]
        },
        {
          "output_type": "stream",
          "name": "stdout",
          "text": [
            " OPEN P (449.31): SELL 448 @   0.32 -  BUY 446 @   0.12 - TOTAL:   0.20\n",
            "CLOSE P (450.18):  BUY 448 @   0.00 - SELL 446 @   0.00 - TOTAL:   0.00\n",
            "**************** Processed Date: 2021-08-27 - Result:   200.00 ****************\n",
            "**************** Processed Date: 2021-08-30 - Result: -- NA -- ****************\n",
            "**************** Processed Date: 2021-09-01 - Result: -- NA -- ****************\n",
            "**************** Processed Date: 2021-09-03 - Result: -- NA -- ****************\n"
          ]
        },
        {
          "output_type": "stream",
          "name": "stderr",
          "text": [
            "  9%|▉         | 33/370 [00:02<00:23, 14.10it/s]"
          ]
        },
        {
          "output_type": "stream",
          "name": "stdout",
          "text": [
            "**************** Processed Date: 2021-09-07 - Result: -- NA -- ****************\n",
            "**************** Processed Date: 2021-09-08 - Result: -- NA -- ****************\n"
          ]
        },
        {
          "output_type": "stream",
          "name": "stderr",
          "text": [
            " 10%|▉         | 36/370 [00:03<00:27, 12.30it/s]"
          ]
        },
        {
          "output_type": "stream",
          "name": "stdout",
          "text": [
            " OPEN C (448.59): SELL 449 @   0.71 -  BUY 451 @   0.14 - TOTAL:   0.57\n",
            "CLOSE C (445.50):  BUY 449 @   0.00 - SELL 451 @   0.00 - TOTAL:   0.00\n",
            "**************** Processed Date: 2021-09-10 - Result:   570.00 ****************\n"
          ]
        },
        {
          "output_type": "stream",
          "name": "stderr",
          "text": [
            " 10%|█         | 38/370 [00:03<00:30, 10.75it/s]"
          ]
        },
        {
          "output_type": "stream",
          "name": "stdout",
          "text": [
            " OPEN C (445.97): SELL 446 @   0.94 -  BUY 448 @   0.23 - TOTAL:   0.71\n",
            "CLOSE C (446.56):  BUY 446 @   0.56 - SELL 448 @   0.00 - TOTAL:  -0.56\n",
            "**************** Processed Date: 2021-09-13 - Result:   150.10 ****************\n",
            "**************** Processed Date: 2021-09-15 - Result: -- NA -- ****************\n"
          ]
        },
        {
          "output_type": "stream",
          "name": "stderr",
          "text": [
            " 11%|█         | 40/370 [00:03<00:33,  9.75it/s]"
          ]
        },
        {
          "output_type": "stream",
          "name": "stdout",
          "text": [
            " OPEN C (442.92): SELL 443 @   1.12 -  BUY 445 @   0.39 - TOTAL:   0.73\n",
            "CLOSE C (441.42):  BUY 443 @   0.00 - SELL 445 @   0.00 - TOTAL:   0.00\n",
            "**************** Processed Date: 2021-09-17 - Result:   730.00 ****************\n",
            "**************** Processed Date: 2021-09-20 - Result: -- NA -- ****************\n"
          ]
        },
        {
          "output_type": "stream",
          "name": "stderr",
          "text": [
            " 11%|█         | 40/370 [00:03<00:33,  9.75it/s]"
          ]
        },
        {
          "output_type": "stream",
          "name": "stdout",
          "text": [
            " OPEN P (437.54): SELL 436 @   0.96 -  BUY 434 @   0.52 - TOTAL:   0.44\n",
            "CLOSE P (437.83):  BUY 436 @   0.00 - SELL 434 @   0.00 - TOTAL:   0.00\n",
            "**************** Processed Date: 2021-09-22 - Result:   440.00 ****************\n"
          ]
        },
        {
          "output_type": "stream",
          "name": "stderr",
          "text": [
            " 12%|█▏        | 45/370 [00:04<00:33,  9.71it/s]"
          ]
        },
        {
          "output_type": "stream",
          "name": "stdout",
          "text": [
            " OPEN P (443.16): SELL 442 @   0.52 -  BUY 440 @   0.18 - TOTAL:   0.34\n",
            "CLOSE P (443.92):  BUY 442 @   0.00 - SELL 440 @   0.00 - TOTAL:   0.00\n",
            "**************** Processed Date: 2021-09-24 - Result:   340.00 ****************\n",
            "**************** Processed Date: 2021-09-27 - Result: -- NA -- ****************\n",
            "**************** Processed Date: 2021-09-29 - Result: -- NA -- ****************\n",
            "**************** Processed Date: 2021-09-30 - Result: -- NA -- ****************\n"
          ]
        },
        {
          "output_type": "stream",
          "name": "stderr",
          "text": [
            " 12%|█▏        | 45/370 [00:04<00:33,  9.71it/s]"
          ]
        },
        {
          "output_type": "stream",
          "name": "stdout",
          "text": [
            " OPEN C (427.61): SELL 428 @   1.31 -  BUY 430 @   0.53 - TOTAL:   0.78\n",
            "CLOSE C (434.19):  BUY 428 @   6.19 - SELL 430 @   4.19 - TOTAL:  -2.00\n",
            "**************** Processed Date: 2021-10-01 - Result: -1220.00 ****************\n"
          ]
        },
        {
          "output_type": "stream",
          "name": "stderr",
          "text": [
            " 13%|█▎        | 47/370 [00:04<00:43,  7.47it/s]"
          ]
        },
        {
          "output_type": "stream",
          "name": "stdout",
          "text": [
            " OPEN C (429.58): SELL 430 @   1.30 -  BUY 432 @   0.55 - TOTAL:   0.75\n",
            "CLOSE C (428.69):  BUY 430 @   0.00 - SELL 432 @   0.00 - TOTAL:   0.00\n",
            "**************** Processed Date: 2021-10-04 - Result:   750.00 ****************\n",
            "**************** Processed Date: 2021-10-06 - Result: -- NA -- ****************\n",
            "**************** Processed Date: 2021-10-08 - Result: -- NA -- ****************\n"
          ]
        },
        {
          "output_type": "stream",
          "name": "stderr",
          "text": [
            " 14%|█▎        | 50/370 [00:05<00:39,  8.14it/s]"
          ]
        },
        {
          "output_type": "stream",
          "name": "stdout",
          "text": [
            " OPEN P (439.94): SELL 438 @   0.32 -  BUY 436 @   0.09 - TOTAL:   0.23\n",
            "CLOSE P (434.66):  BUY 438 @   3.34 - SELL 436 @   1.34 - TOTAL:  -2.00\n",
            "**************** Processed Date: 2021-10-11 - Result: -1770.00 ****************\n"
          ]
        },
        {
          "output_type": "stream",
          "name": "stderr",
          "text": [
            " 14%|█▍        | 52/370 [00:05<00:39,  8.02it/s]"
          ]
        },
        {
          "output_type": "stream",
          "name": "stdout",
          "text": [
            " OPEN C (432.06): SELL 433 @   0.85 -  BUY 435 @   0.29 - TOTAL:   0.56\n",
            "CLOSE C (435.13):  BUY 433 @   2.13 - SELL 435 @   0.13 - TOTAL:  -2.00\n",
            "**************** Processed Date: 2021-10-13 - Result: -1440.00 ****************\n",
            "**************** Processed Date: 2021-10-15 - Result: -- NA -- ****************\n"
          ]
        },
        {
          "output_type": "stream",
          "name": "stderr",
          "text": [
            " 15%|█▌        | 56/370 [00:05<00:31,  9.92it/s]"
          ]
        },
        {
          "output_type": "stream",
          "name": "stdout",
          "text": [
            " OPEN P (445.65): SELL 444 @   0.29 -  BUY 442 @   0.09 - TOTAL:   0.20\n",
            "CLOSE P (447.22):  BUY 444 @   0.00 - SELL 442 @   0.00 - TOTAL:   0.00\n",
            "**************** Processed Date: 2021-10-18 - Result:   200.00 ****************\n",
            "**************** Processed Date: 2021-10-20 - Result: -- NA -- ****************\n",
            "**************** Processed Date: 2021-10-22 - Result: -- NA -- ****************\n",
            "**************** Processed Date: 2021-10-25 - Result: -- NA -- ****************\n",
            "**************** Processed Date: 2021-10-27 - Result: -- NA -- ****************\n"
          ]
        },
        {
          "output_type": "stream",
          "name": "stderr",
          "text": [
            " 17%|█▋        | 62/370 [00:05<00:20, 14.86it/s]"
          ]
        },
        {
          "output_type": "stream",
          "name": "stdout",
          "text": [
            "**************** Processed Date: 2021-10-29 - Result: -- NA -- ****************\n",
            "**************** Processed Date: 2021-11-01 - Result: -- NA -- ****************\n",
            "**************** Processed Date: 2021-11-03 - Result: -- NA -- ****************\n",
            "**************** Processed Date: 2021-11-05 - Result: -- NA -- ****************\n",
            "**************** Processed Date: 2021-11-08 - Result: -- NA -- ****************\n"
          ]
        },
        {
          "output_type": "stream",
          "name": "stderr",
          "text": [
            " 18%|█▊        | 65/370 [00:06<00:18, 16.48it/s]"
          ]
        },
        {
          "output_type": "stream",
          "name": "stdout",
          "text": [
            "**************** Processed Date: 2021-11-10 - Result: -- NA -- ****************\n",
            "**************** Processed Date: 2021-11-12 - Result: -- NA -- ****************\n",
            "**************** Processed Date: 2021-11-15 - Result: -- NA -- ****************\n",
            "**************** Processed Date: 2021-11-17 - Result: -- NA -- ****************\n",
            "**************** Processed Date: 2021-11-19 - Result: -- NA -- ****************\n"
          ]
        },
        {
          "output_type": "stream",
          "name": "stderr",
          "text": [
            " 18%|█▊        | 68/370 [00:06<00:21, 14.01it/s]"
          ]
        },
        {
          "output_type": "stream",
          "name": "stdout",
          "text": [
            " OPEN P (473.38): SELL 472 @   0.22 -  BUY 470 @   0.06 - TOTAL:   0.16\n",
            "CLOSE P (467.52):  BUY 472 @   4.48 - SELL 470 @   2.48 - TOTAL:  -2.00\n",
            "**************** Processed Date: 2021-11-22 - Result: -1840.00 ****************\n",
            "**************** Processed Date: 2021-11-24 - Result: -- NA -- ****************\n",
            "**************** Processed Date: 2021-11-26 - Result: -- NA -- ****************\n"
          ]
        },
        {
          "output_type": "stream",
          "name": "stderr",
          "text": [
            " 19%|█▉        | 71/370 [00:06<00:24, 12.41it/s]"
          ]
        },
        {
          "output_type": "stream",
          "name": "stdout",
          "text": [
            " OPEN C (462.70): SELL 463 @   1.13 -  BUY 465 @   0.37 - TOTAL:   0.76\n",
            "CLOSE C (464.63):  BUY 463 @   1.63 - SELL 465 @   0.00 - TOTAL:  -1.63\n",
            "**************** Processed Date: 2021-11-29 - Result:  -870.00 ****************\n",
            "**************** Processed Date: 2021-12-01 - Result: -- NA -- ****************\n"
          ]
        },
        {
          "output_type": "stream",
          "name": "stderr",
          "text": [
            " 21%|██        | 76/370 [00:07<00:22, 12.81it/s]"
          ]
        },
        {
          "output_type": "stream",
          "name": "stdout",
          "text": [
            " OPEN C (454.89): SELL 455 @   2.10 -  BUY 457 @   1.18 - TOTAL:   0.92\n",
            "CLOSE C (453.43):  BUY 455 @   0.00 - SELL 457 @   0.00 - TOTAL:   0.00\n",
            "**************** Processed Date: 2021-12-03 - Result:   920.00 ****************\n",
            "**************** Processed Date: 2021-12-06 - Result: -- NA -- ****************\n",
            "**************** Processed Date: 2021-12-08 - Result: -- NA -- ****************\n",
            "**************** Processed Date: 2021-12-10 - Result: -- NA -- ****************\n"
          ]
        },
        {
          "output_type": "stream",
          "name": "stderr",
          "text": [
            " 21%|██        | 78/370 [00:07<00:26, 11.02it/s]"
          ]
        },
        {
          "output_type": "stream",
          "name": "stdout",
          "text": [
            " OPEN C (467.51): SELL 468 @   0.90 -  BUY 470 @   0.27 - TOTAL:   0.63\n",
            "CLOSE C (466.61):  BUY 468 @   0.00 - SELL 470 @   0.00 - TOTAL:   0.00\n",
            "**************** Processed Date: 2021-12-13 - Result:   630.00 ****************\n",
            "**************** Processed Date: 2021-12-15 - Result: -- NA -- ****************\n"
          ]
        },
        {
          "output_type": "stream",
          "name": "stderr",
          "text": [
            " 21%|██        | 78/370 [00:07<00:26, 11.02it/s]"
          ]
        },
        {
          "output_type": "stream",
          "name": "stdout",
          "text": [
            " OPEN C (458.98): SELL 459 @   2.04 -  BUY 461 @   1.15 - TOTAL:   0.89\n",
            "CLOSE C (459.90):  BUY 459 @   0.90 - SELL 461 @   0.00 - TOTAL:  -0.90\n",
            "**************** Processed Date: 2021-12-17 - Result:   -10.00 ****************\n"
          ]
        },
        {
          "output_type": "stream",
          "name": "stderr",
          "text": [
            " 22%|██▏       | 80/370 [00:07<00:34,  8.38it/s]"
          ]
        },
        {
          "output_type": "stream",
          "name": "stdout",
          "text": [
            "**************** Processed Date: 2021-12-22 - Result: -- NA -- ****************\n",
            " OPEN P (470.77): SELL 469 @   0.35 -  BUY 467 @   0.11 - TOTAL:   0.24\n"
          ]
        },
        {
          "output_type": "stream",
          "name": "stderr",
          "text": [
            " 22%|██▏       | 82/370 [00:08<00:35,  8.21it/s]"
          ]
        },
        {
          "output_type": "stream",
          "name": "stdout",
          "text": [
            "CLOSE P (470.58):  BUY 469 @   0.00 - SELL 467 @   0.00 - TOTAL:   0.00\n",
            "**************** Processed Date: 2021-12-23 - Result:   240.00 ****************\n"
          ]
        },
        {
          "output_type": "stream",
          "name": "stderr",
          "text": [
            " 23%|██▎       | 86/370 [00:08<00:28,  9.86it/s]"
          ]
        },
        {
          "output_type": "stream",
          "name": "stdout",
          "text": [
            " OPEN P (474.60): SELL 473 @   0.26 -  BUY 471 @   0.06 - TOTAL:   0.20\n",
            "CLOSE P (477.27):  BUY 473 @   0.00 - SELL 471 @   0.00 - TOTAL:   0.00\n",
            "**************** Processed Date: 2021-12-27 - Result:   200.00 ****************\n",
            "**************** Processed Date: 2021-12-29 - Result: -- NA -- ****************\n",
            "**************** Processed Date: 2021-12-31 - Result: -- NA -- ****************\n",
            "**************** Processed Date: 2022-01-03 - Result: -- NA -- ****************\n",
            "**************** Processed Date: 2022-01-05 - Result: -- NA -- ****************\n"
          ]
        },
        {
          "output_type": "stream",
          "name": "stderr",
          "text": [
            " 24%|██▍       | 89/370 [00:08<00:27, 10.23it/s]"
          ]
        },
        {
          "output_type": "stream",
          "name": "stdout",
          "text": [
            "**************** Processed Date: 2022-01-07 - Result: -- NA -- ****************\n"
          ]
        },
        {
          "output_type": "stream",
          "name": "stderr",
          "text": [
            " 24%|██▍       | 89/370 [00:08<00:27, 10.23it/s]"
          ]
        },
        {
          "output_type": "stream",
          "name": "stdout",
          "text": [
            "**************** Processed Date: 2022-01-12 - Result: -- NA -- ****************\n",
            " OPEN P (462.73): SELL 461 @   1.01 -  BUY 459 @   0.56 - TOTAL:   0.45\n",
            "CLOSE P (464.69):  BUY 461 @   0.00 - SELL 459 @   0.00 - TOTAL:   0.00\n"
          ]
        },
        {
          "output_type": "stream",
          "name": "stderr",
          "text": [
            " 25%|██▍       | 91/370 [00:08<00:29,  9.53it/s]"
          ]
        },
        {
          "output_type": "stream",
          "name": "stdout",
          "text": [
            "**************** Processed Date: 2022-01-14 - Result:   450.00 ****************\n",
            "**************** Processed Date: 2022-01-18 - Result: -- NA -- ****************\n"
          ]
        },
        {
          "output_type": "stream",
          "name": "stderr",
          "text": [
            " 25%|██▌       | 94/370 [00:09<00:35,  7.88it/s]"
          ]
        },
        {
          "output_type": "stream",
          "name": "stdout",
          "text": [
            " OPEN C (443.58): SELL 444 @   1.91 -  BUY 446 @   1.14 - TOTAL:   0.77\n",
            "CLOSE C (438.02):  BUY 444 @   0.00 - SELL 446 @   0.00 - TOTAL:   0.00\n",
            "**************** Processed Date: 2022-01-21 - Result:   770.00 ****************\n",
            "**************** Processed Date: 2022-01-24 - Result: -- NA -- ****************\n",
            "**************** Processed Date: 2022-01-26 - Result: -- NA -- ****************\n"
          ]
        },
        {
          "output_type": "stream",
          "name": "stderr",
          "text": [
            " 26%|██▌       | 97/370 [00:09<00:31,  8.60it/s]"
          ]
        },
        {
          "output_type": "stream",
          "name": "stdout",
          "text": [
            " OPEN C (430.79): SELL 431 @   2.56 -  BUY 433 @   1.60 - TOTAL:   0.96\n",
            "CLOSE C (441.90):  BUY 431 @  10.90 - SELL 433 @   8.90 - TOTAL:  -2.00\n",
            "**************** Processed Date: 2022-01-28 - Result: -1040.00 ****************\n"
          ]
        },
        {
          "output_type": "stream",
          "name": "stderr",
          "text": [
            " 27%|██▋       | 101/370 [00:10<00:24, 10.76it/s]"
          ]
        },
        {
          "output_type": "stream",
          "name": "stdout",
          "text": [
            "**************** Processed Date: 2022-02-02 - Result: -- NA -- ****************\n",
            "**************** Processed Date: 2022-02-04 - Result: -- NA -- ****************\n",
            "**************** Processed Date: 2022-02-07 - Result: -- NA -- ****************\n",
            "**************** Processed Date: 2022-02-09 - Result: -- NA -- ****************\n",
            "**************** Processed Date: 2022-02-11 - Result: -- NA -- ****************\n"
          ]
        },
        {
          "output_type": "stream",
          "name": "stderr",
          "text": [
            " 29%|██▉       | 107/370 [00:10<00:20, 12.66it/s]"
          ]
        },
        {
          "output_type": "stream",
          "name": "stdout",
          "text": [
            " OPEN C (438.70): SELL 439 @   2.17 -  BUY 441 @   1.28 - TOTAL:   0.89\n",
            "CLOSE C (439.06):  BUY 439 @   0.06 - SELL 441 @   0.00 - TOTAL:  -0.06\n",
            "**************** Processed Date: 2022-02-14 - Result:   830.00 ****************\n",
            "**************** Processed Date: 2022-02-16 - Result: -- NA -- ****************\n",
            "**************** Processed Date: 2022-02-18 - Result: -- NA -- ****************\n",
            "**************** Processed Date: 2022-02-22 - Result: -- NA -- ****************\n"
          ]
        },
        {
          "output_type": "stream",
          "name": "stderr",
          "text": [
            " 29%|██▉       | 107/370 [00:10<00:20, 12.66it/s]"
          ]
        },
        {
          "output_type": "stream",
          "name": "stdout",
          "text": [
            " OPEN C (427.96): SELL 428 @   2.22 -  BUY 430 @   1.31 - TOTAL:   0.91\n",
            "CLOSE C (421.97):  BUY 428 @   0.00 - SELL 430 @   0.00 - TOTAL:   0.00\n",
            "**************** Processed Date: 2022-02-23 - Result:   910.00 ****************\n"
          ]
        },
        {
          "output_type": "stream",
          "name": "stderr",
          "text": [
            " 29%|██▉       | 109/370 [00:10<00:30,  8.60it/s]"
          ]
        },
        {
          "output_type": "stream",
          "name": "stdout",
          "text": [
            " OPEN P (432.08): SELL 431 @   1.69 -  BUY 429 @   1.08 - TOTAL:   0.61\n",
            "CLOSE P (437.68):  BUY 431 @   0.00 - SELL 429 @   0.00 - TOTAL:   0.00\n",
            "**************** Processed Date: 2022-02-25 - Result:   610.00 ****************\n",
            "**************** Processed Date: 2022-02-28 - Result: -- NA -- ****************\n"
          ]
        },
        {
          "output_type": "stream",
          "name": "stderr",
          "text": [
            " 30%|███       | 111/370 [00:11<00:31,  8.15it/s]"
          ]
        },
        {
          "output_type": "stream",
          "name": "stdout",
          "text": [
            " OPEN P (434.10): SELL 433 @   1.80 -  BUY 431 @   1.20 - TOTAL:   0.60\n",
            "CLOSE P (437.83):  BUY 433 @   0.00 - SELL 431 @   0.00 - TOTAL:   0.00\n",
            "**************** Processed Date: 2022-03-02 - Result:   600.00 ****************\n"
          ]
        },
        {
          "output_type": "stream",
          "name": "stderr",
          "text": [
            " 30%|███       | 111/370 [00:11<00:31,  8.15it/s]"
          ]
        },
        {
          "output_type": "stream",
          "name": "stdout",
          "text": [
            " OPEN C (429.33): SELL 430 @   1.98 -  BUY 432 @   1.13 - TOTAL:   0.85\n",
            "CLOSE C (432.24):  BUY 430 @   2.24 - SELL 432 @   0.24 - TOTAL:  -2.00\n",
            "**************** Processed Date: 2022-03-04 - Result: -1150.00 ****************\n"
          ]
        },
        {
          "output_type": "stream",
          "name": "stderr",
          "text": [
            " 31%|███       | 113/370 [00:11<00:39,  6.54it/s]"
          ]
        },
        {
          "output_type": "stream",
          "name": "stdout",
          "text": [
            " OPEN C (426.50): SELL 427 @   1.99 -  BUY 429 @   1.25 - TOTAL:   0.74\n",
            "CLOSE C (419.46):  BUY 427 @   0.00 - SELL 429 @   0.00 - TOTAL:   0.00\n",
            "**************** Processed Date: 2022-03-07 - Result:   740.00 ****************\n",
            "**************** Processed Date: 2022-03-09 - Result: -- NA -- ****************\n"
          ]
        },
        {
          "output_type": "stream",
          "name": "stderr",
          "text": [
            " 31%|███       | 115/370 [00:11<00:37,  6.80it/s]"
          ]
        },
        {
          "output_type": "stream",
          "name": "stdout",
          "text": [
            " OPEN C (425.65): SELL 426 @   1.68 -  BUY 428 @   0.90 - TOTAL:   0.78\n",
            "CLOSE C (420.08):  BUY 426 @   0.00 - SELL 428 @   0.00 - TOTAL:   0.00\n",
            "**************** Processed Date: 2022-03-11 - Result:   780.00 ****************\n",
            "**************** Processed Date: 2022-03-14 - Result: -- NA -- ****************\n"
          ]
        },
        {
          "output_type": "stream",
          "name": "stderr",
          "text": [
            " 32%|███▏      | 117/370 [00:12<00:41,  6.03it/s]"
          ]
        },
        {
          "output_type": "stream",
          "name": "stdout",
          "text": [
            " OPEN P (433.47): SELL 432 @   1.80 -  BUY 430 @   1.20 - TOTAL:   0.60\n",
            "CLOSE P (435.61):  BUY 432 @   0.00 - SELL 430 @   0.00 - TOTAL:   0.00\n",
            "**************** Processed Date: 2022-03-16 - Result:   600.00 ****************\n"
          ]
        },
        {
          "output_type": "stream",
          "name": "stderr",
          "text": [
            " 32%|███▏      | 120/370 [00:12<00:39,  6.27it/s]"
          ]
        },
        {
          "output_type": "stream",
          "name": "stdout",
          "text": [
            " OPEN P (439.77): SELL 438 @   0.91 -  BUY 436 @   0.49 - TOTAL:   0.42\n",
            "CLOSE P (444.47):  BUY 438 @   0.00 - SELL 436 @   0.00 - TOTAL:   0.00\n",
            "**************** Processed Date: 2022-03-18 - Result:   420.00 ****************\n",
            "**************** Processed Date: 2022-03-21 - Result: -- NA -- ****************\n",
            "**************** Processed Date: 2022-03-23 - Result: -- NA -- ****************\n"
          ]
        },
        {
          "output_type": "stream",
          "name": "stderr",
          "text": [
            " 33%|███▎      | 122/370 [00:13<00:32,  7.63it/s]"
          ]
        },
        {
          "output_type": "stream",
          "name": "stdout",
          "text": [
            "**************** Processed Date: 2022-03-25 - Result: -- NA -- ****************\n",
            "**************** Processed Date: 2022-03-28 - Result: -- NA -- ****************\n",
            "**************** Processed Date: 2022-03-30 - Result: -- NA -- ****************\n"
          ]
        },
        {
          "output_type": "stream",
          "name": "stderr",
          "text": [
            " 34%|███▎      | 124/370 [00:13<00:28,  8.68it/s]"
          ]
        },
        {
          "output_type": "stream",
          "name": "stdout",
          "text": [
            "**************** Processed Date: 2022-03-31 - Result: -- NA -- ****************\n"
          ]
        },
        {
          "output_type": "stream",
          "name": "stderr",
          "text": [
            " 34%|███▎      | 124/370 [00:13<00:28,  8.68it/s]"
          ]
        },
        {
          "output_type": "stream",
          "name": "stdout",
          "text": [
            " OPEN C (451.22): SELL 452 @   0.99 -  BUY 454 @   0.40 - TOTAL:   0.59\n",
            "CLOSE C (452.88):  BUY 452 @   0.88 - SELL 454 @   0.00 - TOTAL:  -0.88\n",
            "**************** Processed Date: 2022-04-01 - Result:  -290.00 ****************\n"
          ]
        },
        {
          "output_type": "stream",
          "name": "stderr",
          "text": [
            " 34%|███▍      | 126/370 [00:13<00:50,  4.83it/s]"
          ]
        },
        {
          "output_type": "stream",
          "name": "stdout",
          "text": [
            " OPEN P (454.71): SELL 453 @   0.48 -  BUY 451 @   0.19 - TOTAL:   0.29\n",
            "CLOSE P (456.78):  BUY 453 @   0.00 - SELL 451 @   0.00 - TOTAL:   0.00\n",
            "**************** Processed Date: 2022-04-04 - Result:   290.00 ****************\n"
          ]
        },
        {
          "output_type": "stream",
          "name": "stderr",
          "text": [
            " 34%|███▍      | 127/370 [00:14<00:58,  4.13it/s]"
          ]
        },
        {
          "output_type": "stream",
          "name": "stdout",
          "text": [
            " OPEN C (445.08): SELL 446 @   1.26 -  BUY 448 @   0.57 - TOTAL:   0.69\n",
            "CLOSE C (446.57):  BUY 446 @   0.57 - SELL 448 @   0.00 - TOTAL:  -0.57\n",
            "**************** Processed Date: 2022-04-06 - Result:   120.00 ****************\n",
            "**************** Processed Date: 2022-04-08 - Result: -- NA -- ****************\n"
          ]
        },
        {
          "output_type": "stream",
          "name": "stderr",
          "text": [
            " 35%|███▍      | 129/370 [00:14<00:57,  4.21it/s]"
          ]
        },
        {
          "output_type": "stream",
          "name": "stdout",
          "text": [
            " OPEN C (442.68): SELL 443 @   1.17 -  BUY 445 @   0.46 - TOTAL:   0.71\n",
            "CLOSE C (439.97):  BUY 443 @   0.00 - SELL 445 @   0.00 - TOTAL:   0.00\n",
            "**************** Processed Date: 2022-04-11 - Result:   710.00 ****************\n",
            "**************** Processed Date: 2022-04-13 - Result: -- NA -- ****************\n"
          ]
        },
        {
          "output_type": "stream",
          "name": "stderr",
          "text": [
            " 36%|███▌      | 133/370 [00:15<00:42,  5.59it/s]"
          ]
        },
        {
          "output_type": "stream",
          "name": "stdout",
          "text": [
            " OPEN C (441.21): SELL 442 @   1.02 -  BUY 444 @   0.40 - TOTAL:   0.62\n",
            "CLOSE C (437.87):  BUY 442 @   0.00 - SELL 444 @   0.00 - TOTAL:   0.00\n",
            "**************** Processed Date: 2022-04-14 - Result:   620.00 ****************\n",
            "**************** Processed Date: 2022-04-18 - Result: -- NA -- ****************\n",
            "**************** Processed Date: 2022-04-20 - Result: -- NA -- ****************\n"
          ]
        },
        {
          "output_type": "stream",
          "name": "stderr",
          "text": [
            " 37%|███▋      | 137/370 [00:15<00:28,  8.10it/s]"
          ]
        },
        {
          "output_type": "stream",
          "name": "stdout",
          "text": [
            " OPEN C (432.96): SELL 433 @   1.59 -  BUY 435 @   0.79 - TOTAL:   0.80\n",
            "CLOSE C (426.09):  BUY 433 @   0.00 - SELL 435 @   0.00 - TOTAL:   0.00\n",
            "**************** Processed Date: 2022-04-22 - Result:   800.00 ****************\n",
            "**************** Processed Date: 2022-04-25 - Result: -- NA -- ****************\n",
            "**************** Processed Date: 2022-04-27 - Result: -- NA -- ****************\n",
            "**************** Processed Date: 2022-04-29 - Result: -- NA -- ****************\n",
            "**************** Processed Date: 2022-05-02 - Result: -- NA -- ****************\n"
          ]
        },
        {
          "output_type": "stream",
          "name": "stderr",
          "text": [
            " 38%|███▊      | 139/370 [00:16<00:29,  7.95it/s]"
          ]
        },
        {
          "output_type": "stream",
          "name": "stdout",
          "text": [
            " OPEN C (415.30): SELL 416 @   2.68 -  BUY 418 @   1.85 - TOTAL:   0.83\n",
            "CLOSE C (428.99):  BUY 416 @  12.99 - SELL 418 @  10.99 - TOTAL:  -2.00\n",
            "**************** Processed Date: 2022-05-04 - Result: -1170.00 ****************\n",
            "**************** Processed Date: 2022-05-06 - Result: -- NA -- ****************\n"
          ]
        },
        {
          "output_type": "stream",
          "name": "stderr",
          "text": [
            " 38%|███▊      | 141/370 [00:16<00:29,  7.80it/s]"
          ]
        },
        {
          "output_type": "stream",
          "name": "stdout",
          "text": [
            " OPEN C (402.34): SELL 403 @   2.24 -  BUY 405 @   1.46 - TOTAL:   0.78\n",
            "CLOSE C (398.24):  BUY 403 @   0.00 - SELL 405 @   0.00 - TOTAL:   0.00\n",
            "**************** Processed Date: 2022-05-09 - Result:   780.00 ****************\n",
            "**************** Processed Date: 2022-05-11 - Result: -- NA -- ****************\n"
          ]
        },
        {
          "output_type": "stream",
          "name": "stderr",
          "text": [
            " 39%|███▊      | 143/370 [00:16<00:30,  7.56it/s]"
          ]
        },
        {
          "output_type": "stream",
          "name": "stdout",
          "text": [
            " OPEN P (400.95): SELL 399 @   1.36 -  BUY 397 @   0.83 - TOTAL:   0.53\n",
            "CLOSE P (401.69):  BUY 399 @   0.00 - SELL 397 @   0.00 - TOTAL:   0.00\n",
            "**************** Processed Date: 2022-05-13 - Result:   530.00 ****************\n",
            "**************** Processed Date: 2022-05-16 - Result: -- NA -- ****************\n"
          ]
        },
        {
          "output_type": "stream",
          "name": "stderr",
          "text": [
            " 39%|███▉      | 145/370 [00:16<00:30,  7.46it/s]"
          ]
        },
        {
          "output_type": "stream",
          "name": "stdout",
          "text": [
            " OPEN C (400.65): SELL 401 @   1.78 -  BUY 403 @   1.02 - TOTAL:   0.76\n",
            "CLOSE C (391.93):  BUY 401 @   0.00 - SELL 403 @   0.00 - TOTAL:   0.00\n",
            "**************** Processed Date: 2022-05-18 - Result:   760.00 ****************\n"
          ]
        },
        {
          "output_type": "stream",
          "name": "stderr",
          "text": [
            " 39%|███▉      | 146/370 [00:17<00:33,  6.64it/s]"
          ]
        },
        {
          "output_type": "stream",
          "name": "stdout",
          "text": [
            " OPEN C (390.78): SELL 391 @   1.92 -  BUY 393 @   1.11 - TOTAL:   0.81\n",
            "CLOSE C (389.60):  BUY 391 @   0.00 - SELL 393 @   0.00 - TOTAL:   0.00\n",
            "**************** Processed Date: 2022-05-20 - Result:   810.00 ****************\n",
            "**************** Processed Date: 2022-05-23 - Result: -- NA -- ****************\n"
          ]
        },
        {
          "output_type": "stream",
          "name": "stderr",
          "text": [
            " 40%|████      | 148/370 [00:17<00:32,  6.75it/s]"
          ]
        },
        {
          "output_type": "stream",
          "name": "stdout",
          "text": [
            " OPEN P (396.23): SELL 395 @   1.65 -  BUY 393 @   1.04 - TOTAL:   0.61\n",
            "CLOSE P (397.55):  BUY 395 @   0.00 - SELL 393 @   0.00 - TOTAL:   0.00\n",
            "**************** Processed Date: 2022-05-25 - Result:   610.00 ****************\n"
          ]
        },
        {
          "output_type": "stream",
          "name": "stderr",
          "text": [
            " 40%|████      | 149/370 [00:17<00:36,  5.99it/s]"
          ]
        },
        {
          "output_type": "stream",
          "name": "stdout",
          "text": [
            " OPEN P (411.93): SELL 410 @   0.68 -  BUY 408 @   0.34 - TOTAL:   0.34\n",
            "CLOSE P (415.35):  BUY 410 @   0.00 - SELL 408 @   0.00 - TOTAL:   0.00\n",
            "**************** Processed Date: 2022-05-27 - Result:   340.00 ****************\n"
          ]
        },
        {
          "output_type": "stream",
          "name": "stderr",
          "text": [
            " 41%|████      | 150/370 [00:17<00:40,  5.47it/s]"
          ]
        },
        {
          "output_type": "stream",
          "name": "stdout",
          "text": [
            " OPEN C (412.28): SELL 413 @   1.59 -  BUY 415 @   0.86 - TOTAL:   0.73\n",
            "CLOSE C (412.94):  BUY 413 @   0.00 - SELL 415 @   0.00 - TOTAL:   0.00\n",
            "**************** Processed Date: 2022-05-31 - Result:   730.00 ****************\n"
          ]
        },
        {
          "output_type": "stream",
          "name": "stderr",
          "text": [
            " 42%|████▏     | 154/370 [00:18<00:26,  8.29it/s]"
          ]
        },
        {
          "output_type": "stream",
          "name": "stdout",
          "text": [
            " OPEN C (410.78): SELL 411 @   1.55 -  BUY 413 @   0.83 - TOTAL:   0.72\n",
            "CLOSE C (409.62):  BUY 411 @   0.00 - SELL 413 @   0.00 - TOTAL:   0.00\n",
            "**************** Processed Date: 2022-06-01 - Result:   720.00 ****************\n",
            "**************** Processed Date: 2022-06-03 - Result: -- NA -- ****************\n",
            "**************** Processed Date: 2022-06-06 - Result: -- NA -- ****************\n",
            "**************** Processed Date: 2022-06-08 - Result: -- NA -- ****************\n"
          ]
        },
        {
          "output_type": "stream",
          "name": "stderr",
          "text": [
            " 42%|████▏     | 155/370 [00:18<00:31,  6.84it/s]"
          ]
        },
        {
          "output_type": "stream",
          "name": "stdout",
          "text": [
            " OPEN C (390.87): SELL 391 @   1.95 -  BUY 393 @   1.13 - TOTAL:   0.82\n",
            "CLOSE C (389.82):  BUY 391 @   0.00 - SELL 393 @   0.00 - TOTAL:   0.00\n",
            "**************** Processed Date: 2022-06-10 - Result:   820.00 ****************\n"
          ]
        },
        {
          "output_type": "stream",
          "name": "stderr",
          "text": [
            " 42%|████▏     | 156/370 [00:18<00:35,  6.10it/s]"
          ]
        },
        {
          "output_type": "stream",
          "name": "stdout",
          "text": [
            " OPEN C (377.17): SELL 378 @   1.91 -  BUY 380 @   1.16 - TOTAL:   0.75\n",
            "CLOSE C (375.02):  BUY 378 @   0.00 - SELL 380 @   0.00 - TOTAL:   0.00\n",
            "**************** Processed Date: 2022-06-13 - Result:   750.00 ****************\n"
          ]
        },
        {
          "output_type": "stream",
          "name": "stderr",
          "text": [
            " 42%|████▏     | 157/370 [00:19<00:38,  5.50it/s]"
          ]
        },
        {
          "output_type": "stream",
          "name": "stdout",
          "text": [
            " OPEN P (378.26): SELL 377 @   2.86 -  BUY 375 @   2.10 - TOTAL:   0.76\n",
            "CLOSE P (379.13):  BUY 377 @   0.00 - SELL 375 @   0.00 - TOTAL:   0.00\n",
            "**************** Processed Date: 2022-06-15 - Result:   760.00 ****************\n",
            "**************** Processed Date: 2022-06-17 - Result: -- NA -- ****************\n"
          ]
        },
        {
          "output_type": "stream",
          "name": "stderr",
          "text": [
            " 43%|████▎     | 159/370 [00:19<00:34,  6.05it/s]"
          ]
        },
        {
          "output_type": "stream",
          "name": "stdout",
          "text": [
            " OPEN P (375.34): SELL 374 @   1.06 -  BUY 372 @   0.53 - TOTAL:   0.53\n",
            "CLOSE P (375.07):  BUY 374 @   0.00 - SELL 372 @   0.00 - TOTAL:   0.00\n",
            "**************** Processed Date: 2022-06-21 - Result:   530.00 ****************\n"
          ]
        },
        {
          "output_type": "stream",
          "name": "stderr",
          "text": [
            " 43%|████▎     | 160/370 [00:19<00:38,  5.50it/s]"
          ]
        },
        {
          "output_type": "stream",
          "name": "stdout",
          "text": [
            " OPEN P (376.74): SELL 375 @   0.95 -  BUY 373 @   0.52 - TOTAL:   0.43\n",
            "CLOSE P (374.39):  BUY 375 @   0.61 - SELL 373 @   0.00 - TOTAL:  -0.61\n",
            "**************** Processed Date: 2022-06-22 - Result:  -180.00 ****************\n"
          ]
        },
        {
          "output_type": "stream",
          "name": "stderr",
          "text": [
            " 44%|████▎     | 161/370 [00:19<00:40,  5.13it/s]"
          ]
        },
        {
          "output_type": "stream",
          "name": "stdout",
          "text": [
            " OPEN P (386.70): SELL 385 @   0.86 -  BUY 383 @   0.46 - TOTAL:   0.40\n",
            "CLOSE P (390.05):  BUY 385 @   0.00 - SELL 383 @   0.00 - TOTAL:   0.00\n",
            "**************** Processed Date: 2022-06-24 - Result:   400.00 ****************\n"
          ]
        },
        {
          "output_type": "stream",
          "name": "stderr",
          "text": [
            " 44%|████▍     | 162/370 [00:19<00:42,  4.88it/s]"
          ]
        },
        {
          "output_type": "stream",
          "name": "stdout",
          "text": [
            " OPEN C (388.76): SELL 389 @   1.49 -  BUY 391 @   0.74 - TOTAL:   0.75\n",
            "CLOSE C (388.66):  BUY 389 @   0.00 - SELL 391 @   0.00 - TOTAL:   0.00\n",
            "**************** Processed Date: 2022-06-27 - Result:   750.00 ****************\n",
            "**************** Processed Date: 2022-06-29 - Result: -- NA -- ****************\n"
          ]
        },
        {
          "output_type": "stream",
          "name": "stderr",
          "text": [
            " 45%|████▌     | 167/370 [00:20<00:23,  8.73it/s]"
          ]
        },
        {
          "output_type": "stream",
          "name": "stdout",
          "text": [
            " OPEN C (373.91): SELL 374 @   1.96 -  BUY 376 @   1.12 - TOTAL:   0.84\n",
            "CLOSE C (377.29):  BUY 374 @   3.29 - SELL 376 @   1.29 - TOTAL:  -2.00\n",
            "**************** Processed Date: 2022-06-30 - Result: -1160.00 ****************\n",
            "**************** Processed Date: 2022-07-01 - Result: -- NA -- ****************\n",
            "**************** Processed Date: 2022-07-05 - Result: -- NA -- ****************\n",
            "**************** Processed Date: 2022-07-06 - Result: -- NA -- ****************\n"
          ]
        },
        {
          "output_type": "stream",
          "name": "stderr",
          "text": []
        },
        {
          "output_type": "stream",
          "name": "stdout",
          "text": [
            "**************** Processed Date: 2022-07-08 - Result: -- NA -- ****************\n"
          ]
        },
        {
          "output_type": "stream",
          "name": "stderr",
          "text": [
            " 46%|████▋     | 172/370 [00:20<00:18, 10.91it/s]"
          ]
        },
        {
          "output_type": "stream",
          "name": "stdout",
          "text": [
            " OPEN C (384.41): SELL 385 @   1.18 -  BUY 387 @   0.51 - TOTAL:   0.67\n",
            "CLOSE C (384.28):  BUY 385 @   0.00 - SELL 387 @   0.00 - TOTAL:   0.00\n",
            "**************** Processed Date: 2022-07-11 - Result:   670.00 ****************\n",
            "**************** Processed Date: 2022-07-13 - Result: -- NA -- ****************\n",
            "**************** Processed Date: 2022-07-15 - Result: -- NA -- ****************\n",
            "**************** Processed Date: 2022-07-18 - Result: -- NA -- ****************\n"
          ]
        },
        {
          "output_type": "stream",
          "name": "stderr",
          "text": [
            " 47%|████▋     | 174/370 [00:21<00:20,  9.60it/s]"
          ]
        },
        {
          "output_type": "stream",
          "name": "stdout",
          "text": [
            " OPEN P (393.58): SELL 392 @   0.70 -  BUY 390 @   0.30 - TOTAL:   0.40\n",
            "CLOSE P (394.79):  BUY 392 @   0.00 - SELL 390 @   0.00 - TOTAL:   0.00\n",
            "**************** Processed Date: 2022-07-20 - Result:   400.00 ****************\n",
            "**************** Processed Date: 2022-07-22 - Result: -- NA -- ****************\n",
            "**************** Processed Date: 2022-07-25 - Result: -- NA -- ****************\n",
            "**************** Processed Date: 2022-07-27 - Result: -- NA -- ****************\n"
          ]
        },
        {
          "output_type": "stream",
          "name": "stderr",
          "text": [
            " 48%|████▊     | 177/370 [00:21<00:20,  9.63it/s]"
          ]
        },
        {
          "output_type": "stream",
          "name": "stdout",
          "text": [
            " OPEN P (410.45): SELL 409 @   0.82 -  BUY 407 @   0.39 - TOTAL:   0.43\n",
            "CLOSE P (412.06):  BUY 409 @   0.00 - SELL 407 @   0.00 - TOTAL:   0.00\n",
            "**************** Processed Date: 2022-07-29 - Result:   430.00 ****************\n",
            "**************** Processed Date: 2022-08-01 - Result: -- NA -- ****************\n",
            "**************** Processed Date: 2022-08-03 - Result: -- NA -- ****************\n"
          ]
        },
        {
          "output_type": "stream",
          "name": "stderr",
          "text": [
            " 49%|████▉     | 183/370 [00:21<00:16, 11.67it/s]"
          ]
        },
        {
          "output_type": "stream",
          "name": "stdout",
          "text": [
            " OPEN P (413.28): SELL 412 @   0.70 -  BUY 410 @   0.32 - TOTAL:   0.38\n",
            "CLOSE P (413.43):  BUY 412 @   0.00 - SELL 410 @   0.00 - TOTAL:   0.00\n",
            "**************** Processed Date: 2022-08-05 - Result:   380.00 ****************\n",
            "**************** Processed Date: 2022-08-08 - Result: -- NA -- ****************\n",
            "**************** Processed Date: 2022-08-10 - Result: -- NA -- ****************\n",
            "**************** Processed Date: 2022-08-12 - Result: -- NA -- ****************\n"
          ]
        },
        {
          "output_type": "stream",
          "name": "stderr",
          "text": [
            " 49%|████▉     | 183/370 [00:21<00:16, 11.67it/s]"
          ]
        },
        {
          "output_type": "stream",
          "name": "stdout",
          "text": [
            "**************** Processed Date: 2022-08-15 - Result: -- NA -- ****************\n",
            "**************** Processed Date: 2022-08-17 - Result: -- NA -- ****************\n"
          ]
        },
        {
          "output_type": "stream",
          "name": "stderr",
          "text": [
            " 50%|█████     | 186/370 [00:22<00:16, 10.96it/s]"
          ]
        },
        {
          "output_type": "stream",
          "name": "stdout",
          "text": [
            " OPEN C (423.32): SELL 424 @   0.95 -  BUY 426 @   0.36 - TOTAL:   0.59\n",
            "CLOSE C (422.15):  BUY 424 @   0.00 - SELL 426 @   0.00 - TOTAL:   0.00\n",
            "**************** Processed Date: 2022-08-19 - Result:   590.00 ****************\n"
          ]
        },
        {
          "output_type": "stream",
          "name": "stderr",
          "text": [
            " 51%|█████     | 188/370 [00:22<00:18,  9.77it/s]"
          ]
        },
        {
          "output_type": "stream",
          "name": "stdout",
          "text": [
            " OPEN C (415.08): SELL 416 @   0.86 -  BUY 418 @   0.30 - TOTAL:   0.56\n",
            "CLOSE C (413.46):  BUY 416 @   0.00 - SELL 418 @   0.00 - TOTAL:   0.00\n",
            "**************** Processed Date: 2022-08-22 - Result:   560.00 ****************\n",
            "**************** Processed Date: 2022-08-24 - Result: -- NA -- ****************\n"
          ]
        },
        {
          "output_type": "stream",
          "name": "stderr",
          "text": [
            " 51%|█████▏    | 190/370 [00:22<00:20,  8.99it/s]"
          ]
        },
        {
          "output_type": "stream",
          "name": "stdout",
          "text": [
            " OPEN C (413.51): SELL 414 @   1.56 -  BUY 416 @   0.84 - TOTAL:   0.72\n",
            "CLOSE C (405.32):  BUY 414 @   0.00 - SELL 416 @   0.00 - TOTAL:   0.00\n",
            "**************** Processed Date: 2022-08-26 - Result:   720.00 ****************\n",
            "**************** Processed Date: 2022-08-29 - Result: -- NA -- ****************\n",
            "**************** Processed Date: 2022-08-31 - Result: -- NA -- ****************\n",
            "**************** Processed Date: 2022-09-02 - Result: -- NA -- ****************\n"
          ]
        },
        {
          "output_type": "stream",
          "name": "stderr",
          "text": [
            " 52%|█████▏    | 193/370 [00:23<00:19,  9.14it/s]"
          ]
        },
        {
          "output_type": "stream",
          "name": "stdout",
          "text": [
            " OPEN C (390.10): SELL 391 @   1.27 -  BUY 393 @   0.61 - TOTAL:   0.66\n",
            "CLOSE C (390.79):  BUY 391 @   0.00 - SELL 393 @   0.00 - TOTAL:   0.00\n",
            "**************** Processed Date: 2022-09-06 - Result:   660.00 ****************\n"
          ]
        },
        {
          "output_type": "stream",
          "name": "stderr",
          "text": [
            " 52%|█████▏    | 194/370 [00:23<00:22,  7.98it/s]"
          ]
        },
        {
          "output_type": "stream",
          "name": "stdout",
          "text": [
            " OPEN P (392.92): SELL 391 @   0.84 -  BUY 389 @   0.42 - TOTAL:   0.42\n",
            "CLOSE P (397.77):  BUY 391 @   0.00 - SELL 389 @   0.00 - TOTAL:   0.00\n",
            "**************** Processed Date: 2022-09-07 - Result:   420.00 ****************\n"
          ]
        },
        {
          "output_type": "stream",
          "name": "stderr",
          "text": [
            " 53%|█████▎    | 195/370 [00:23<00:25,  6.91it/s]"
          ]
        },
        {
          "output_type": "stream",
          "name": "stdout",
          "text": [
            " OPEN P (405.07): SELL 404 @   0.98 -  BUY 402 @   0.50 - TOTAL:   0.48\n",
            "CLOSE P (406.55):  BUY 404 @   0.00 - SELL 402 @   0.00 - TOTAL:   0.00\n",
            "**************** Processed Date: 2022-09-09 - Result:   480.00 ****************\n"
          ]
        },
        {
          "output_type": "stream",
          "name": "stderr",
          "text": [
            " 53%|█████▎    | 196/370 [00:23<00:28,  6.15it/s]"
          ]
        },
        {
          "output_type": "stream",
          "name": "stdout",
          "text": [
            " OPEN P (411.27): SELL 410 @   0.87 -  BUY 408 @   0.42 - TOTAL:   0.45\n",
            "CLOSE P (410.95):  BUY 410 @   0.00 - SELL 408 @   0.00 - TOTAL:   0.00\n",
            "**************** Processed Date: 2022-09-12 - Result:   450.00 ****************\n"
          ]
        },
        {
          "output_type": "stream",
          "name": "stderr",
          "text": [
            " 53%|█████▎    | 197/370 [00:23<00:30,  5.65it/s]"
          ]
        },
        {
          "output_type": "stream",
          "name": "stdout",
          "text": [
            " OPEN C (392.18): SELL 393 @   1.37 -  BUY 395 @   0.66 - TOTAL:   0.71\n",
            "CLOSE C (394.61):  BUY 393 @   1.61 - SELL 395 @   0.00 - TOTAL:  -1.61\n",
            "**************** Processed Date: 2022-09-14 - Result:  -900.00 ****************\n",
            "**************** Processed Date: 2022-09-16 - Result: -- NA -- ****************\n"
          ]
        },
        {
          "output_type": "stream",
          "name": "stderr",
          "text": [
            " 54%|█████▍    | 199/370 [00:24<00:27,  6.15it/s]"
          ]
        },
        {
          "output_type": "stream",
          "name": "stdout",
          "text": [
            " OPEN P (385.62): SELL 384 @   0.99 -  BUY 382 @   0.52 - TOTAL:   0.47\n",
            "CLOSE P (388.54):  BUY 384 @   0.00 - SELL 382 @   0.00 - TOTAL:   0.00\n",
            "**************** Processed Date: 2022-09-19 - Result:   470.00 ****************\n",
            "**************** Processed Date: 2022-09-21 - Result: -- NA -- ****************\n"
          ]
        },
        {
          "output_type": "stream",
          "name": "stderr",
          "text": [
            " 54%|█████▍    | 201/370 [00:24<00:26,  6.42it/s]"
          ]
        },
        {
          "output_type": "stream",
          "name": "stdout",
          "text": [
            " OPEN C (368.50): SELL 369 @   1.59 -  BUY 371 @   0.84 - TOTAL:   0.75\n",
            "CLOSE C (367.92):  BUY 369 @   0.00 - SELL 371 @   0.00 - TOTAL:   0.00\n",
            "**************** Processed Date: 2022-09-23 - Result:   750.00 ****************\n"
          ]
        },
        {
          "output_type": "stream",
          "name": "stderr",
          "text": [
            " 55%|█████▌    | 205/370 [00:24<00:18,  8.75it/s]"
          ]
        },
        {
          "output_type": "stream",
          "name": "stdout",
          "text": [
            " OPEN P (369.59): SELL 368 @   1.18 -  BUY 366 @   0.64 - TOTAL:   0.54\n",
            "CLOSE P (364.31):  BUY 368 @   3.69 - SELL 366 @   1.69 - TOTAL:  -2.00\n",
            "**************** Processed Date: 2022-09-26 - Result: -1460.00 ****************\n",
            "**************** Processed Date: 2022-09-28 - Result: -- NA -- ****************\n",
            "**************** Processed Date: 2022-09-30 - Result: -- NA -- ****************\n",
            "**************** Processed Date: 2022-10-03 - Result: -- NA -- ****************\n"
          ]
        },
        {
          "output_type": "stream",
          "name": "stderr",
          "text": [
            " 55%|█████▌    | 205/370 [00:25<00:18,  8.75it/s]"
          ]
        },
        {
          "output_type": "stream",
          "name": "stdout",
          "text": [
            " OPEN C (371.61): SELL 372 @   1.35 -  BUY 374 @   0.62 - TOTAL:   0.73\n",
            "CLOSE C (377.15):  BUY 372 @   5.15 - SELL 374 @   3.15 - TOTAL:  -2.00\n",
            "**************** Processed Date: 2022-10-05 - Result: -1270.00 ****************\n"
          ]
        },
        {
          "output_type": "stream",
          "name": "stderr",
          "text": [
            " 56%|█████▌    | 207/370 [00:25<00:24,  6.64it/s]"
          ]
        },
        {
          "output_type": "stream",
          "name": "stdout",
          "text": [
            " OPEN C (366.13): SELL 367 @   1.31 -  BUY 369 @   0.62 - TOTAL:   0.69\n",
            "CLOSE C (362.80):  BUY 367 @   0.00 - SELL 369 @   0.00 - TOTAL:   0.00\n",
            "**************** Processed Date: 2022-10-07 - Result:   690.00 ****************\n"
          ]
        },
        {
          "output_type": "stream",
          "name": "stderr",
          "text": [
            " 57%|█████▋    | 210/370 [00:25<00:24,  6.63it/s]"
          ]
        },
        {
          "output_type": "stream",
          "name": "stdout",
          "text": [
            " OPEN C (362.57): SELL 363 @   1.28 -  BUY 365 @   0.55 - TOTAL:   0.73\n",
            "CLOSE C (360.07):  BUY 363 @   0.00 - SELL 365 @   0.00 - TOTAL:   0.00\n",
            "**************** Processed Date: 2022-10-10 - Result:   730.00 ****************\n",
            "**************** Processed Date: 2022-10-12 - Result: -- NA -- ****************\n",
            "**************** Processed Date: 2022-10-14 - Result: -- NA -- ****************\n"
          ]
        },
        {
          "output_type": "stream",
          "name": "stderr",
          "text": [
            " 57%|█████▋    | 211/370 [00:26<00:31,  5.01it/s]"
          ]
        },
        {
          "output_type": "stream",
          "name": "stdout",
          "text": [
            " OPEN P (366.63): SELL 365 @   1.05 -  BUY 363 @   0.57 - TOTAL:   0.48\n",
            "CLOSE P (366.80):  BUY 365 @   0.00 - SELL 363 @   0.00 - TOTAL:   0.00\n",
            "**************** Processed Date: 2022-10-17 - Result:   480.00 ****************\n",
            "**************** Processed Date: 2022-10-19 - Result: -- NA -- ****************\n"
          ]
        },
        {
          "output_type": "stream",
          "name": "stderr",
          "text": [
            " 58%|█████▊    | 213/370 [00:26<00:33,  4.64it/s]"
          ]
        },
        {
          "output_type": "stream",
          "name": "stdout",
          "text": [
            " OPEN P (367.63): SELL 366 @   1.11 -  BUY 364 @   0.68 - TOTAL:   0.43\n",
            "CLOSE P (374.28):  BUY 366 @   0.00 - SELL 364 @   0.00 - TOTAL:   0.00\n",
            "**************** Processed Date: 2022-10-21 - Result:   430.00 ****************\n",
            "**************** Processed Date: 2022-10-24 - Result: -- NA -- ****************\n"
          ]
        },
        {
          "output_type": "stream",
          "name": "stderr",
          "text": [
            " 58%|█████▊    | 215/370 [00:27<00:34,  4.55it/s]"
          ]
        },
        {
          "output_type": "stream",
          "name": "stdout",
          "text": [
            " OPEN P (384.39): SELL 383 @   0.90 -  BUY 381 @   0.43 - TOTAL:   0.47\n",
            "CLOSE P (382.08):  BUY 383 @   0.92 - SELL 381 @   0.00 - TOTAL:  -0.92\n",
            "**************** Processed Date: 2022-10-26 - Result:  -450.00 ****************\n"
          ]
        },
        {
          "output_type": "stream",
          "name": "stderr",
          "text": [
            " 58%|█████▊    | 216/370 [00:27<00:39,  3.91it/s]"
          ]
        },
        {
          "output_type": "stream",
          "name": "stdout",
          "text": [
            " OPEN P (384.49): SELL 383 @   0.89 -  BUY 381 @   0.41 - TOTAL:   0.48\n",
            "CLOSE P (388.97):  BUY 383 @   0.00 - SELL 381 @   0.00 - TOTAL:   0.00\n",
            "**************** Processed Date: 2022-10-28 - Result:   480.00 ****************\n",
            "**************** Processed Date: 2022-10-31 - Result: -- NA -- ****************\n"
          ]
        },
        {
          "output_type": "stream",
          "name": "stderr",
          "text": [
            " 59%|█████▉    | 220/370 [00:28<00:27,  5.47it/s]"
          ]
        },
        {
          "output_type": "stream",
          "name": "stdout",
          "text": [
            " OPEN C (382.38): SELL 383 @   2.63 -  BUY 385 @   1.82 - TOTAL:   0.81\n",
            "CLOSE C (374.87):  BUY 383 @   0.00 - SELL 385 @   0.00 - TOTAL:   0.00\n",
            "**************** Processed Date: 2022-11-02 - Result:   810.00 ****************\n",
            "**************** Processed Date: 2022-11-04 - Result: -- NA -- ****************\n",
            "**************** Processed Date: 2022-11-07 - Result: -- NA -- ****************\n"
          ]
        },
        {
          "output_type": "stream",
          "name": "stderr",
          "text": [
            " 60%|██████    | 222/370 [00:28<00:21,  6.74it/s]"
          ]
        },
        {
          "output_type": "stream",
          "name": "stdout",
          "text": [
            "**************** Processed Date: 2022-11-09 - Result: -- NA -- ****************\n",
            "**************** Processed Date: 2022-11-11 - Result: -- NA -- ****************\n",
            "**************** Processed Date: 2022-11-14 - Result: -- NA -- ****************\n"
          ]
        },
        {
          "output_type": "stream",
          "name": "stderr",
          "text": [
            " 61%|██████    | 226/370 [00:28<00:15,  9.03it/s]"
          ]
        },
        {
          "output_type": "stream",
          "name": "stdout",
          "text": [
            "**************** Processed Date: 2022-11-15 - Result: -- NA -- ****************\n",
            "**************** Processed Date: 2022-11-16 - Result: -- NA -- ****************\n",
            "**************** Processed Date: 2022-11-17 - Result: -- NA -- ****************\n"
          ]
        },
        {
          "output_type": "stream",
          "name": "stderr",
          "text": [
            " 62%|██████▏   | 228/370 [00:29<00:20,  6.81it/s]"
          ]
        },
        {
          "output_type": "stream",
          "name": "stdout",
          "text": [
            " OPEN C (395.49): SELL 396 @   1.14 -  BUY 398 @   0.47 - TOTAL:   0.67\n",
            "CLOSE C (396.09):  BUY 396 @   0.09 - SELL 398 @   0.00 - TOTAL:  -0.09\n",
            "**************** Processed Date: 2022-11-18 - Result:   580.00 ****************\n",
            "**************** Processed Date: 2022-11-21 - Result: -- NA -- ****************\n",
            "**************** Processed Date: 2022-11-22 - Result: -- NA -- ****************\n"
          ]
        },
        {
          "output_type": "stream",
          "name": "stderr",
          "text": [
            " 63%|██████▎   | 232/370 [00:29<00:16,  8.52it/s]"
          ]
        },
        {
          "output_type": "stream",
          "name": "stdout",
          "text": [
            " OPEN P (401.92): SELL 400 @   0.51 -  BUY 398 @   0.20 - TOTAL:   0.31\n",
            "CLOSE P (402.39):  BUY 400 @   0.00 - SELL 398 @   0.00 - TOTAL:   0.00\n",
            "**************** Processed Date: 2022-11-23 - Result:   310.00 ****************\n",
            "**************** Processed Date: 2022-11-25 - Result: -- NA -- ****************\n",
            "**************** Processed Date: 2022-11-28 - Result: -- NA -- ****************\n",
            "**************** Processed Date: 2022-11-29 - Result: -- NA -- ****************\n"
          ]
        },
        {
          "output_type": "stream",
          "name": "stderr",
          "text": [
            " 63%|██████▎   | 234/370 [00:29<00:16,  8.20it/s]"
          ]
        },
        {
          "output_type": "stream",
          "name": "stdout",
          "text": [
            " OPEN C (394.33): SELL 395 @   1.86 -  BUY 397 @   1.04 - TOTAL:   0.82\n",
            "CLOSE C (407.47):  BUY 395 @  12.47 - SELL 397 @  10.47 - TOTAL:  -2.00\n",
            "**************** Processed Date: 2022-11-30 - Result: -1180.00 ****************\n"
          ]
        },
        {
          "output_type": "stream",
          "name": "stderr",
          "text": [
            " 64%|██████▍   | 236/370 [00:30<00:17,  7.63it/s]"
          ]
        },
        {
          "output_type": "stream",
          "name": "stdout",
          "text": [
            " OPEN C (404.87): SELL 405 @   1.29 -  BUY 407 @   0.55 - TOTAL:   0.74\n",
            "CLOSE C (407.38):  BUY 405 @   2.38 - SELL 407 @   0.38 - TOTAL:  -2.00\n",
            "**************** Processed Date: 2022-12-01 - Result: -1260.00 ****************\n",
            "**************** Processed Date: 2022-12-02 - Result: -- NA -- ****************\n",
            "**************** Processed Date: 2022-12-05 - Result: -- NA -- ****************\n"
          ]
        },
        {
          "output_type": "stream",
          "name": "stderr",
          "text": [
            " 64%|██████▍   | 238/370 [00:30<00:17,  7.54it/s]"
          ]
        },
        {
          "output_type": "stream",
          "name": "stdout",
          "text": [
            " OPEN C (395.95): SELL 396 @   1.22 -  BUY 398 @   0.47 - TOTAL:   0.75\n",
            "CLOSE C (393.86):  BUY 396 @   0.00 - SELL 398 @   0.00 - TOTAL:   0.00\n",
            "**************** Processed Date: 2022-12-06 - Result:   750.00 ****************\n"
          ]
        },
        {
          "output_type": "stream",
          "name": "stderr",
          "text": [
            " 65%|██████▍   | 239/370 [00:30<00:19,  6.62it/s]"
          ]
        },
        {
          "output_type": "stream",
          "name": "stdout",
          "text": [
            " OPEN P (394.99): SELL 393 @   0.73 -  BUY 391 @   0.34 - TOTAL:   0.39\n",
            "CLOSE P (393.15):  BUY 393 @   0.00 - SELL 391 @   0.00 - TOTAL:   0.00\n",
            "**************** Processed Date: 2022-12-07 - Result:   390.00 ****************\n"
          ]
        },
        {
          "output_type": "stream",
          "name": "stderr",
          "text": [
            " 65%|██████▌   | 242/370 [00:30<00:16,  7.80it/s]"
          ]
        },
        {
          "output_type": "stream",
          "name": "stdout",
          "text": [
            " OPEN P (396.69): SELL 395 @   0.55 -  BUY 393 @   0.23 - TOTAL:   0.32\n",
            "CLOSE P (396.21):  BUY 395 @   0.00 - SELL 393 @   0.00 - TOTAL:   0.00\n",
            "**************** Processed Date: 2022-12-08 - Result:   320.00 ****************\n",
            "**************** Processed Date: 2022-12-09 - Result: -- NA -- ****************\n",
            "**************** Processed Date: 2022-12-12 - Result: -- NA -- ****************\n"
          ]
        },
        {
          "output_type": "stream",
          "name": "stderr",
          "text": [
            " 66%|██████▌   | 243/370 [00:31<00:18,  6.83it/s]"
          ]
        },
        {
          "output_type": "stream",
          "name": "stdout",
          "text": [
            " OPEN C (405.04): SELL 406 @   1.45 -  BUY 408 @   0.78 - TOTAL:   0.67\n",
            "CLOSE C (401.95):  BUY 406 @   0.00 - SELL 408 @   0.00 - TOTAL:   0.00\n",
            "**************** Processed Date: 2022-12-13 - Result:   670.00 ****************\n"
          ]
        },
        {
          "output_type": "stream",
          "name": "stderr",
          "text": [
            " 66%|██████▌   | 244/370 [00:31<00:21,  5.84it/s]"
          ]
        },
        {
          "output_type": "stream",
          "name": "stdout",
          "text": [
            " OPEN P (403.81): SELL 402 @   2.58 -  BUY 400 @   1.84 - TOTAL:   0.74\n",
            "CLOSE P (399.41):  BUY 402 @   2.59 - SELL 400 @   0.59 - TOTAL:  -2.00\n",
            "**************** Processed Date: 2022-12-14 - Result: -1260.00 ****************\n"
          ]
        },
        {
          "output_type": "stream",
          "name": "stderr",
          "text": [
            " 66%|██████▌   | 245/370 [00:31<00:23,  5.39it/s]"
          ]
        },
        {
          "output_type": "stream",
          "name": "stdout",
          "text": [
            " OPEN C (390.65): SELL 391 @   1.40 -  BUY 393 @   0.67 - TOTAL:   0.73\n",
            "CLOSE C (389.65):  BUY 391 @   0.00 - SELL 393 @   0.00 - TOTAL:   0.00\n",
            "**************** Processed Date: 2022-12-15 - Result:   730.00 ****************\n"
          ]
        },
        {
          "output_type": "stream",
          "name": "stderr",
          "text": [
            " 66%|██████▋   | 246/370 [00:31<00:24,  5.02it/s]"
          ]
        },
        {
          "output_type": "stream",
          "name": "stdout",
          "text": [
            " OPEN C (383.10): SELL 384 @   1.17 -  BUY 386 @   0.53 - TOTAL:   0.64\n",
            "CLOSE C (383.30):  BUY 384 @   0.00 - SELL 386 @   0.00 - TOTAL:   0.00\n",
            "**************** Processed Date: 2022-12-16 - Result:   640.00 ****************\n",
            "**************** Processed Date: 2022-12-19 - Result: -- NA -- ****************\n"
          ]
        },
        {
          "output_type": "stream",
          "name": "stderr",
          "text": [
            " 67%|██████▋   | 248/370 [00:32<00:21,  5.55it/s]"
          ]
        },
        {
          "output_type": "stream",
          "name": "stdout",
          "text": [
            " OPEN P (381.67): SELL 380 @   0.55 -  BUY 378 @   0.23 - TOTAL:   0.32\n",
            "CLOSE P (380.52):  BUY 380 @   0.00 - SELL 378 @   0.00 - TOTAL:   0.00\n",
            "**************** Processed Date: 2022-12-20 - Result:   320.00 ****************\n"
          ]
        },
        {
          "output_type": "stream",
          "name": "stderr",
          "text": [
            " 67%|██████▋   | 249/370 [00:32<00:23,  5.22it/s]"
          ]
        },
        {
          "output_type": "stream",
          "name": "stdout",
          "text": [
            " OPEN P (385.14): SELL 384 @   0.60 -  BUY 382 @   0.20 - TOTAL:   0.40\n",
            "CLOSE P (386.23):  BUY 384 @   0.00 - SELL 382 @   0.00 - TOTAL:   0.00\n",
            "**************** Processed Date: 2022-12-21 - Result:   400.00 ****************\n"
          ]
        },
        {
          "output_type": "stream",
          "name": "stderr",
          "text": [
            " 68%|██████▊   | 253/370 [00:32<00:14,  8.18it/s]"
          ]
        },
        {
          "output_type": "stream",
          "name": "stdout",
          "text": [
            " OPEN C (379.13): SELL 380 @   0.72 -  BUY 382 @   0.22 - TOTAL:   0.50\n",
            "CLOSE C (380.76):  BUY 380 @   0.76 - SELL 382 @   0.00 - TOTAL:  -0.76\n",
            "**************** Processed Date: 2022-12-22 - Result:  -260.00 ****************\n",
            "**************** Processed Date: 2022-12-23 - Result: -- NA -- ****************\n",
            "**************** Processed Date: 2022-12-27 - Result: -- NA -- ****************\n",
            "**************** Processed Date: 2022-12-28 - Result: -- NA -- ****************\n"
          ]
        },
        {
          "output_type": "stream",
          "name": "stderr",
          "text": [
            " 69%|██████▉   | 255/370 [00:33<00:15,  7.58it/s]"
          ]
        },
        {
          "output_type": "stream",
          "name": "stdout",
          "text": [
            " OPEN P (382.67): SELL 381 @   0.52 -  BUY 379 @   0.22 - TOTAL:   0.30\n",
            "CLOSE P (383.39):  BUY 381 @   0.00 - SELL 379 @   0.00 - TOTAL:   0.00\n",
            "**************** Processed Date: 2022-12-29 - Result:   300.00 ****************\n",
            "**************** Processed Date: 2022-12-30 - Result: -- NA -- ****************\n",
            "**************** Processed Date: 2023-01-03 - Result: -- NA -- ****************\n",
            "**************** Processed Date: 2023-01-04 - Result: -- NA -- ****************\n"
          ]
        },
        {
          "output_type": "stream",
          "name": "stderr",
          "text": [
            " 71%|███████   | 261/370 [00:33<00:10, 10.72it/s]"
          ]
        },
        {
          "output_type": "stream",
          "name": "stdout",
          "text": [
            " OPEN C (380.17): SELL 381 @   0.88 -  BUY 383 @   0.31 - TOTAL:   0.57\n",
            "CLOSE C (379.40):  BUY 381 @   0.00 - SELL 383 @   0.00 - TOTAL:   0.00\n",
            "**************** Processed Date: 2023-01-05 - Result:   570.00 ****************\n",
            "**************** Processed Date: 2023-01-06 - Result: -- NA -- ****************\n",
            "**************** Processed Date: 2023-01-09 - Result: -- NA -- ****************\n",
            "**************** Processed Date: 2023-01-10 - Result: -- NA -- ****************\n"
          ]
        },
        {
          "output_type": "stream",
          "name": "stderr",
          "text": [
            " 71%|███████   | 263/370 [00:33<00:08, 12.16it/s]"
          ]
        },
        {
          "output_type": "stream",
          "name": "stdout",
          "text": [
            "**************** Processed Date: 2023-01-11 - Result: -- NA -- ****************\n",
            "**************** Processed Date: 2023-01-12 - Result: -- NA -- ****************\n"
          ]
        },
        {
          "output_type": "stream",
          "name": "stderr",
          "text": [
            " 72%|███████▏  | 267/370 [00:34<00:08, 11.51it/s]"
          ]
        },
        {
          "output_type": "stream",
          "name": "stdout",
          "text": [
            " OPEN P (396.58): SELL 395 @   0.56 -  BUY 393 @   0.20 - TOTAL:   0.36\n",
            "CLOSE P (398.47):  BUY 395 @   0.00 - SELL 393 @   0.00 - TOTAL:   0.00\n",
            "**************** Processed Date: 2023-01-13 - Result:   360.00 ****************\n",
            "**************** Processed Date: 2023-01-17 - Result: -- NA -- ****************\n",
            "**************** Processed Date: 2023-01-18 - Result: -- NA -- ****************\n",
            "**************** Processed Date: 2023-01-19 - Result: -- NA -- ****************\n"
          ]
        },
        {
          "output_type": "stream",
          "name": "stderr",
          "text": [
            " 72%|███████▏  | 267/370 [00:34<00:08, 11.51it/s]"
          ]
        },
        {
          "output_type": "stream",
          "name": "stdout",
          "text": [
            "**************** Processed Date: 2023-01-20 - Result: -- NA -- ****************\n"
          ]
        },
        {
          "output_type": "stream",
          "name": "stderr",
          "text": [
            " 73%|███████▎  | 271/370 [00:34<00:08, 11.52it/s]"
          ]
        },
        {
          "output_type": "stream",
          "name": "stdout",
          "text": [
            " OPEN P (399.46): SELL 398 @   0.56 -  BUY 396 @   0.21 - TOTAL:   0.35\n",
            "CLOSE P (400.59):  BUY 398 @   0.00 - SELL 396 @   0.00 - TOTAL:   0.00\n",
            "**************** Processed Date: 2023-01-23 - Result:   350.00 ****************\n",
            "**************** Processed Date: 2023-01-24 - Result: -- NA -- ****************\n",
            "**************** Processed Date: 2023-01-25 - Result: -- NA -- ****************\n",
            "**************** Processed Date: 2023-01-26 - Result: -- NA -- ****************\n"
          ]
        },
        {
          "output_type": "stream",
          "name": "stderr",
          "text": [
            " 75%|███████▍  | 276/370 [00:34<00:07, 12.27it/s]"
          ]
        },
        {
          "output_type": "stream",
          "name": "stdout",
          "text": [
            " OPEN P (405.77): SELL 404 @   0.52 -  BUY 402 @   0.18 - TOTAL:   0.34\n",
            "CLOSE P (405.68):  BUY 404 @   0.00 - SELL 402 @   0.00 - TOTAL:   0.00\n",
            "**************** Processed Date: 2023-01-27 - Result:   340.00 ****************\n",
            "**************** Processed Date: 2023-01-30 - Result: -- NA -- ****************\n",
            "**************** Processed Date: 2023-01-31 - Result: -- NA -- ****************\n",
            "**************** Processed Date: 2023-02-01 - Result: -- NA -- ****************\n"
          ]
        },
        {
          "output_type": "stream",
          "name": "stderr",
          "text": [
            " 75%|███████▍  | 276/370 [00:34<00:07, 12.27it/s]"
          ]
        },
        {
          "output_type": "stream",
          "name": "stdout",
          "text": [
            "**************** Processed Date: 2023-02-02 - Result: -- NA -- ****************\n"
          ]
        },
        {
          "output_type": "stream",
          "name": "stderr",
          "text": [
            " 75%|███████▌  | 278/370 [00:35<00:08, 10.28it/s]"
          ]
        },
        {
          "output_type": "stream",
          "name": "stdout",
          "text": [
            " OPEN P (415.06): SELL 414 @   0.99 -  BUY 412 @   0.43 - TOTAL:   0.56\n",
            "CLOSE P (412.36):  BUY 414 @   1.64 - SELL 412 @   0.00 - TOTAL:  -1.64\n",
            "**************** Processed Date: 2023-02-03 - Result: -1080.00 ****************\n"
          ]
        },
        {
          "output_type": "stream",
          "name": "stderr",
          "text": [
            " 76%|███████▌  | 280/370 [00:35<00:09,  9.03it/s]"
          ]
        },
        {
          "output_type": "stream",
          "name": "stdout",
          "text": [
            " OPEN C (408.68): SELL 409 @   1.08 -  BUY 411 @   0.40 - TOTAL:   0.68\n",
            "CLOSE C (409.90):  BUY 409 @   0.90 - SELL 411 @   0.00 - TOTAL:  -0.90\n",
            "**************** Processed Date: 2023-02-06 - Result:  -220.00 ****************\n",
            "**************** Processed Date: 2023-02-07 - Result: -- NA -- ****************\n",
            "**************** Processed Date: 2023-02-08 - Result: -- NA -- ****************\n"
          ]
        },
        {
          "output_type": "stream",
          "name": "stderr",
          "text": [
            " 76%|███████▌  | 282/370 [00:35<00:10,  8.52it/s]"
          ]
        },
        {
          "output_type": "stream",
          "name": "stdout",
          "text": [
            " OPEN C (412.41): SELL 413 @   1.00 -  BUY 415 @   0.38 - TOTAL:   0.62\n",
            "CLOSE C (407.13):  BUY 413 @   0.00 - SELL 415 @   0.00 - TOTAL:   0.00\n",
            "**************** Processed Date: 2023-02-09 - Result:   620.00 ****************\n",
            "**************** Processed Date: 2023-02-10 - Result: -- NA -- ****************\n"
          ]
        },
        {
          "output_type": "stream",
          "name": "stderr",
          "text": [
            " 77%|███████▋  | 284/370 [00:35<00:10,  8.11it/s]"
          ]
        },
        {
          "output_type": "stream",
          "name": "stdout",
          "text": [
            " OPEN P (410.87): SELL 409 @   0.47 -  BUY 407 @   0.18 - TOTAL:   0.29\n",
            "CLOSE P (412.82):  BUY 409 @   0.00 - SELL 407 @   0.00 - TOTAL:   0.00\n",
            "**************** Processed Date: 2023-02-13 - Result:   290.00 ****************\n"
          ]
        },
        {
          "output_type": "stream",
          "name": "stderr",
          "text": [
            " 78%|███████▊  | 287/370 [00:36<00:09,  8.45it/s]"
          ]
        },
        {
          "output_type": "stream",
          "name": "stdout",
          "text": [
            " OPEN P (413.40): SELL 412 @   0.84 -  BUY 410 @   0.40 - TOTAL:   0.44\n",
            "CLOSE P (412.67):  BUY 412 @   0.00 - SELL 410 @   0.00 - TOTAL:   0.00\n",
            "**************** Processed Date: 2023-02-14 - Result:   440.00 ****************\n",
            "**************** Processed Date: 2023-02-15 - Result: -- NA -- ****************\n",
            "**************** Processed Date: 2023-02-16 - Result: -- NA -- ****************\n",
            "**************** Processed Date: 2023-02-17 - Result: -- NA -- ****************\n"
          ]
        },
        {
          "output_type": "stream",
          "name": "stderr",
          "text": [
            " 79%|███████▊  | 291/370 [00:36<00:07,  9.92it/s]"
          ]
        },
        {
          "output_type": "stream",
          "name": "stdout",
          "text": [
            " OPEN C (401.73): SELL 402 @   1.17 -  BUY 404 @   0.49 - TOTAL:   0.68\n",
            "CLOSE C (399.13):  BUY 402 @   0.00 - SELL 404 @   0.00 - TOTAL:   0.00\n",
            "**************** Processed Date: 2023-02-21 - Result:   680.00 ****************\n",
            "**************** Processed Date: 2023-02-22 - Result: -- NA -- ****************\n",
            "**************** Processed Date: 2023-02-23 - Result: -- NA -- ****************\n",
            "**************** Processed Date: 2023-02-24 - Result: -- NA -- ****************\n"
          ]
        },
        {
          "output_type": "stream",
          "name": "stderr",
          "text": [
            " 79%|███████▉  | 294/370 [00:36<00:06, 12.27it/s]"
          ]
        },
        {
          "output_type": "stream",
          "name": "stdout",
          "text": [
            "**************** Processed Date: 2023-02-27 - Result: -- NA -- ****************\n",
            "**************** Processed Date: 2023-02-28 - Result: -- NA -- ****************\n",
            "**************** Processed Date: 2023-03-01 - Result: -- NA -- ****************\n",
            "**************** Processed Date: 2023-03-02 - Result: -- NA -- ****************\n"
          ]
        },
        {
          "output_type": "stream",
          "name": "stderr",
          "text": [
            " 80%|████████  | 297/370 [00:37<00:06, 10.93it/s]"
          ]
        },
        {
          "output_type": "stream",
          "name": "stdout",
          "text": [
            " OPEN P (401.19): SELL 400 @   0.64 -  BUY 398 @   0.23 - TOTAL:   0.41\n",
            "CLOSE P (404.14):  BUY 400 @   0.00 - SELL 398 @   0.00 - TOTAL:   0.00\n",
            "**************** Processed Date: 2023-03-03 - Result:   410.00 ****************\n"
          ]
        },
        {
          "output_type": "stream",
          "name": "stderr",
          "text": [
            " 80%|████████  | 297/370 [00:37<00:06, 10.93it/s]"
          ]
        },
        {
          "output_type": "stream",
          "name": "stdout",
          "text": [
            " OPEN P (406.75): SELL 405 @   0.42 -  BUY 403 @   0.14 - TOTAL:   0.28\n",
            "CLOSE P (404.46):  BUY 405 @   0.54 - SELL 403 @   0.00 - TOTAL:  -0.54\n",
            "**************** Processed Date: 2023-03-06 - Result:  -260.00 ****************\n"
          ]
        },
        {
          "output_type": "stream",
          "name": "stderr",
          "text": [
            " 81%|████████▏ | 301/370 [00:37<00:07,  9.16it/s]"
          ]
        },
        {
          "output_type": "stream",
          "name": "stdout",
          "text": [
            " OPEN C (401.82): SELL 402 @   1.39 -  BUY 404 @   0.64 - TOTAL:   0.75\n",
            "CLOSE C (398.26):  BUY 402 @   0.00 - SELL 404 @   0.00 - TOTAL:   0.00\n",
            "**************** Processed Date: 2023-03-07 - Result:   750.00 ****************\n",
            "**************** Processed Date: 2023-03-08 - Result: -- NA -- ****************\n",
            "**************** Processed Date: 2023-03-09 - Result: -- NA -- ****************\n"
          ]
        },
        {
          "output_type": "stream",
          "name": "stderr",
          "text": [
            " 81%|████████▏ | 301/370 [00:38<00:07,  9.16it/s]"
          ]
        },
        {
          "output_type": "stream",
          "name": "stdout",
          "text": [
            " OPEN C (388.91): SELL 389 @   1.77 -  BUY 391 @   0.96 - TOTAL:   0.81\n",
            "CLOSE C (385.92):  BUY 389 @   0.00 - SELL 391 @   0.00 - TOTAL:   0.00\n",
            "**************** Processed Date: 2023-03-10 - Result:   810.00 ****************\n"
          ]
        },
        {
          "output_type": "stream",
          "name": "stderr",
          "text": [
            " 82%|████████▏ | 303/370 [00:38<00:09,  6.73it/s]"
          ]
        },
        {
          "output_type": "stream",
          "name": "stdout",
          "text": [
            " OPEN P (384.57): SELL 383 @   1.76 -  BUY 381 @   1.12 - TOTAL:   0.64\n",
            "CLOSE P (385.29):  BUY 383 @   0.00 - SELL 381 @   0.00 - TOTAL:   0.00\n",
            "**************** Processed Date: 2023-03-13 - Result:   640.00 ****************\n"
          ]
        },
        {
          "output_type": "stream",
          "name": "stderr",
          "text": [
            " 82%|████████▏ | 305/370 [00:38<00:09,  6.74it/s]"
          ]
        },
        {
          "output_type": "stream",
          "name": "stdout",
          "text": [
            " OPEN P (392.26): SELL 391 @   1.03 -  BUY 389 @   0.55 - TOTAL:   0.48\n",
            "CLOSE P (391.69):  BUY 391 @   0.00 - SELL 389 @   0.00 - TOTAL:   0.00\n",
            "**************** Processed Date: 2023-03-14 - Result:   480.00 ****************\n",
            "**************** Processed Date: 2023-03-15 - Result: -- NA -- ****************\n",
            "**************** Processed Date: 2023-03-16 - Result: -- NA -- ****************\n"
          ]
        },
        {
          "output_type": "stream",
          "name": "stderr",
          "text": [
            " 84%|████████▍ | 310/370 [00:39<00:06,  9.23it/s]"
          ]
        },
        {
          "output_type": "stream",
          "name": "stdout",
          "text": [
            " OPEN C (391.15): SELL 392 @   1.19 -  BUY 394 @   0.56 - TOTAL:   0.63\n",
            "CLOSE C (390.11):  BUY 392 @   0.00 - SELL 394 @   0.00 - TOTAL:   0.00\n",
            "**************** Processed Date: 2023-03-17 - Result:   630.00 ****************\n",
            "**************** Processed Date: 2023-03-20 - Result: -- NA -- ****************\n",
            "**************** Processed Date: 2023-03-21 - Result: -- NA -- ****************\n",
            "**************** Processed Date: 2023-03-22 - Result: -- NA -- ****************\n"
          ]
        },
        {
          "output_type": "stream",
          "name": "stderr",
          "text": [
            " 85%|████████▍ | 314/370 [00:39<00:04, 11.51it/s]"
          ]
        },
        {
          "output_type": "stream",
          "name": "stdout",
          "text": [
            "**************** Processed Date: 2023-03-23 - Result: -- NA -- ****************\n",
            "**************** Processed Date: 2023-03-24 - Result: -- NA -- ****************\n",
            "**************** Processed Date: 2023-03-27 - Result: -- NA -- ****************\n",
            "**************** Processed Date: 2023-03-28 - Result: -- NA -- ****************\n"
          ]
        },
        {
          "output_type": "stream",
          "name": "stderr",
          "text": [
            " 85%|████████▌ | 316/370 [00:39<00:04, 11.84it/s]"
          ]
        },
        {
          "output_type": "stream",
          "name": "stdout",
          "text": [
            "**************** Processed Date: 2023-03-29 - Result: -- NA -- ****************\n",
            "**************** Processed Date: 2023-03-30 - Result: -- NA -- ****************\n",
            "**************** Processed Date: 2023-03-31 - Result: -- NA -- ****************\n"
          ]
        },
        {
          "output_type": "stream",
          "name": "stderr",
          "text": [
            " 86%|████████▋ | 320/370 [00:39<00:05,  9.43it/s]"
          ]
        },
        {
          "output_type": "stream",
          "name": "stdout",
          "text": [
            " OPEN P (411.04): SELL 410 @   0.61 -  BUY 408 @   0.22 - TOTAL:   0.39\n",
            "CLOSE P (410.93):  BUY 410 @   0.00 - SELL 408 @   0.00 - TOTAL:   0.00\n",
            "**************** Processed Date: 2023-04-03 - Result:   390.00 ****************\n",
            "**************** Processed Date: 2023-04-04 - Result: -- NA -- ****************\n",
            "**************** Processed Date: 2023-04-05 - Result: -- NA -- ****************\n"
          ]
        },
        {
          "output_type": "stream",
          "name": "stderr",
          "text": [
            " 87%|████████▋ | 322/370 [00:40<00:04, 10.58it/s]"
          ]
        },
        {
          "output_type": "stream",
          "name": "stdout",
          "text": [
            "**************** Processed Date: 2023-04-06 - Result: -- NA -- ****************\n",
            "**************** Processed Date: 2023-04-10 - Result: -- NA -- ****************\n",
            "**************** Processed Date: 2023-04-11 - Result: -- NA -- ****************\n"
          ]
        },
        {
          "output_type": "stream",
          "name": "stderr",
          "text": [
            " 88%|████████▊ | 324/370 [00:40<00:04, 11.39it/s]"
          ]
        },
        {
          "output_type": "stream",
          "name": "stdout",
          "text": [
            "**************** Processed Date: 2023-04-12 - Result: -- NA -- ****************\n"
          ]
        },
        {
          "output_type": "stream",
          "name": "stderr",
          "text": [
            " 88%|████████▊ | 326/370 [00:40<00:05,  7.52it/s]"
          ]
        },
        {
          "output_type": "stream",
          "name": "stdout",
          "text": [
            " OPEN P (410.72): SELL 409 @   0.40 -  BUY 407 @   0.13 - TOTAL:   0.27\n",
            "CLOSE P (413.44):  BUY 409 @   0.00 - SELL 407 @   0.00 - TOTAL:   0.00\n",
            "**************** Processed Date: 2023-04-13 - Result:   270.00 ****************\n",
            "**************** Processed Date: 2023-04-14 - Result: -- NA -- ****************\n",
            "**************** Processed Date: 2023-04-17 - Result: -- NA -- ****************\n"
          ]
        },
        {
          "output_type": "stream",
          "name": "stderr",
          "text": [
            " 89%|████████▉ | 330/370 [00:41<00:05,  7.42it/s]"
          ]
        },
        {
          "output_type": "stream",
          "name": "stdout",
          "text": [
            " OPEN C (413.06): SELL 414 @   0.56 -  BUY 416 @   0.12 - TOTAL:   0.44\n",
            "CLOSE C (414.22):  BUY 414 @   0.22 - SELL 416 @   0.00 - TOTAL:  -0.22\n",
            "**************** Processed Date: 2023-04-18 - Result:   220.00 ****************\n",
            "**************** Processed Date: 2023-04-19 - Result: -- NA -- ****************\n",
            "**************** Processed Date: 2023-04-20 - Result: -- NA -- ****************\n"
          ]
        },
        {
          "output_type": "stream",
          "name": "stderr",
          "text": [
            " 90%|████████▉ | 332/370 [00:41<00:04,  8.49it/s]"
          ]
        },
        {
          "output_type": "stream",
          "name": "stdout",
          "text": [
            "**************** Processed Date: 2023-04-21 - Result: -- NA -- ****************\n",
            "**************** Processed Date: 2023-04-24 - Result: -- NA -- ****************\n",
            "**************** Processed Date: 2023-04-25 - Result: -- NA -- ****************\n"
          ]
        },
        {
          "output_type": "stream",
          "name": "stderr",
          "text": [
            " 90%|█████████ | 334/370 [00:42<00:05,  6.40it/s]"
          ]
        },
        {
          "output_type": "stream",
          "name": "stdout",
          "text": [
            " OPEN C (405.57): SELL 406 @   0.81 -  BUY 408 @   0.21 - TOTAL:   0.60\n",
            "CLOSE C (404.37):  BUY 406 @   0.00 - SELL 408 @   0.00 - TOTAL:   0.00\n",
            "**************** Processed Date: 2023-04-26 - Result:   600.00 ****************\n",
            "**************** Processed Date: 2023-04-27 - Result: -- NA -- ****************\n"
          ]
        },
        {
          "output_type": "stream",
          "name": "stderr",
          "text": [
            " 91%|█████████ | 336/370 [00:42<00:06,  5.53it/s]"
          ]
        },
        {
          "output_type": "stream",
          "name": "stdout",
          "text": [
            " OPEN P (414.76): SELL 413 @   0.47 -  BUY 411 @   0.19 - TOTAL:   0.28\n",
            "CLOSE P (415.93):  BUY 413 @   0.00 - SELL 411 @   0.00 - TOTAL:   0.00\n",
            "**************** Processed Date: 2023-04-28 - Result:   280.00 ****************\n",
            "**************** Processed Date: 2023-05-01 - Result: -- NA -- ****************\n"
          ]
        },
        {
          "output_type": "stream",
          "name": "stderr",
          "text": [
            " 91%|█████████▏| 338/370 [00:42<00:06,  5.32it/s]"
          ]
        },
        {
          "output_type": "stream",
          "name": "stdout",
          "text": [
            " OPEN C (410.65): SELL 411 @   0.92 -  BUY 413 @   0.28 - TOTAL:   0.64\n",
            "CLOSE C (410.87):  BUY 411 @   0.00 - SELL 413 @   0.00 - TOTAL:   0.00\n",
            "**************** Processed Date: 2023-05-02 - Result:   640.00 ****************\n",
            "**************** Processed Date: 2023-05-03 - Result: -- NA -- ****************\n"
          ]
        },
        {
          "output_type": "stream",
          "name": "stderr",
          "text": [
            " 92%|█████████▏| 340/370 [00:43<00:05,  5.75it/s]"
          ]
        },
        {
          "output_type": "stream",
          "name": "stdout",
          "text": [
            " OPEN C (404.07): SELL 405 @   1.04 -  BUY 407 @   0.42 - TOTAL:   0.62\n",
            "CLOSE C (405.17):  BUY 405 @   0.17 - SELL 407 @   0.00 - TOTAL:  -0.17\n",
            "**************** Processed Date: 2023-05-04 - Result:   450.00 ****************\n"
          ]
        },
        {
          "output_type": "stream",
          "name": "stderr",
          "text": [
            " 93%|█████████▎| 343/370 [00:43<00:03,  7.01it/s]"
          ]
        },
        {
          "output_type": "stream",
          "name": "stdout",
          "text": [
            " OPEN P (410.95): SELL 409 @   0.39 -  BUY 407 @   0.17 - TOTAL:   0.22\n",
            "CLOSE P (412.61):  BUY 409 @   0.00 - SELL 407 @   0.00 - TOTAL:   0.00\n",
            "**************** Processed Date: 2023-05-05 - Result:   220.00 ****************\n",
            "**************** Processed Date: 2023-05-08 - Result: -- NA -- ****************\n",
            "**************** Processed Date: 2023-05-09 - Result: -- NA -- ****************\n"
          ]
        },
        {
          "output_type": "stream",
          "name": "stderr",
          "text": [
            " 94%|█████████▎| 346/370 [00:43<00:02,  8.22it/s]"
          ]
        },
        {
          "output_type": "stream",
          "name": "stdout",
          "text": [
            " OPEN C (412.32): SELL 413 @   0.68 -  BUY 415 @   0.18 - TOTAL:   0.50\n",
            "CLOSE C (412.80):  BUY 413 @   0.00 - SELL 415 @   0.00 - TOTAL:   0.00\n",
            "**************** Processed Date: 2023-05-10 - Result:   500.00 ****************\n",
            "**************** Processed Date: 2023-05-11 - Result: -- NA -- ****************\n",
            "**************** Processed Date: 2023-05-12 - Result: -- NA -- ****************\n",
            "**************** Processed Date: 2023-05-15 - Result: -- NA -- ****************\n"
          ]
        },
        {
          "output_type": "stream",
          "name": "stderr",
          "text": [
            " 94%|█████████▍| 349/370 [00:43<00:01, 11.24it/s]"
          ]
        },
        {
          "output_type": "stream",
          "name": "stdout",
          "text": [
            "**************** Processed Date: 2023-05-16 - Result: -- NA -- ****************\n",
            "**************** Processed Date: 2023-05-17 - Result: -- NA -- ****************\n"
          ]
        },
        {
          "output_type": "stream",
          "name": "stderr",
          "text": [
            " 95%|█████████▍| 351/370 [00:44<00:01,  9.54it/s]"
          ]
        },
        {
          "output_type": "stream",
          "name": "stdout",
          "text": [
            " OPEN P (417.08): SELL 416 @   0.48 -  BUY 414 @   0.14 - TOTAL:   0.34\n",
            "CLOSE P (419.23):  BUY 416 @   0.00 - SELL 414 @   0.00 - TOTAL:   0.00\n",
            "**************** Processed Date: 2023-05-18 - Result:   340.00 ****************\n",
            "**************** Processed Date: 2023-05-19 - Result: -- NA -- ****************\n",
            "**************** Processed Date: 2023-05-22 - Result: -- NA -- ****************\n",
            "**************** Processed Date: 2023-05-23 - Result: -- NA -- ****************\n"
          ]
        },
        {
          "output_type": "stream",
          "name": "stderr",
          "text": [
            " 96%|█████████▌| 354/370 [00:44<00:01,  9.35it/s]"
          ]
        },
        {
          "output_type": "stream",
          "name": "stdout",
          "text": [
            " OPEN C (410.96): SELL 411 @   1.16 -  BUY 413 @   0.42 - TOTAL:   0.74\n",
            "CLOSE C (411.09):  BUY 411 @   0.09 - SELL 413 @   0.00 - TOTAL:  -0.09\n",
            "**************** Processed Date: 2023-05-24 - Result:   650.00 ****************\n",
            "**************** Processed Date: 2023-05-25 - Result: -- NA -- ****************\n"
          ]
        },
        {
          "output_type": "stream",
          "name": "stderr",
          "text": [
            " 96%|█████████▌| 356/370 [00:44<00:01,  8.71it/s]"
          ]
        },
        {
          "output_type": "stream",
          "name": "stdout",
          "text": [
            " OPEN P (419.25): SELL 418 @   0.63 -  BUY 416 @   0.26 - TOTAL:   0.37\n",
            "CLOSE P (419.98):  BUY 418 @   0.00 - SELL 416 @   0.00 - TOTAL:   0.00\n",
            "**************** Processed Date: 2023-05-26 - Result:   370.00 ****************\n"
          ]
        },
        {
          "output_type": "stream",
          "name": "stderr",
          "text": [
            " 96%|█████████▌| 356/370 [00:45<00:01,  8.71it/s]"
          ]
        },
        {
          "output_type": "stream",
          "name": "stdout",
          "text": [
            " OPEN C (420.71): SELL 421 @   0.76 -  BUY 423 @   0.20 - TOTAL:   0.56\n",
            "CLOSE C (420.17):  BUY 421 @   0.00 - SELL 423 @   0.00 - TOTAL:   0.00\n",
            "**************** Processed Date: 2023-05-30 - Result:   560.00 ****************\n"
          ]
        },
        {
          "output_type": "stream",
          "name": "stderr",
          "text": [
            " 97%|█████████▋| 360/370 [00:45<00:01,  8.26it/s]"
          ]
        },
        {
          "output_type": "stream",
          "name": "stdout",
          "text": [
            " OPEN C (416.75): SELL 417 @   0.88 -  BUY 419 @   0.25 - TOTAL:   0.63\n",
            "CLOSE C (417.83):  BUY 417 @   0.83 - SELL 419 @   0.00 - TOTAL:  -0.83\n",
            "**************** Processed Date: 2023-05-31 - Result:  -200.00 ****************\n",
            "**************** Processed Date: 2023-06-01 - Result: -- NA -- ****************\n",
            "**************** Processed Date: 2023-06-02 - Result: -- NA -- ****************\n",
            "**************** Processed Date: 2023-06-05 - Result: -- NA -- ****************\n"
          ]
        },
        {
          "output_type": "stream",
          "name": "stderr",
          "text": [
            " 98%|█████████▊| 364/370 [00:45<00:00, 11.46it/s]"
          ]
        },
        {
          "output_type": "stream",
          "name": "stdout",
          "text": [
            "**************** Processed Date: 2023-06-06 - Result: -- NA -- ****************\n",
            "**************** Processed Date: 2023-06-07 - Result: -- NA -- ****************\n",
            "**************** Processed Date: 2023-06-08 - Result: -- NA -- ****************\n"
          ]
        },
        {
          "output_type": "stream",
          "name": "stderr",
          "text": [
            " 99%|█████████▉| 366/370 [00:46<00:00,  9.66it/s]"
          ]
        },
        {
          "output_type": "stream",
          "name": "stdout",
          "text": [
            " OPEN P (431.90): SELL 430 @   0.22 -  BUY 428 @   0.07 - TOTAL:   0.15\n",
            "CLOSE P (429.89):  BUY 430 @   0.11 - SELL 428 @   0.00 - TOTAL:  -0.11\n",
            "**************** Processed Date: 2023-06-09 - Result:    40.00 ****************\n",
            "**************** Processed Date: 2023-06-12 - Result: -- NA -- ****************\n",
            "**************** Processed Date: 2023-06-13 - Result: -- NA -- ****************\n",
            "**************** Processed Date: 2023-06-14 - Result: -- NA -- ****************\n"
          ]
        },
        {
          "output_type": "stream",
          "name": "stderr",
          "text": [
            "100%|██████████| 370/370 [00:46<00:00,  7.99it/s]"
          ]
        },
        {
          "output_type": "stream",
          "name": "stdout",
          "text": [
            " OPEN P (439.30): SELL 438 @   0.52 -  BUY 436 @   0.17 - TOTAL:   0.35\n",
            "CLOSE P (442.60):  BUY 438 @   0.00 - SELL 436 @   0.00 - TOTAL:   0.00\n",
            "**************** Processed Date: 2023-06-15 - Result:   350.00 ****************\n",
            "**************** Processed Date: 2023-06-16 - Result: -- NA -- ****************\n"
          ]
        },
        {
          "output_type": "stream",
          "name": "stderr",
          "text": [
            "\n"
          ]
        }
      ]
    },
    {
      "cell_type": "code",
      "source": [
        "### Generate result ###\n",
        "\n",
        "# Calculate Net Result\n",
        "df_result = pd.DataFrame(pnl, columns=['expire_date','gross_result'])\n",
        "df_result['net_result'] = df_result['gross_result'] - CONTRACTS * FEES_PER_CONTRACT * 2 # Let them expire\n",
        "df_result['wins'] = np.where(df_result['net_result'] > 0, 1, 0)\n",
        "df_result['losses'] = np.where(df_result['net_result'] < 0, 1, 0)"
      ],
      "metadata": {
        "id": "NpX4bi5qnTM4"
      },
      "execution_count": 8,
      "outputs": []
    },
    {
      "cell_type": "code",
      "source": [
        "# Show the parameters\n",
        "print(f' PARAMETERS '.center(70, '*'))\n",
        "print(f'* Hour Open: {HOUR_OPEN}')\n",
        "print(f'* Minute Open: {MINUTE_OPEN}')\n",
        "print(f'* Strikes From Price: {STRIKES}')\n",
        "print(f'* Distance Between Strikes: {DIST_BETWEEN_STRIKES}')\n",
        "print(f'* Max % Change To Open A Bearish Trade: {MAX_CHANGE_BEARISH}')\n",
        "print(f'* Min % Change To Open A Bullish Trade: {MIN_CHANGE_BULLISH}')\n",
        "\n",
        "# Show the Total Result\n",
        "print(f' SUMMARIZED RESULT '.center(70, '*'))\n",
        "print(f'* Trading Days: {len(df_result)}')\n",
        "print(f'* Gross PnL: $ {df_result[\"gross_result\"].sum():.2f}')\n",
        "print(f'* Net PnL: $ {df_result[\"net_result\"].sum():.2f}')\n",
        "print(f'* Win Rate: {100 * (df_result[\"wins\"].sum() / (df_result[\"wins\"].sum() + df_result[\"losses\"].sum())):.2f} %')\n",
        "\n",
        "# Show The Monthly Result\n",
        "print(f' MONTHLY DETAIL RESULT '.center(70, '*'))\n",
        "df_monthly = df_result[['expire_date','gross_result','net_result','wins','losses']]\n",
        "df_monthly['year_month'] = df_monthly['expire_date'].str[0:7]\n",
        "df_monthly = df_monthly.drop('expire_date', axis=1)\n",
        "df_monthly = df_monthly.groupby(['year_month']).sum()\n",
        "\n",
        "print(df_monthly)\n"
      ],
      "metadata": {
        "id": "vzPXDAynnTKZ",
        "colab": {
          "base_uri": "https://localhost:8080/"
        },
        "outputId": "51749758-9eca-486e-d2a4-0b3d1b43dbdb"
      },
      "execution_count": 9,
      "outputs": [
        {
          "output_type": "stream",
          "name": "stdout",
          "text": [
            "***************************** PARAMETERS *****************************\n",
            "* Hour Open: 10\n",
            "* Minute Open: 30\n",
            "* Strikes From Price: 1\n",
            "* Distance Between Strikes: 2\n",
            "* Max % Change To Open A Bearish Trade: -0.35\n",
            "* Min % Change To Open A Bullish Trade: 0.35\n",
            "************************* SUMMARIZED RESULT **************************\n",
            "* Trading Days: 130\n",
            "* Gross PnL: $ 32510.10\n",
            "* Net PnL: $ 30950.10\n",
            "* Win Rate: 80.77 %\n",
            "*********************** MONTHLY DETAIL RESULT ************************\n",
            "            gross_result  net_result  wins  losses\n",
            "year_month                                        \n",
            "2021-06            260.0       248.0     1       0\n",
            "2021-07            780.0       732.0     3       1\n",
            "2021-08            440.0       416.0     2       0\n",
            "2021-09           2230.1      2170.1     5       0\n",
            "2021-10          -3480.0     -3540.0     2       3\n",
            "2021-11          -2710.0     -2734.0     0       2\n",
            "2021-12           1980.0      1920.0     4       1\n",
            "2022-01            180.0       144.0     2       1\n",
            "2022-02           2350.0      2314.0     3       0\n",
            "2022-03           1990.0      1918.0     5       1\n",
            "2022-04           2250.0      2178.0     5       1\n",
            "2022-05           3390.0      3294.0     7       1\n",
            "2022-06           3390.0      3282.0     7       2\n",
            "2022-07           1500.0      1464.0     3       0\n",
            "2022-08           2250.0      2202.0     4       0\n",
            "2022-09            870.0       774.0     6       2\n",
            "2022-10           1090.0      1006.0     5       2\n",
            "2022-11            520.0       472.0     3       1\n",
            "2022-12           1740.0      1596.0     9       3\n",
            "2023-01           1620.0      1572.0     4       0\n",
            "2023-02            730.0       658.0     4       2\n",
            "2023-03           3460.0      3376.0     6       1\n",
            "2023-04           1760.0      1700.0     5       0\n",
            "2023-05           3530.0      3422.0     8       1\n",
            "2023-06            390.0       366.0     2       0\n"
          ]
        }
      ]
    },
    {
      "cell_type": "code",
      "source": [],
      "metadata": {
        "id": "lRDNtP4VmZfI"
      },
      "execution_count": null,
      "outputs": []
    }
  ]
}