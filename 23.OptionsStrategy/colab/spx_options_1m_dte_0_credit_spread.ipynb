{
  "nbformat": 4,
  "nbformat_minor": 0,
  "metadata": {
    "colab": {
      "provenance": []
    },
    "kernelspec": {
      "name": "python3",
      "display_name": "Python 3"
    },
    "language_info": {
      "name": "python"
    }
  },
  "cells": [
    {
      "cell_type": "markdown",
      "source": [
        "Copy the file **spx_dte_0.csv.gz** located in https://github.com/crapher/medium/tree/main/23.OptionsStrategy/data to your colab folder"
      ],
      "metadata": {
        "id": "_XQkxgIHPS8z"
      }
    },
    {
      "cell_type": "code",
      "execution_count": 1,
      "metadata": {
        "id": "-LjpN-v8Btt7"
      },
      "outputs": [],
      "source": [
        "import warnings\n",
        "import numpy as np\n",
        "import pandas as pd\n",
        "\n",
        "from tqdm import tqdm"
      ]
    },
    {
      "cell_type": "code",
      "source": [
        "# Constants\n",
        "DEBUG = 1\n",
        "OPTIONS_FILE='./spx_dte_0.csv.gz'\n",
        "\n",
        "# TastyTrade\n",
        "OPEN_FEES_PER_CONTRACT = 1.00\n",
        "\n",
        "# Schwab\n",
        "#OPEN_FEES_PER_CONTRACT = 0.65\n",
        "\n",
        "CONTRACTS = 10\n",
        "\n",
        "HOUR_OPEN = 10\n",
        "MINUTE_OPEN = 30\n",
        "STRIKES = 15\n",
        "DIST_BETWEEN_STRIKES = 5\n",
        "\n",
        "MAX_CHANGE_BEARISH = -0.10\n",
        "MIN_CHANGE_BULLISH = 0.10\n",
        "MIN_DAY_CHANGE_BULLISH = -0.15\n",
        "MAX_DAY_CHANGE_BEARISH = 0.15\n",
        "MIN_STRIKE_PERCENTAGE = 0.15"
      ],
      "metadata": {
        "id": "I1F7CD1kQPEx"
      },
      "execution_count": 2,
      "outputs": []
    },
    {
      "cell_type": "code",
      "source": [
        "### Configuration ###\n",
        "warnings.filterwarnings(\"ignore\")\n",
        "np.set_printoptions(suppress=True)\n",
        "pd.options.mode.chained_assignment = None"
      ],
      "metadata": {
        "id": "3fZAJpXWmGHy"
      },
      "execution_count": 3,
      "outputs": []
    },
    {
      "cell_type": "code",
      "source": [
        "### Helper functions ###\n",
        "def get_vertical_option_kind(df, max_change_bearish, min_change_bullish, max_day_change_bearish, min_day_change_bullish):\n",
        "\n",
        "    changes = 100 * (df['close_underlying'].values / df['close_underlying'].values[0] - 1)\n",
        "    change = changes[-1]\n",
        "\n",
        "    min_change = min(changes)\n",
        "    max_change = max(changes)\n",
        "\n",
        "    if change < max_change_bearish and max_change < max_day_change_bearish:\n",
        "        return 'C' # Sell Call Vertical\n",
        "    elif change > min_change_bullish and min_change > min_day_change_bullish:\n",
        "        return 'P' # Sell Put Vertical\n",
        "    else:\n",
        "        return ''\n",
        "\n",
        "def get_vertical_strikes(df, kind, strikes, dist_between_strikes):\n",
        "\n",
        "    strike_up = int(df['close_underlying'].values[0] + (dist_between_strikes - df['close_underlying'].values[0]) % dist_between_strikes)\n",
        "    strike_down = int(df['close_underlying'].values[0] - (df['close_underlying'].values[0] % dist_between_strikes))\n",
        "\n",
        "    if kind == 'P':\n",
        "        sell_strike = strike_down - strikes\n",
        "        buy_strike  = sell_strike - dist_between_strikes\n",
        "    else:\n",
        "        sell_strike = strike_up + strikes\n",
        "        buy_strike  = sell_strike + dist_between_strikes\n",
        "\n",
        "    return (buy_strike, sell_strike)\n",
        "\n",
        "def get_vertical_result(df, kind, buy_strike, sell_strike, min_strike_percentage):\n",
        "\n",
        "    # Filter strikes\n",
        "    df = df[(df['kind'] == kind) & ((df['strike'] == buy_strike) | (df['strike'] == sell_strike))]\n",
        "\n",
        "    # Open Vertical\n",
        "    df = df.sort_values('date', ascending=True)\n",
        "\n",
        "    stock_price = df['close_underlying'].values[0]\n",
        "    buy_price   = df[(df['strike'] == buy_strike)  & (df['kind'] == kind)]['close'].values[0]\n",
        "    sell_price  = df[(df['strike'] == sell_strike) & (df['kind'] == kind)]['close'].values[0]\n",
        "\n",
        "    if (-buy_price + sell_price) / abs(buy_strike - sell_strike) < min_strike_percentage:\n",
        "        return None\n",
        "\n",
        "    open_cost  = -100 * buy_price\n",
        "    open_cost +=  100 * sell_price\n",
        "    open_cost *= CONTRACTS\n",
        "\n",
        "    if DEBUG:\n",
        "        tqdm.write(f' OPEN {kind} ({stock_price:6.2f}): SELL {sell_strike} @ {sell_price:6.2f} -  BUY {buy_strike} @ {buy_price:6.2f} - TOTAL: {(-buy_price + sell_price):6.2f}')\n",
        "\n",
        "    # Close Vertical (Prices are 0 if they are OTM/ATM or the difference between the strike and the underlying's close price if they are ITM)\n",
        "    stock_price = df['close_underlying'].values[-1]\n",
        "    sell_price = 0 if (kind == 'P' and buy_strike <= stock_price) or (kind == 'C' and buy_strike >= stock_price) else abs(buy_strike - stock_price)\n",
        "    buy_price = 0 if (kind == 'P' and sell_strike <= stock_price) or (kind == 'C' and sell_strike >= stock_price) else abs(sell_strike - stock_price)\n",
        "\n",
        "    if DEBUG:\n",
        "        tqdm.write(f'CLOSE {kind} ({stock_price:6.2f}):  BUY {sell_strike} @ {buy_price:6.2f} - SELL {buy_strike} @ {sell_price:6.2f} - TOTAL: {(-buy_price + sell_price):6.2f}')\n",
        "\n",
        "    close_cost = -100 * buy_price\n",
        "    close_cost += 100 * sell_price\n",
        "    close_cost *= CONTRACTS\n",
        "\n",
        "    if DEBUG:\n",
        "        tqdm.write(f'**************** Processed Date: {df[\"date\"].dt.date.values[0]} - Result: {open_cost + close_cost:8.2f} ****************')\n",
        "\n",
        "    return open_cost + close_cost"
      ],
      "metadata": {
        "id": "kfv-C_mjxN2F"
      },
      "execution_count": 4,
      "outputs": []
    },
    {
      "cell_type": "code",
      "source": [
        "### Read File ###\n",
        "df = pd.read_csv(OPTIONS_FILE, header=0)\n",
        "df['date'] = pd.to_datetime(df['date'])"
      ],
      "metadata": {
        "id": "36mzjkH6B-7a"
      },
      "execution_count": 5,
      "outputs": []
    },
    {
      "cell_type": "code",
      "source": [
        "### Get all the expiration dates ###\n",
        "expirations = df['expire_date'].unique().tolist()"
      ],
      "metadata": {
        "id": "BGeOrtCZxSDj"
      },
      "execution_count": 6,
      "outputs": []
    },
    {
      "cell_type": "code",
      "source": [
        "### Get P&L by day ###\n",
        "pnl = []\n",
        "\n",
        "df_trend = df[(df.date.dt.hour < HOUR_OPEN) | ((df.date.dt.hour == HOUR_OPEN) & (df.date.dt.minute < MINUTE_OPEN))]\n",
        "max_date_trend = df_trend.date.max()\n",
        "df_open = df_trend[(df_trend.date.dt.hour == max_date_trend.hour) & (df_trend.date.dt.minute == max_date_trend.minute)]\n",
        "df_cost = df[(df.date.dt.hour > max_date_trend.hour) | ((df.date.dt.hour == max_date_trend.hour) & (df.date.dt.minute >= max_date_trend.minute))]\n",
        "\n",
        "df_trend = df_trend.groupby(by='expire_date')\n",
        "df_cost = df_cost.groupby(by='expire_date')\n",
        "df_open = df_open.groupby(by='expire_date')\n",
        "\n",
        "for expiration in tqdm(expirations):\n",
        "\n",
        "    try:\n",
        "        kind = get_vertical_option_kind(df_trend.get_group(expiration), MAX_CHANGE_BEARISH, MIN_CHANGE_BULLISH, MAX_DAY_CHANGE_BEARISH, MIN_DAY_CHANGE_BULLISH)\n",
        "\n",
        "        if kind == '':\n",
        "            if DEBUG:\n",
        "                tqdm.write(f' Processed Date: {expiration} - Result: -- NA -- '.center(84, '*'))\n",
        "\n",
        "            continue\n",
        "\n",
        "        (buy_strike, sell_strike) = get_vertical_strikes(df_open.get_group(expiration), kind, STRIKES, DIST_BETWEEN_STRIKES)\n",
        "        gross_pnl = get_vertical_result(df_cost.get_group(expiration), kind, buy_strike, sell_strike, MIN_STRIKE_PERCENTAGE)\n",
        "\n",
        "        if gross_pnl is None:\n",
        "\n",
        "            if DEBUG:\n",
        "                tqdm.write(f' Processed Date: {expiration} - Result: -- UV -- '.center(84, '*'))\n",
        "\n",
        "            continue\n",
        "\n",
        "        net_pnl = gross_pnl - CONTRACTS * OPEN_FEES_PER_CONTRACT * 2\n",
        "        pnl.append([expiration, gross_pnl, net_pnl])\n",
        "\n",
        "    except Exception as ex:\n",
        "        if DEBUG:\n",
        "            tqdm.write(f' Processed Date: {expiration} - Result: -- ER -- '.center(84, '*'))"
      ],
      "metadata": {
        "id": "Eck0aed5QLR4",
        "colab": {
          "base_uri": "https://localhost:8080/"
        },
        "outputId": "516c7e6a-b957-4b51-b81b-f874fed97641"
      },
      "execution_count": 7,
      "outputs": [
        {
          "output_type": "stream",
          "name": "stderr",
          "text": [
            "  2%|▏         | 6/309 [00:00<00:11, 27.24it/s]"
          ]
        },
        {
          "output_type": "stream",
          "name": "stdout",
          "text": [
            " OPEN C (4596.88): SELL 4615 @   7.60 -  BUY 4620 @   6.00 - TOTAL:   1.60\n",
            "CLOSE C (4669.02):  BUY 4615 @  54.02 - SELL 4620 @  49.02 - TOTAL:  -5.00\n",
            "**************** Processed Date: 2022-01-10 - Result: -3400.00 ****************\n",
            " OPEN P (4739.95): SELL 4720 @   4.90 -  BUY 4715 @   4.00 - TOTAL:   0.90\n",
            "CLOSE P (4726.55):  BUY 4720 @   0.00 - SELL 4715 @   0.00 - TOTAL:   0.00\n",
            "**************** Processed Date: 2022-01-12 - Result:   900.00 ****************\n",
            " OPEN P (4646.20): SELL 4630 @   9.40 -  BUY 4625 @   7.94 - TOTAL:   1.46\n",
            "CLOSE P (4664.09):  BUY 4630 @   0.00 - SELL 4625 @   0.00 - TOTAL:   0.00\n",
            "**************** Processed Date: 2022-01-14 - Result:  1460.00 ****************\n",
            " OPEN C (4319.28): SELL 4335 @  16.90 -  BUY 4340 @  14.92 - TOTAL:   1.98\n",
            "CLOSE C (4428.63):  BUY 4335 @  93.63 - SELL 4340 @  88.63 - TOTAL:  -5.00\n",
            "**************** Processed Date: 2022-01-28 - Result: -3020.00 ****************\n",
            " OPEN P (4571.47): SELL 4555 @   7.49 -  BUY 4550 @   5.90 - TOTAL:   1.59\n",
            "CLOSE P (4582.49):  BUY 4555 @   0.00 - SELL 4550 @   0.00 - TOTAL:   0.00\n",
            "**************** Processed Date: 2022-02-09 - Result:  1590.00 ****************\n",
            " OPEN C (4401.01): SELL 4420 @  13.00 -  BUY 4425 @  12.10 - TOTAL:   0.90\n",
            "CLOSE C (4401.10):  BUY 4420 @   0.00 - SELL 4425 @   0.00 - TOTAL:   0.00\n",
            "**************** Processed Date: 2022-02-14 - Result:   900.00 ****************\n",
            " OPEN C (4442.41): SELL 4460 @  10.00 -  BUY 4465 @   8.20 - TOTAL:   1.80\n",
            "CLOSE C (4475.28):  BUY 4460 @  15.28 - SELL 4465 @  10.28 - TOTAL:  -5.00\n"
          ]
        },
        {
          "output_type": "stream",
          "name": "stderr",
          "text": [
            "  3%|▎         | 9/309 [00:00<00:11, 26.26it/s]"
          ]
        },
        {
          "output_type": "stream",
          "name": "stdout",
          "text": [
            "**************** Processed Date: 2022-02-16 - Result: -3200.00 ****************\n",
            " OPEN C (4291.92): SELL 4310 @  12.35 -  BUY 4315 @  11.42 - TOTAL:   0.93\n",
            "CLOSE C (4227.96):  BUY 4310 @   0.00 - SELL 4315 @   0.00 - TOTAL:   0.00\n",
            "**************** Processed Date: 2022-02-23 - Result:   930.00 ****************\n",
            " OPEN C (4303.45): SELL 4320 @  14.40 -  BUY 4325 @  12.10 - TOTAL:   2.30\n",
            "CLOSE C (4329.36):  BUY 4320 @   9.36 - SELL 4325 @   4.36 - TOTAL:  -5.00\n",
            "**************** Processed Date: 2022-03-04 - Result: -2700.00 ****************\n",
            " OPEN C (4266.02): SELL 4285 @  14.00 -  BUY 4290 @  11.94 - TOTAL:   2.06\n",
            "CLOSE C (4208.31):  BUY 4285 @   0.00 - SELL 4290 @   0.00 - TOTAL:   0.00\n",
            "**************** Processed Date: 2022-03-07 - Result:  2060.00 ****************\n",
            " OPEN C (4262.05): SELL 4280 @   9.90 -  BUY 4285 @   8.57 - TOTAL:   1.33\n",
            "CLOSE C (4203.91):  BUY 4280 @   0.00 - SELL 4285 @   0.00 - TOTAL:   0.00\n",
            "**************** Processed Date: 2022-03-11 - Result:  1330.00 ****************\n",
            " OPEN P (4338.79): SELL 4320 @  15.50 -  BUY 4315 @  13.25 - TOTAL:   2.25\n",
            "CLOSE P (4358.36):  BUY 4320 @   0.00 - SELL 4315 @   0.00 - TOTAL:   0.00\n"
          ]
        },
        {
          "output_type": "stream",
          "name": "stderr",
          "text": [
            "  5%|▍         | 15/309 [00:00<00:11, 26.50it/s]"
          ]
        },
        {
          "output_type": "stream",
          "name": "stdout",
          "text": [
            "**************** Processed Date: 2022-03-16 - Result:  2250.00 ****************\n",
            " OPEN P (4414.63): SELL 4395 @   7.85 -  BUY 4390 @   6.70 - TOTAL:   1.15\n",
            "CLOSE P (4455.97):  BUY 4395 @   0.00 - SELL 4390 @   0.00 - TOTAL:   0.00\n",
            "**************** Processed Date: 2022-03-18 - Result:  1150.00 ****************\n",
            " OPEN P (4544.31): SELL 4525 @   4.00 -  BUY 4520 @   3.20 - TOTAL:   0.80\n",
            "CLOSE P (4575.45):  BUY 4525 @   0.00 - SELL 4520 @   0.00 - TOTAL:   0.00\n",
            "**************** Processed Date: 2022-03-28 - Result:   800.00 ****************\n",
            " OPEN C (4617.70): SELL 4635 @   4.30 -  BUY 4640 @   3.20 - TOTAL:   1.10\n",
            "CLOSE C (4602.66):  BUY 4635 @   0.00 - SELL 4640 @   0.00 - TOTAL:   0.00\n",
            "**************** Processed Date: 2022-03-30 - Result:  1100.00 ****************\n",
            " OPEN C (4587.24): SELL 4605 @   5.50 -  BUY 4610 @   4.20 - TOTAL:   1.30\n",
            "CLOSE C (4540.46):  BUY 4605 @   0.00 - SELL 4610 @   0.00 - TOTAL:   0.00\n",
            "**************** Processed Date: 2022-03-31 - Result:  1300.00 ****************\n",
            " OPEN C (4526.44): SELL 4545 @   5.72 -  BUY 4550 @   4.52 - TOTAL:   1.20\n",
            "CLOSE C (4544.79):  BUY 4545 @   0.00 - SELL 4550 @   0.00 - TOTAL:   0.00\n",
            "**************** Processed Date: 2022-04-01 - Result:  1200.00 ****************\n",
            " OPEN P (4564.13): SELL 4545 @   3.83 -  BUY 4540 @   3.00 - TOTAL:   0.83\n",
            "CLOSE P (4579.84):  BUY 4545 @   0.00 - SELL 4540 @   0.00 - TOTAL:   0.00\n"
          ]
        },
        {
          "output_type": "stream",
          "name": "stderr",
          "text": [
            "  7%|▋         | 21/309 [00:00<00:10, 28.12it/s]"
          ]
        },
        {
          "output_type": "stream",
          "name": "stdout",
          "text": [
            "**************** Processed Date: 2022-04-04 - Result:   830.00 ****************\n",
            " OPEN C (4465.17): SELL 4485 @   8.00 -  BUY 4490 @   6.30 - TOTAL:   1.70\n",
            "CLOSE C (4480.61):  BUY 4485 @   0.00 - SELL 4490 @   0.00 - TOTAL:   0.00\n",
            "**************** Processed Date: 2022-04-06 - Result:  1700.00 ****************\n",
            " OPEN C (4488.92): SELL 4505 @   6.40 -  BUY 4510 @   5.10 - TOTAL:   1.30\n",
            "CLOSE C (4489.24):  BUY 4505 @   0.00 - SELL 4510 @   0.00 - TOTAL:   0.00\n",
            "**************** Processed Date: 2022-04-08 - Result:  1300.00 ****************\n",
            " OPEN C (4441.47): SELL 4460 @   5.64 -  BUY 4465 @   4.43 - TOTAL:   1.21\n",
            "CLOSE C (4410.55):  BUY 4460 @   0.00 - SELL 4465 @   0.00 - TOTAL:   0.00\n",
            "**************** Processed Date: 2022-04-11 - Result:  1210.00 ****************\n",
            " OPEN P (4406.30): SELL 4390 @   7.69 -  BUY 4385 @   6.60 - TOTAL:   1.09\n",
            "CLOSE P (4446.84):  BUY 4390 @   0.00 - SELL 4385 @   0.00 - TOTAL:   0.00\n",
            "**************** Processed Date: 2022-04-13 - Result:  1090.00 ****************\n",
            " OPEN C (4426.92): SELL 4445 @   5.90 -  BUY 4450 @   4.60 - TOTAL:   1.30\n",
            "CLOSE C (4392.48):  BUY 4445 @   0.00 - SELL 4450 @   0.00 - TOTAL:   0.00\n",
            "**************** Processed Date: 2022-04-14 - Result:  1300.00 ****************\n",
            " OPEN P (4400.70): SELL 4385 @   7.30 -  BUY 4380 @   5.80 - TOTAL:   1.50\n"
          ]
        },
        {
          "output_type": "stream",
          "name": "stderr",
          "text": [
            "  9%|▊         | 27/309 [00:01<00:11, 24.96it/s]"
          ]
        },
        {
          "output_type": "stream",
          "name": "stdout",
          "text": [
            "CLOSE P (4392.04):  BUY 4385 @   0.00 - SELL 4380 @   0.00 - TOTAL:   0.00\n",
            "**************** Processed Date: 2022-04-18 - Result:  1500.00 ****************\n",
            " OPEN C (4470.87): SELL 4490 @   4.20 -  BUY 4495 @   3.20 - TOTAL:   1.00\n",
            "CLOSE C (4459.55):  BUY 4490 @   0.00 - SELL 4495 @   0.00 - TOTAL:   0.00\n",
            "**************** Processed Date: 2022-04-20 - Result:  1000.00 ****************\n",
            " OPEN C (4342.24): SELL 4360 @   8.00 -  BUY 4365 @   6.26 - TOTAL:   1.74\n",
            "CLOSE C (4272.28):  BUY 4360 @   0.00 - SELL 4365 @   0.00 - TOTAL:   0.00\n",
            "**************** Processed Date: 2022-04-22 - Result:  1740.00 ****************\n",
            "****************** Processed Date: 2022-04-26 - Result: -- ER -- *******************\n"
          ]
        },
        {
          "output_type": "stream",
          "name": "stderr",
          "text": [
            "  9%|▊         | 27/309 [00:01<00:11, 24.96it/s]"
          ]
        },
        {
          "output_type": "stream",
          "name": "stdout",
          "text": [
            " OPEN C (4164.38): SELL 4180 @  22.10 -  BUY 4185 @  20.00 - TOTAL:   2.10\n",
            "CLOSE C (4295.96):  BUY 4180 @ 115.96 - SELL 4185 @ 110.96 - TOTAL:  -5.00\n",
            "**************** Processed Date: 2022-05-04 - Result: -2900.00 ****************\n",
            " OPEN C (4034.16): SELL 4050 @  17.50 -  BUY 4055 @  15.60 - TOTAL:   1.90\n",
            "CLOSE C (3994.01):  BUY 4050 @   0.00 - SELL 4055 @   0.00 - TOTAL:   0.00\n",
            "**************** Processed Date: 2022-05-09 - Result:  1900.00 ****************\n"
          ]
        },
        {
          "output_type": "stream",
          "name": "stderr",
          "text": [
            " 10%|█         | 32/309 [00:01<00:19, 14.04it/s]"
          ]
        },
        {
          "output_type": "stream",
          "name": "stdout",
          "text": [
            " OPEN C (4033.89): SELL 4050 @  14.60 -  BUY 4055 @  13.15 - TOTAL:   1.45\n",
            "CLOSE C (3996.82):  BUY 4050 @   0.00 - SELL 4055 @   0.00 - TOTAL:   0.00\n",
            "**************** Processed Date: 2022-05-10 - Result:  1450.00 ****************\n",
            " OPEN C (4049.35): SELL 4065 @  10.50 -  BUY 4070 @   8.60 - TOTAL:   1.90\n",
            "CLOSE C (4089.22):  BUY 4065 @  24.22 - SELL 4070 @  19.22 - TOTAL:  -5.00\n",
            "**************** Processed Date: 2022-05-17 - Result: -3100.00 ****************\n",
            " OPEN C (4011.83): SELL 4030 @  11.50 -  BUY 4035 @  10.10 - TOTAL:   1.40\n",
            "CLOSE C (3925.28):  BUY 4030 @   0.00 - SELL 4035 @   0.00 - TOTAL:   0.00\n",
            "**************** Processed Date: 2022-05-18 - Result:  1400.00 ****************\n"
          ]
        },
        {
          "output_type": "stream",
          "name": "stderr",
          "text": [
            " 10%|█         | 32/309 [00:01<00:19, 14.04it/s]"
          ]
        },
        {
          "output_type": "stream",
          "name": "stdout",
          "text": [
            " OPEN C (3894.47): SELL 3910 @  12.60 -  BUY 3915 @  10.60 - TOTAL:   2.00\n",
            "CLOSE C (3943.80):  BUY 3910 @  33.80 - SELL 3915 @  28.80 - TOTAL:  -5.00\n",
            "**************** Processed Date: 2022-05-24 - Result: -3000.00 ****************\n",
            " OPEN P (3968.67): SELL 3950 @  13.30 -  BUY 3945 @  11.80 - TOTAL:   1.50\n",
            "CLOSE P (3977.86):  BUY 3950 @   0.00 - SELL 3945 @   0.00 - TOTAL:   0.00\n"
          ]
        },
        {
          "output_type": "stream",
          "name": "stderr",
          "text": [
            " 12%|█▏        | 36/309 [00:02<00:25, 10.76it/s]"
          ]
        },
        {
          "output_type": "stream",
          "name": "stdout",
          "text": [
            "**************** Processed Date: 2022-05-25 - Result:  1500.00 ****************\n",
            " OPEN P (4037.53): SELL 4020 @  10.00 -  BUY 4015 @   8.50 - TOTAL:   1.50\n",
            "CLOSE P (4057.15):  BUY 4020 @   0.00 - SELL 4015 @   0.00 - TOTAL:   0.00\n",
            "**************** Processed Date: 2022-05-26 - Result:  1500.00 ****************\n",
            " OPEN P (4121.14): SELL 4105 @   7.10 -  BUY 4100 @   5.84 - TOTAL:   1.26\n",
            "CLOSE P (4154.33):  BUY 4105 @   0.00 - SELL 4100 @   0.00 - TOTAL:   0.00\n",
            "**************** Processed Date: 2022-05-27 - Result:  1260.00 ****************\n",
            " OPEN C (4121.71): SELL 4140 @  11.10 -  BUY 4145 @  10.00 - TOTAL:   1.10\n",
            "CLOSE C (4133.72):  BUY 4140 @   0.00 - SELL 4145 @   0.00 - TOTAL:   0.00\n",
            "**************** Processed Date: 2022-05-31 - Result:  1100.00 ****************\n"
          ]
        },
        {
          "output_type": "stream",
          "name": "stderr",
          "text": [
            " 13%|█▎        | 40/309 [00:02<00:21, 12.68it/s]"
          ]
        },
        {
          "output_type": "stream",
          "name": "stdout",
          "text": [
            " OPEN C (4106.92): SELL 4125 @   9.02 -  BUY 4130 @   7.50 - TOTAL:   1.52\n",
            "CLOSE C (4101.00):  BUY 4125 @   0.00 - SELL 4130 @   0.00 - TOTAL:   0.00\n",
            "**************** Processed Date: 2022-06-01 - Result:  1520.00 ****************\n",
            " OPEN P (4116.01): SELL 4100 @   8.40 -  BUY 4095 @   7.00 - TOTAL:   1.40\n",
            "CLOSE P (4159.68):  BUY 4100 @   0.00 - SELL 4095 @   0.00 - TOTAL:   0.00\n",
            "**************** Processed Date: 2022-06-07 - Result:  1400.00 ****************\n",
            "****************** Processed Date: 2022-06-10 - Result: -- UV -- *******************\n"
          ]
        },
        {
          "output_type": "stream",
          "name": "stderr",
          "text": [
            " 14%|█▎        | 42/309 [00:02<00:25, 10.37it/s]"
          ]
        },
        {
          "output_type": "stream",
          "name": "stdout",
          "text": [
            " OPEN P (3784.09): SELL 3765 @  35.86 -  BUY 3760 @  23.30 - TOTAL:  12.56\n",
            "CLOSE P (3788.97):  BUY 3765 @   0.00 - SELL 3760 @   0.00 - TOTAL:   0.00\n",
            "**************** Processed Date: 2022-06-15 - Result: 12560.00 ****************\n",
            " OPEN C (3688.72): SELL 3705 @  13.70 -  BUY 3710 @  12.00 - TOTAL:   1.70\n",
            "CLOSE C (3663.62):  BUY 3705 @   0.00 - SELL 3710 @   0.00 - TOTAL:   0.00\n",
            "**************** Processed Date: 2022-06-16 - Result:  1700.00 ****************\n"
          ]
        },
        {
          "output_type": "stream",
          "name": "stderr",
          "text": [
            " 14%|█▍        | 44/309 [00:02<00:27,  9.78it/s]"
          ]
        },
        {
          "output_type": "stream",
          "name": "stdout",
          "text": [
            " OPEN P (3765.68): SELL 3750 @   9.30 -  BUY 3745 @   7.87 - TOTAL:   1.43\n",
            "CLOSE P (3764.89):  BUY 3750 @   0.00 - SELL 3745 @   0.00 - TOTAL:   0.00\n",
            "**************** Processed Date: 2022-06-21 - Result:  1430.00 ****************\n",
            " OPEN P (3782.78): SELL 3765 @   8.68 -  BUY 3760 @   7.50 - TOTAL:   1.18\n",
            "CLOSE P (3758.14):  BUY 3765 @   6.86 - SELL 3760 @   1.86 - TOTAL:  -5.00\n",
            "**************** Processed Date: 2022-06-22 - Result: -3820.00 ****************\n"
          ]
        },
        {
          "output_type": "stream",
          "name": "stderr",
          "text": [
            " 15%|█▍        | 46/309 [00:03<00:28,  9.19it/s]"
          ]
        },
        {
          "output_type": "stream",
          "name": "stdout",
          "text": [
            " OPEN C (3777.89): SELL 3795 @   8.50 -  BUY 3800 @   6.80 - TOTAL:   1.70\n",
            "CLOSE C (3795.96):  BUY 3795 @   0.96 - SELL 3800 @   0.00 - TOTAL:  -0.96\n",
            "**************** Processed Date: 2022-06-23 - Result:   740.00 ****************\n",
            " OPEN P (3880.05): SELL 3865 @   8.06 -  BUY 3860 @   7.10 - TOTAL:   0.96\n",
            "CLOSE P (3912.21):  BUY 3865 @   0.00 - SELL 3860 @   0.00 - TOTAL:   0.00\n",
            "**************** Processed Date: 2022-06-24 - Result:   960.00 ****************\n"
          ]
        },
        {
          "output_type": "stream",
          "name": "stderr",
          "text": [
            " 16%|█▌        | 48/309 [00:03<00:26,  9.73it/s]"
          ]
        },
        {
          "output_type": "stream",
          "name": "stdout",
          "text": [
            " OPEN C (3898.50): SELL 3915 @   8.70 -  BUY 3920 @   7.13 - TOTAL:   1.57\n",
            "CLOSE C (3900.55):  BUY 3915 @   0.00 - SELL 3920 @   0.00 - TOTAL:   0.00\n",
            "**************** Processed Date: 2022-06-27 - Result:  1570.00 ****************\n",
            " OPEN C (3748.14): SELL 3765 @  11.93 -  BUY 3770 @  10.45 - TOTAL:   1.48\n",
            "CLOSE C (3789.10):  BUY 3765 @  24.10 - SELL 3770 @  19.10 - TOTAL:  -5.00\n",
            "**************** Processed Date: 2022-06-30 - Result: -3520.00 ****************\n",
            " OPEN C (3756.05): SELL 3775 @   8.50 -  BUY 3780 @   7.10 - TOTAL:   1.40\n"
          ]
        },
        {
          "output_type": "stream",
          "name": "stderr",
          "text": [
            " 16%|█▌        | 50/309 [00:03<00:27,  9.59it/s]"
          ]
        },
        {
          "output_type": "stream",
          "name": "stdout",
          "text": [
            "CLOSE C (3831.70):  BUY 3775 @  56.70 - SELL 3780 @  51.70 - TOTAL:  -5.00\n",
            "**************** Processed Date: 2022-07-05 - Result: -3600.00 ****************\n",
            " OPEN P (3880.66): SELL 3865 @   7.11 -  BUY 3860 @   5.50 - TOTAL:   1.61\n",
            "CLOSE P (3902.00):  BUY 3865 @   0.00 - SELL 3860 @   0.00 - TOTAL:   0.00\n",
            "**************** Processed Date: 2022-07-07 - Result:  1610.00 ****************\n",
            " OPEN C (3730.88): SELL 3750 @   7.55 -  BUY 3755 @   6.20 - TOTAL:   1.35\n"
          ]
        },
        {
          "output_type": "stream",
          "name": "stderr",
          "text": [
            " 17%|█▋        | 52/309 [00:03<00:28,  8.95it/s]"
          ]
        },
        {
          "output_type": "stream",
          "name": "stdout",
          "text": [
            "CLOSE C (3791.76):  BUY 3750 @  41.76 - SELL 3755 @  36.76 - TOTAL:  -5.00\n",
            "**************** Processed Date: 2022-07-14 - Result: -3650.00 ****************\n",
            " OPEN P (3891.87): SELL 3875 @   6.00 -  BUY 3870 @   5.00 - TOTAL:   1.00\n",
            "CLOSE P (3934.57):  BUY 3875 @   0.00 - SELL 3870 @   0.00 - TOTAL:   0.00\n",
            "**************** Processed Date: 2022-07-19 - Result:  1000.00 ****************\n"
          ]
        },
        {
          "output_type": "stream",
          "name": "stderr",
          "text": [
            " 17%|█▋        | 54/309 [00:04<00:29,  8.56it/s]"
          ]
        },
        {
          "output_type": "stream",
          "name": "stdout",
          "text": [
            " OPEN C (3956.94): SELL 3975 @   6.20 -  BUY 3980 @   4.60 - TOTAL:   1.60\n",
            "CLOSE C (3966.20):  BUY 3975 @   0.00 - SELL 3980 @   0.00 - TOTAL:   0.00\n",
            "**************** Processed Date: 2022-07-25 - Result:  1600.00 ****************\n",
            " OPEN C (3936.25): SELL 3955 @   5.20 -  BUY 3960 @   3.90 - TOTAL:   1.30\n",
            "CLOSE C (3919.87):  BUY 3955 @   0.00 - SELL 3960 @   0.00 - TOTAL:   0.00\n",
            "**************** Processed Date: 2022-07-26 - Result:  1300.00 ****************\n"
          ]
        },
        {
          "output_type": "stream",
          "name": "stderr",
          "text": [
            " 18%|█▊        | 55/309 [00:04<00:32,  7.89it/s]"
          ]
        },
        {
          "output_type": "stream",
          "name": "stdout",
          "text": [
            " OPEN P (3968.57): SELL 3950 @  15.00 -  BUY 3945 @  13.40 - TOTAL:   1.60\n",
            "CLOSE P (4025.37):  BUY 3950 @   0.00 - SELL 3945 @   0.00 - TOTAL:   0.00\n",
            "**************** Processed Date: 2022-07-27 - Result:  1600.00 ****************\n",
            " OPEN C (3998.52): SELL 4015 @   6.80 -  BUY 4020 @   5.10 - TOTAL:   1.70\n",
            "CLOSE C (4071.32):  BUY 4015 @  56.32 - SELL 4020 @  51.32 - TOTAL:  -5.00\n"
          ]
        },
        {
          "output_type": "stream",
          "name": "stderr",
          "text": [
            "                                                "
          ]
        },
        {
          "output_type": "stream",
          "name": "stdout",
          "text": [
            "**************** Processed Date: 2022-07-28 - Result: -3300.00 ****************\n",
            " OPEN P (4127.18): SELL 4110 @   5.23 -  BUY 4105 @   4.03 - TOTAL:   1.20\n",
            "CLOSE P (4154.87):  BUY 4110 @   0.00 - SELL 4105 @   0.00 - TOTAL:   0.00\n",
            "**************** Processed Date: 2022-08-03 - Result:  1200.00 ****************\n"
          ]
        },
        {
          "output_type": "stream",
          "name": "stderr",
          "text": [
            " 19%|█▉        | 58/309 [00:04<00:34,  7.32it/s]"
          ]
        },
        {
          "output_type": "stream",
          "name": "stdout",
          "text": [
            " OPEN P (4144.35): SELL 4125 @   5.30 -  BUY 4120 @   3.90 - TOTAL:   1.40\n",
            "CLOSE P (4144.66):  BUY 4125 @   0.00 - SELL 4120 @   0.00 - TOTAL:   0.00\n",
            "**************** Processed Date: 2022-08-05 - Result:  1400.00 ****************\n",
            " OPEN P (4177.37): SELL 4160 @   5.10 -  BUY 4155 @   4.00 - TOTAL:   1.10\n",
            "CLOSE P (4140.00):  BUY 4160 @  20.00 - SELL 4155 @  15.00 - TOTAL:  -5.00\n",
            "**************** Processed Date: 2022-08-08 - Result: -3900.00 ****************\n"
          ]
        },
        {
          "output_type": "stream",
          "name": "stderr",
          "text": [
            "                                                "
          ]
        },
        {
          "output_type": "stream",
          "name": "stdout",
          "text": [
            " OPEN C (4126.24): SELL 4145 @   4.20 -  BUY 4150 @   3.00 - TOTAL:   1.20\n",
            "CLOSE C (4119.03):  BUY 4145 @   0.00 - SELL 4150 @   0.00 - TOTAL:   0.00\n",
            "**************** Processed Date: 2022-08-09 - Result:  1200.00 ****************\n",
            " OPEN C (4186.87): SELL 4205 @   4.20 -  BUY 4210 @   3.12 - TOTAL:   1.08\n",
            "CLOSE C (4209.33):  BUY 4205 @   4.33 - SELL 4210 @   0.00 - TOTAL:  -4.33\n"
          ]
        },
        {
          "output_type": "stream",
          "name": "stderr",
          "text": [
            " 20%|██        | 63/309 [00:05<00:26,  9.43it/s]"
          ]
        },
        {
          "output_type": "stream",
          "name": "stdout",
          "text": [
            "**************** Processed Date: 2022-08-10 - Result: -3250.00 ****************\n",
            " OPEN P (4248.43): SELL 4230 @   4.40 -  BUY 4225 @   3.40 - TOTAL:   1.00\n",
            "CLOSE P (4206.84):  BUY 4230 @  23.16 - SELL 4225 @  18.16 - TOTAL:  -5.00\n",
            "**************** Processed Date: 2022-08-11 - Result: -4000.00 ****************\n",
            " OPEN P (4269.06): SELL 4250 @   3.80 -  BUY 4245 @   2.86 - TOTAL:   0.94\n",
            "CLOSE P (4296.75):  BUY 4250 @   0.00 - SELL 4245 @   0.00 - TOTAL:   0.00\n",
            "**************** Processed Date: 2022-08-15 - Result:   940.00 ****************\n"
          ]
        },
        {
          "output_type": "stream",
          "name": "stderr",
          "text": []
        },
        {
          "output_type": "stream",
          "name": "stdout",
          "text": [
            " OPEN C (4268.88): SELL 4285 @   4.40 -  BUY 4290 @   3.30 - TOTAL:   1.10\n",
            "CLOSE C (4284.42):  BUY 4285 @   0.00 - SELL 4290 @   0.00 - TOTAL:   0.00\n",
            "**************** Processed Date: 2022-08-18 - Result:  1100.00 ****************\n",
            " OPEN C (4237.71): SELL 4255 @   5.73 -  BUY 4260 @   4.40 - TOTAL:   1.33\n"
          ]
        },
        {
          "output_type": "stream",
          "name": "stderr",
          "text": [
            " 21%|██▏       | 66/309 [00:05<00:30,  7.95it/s]"
          ]
        },
        {
          "output_type": "stream",
          "name": "stdout",
          "text": [
            "CLOSE C (4230.29):  BUY 4255 @   0.00 - SELL 4260 @   0.00 - TOTAL:   0.00\n",
            "**************** Processed Date: 2022-08-19 - Result:  1330.00 ****************\n",
            " OPEN C (4154.96): SELL 4170 @   5.95 -  BUY 4175 @   4.60 - TOTAL:   1.35\n",
            "CLOSE C (4139.20):  BUY 4170 @   0.00 - SELL 4175 @   0.00 - TOTAL:   0.00\n",
            "**************** Processed Date: 2022-08-22 - Result:  1350.00 ****************\n"
          ]
        },
        {
          "output_type": "stream",
          "name": "stderr",
          "text": [
            " 22%|██▏       | 68/309 [00:05<00:31,  7.69it/s]"
          ]
        },
        {
          "output_type": "stream",
          "name": "stdout",
          "text": [
            " OPEN P (4179.23): SELL 4160 @   3.70 -  BUY 4155 @   2.83 - TOTAL:   0.87\n",
            "CLOSE P (4197.01):  BUY 4160 @   0.00 - SELL 4155 @   0.00 - TOTAL:   0.00\n",
            "**************** Processed Date: 2022-08-25 - Result:   870.00 ****************\n",
            " OPEN C (4153.92): SELL 4170 @  10.16 -  BUY 4175 @   9.10 - TOTAL:   1.06\n",
            "CLOSE C (4058.29):  BUY 4170 @   0.00 - SELL 4175 @   0.00 - TOTAL:   0.00\n",
            "**************** Processed Date: 2022-08-26 - Result:  1060.00 ****************\n"
          ]
        },
        {
          "output_type": "stream",
          "name": "stderr",
          "text": [
            " 23%|██▎       | 70/309 [00:06<00:29,  8.06it/s]"
          ]
        },
        {
          "output_type": "stream",
          "name": "stdout",
          "text": [
            " OPEN P (4040.33): SELL 4025 @   9.50 -  BUY 4020 @   8.30 - TOTAL:   1.20\n",
            "CLOSE P (4030.95):  BUY 4025 @   0.00 - SELL 4020 @   0.00 - TOTAL:   0.00\n",
            "**************** Processed Date: 2022-08-29 - Result:  1200.00 ****************\n",
            " OPEN C (4005.80): SELL 4025 @   7.20 -  BUY 4030 @   5.90 - TOTAL:   1.30\n",
            "CLOSE C (3980.50):  BUY 4025 @   0.00 - SELL 4030 @   0.00 - TOTAL:   0.00\n",
            "**************** Processed Date: 2022-08-30 - Result:  1300.00 ****************\n"
          ]
        },
        {
          "output_type": "stream",
          "name": "stderr",
          "text": [
            " 23%|██▎       | 72/309 [00:06<00:30,  7.68it/s]"
          ]
        },
        {
          "output_type": "stream",
          "name": "stdout",
          "text": [
            " OPEN C (3928.55): SELL 3945 @   7.36 -  BUY 3950 @   5.80 - TOTAL:   1.56\n",
            "CLOSE C (3967.23):  BUY 3945 @  22.23 - SELL 3950 @  17.23 - TOTAL:  -5.00\n",
            "**************** Processed Date: 2022-09-01 - Result: -3440.00 ****************\n",
            " OPEN C (3905.78): SELL 3925 @   8.35 -  BUY 3930 @   6.85 - TOTAL:   1.50\n",
            "CLOSE C (3910.16):  BUY 3925 @   0.00 - SELL 3930 @   0.00 - TOTAL:   0.00\n",
            "**************** Processed Date: 2022-09-06 - Result:  1500.00 ****************\n"
          ]
        },
        {
          "output_type": "stream",
          "name": "stderr",
          "text": [
            " 24%|██▍       | 74/309 [00:06<00:28,  8.17it/s]"
          ]
        },
        {
          "output_type": "stream",
          "name": "stdout",
          "text": [
            " OPEN P (3925.47): SELL 3910 @   9.20 -  BUY 3905 @   7.70 - TOTAL:   1.50\n",
            "CLOSE P (3980.02):  BUY 3910 @   0.00 - SELL 3905 @   0.00 - TOTAL:   0.00\n",
            "**************** Processed Date: 2022-09-07 - Result:  1500.00 ****************\n",
            " OPEN P (3980.49): SELL 3965 @   8.81 -  BUY 3960 @   7.30 - TOTAL:   1.51\n",
            "CLOSE P (4001.86):  BUY 3965 @   0.00 - SELL 3960 @   0.00 - TOTAL:   0.00\n",
            "**************** Processed Date: 2022-09-08 - Result:  1510.00 ****************\n",
            " OPEN P (4053.19): SELL 4035 @   7.30 -  BUY 4030 @   6.20 - TOTAL:   1.10\n",
            "CLOSE P (4067.62):  BUY 4035 @   0.00 - SELL 4030 @   0.00 - TOTAL:   0.00\n",
            "**************** Processed Date: 2022-09-09 - Result:  1100.00 ****************\n"
          ]
        },
        {
          "output_type": "stream",
          "name": "stderr",
          "text": [
            " 25%|██▌       | 78/309 [00:06<00:21, 10.61it/s]"
          ]
        },
        {
          "output_type": "stream",
          "name": "stdout",
          "text": [
            " OPEN P (4115.92): SELL 4100 @   7.20 -  BUY 4095 @   5.80 - TOTAL:   1.40\n",
            "CLOSE P (4110.92):  BUY 4100 @   0.00 - SELL 4095 @   0.00 - TOTAL:   0.00\n",
            "**************** Processed Date: 2022-09-12 - Result:  1400.00 ****************\n",
            " OPEN C (4003.47): SELL 4020 @   9.26 -  BUY 4025 @   7.38 - TOTAL:   1.88\n",
            "CLOSE C (3938.49):  BUY 4020 @   0.00 - SELL 4025 @   0.00 - TOTAL:   0.00\n",
            "**************** Processed Date: 2022-09-13 - Result:  1880.00 ****************\n",
            " OPEN P (3872.55): SELL 3855 @   9.00 -  BUY 3850 @   7.70 - TOTAL:   1.30\n",
            "CLOSE P (3900.24):  BUY 3855 @   0.00 - SELL 3850 @   0.00 - TOTAL:   0.00\n",
            "**************** Processed Date: 2022-09-19 - Result:  1300.00 ****************\n"
          ]
        },
        {
          "output_type": "stream",
          "name": "stderr",
          "text": [
            " 26%|██▌       | 80/309 [00:07<00:22, 10.03it/s]"
          ]
        },
        {
          "output_type": "stream",
          "name": "stdout",
          "text": [
            " OPEN C (3854.46): SELL 3870 @   8.30 -  BUY 3875 @   6.70 - TOTAL:   1.60\n",
            "CLOSE C (3856.76):  BUY 3870 @   0.00 - SELL 3875 @   0.00 - TOTAL:   0.00\n",
            "**************** Processed Date: 2022-09-20 - Result:  1600.00 ****************\n",
            " OPEN C (3770.73): SELL 3790 @   9.00 -  BUY 3795 @   7.50 - TOTAL:   1.50\n",
            "CLOSE C (3756.91):  BUY 3790 @   0.00 - SELL 3795 @   0.00 - TOTAL:   0.00\n",
            "**************** Processed Date: 2022-09-22 - Result:  1500.00 ****************\n",
            " OPEN C (3700.38): SELL 3720 @   9.66 -  BUY 3725 @   7.90 - TOTAL:   1.76\n"
          ]
        },
        {
          "output_type": "stream",
          "name": "stderr",
          "text": [
            " 27%|██▋       | 82/309 [00:07<00:24,  9.28it/s]"
          ]
        },
        {
          "output_type": "stream",
          "name": "stdout",
          "text": [
            "CLOSE C (3688.28):  BUY 3720 @   0.00 - SELL 3725 @   0.00 - TOTAL:   0.00\n",
            "**************** Processed Date: 2022-09-23 - Result:  1760.00 ****************\n",
            " OPEN P (3713.22): SELL 3695 @  11.20 -  BUY 3690 @   8.90 - TOTAL:   2.30\n",
            "CLOSE P (3656.13):  BUY 3695 @  38.87 - SELL 3690 @  33.87 - TOTAL:  -5.00\n",
            "**************** Processed Date: 2022-09-26 - Result: -2700.00 ****************\n",
            " OPEN C (3631.11): SELL 3650 @  10.04 -  BUY 3655 @   8.30 - TOTAL:   1.74\n",
            "CLOSE C (3641.71):  BUY 3650 @   0.00 - SELL 3655 @   0.00 - TOTAL:   0.00\n",
            "**************** Processed Date: 2022-09-29 - Result:  1740.00 ****************\n"
          ]
        },
        {
          "output_type": "stream",
          "name": "stderr",
          "text": [
            " 27%|██▋       | 84/309 [00:07<00:22,  9.86it/s]"
          ]
        },
        {
          "output_type": "stream",
          "name": "stdout",
          "text": [
            " OPEN P (3775.11): SELL 3760 @   8.70 -  BUY 3755 @   7.10 - TOTAL:   1.60\n",
            "CLOSE P (3790.50):  BUY 3760 @   0.00 - SELL 3755 @   0.00 - TOTAL:   0.00\n",
            "**************** Processed Date: 2022-10-04 - Result:  1600.00 ****************\n",
            " OPEN C (3673.29): SELL 3690 @   9.70 -  BUY 3695 @   7.90 - TOTAL:   1.80\n",
            "CLOSE C (3642.68):  BUY 3690 @   0.00 - SELL 3695 @   0.00 - TOTAL:   0.00\n",
            "**************** Processed Date: 2022-10-07 - Result:  1800.00 ****************\n"
          ]
        },
        {
          "output_type": "stream",
          "name": "stderr",
          "text": [
            " 28%|██▊       | 86/309 [00:07<00:29,  7.64it/s]"
          ]
        },
        {
          "output_type": "stream",
          "name": "stdout",
          "text": [
            " OPEN C (3636.45): SELL 3655 @   6.90 -  BUY 3660 @   5.43 - TOTAL:   1.47\n",
            "CLOSE C (3612.05):  BUY 3655 @   0.00 - SELL 3660 @   0.00 - TOTAL:   0.00\n",
            "**************** Processed Date: 2022-10-10 - Result:  1470.00 ****************\n"
          ]
        },
        {
          "output_type": "stream",
          "name": "stderr",
          "text": [
            " 29%|██▉       | 89/309 [00:08<00:24,  9.08it/s]"
          ]
        },
        {
          "output_type": "stream",
          "name": "stdout",
          "text": [
            " OPEN C (3578.53): SELL 3595 @   7.80 -  BUY 3600 @   6.05 - TOTAL:   1.75\n",
            "CLOSE C (3589.16):  BUY 3595 @   0.00 - SELL 3600 @   0.00 - TOTAL:   0.00\n",
            "**************** Processed Date: 2022-10-11 - Result:  1750.00 ****************\n",
            " OPEN P (3677.78): SELL 3660 @   9.50 -  BUY 3655 @   7.90 - TOTAL:   1.60\n",
            "CLOSE P (3678.40):  BUY 3660 @   0.00 - SELL 3655 @   0.00 - TOTAL:   0.00\n",
            "**************** Processed Date: 2022-10-17 - Result:  1600.00 ****************\n",
            " OPEN C (3730.47): SELL 3750 @   7.80 -  BUY 3755 @   6.40 - TOTAL:   1.40\n",
            "CLOSE C (3721.80):  BUY 3750 @   0.00 - SELL 3755 @   0.00 - TOTAL:   0.00\n",
            "**************** Processed Date: 2022-10-18 - Result:  1400.00 ****************\n"
          ]
        },
        {
          "output_type": "stream",
          "name": "stderr",
          "text": [
            " 29%|██▉       | 91/309 [00:08<00:20, 10.47it/s]"
          ]
        },
        {
          "output_type": "stream",
          "name": "stdout",
          "text": [
            " OPEN P (3683.22): SELL 3665 @  11.01 -  BUY 3660 @   9.50 - TOTAL:   1.51\n",
            "CLOSE P (3752.75):  BUY 3665 @   0.00 - SELL 3660 @   0.00 - TOTAL:   0.00\n",
            "**************** Processed Date: 2022-10-21 - Result:  1510.00 ****************\n",
            " OPEN P (3837.97): SELL 3820 @   7.60 -  BUY 3815 @   6.40 - TOTAL:   1.20\n",
            "CLOSE P (3860.20):  BUY 3820 @   0.00 - SELL 3815 @   0.00 - TOTAL:   0.00\n",
            "**************** Processed Date: 2022-10-25 - Result:  1200.00 ****************\n",
            " OPEN P (3856.85): SELL 3840 @   7.20 -  BUY 3835 @   6.00 - TOTAL:   1.20\n",
            "CLOSE P (3830.62):  BUY 3840 @   9.38 - SELL 3835 @   4.38 - TOTAL:  -5.00\n",
            "**************** Processed Date: 2022-10-26 - Result: -3800.00 ****************\n"
          ]
        },
        {
          "output_type": "stream",
          "name": "stderr",
          "text": [
            " 30%|███       | 93/309 [00:08<00:19, 11.03it/s]"
          ]
        },
        {
          "output_type": "stream",
          "name": "stdout",
          "text": [
            " OPEN P (3850.03): SELL 3835 @   8.40 -  BUY 3830 @   7.10 - TOTAL:   1.30\n",
            "CLOSE P (3902.60):  BUY 3835 @   0.00 - SELL 3830 @   0.00 - TOTAL:   0.00\n",
            "**************** Processed Date: 2022-10-28 - Result:  1300.00 ****************\n",
            " OPEN C (3872.78): SELL 3890 @   6.30 -  BUY 3895 @   5.05 - TOTAL:   1.25\n",
            "CLOSE C (3855.64):  BUY 3890 @   0.00 - SELL 3895 @   0.00 - TOTAL:   0.00\n",
            "**************** Processed Date: 2022-11-01 - Result:  1250.00 ****************\n"
          ]
        },
        {
          "output_type": "stream",
          "name": "stderr",
          "text": [
            " 31%|███▏      | 97/309 [00:08<00:18, 11.71it/s]"
          ]
        },
        {
          "output_type": "stream",
          "name": "stdout",
          "text": [
            " OPEN C (3832.28): SELL 3850 @  21.12 -  BUY 3855 @  18.88 - TOTAL:   2.24\n",
            "CLOSE C (3764.74):  BUY 3850 @   0.00 - SELL 3855 @   0.00 - TOTAL:   0.00\n",
            "**************** Processed Date: 2022-11-02 - Result:  2240.00 ****************\n",
            " OPEN C (3776.03): SELL 3795 @   5.90 -  BUY 3800 @   5.00 - TOTAL:   0.90\n",
            "CLOSE C (3807.37):  BUY 3795 @  12.37 - SELL 3800 @   7.37 - TOTAL:  -5.00\n",
            "**************** Processed Date: 2022-11-07 - Result: -4100.00 ****************\n",
            " OPEN C (3969.75): SELL 3985 @   7.27 -  BUY 3990 @   5.50 - TOTAL:   1.77\n",
            "CLOSE C (3959.78):  BUY 3985 @   0.00 - SELL 3990 @   0.00 - TOTAL:   0.00\n",
            "**************** Processed Date: 2022-11-16 - Result:  1770.00 ****************\n",
            " OPEN C (3958.20): SELL 3975 @   7.00 -  BUY 3980 @   5.51 - TOTAL:   1.49\n",
            "CLOSE C (3967.12):  BUY 3975 @   0.00 - SELL 3980 @   0.00 - TOTAL:   0.00\n",
            "**************** Processed Date: 2022-11-18 - Result:  1490.00 ****************\n"
          ]
        },
        {
          "output_type": "stream",
          "name": "stderr",
          "text": [
            " 33%|███▎      | 101/309 [00:09<00:16, 12.30it/s]"
          ]
        },
        {
          "output_type": "stream",
          "name": "stdout",
          "text": [
            " OPEN C (3944.13): SELL 3960 @   4.90 -  BUY 3965 @   3.70 - TOTAL:   1.20\n",
            "CLOSE C (3950.25):  BUY 3960 @   0.00 - SELL 3965 @   0.00 - TOTAL:   0.00\n",
            "**************** Processed Date: 2022-11-21 - Result:  1200.00 ****************\n",
            " OPEN P (4023.56): SELL 4005 @   4.70 -  BUY 4000 @   3.80 - TOTAL:   0.90\n",
            "CLOSE P (4027.86):  BUY 4005 @   0.00 - SELL 4000 @   0.00 - TOTAL:   0.00\n",
            "**************** Processed Date: 2022-11-23 - Result:   900.00 ****************\n",
            "****************** Processed Date: 2022-11-25 - Result: -- UV -- *******************\n",
            " OPEN P (3974.03): SELL 3955 @   3.00 -  BUY 3950 @   2.10 - TOTAL:   0.90\n",
            "CLOSE P (3957.35):  BUY 3955 @   0.00 - SELL 3950 @   0.00 - TOTAL:   0.00\n",
            "**************** Processed Date: 2022-11-29 - Result:   900.00 ****************\n"
          ]
        },
        {
          "output_type": "stream",
          "name": "stderr",
          "text": [
            " 34%|███▎      | 104/309 [00:09<00:13, 15.22it/s]"
          ]
        },
        {
          "output_type": "stream",
          "name": "stdout",
          "text": [
            " OPEN C (3944.39): SELL 3960 @  14.40 -  BUY 3965 @  12.80 - TOTAL:   1.60\n",
            "CLOSE C (4071.49):  BUY 3960 @ 111.49 - SELL 3965 @ 106.49 - TOTAL:  -5.00\n",
            "**************** Processed Date: 2022-11-30 - Result: -3400.00 ****************\n",
            " OPEN P (4039.09): SELL 4020 @   5.50 -  BUY 4015 @   4.30 - TOTAL:   1.20\n",
            "CLOSE P (4071.34):  BUY 4020 @   0.00 - SELL 4015 @   0.00 - TOTAL:   0.00\n",
            "**************** Processed Date: 2022-12-02 - Result:  1200.00 ****************\n",
            " OPEN C (3961.00): SELL 3980 @   4.60 -  BUY 3985 @   3.40 - TOTAL:   1.20\n",
            "CLOSE C (3941.42):  BUY 3980 @   0.00 - SELL 3985 @   0.00 - TOTAL:   0.00\n",
            "**************** Processed Date: 2022-12-06 - Result:  1200.00 ****************\n"
          ]
        },
        {
          "output_type": "stream",
          "name": "stderr",
          "text": [
            " 35%|███▍      | 108/309 [00:09<00:16, 12.56it/s]"
          ]
        },
        {
          "output_type": "stream",
          "name": "stdout",
          "text": [
            " OPEN C (4054.96): SELL 4070 @  11.90 -  BUY 4075 @   9.96 - TOTAL:   1.94\n",
            "CLOSE C (4020.27):  BUY 4070 @   0.00 - SELL 4075 @   0.00 - TOTAL:   0.00\n",
            "**************** Processed Date: 2022-12-13 - Result:  1940.00 ****************\n",
            "****************** Processed Date: 2022-12-14 - Result: -- UV -- *******************\n",
            " OPEN C (3911.56): SELL 3930 @   7.50 -  BUY 3935 @   6.20 - TOTAL:   1.30\n",
            "CLOSE C (3896.84):  BUY 3930 @   0.00 - SELL 3935 @   0.00 - TOTAL:   0.00\n",
            "**************** Processed Date: 2022-12-15 - Result:  1300.00 ****************\n"
          ]
        },
        {
          "output_type": "stream",
          "name": "stderr",
          "text": [
            " 36%|███▌      | 112/309 [00:09<00:14, 13.62it/s]"
          ]
        },
        {
          "output_type": "stream",
          "name": "stdout",
          "text": [
            " OPEN P (3867.06): SELL 3850 @   4.10 -  BUY 3845 @   3.12 - TOTAL:   0.98\n",
            "CLOSE P (3878.06):  BUY 3850 @   0.00 - SELL 3845 @   0.00 - TOTAL:   0.00\n",
            "**************** Processed Date: 2022-12-21 - Result:   980.00 ****************\n",
            " OPEN C (3812.02): SELL 3830 @   3.70 -  BUY 3835 @   2.75 - TOTAL:   0.95\n",
            "CLOSE C (3822.96):  BUY 3830 @   0.00 - SELL 3835 @   0.00 - TOTAL:   0.00\n",
            "**************** Processed Date: 2022-12-22 - Result:   950.00 ****************\n",
            " OPEN P (3838.26): SELL 3820 @   4.60 -  BUY 3815 @   3.60 - TOTAL:   1.00\n",
            "CLOSE P (3848.85):  BUY 3820 @   0.00 - SELL 3815 @   0.00 - TOTAL:   0.00\n",
            "**************** Processed Date: 2022-12-29 - Result:  1000.00 ****************\n",
            " OPEN C (3817.23): SELL 3835 @   5.30 -  BUY 3840 @   4.10 - TOTAL:   1.20\n",
            "CLOSE C (3808.23):  BUY 3835 @   0.00 - SELL 3840 @   0.00 - TOTAL:   0.00\n",
            "**************** Processed Date: 2023-01-05 - Result:  1200.00 ****************\n"
          ]
        },
        {
          "output_type": "stream",
          "name": "stderr",
          "text": [
            " 37%|███▋      | 114/309 [00:10<00:15, 12.52it/s]"
          ]
        },
        {
          "output_type": "stream",
          "name": "stdout",
          "text": [
            " OPEN P (3896.28): SELL 3880 @   6.50 -  BUY 3875 @   5.20 - TOTAL:   1.30\n",
            "CLOSE P (3918.95):  BUY 3880 @   0.00 - SELL 3875 @   0.00 - TOTAL:   0.00\n",
            "**************** Processed Date: 2023-01-10 - Result:  1300.00 ****************\n",
            " OPEN P (3944.39): SELL 3925 @   3.77 -  BUY 3920 @   2.84 - TOTAL:   0.93\n",
            "CLOSE P (3966.51):  BUY 3925 @   0.00 - SELL 3920 @   0.00 - TOTAL:   0.00\n",
            "**************** Processed Date: 2023-01-11 - Result:   930.00 ****************\n",
            " OPEN C (3973.60): SELL 3990 @   7.00 -  BUY 3995 @   5.60 - TOTAL:   1.40\n",
            "CLOSE C (3983.08):  BUY 3990 @   0.00 - SELL 3995 @   0.00 - TOTAL:   0.00\n",
            "**************** Processed Date: 2023-01-12 - Result:  1400.00 ****************\n"
          ]
        },
        {
          "output_type": "stream",
          "name": "stderr",
          "text": [
            " 38%|███▊      | 118/309 [00:10<00:14, 13.28it/s]"
          ]
        },
        {
          "output_type": "stream",
          "name": "stdout",
          "text": [
            " OPEN P (3979.00): SELL 3960 @   4.60 -  BUY 3955 @   3.50 - TOTAL:   1.10\n",
            "CLOSE P (3998.63):  BUY 3960 @   0.00 - SELL 3955 @   0.00 - TOTAL:   0.00\n",
            "**************** Processed Date: 2023-01-13 - Result:  1100.00 ****************\n",
            " OPEN C (3902.98): SELL 3920 @   4.53 -  BUY 3925 @   3.37 - TOTAL:   1.16\n",
            "CLOSE C (3898.16):  BUY 3920 @   0.00 - SELL 3925 @   0.00 - TOTAL:   0.00\n",
            "**************** Processed Date: 2023-01-19 - Result:  1160.00 ****************\n",
            " OPEN P (4005.38): SELL 3990 @   5.00 -  BUY 3985 @   3.90 - TOTAL:   1.10\n",
            "CLOSE P (4018.74):  BUY 3990 @   0.00 - SELL 3985 @   0.00 - TOTAL:   0.00\n",
            "**************** Processed Date: 2023-01-23 - Result:  1100.00 ****************\n"
          ]
        },
        {
          "output_type": "stream",
          "name": "stderr",
          "text": [
            " 39%|███▉      | 122/309 [00:10<00:12, 14.59it/s]"
          ]
        },
        {
          "output_type": "stream",
          "name": "stdout",
          "text": [
            " OPEN C (4039.51): SELL 4055 @   6.00 -  BUY 4060 @   4.60 - TOTAL:   1.40\n",
            "CLOSE C (4060.20):  BUY 4055 @   5.20 - SELL 4060 @   0.20 - TOTAL:  -5.00\n",
            "**************** Processed Date: 2023-01-26 - Result: -3600.00 ****************\n",
            " OPEN P (4069.44): SELL 4050 @   4.50 -  BUY 4045 @   3.40 - TOTAL:   1.10\n",
            "CLOSE P (4070.02):  BUY 4050 @   0.00 - SELL 4045 @   0.00 - TOTAL:   0.00\n",
            "**************** Processed Date: 2023-01-27 - Result:  1100.00 ****************\n",
            " OPEN P (4038.83): SELL 4020 @   4.10 -  BUY 4015 @   3.20 - TOTAL:   0.90\n",
            "CLOSE P (4076.61):  BUY 4020 @   0.00 - SELL 4015 @   0.00 - TOTAL:   0.00\n",
            "**************** Processed Date: 2023-01-31 - Result:   900.00 ****************\n",
            " OPEN P (4163.09): SELL 4145 @   7.30 -  BUY 4140 @   6.00 - TOTAL:   1.30\n",
            "CLOSE P (4136.52):  BUY 4145 @   8.48 - SELL 4140 @   3.48 - TOTAL:  -5.00\n",
            "**************** Processed Date: 2023-02-03 - Result: -3700.00 ****************\n"
          ]
        },
        {
          "output_type": "stream",
          "name": "stderr",
          "text": [
            " 41%|████      | 126/309 [00:11<00:13, 13.77it/s]"
          ]
        },
        {
          "output_type": "stream",
          "name": "stdout",
          "text": [
            " OPEN C (4099.93): SELL 4115 @   5.84 -  BUY 4120 @   4.50 - TOTAL:   1.34\n",
            "CLOSE C (4111.20):  BUY 4115 @   0.00 - SELL 4120 @   0.00 - TOTAL:   0.00\n",
            "**************** Processed Date: 2023-02-06 - Result:  1340.00 ****************\n",
            " OPEN C (4134.43): SELL 4150 @   6.10 -  BUY 4155 @   4.80 - TOTAL:   1.30\n",
            "CLOSE C (4083.76):  BUY 4150 @   0.00 - SELL 4155 @   0.00 - TOTAL:   0.00\n",
            "**************** Processed Date: 2023-02-09 - Result:  1300.00 ****************\n",
            " OPEN P (4118.66): SELL 4100 @   4.30 -  BUY 4095 @   3.40 - TOTAL:   0.90\n",
            "CLOSE P (4133.87):  BUY 4100 @   0.00 - SELL 4095 @   0.00 - TOTAL:   0.00\n",
            "**************** Processed Date: 2023-02-13 - Result:   900.00 ****************\n",
            " OPEN P (4116.92): SELL 4100 @   5.20 -  BUY 4095 @   4.00 - TOTAL:   1.20\n",
            "CLOSE P (4147.48):  BUY 4100 @   0.00 - SELL 4095 @   0.00 - TOTAL:   0.00\n",
            "**************** Processed Date: 2023-02-15 - Result:  1200.00 ****************\n"
          ]
        },
        {
          "output_type": "stream",
          "name": "stderr",
          "text": [
            " 42%|████▏     | 130/309 [00:11<00:13, 13.32it/s]"
          ]
        },
        {
          "output_type": "stream",
          "name": "stdout",
          "text": [
            " OPEN C (4023.89): SELL 4040 @   6.00 -  BUY 4045 @   4.50 - TOTAL:   1.50\n",
            "CLOSE C (3996.97):  BUY 4040 @   0.00 - SELL 4045 @   0.00 - TOTAL:   0.00\n",
            "**************** Processed Date: 2023-02-21 - Result:  1500.00 ****************\n",
            " OPEN P (4012.91): SELL 3995 @   4.60 -  BUY 3990 @   3.60 - TOTAL:   1.00\n",
            "CLOSE P (3982.23):  BUY 3995 @  12.77 - SELL 3990 @   7.77 - TOTAL:  -5.00\n",
            "**************** Processed Date: 2023-02-27 - Result: -4000.00 ****************\n",
            " OPEN P (3943.87): SELL 3925 @   4.40 -  BUY 3920 @   3.40 - TOTAL:   1.00\n",
            "CLOSE P (3980.47):  BUY 3925 @   0.00 - SELL 3920 @   0.00 - TOTAL:   0.00\n",
            "**************** Processed Date: 2023-03-02 - Result:  1000.00 ****************\n",
            " OPEN P (4017.17): SELL 4000 @   4.30 -  BUY 3995 @   3.30 - TOTAL:   1.00\n",
            "CLOSE P (4045.16):  BUY 4000 @   0.00 - SELL 3995 @   0.00 - TOTAL:   0.00\n",
            "**************** Processed Date: 2023-03-03 - Result:  1000.00 ****************\n"
          ]
        },
        {
          "output_type": "stream",
          "name": "stderr",
          "text": [
            " 43%|████▎     | 132/309 [00:11<00:13, 13.15it/s]"
          ]
        },
        {
          "output_type": "stream",
          "name": "stdout",
          "text": [
            " OPEN P (4070.85): SELL 4055 @   4.25 -  BUY 4050 @   3.13 - TOTAL:   1.12\n",
            "CLOSE P (4048.46):  BUY 4055 @   6.54 - SELL 4050 @   1.54 - TOTAL:  -5.00\n",
            "**************** Processed Date: 2023-03-06 - Result: -3880.00 ****************\n",
            " OPEN C (4020.99): SELL 4040 @   6.70 -  BUY 4045 @   5.30 - TOTAL:   1.40\n",
            "CLOSE C (3985.22):  BUY 4040 @   0.00 - SELL 4045 @   0.00 - TOTAL:   0.00\n",
            "**************** Processed Date: 2023-03-07 - Result:  1400.00 ****************\n",
            " OPEN C (3891.53): SELL 3910 @   9.30 -  BUY 3915 @   8.00 - TOTAL:   1.30\n",
            "CLOSE C (3861.74):  BUY 3910 @   0.00 - SELL 3915 @   0.00 - TOTAL:   0.00\n",
            "**************** Processed Date: 2023-03-10 - Result:  1300.00 ****************\n",
            " OPEN P (3925.47): SELL 3910 @   8.81 -  BUY 3905 @   7.38 - TOTAL:   1.43\n",
            "CLOSE P (3919.70):  BUY 3910 @   0.00 - SELL 3905 @   0.00 - TOTAL:   0.00\n",
            "**************** Processed Date: 2023-03-14 - Result:  1430.00 ****************\n"
          ]
        },
        {
          "output_type": "stream",
          "name": "stderr",
          "text": [
            " 44%|████▍     | 137/309 [00:11<00:10, 15.75it/s]"
          ]
        },
        {
          "output_type": "stream",
          "name": "stdout",
          "text": [
            " OPEN P (3878.57): SELL 3860 @   8.40 -  BUY 3855 @   7.10 - TOTAL:   1.30\n",
            "CLOSE P (3957.31):  BUY 3860 @   0.00 - SELL 3855 @   0.00 - TOTAL:   0.00\n",
            "**************** Processed Date: 2023-03-16 - Result:  1300.00 ****************\n",
            " OPEN C (3927.01): SELL 3945 @   7.40 -  BUY 3950 @   6.30 - TOTAL:   1.10\n",
            "CLOSE C (3915.22):  BUY 3945 @   0.00 - SELL 3950 @   0.00 - TOTAL:   0.00\n",
            "**************** Processed Date: 2023-03-17 - Result:  1100.00 ****************\n",
            " OPEN P (4013.03): SELL 3995 @  19.30 -  BUY 3990 @  17.30 - TOTAL:   2.00\n",
            "CLOSE P (3936.52):  BUY 3995 @  58.48 - SELL 3990 @  53.48 - TOTAL:  -5.00\n",
            "**************** Processed Date: 2023-03-22 - Result: -3000.00 ****************\n",
            " OPEN P (3982.05): SELL 3965 @   6.90 -  BUY 3960 @   5.95 - TOTAL:   0.95\n",
            "CLOSE P (3947.79):  BUY 3965 @  17.21 - SELL 3960 @  12.21 - TOTAL:  -5.00\n",
            "**************** Processed Date: 2023-03-23 - Result: -4050.00 ****************\n"
          ]
        },
        {
          "output_type": "stream",
          "name": "stderr",
          "text": [
            "                                                 "
          ]
        },
        {
          "output_type": "stream",
          "name": "stdout",
          "text": [
            "****************** Processed Date: 2023-03-31 - Result: -- UV -- *******************\n",
            " OPEN P (4126.12): SELL 4110 @   4.01 -  BUY 4105 @   3.10 - TOTAL:   0.91\n",
            "CLOSE P (4124.25):  BUY 4110 @   0.00 - SELL 4105 @   0.00 - TOTAL:   0.00\n",
            "**************** Processed Date: 2023-04-03 - Result:   910.00 ****************\n",
            " OPEN C (4118.21): SELL 4135 @   2.97 -  BUY 4140 @   1.97 - TOTAL:   1.00\n",
            "CLOSE C (4100.64):  BUY 4135 @   0.00 - SELL 4140 @   0.00 - TOTAL:   0.00\n",
            "**************** Processed Date: 2023-04-04 - Result:  1000.00 ****************\n"
          ]
        },
        {
          "output_type": "stream",
          "name": "stderr",
          "text": [
            " 47%|████▋     | 145/309 [00:12<00:10, 15.35it/s]"
          ]
        },
        {
          "output_type": "stream",
          "name": "stdout",
          "text": [
            " OPEN C (4086.30): SELL 4105 @   2.38 -  BUY 4110 @   1.55 - TOTAL:   0.83\n",
            "CLOSE C (4090.22):  BUY 4105 @   0.00 - SELL 4110 @   0.00 - TOTAL:   0.00\n",
            "**************** Processed Date: 2023-04-05 - Result:   830.00 ****************\n",
            " OPEN P (4119.44): SELL 4100 @   3.20 -  BUY 4095 @   2.33 - TOTAL:   0.87\n",
            "CLOSE P (4145.24):  BUY 4100 @   0.00 - SELL 4095 @   0.00 - TOTAL:   0.00\n",
            "**************** Processed Date: 2023-04-13 - Result:   870.00 ****************\n",
            " OPEN C (4147.06): SELL 4165 @   2.26 -  BUY 4170 @   1.45 - TOTAL:   0.81\n",
            "CLOSE C (4154.77):  BUY 4165 @   0.00 - SELL 4170 @   0.00 - TOTAL:   0.00\n",
            "**************** Processed Date: 2023-04-18 - Result:   810.00 ****************\n",
            " OPEN P (4142.41): SELL 4125 @   2.55 -  BUY 4120 @   1.75 - TOTAL:   0.80\n",
            "CLOSE P (4154.69):  BUY 4125 @   0.00 - SELL 4120 @   0.00 - TOTAL:   0.00\n",
            "**************** Processed Date: 2023-04-19 - Result:   800.00 ****************\n"
          ]
        },
        {
          "output_type": "stream",
          "name": "stderr",
          "text": [
            " 48%|████▊     | 147/309 [00:12<00:10, 15.04it/s]"
          ]
        },
        {
          "output_type": "stream",
          "name": "stdout",
          "text": [
            "****************** Processed Date: 2023-04-20 - Result: -- UV -- *******************\n",
            " OPEN P (4141.25): SELL 4125 @   2.60 -  BUY 4120 @   1.75 - TOTAL:   0.85\n",
            "CLOSE P (4137.31):  BUY 4125 @   0.00 - SELL 4120 @   0.00 - TOTAL:   0.00\n",
            "**************** Processed Date: 2023-04-24 - Result:   850.00 ****************\n",
            " OPEN C (4107.42): SELL 4125 @   2.45 -  BUY 4130 @   1.65 - TOTAL:   0.80\n",
            "CLOSE C (4071.98):  BUY 4125 @   0.00 - SELL 4130 @   0.00 - TOTAL:   0.00\n",
            "**************** Processed Date: 2023-04-25 - Result:   800.00 ****************\n"
          ]
        },
        {
          "output_type": "stream",
          "name": "stderr",
          "text": [
            " 49%|████▉     | 151/309 [00:12<00:12, 13.11it/s]"
          ]
        },
        {
          "output_type": "stream",
          "name": "stdout",
          "text": [
            " OPEN C (4065.07): SELL 4085 @   2.52 -  BUY 4090 @   1.65 - TOTAL:   0.87\n",
            "CLOSE C (4056.27):  BUY 4085 @   0.00 - SELL 4090 @   0.00 - TOTAL:   0.00\n",
            "**************** Processed Date: 2023-04-26 - Result:   870.00 ****************\n",
            "****************** Processed Date: 2023-04-27 - Result: -- UV -- *******************\n",
            " OPEN P (4158.24): SELL 4140 @   4.02 -  BUY 4135 @   3.10 - TOTAL:   0.92\n",
            "CLOSE P (4169.77):  BUY 4140 @   0.00 - SELL 4135 @   0.00 - TOTAL:   0.00\n",
            "**************** Processed Date: 2023-04-28 - Result:   920.00 ****************\n",
            " OPEN C (4120.32): SELL 4140 @   3.10 -  BUY 4145 @   2.07 - TOTAL:   1.03\n",
            "CLOSE C (4119.05):  BUY 4140 @   0.00 - SELL 4145 @   0.00 - TOTAL:   0.00\n",
            "**************** Processed Date: 2023-05-02 - Result:  1030.00 ****************\n"
          ]
        },
        {
          "output_type": "stream",
          "name": "stderr",
          "text": [
            " 50%|█████     | 155/309 [00:13<00:10, 14.96it/s]"
          ]
        },
        {
          "output_type": "stream",
          "name": "stdout",
          "text": [
            " OPEN C (4050.72): SELL 4070 @   5.40 -  BUY 4075 @   4.20 - TOTAL:   1.20\n",
            "CLOSE C (4060.76):  BUY 4070 @   0.00 - SELL 4075 @   0.00 - TOTAL:   0.00\n",
            "**************** Processed Date: 2023-05-04 - Result:  1200.00 ****************\n",
            " OPEN P (4118.20): SELL 4100 @   3.95 -  BUY 4095 @   3.03 - TOTAL:   0.92\n",
            "CLOSE P (4135.77):  BUY 4100 @   0.00 - SELL 4095 @   0.00 - TOTAL:   0.00\n",
            "**************** Processed Date: 2023-05-05 - Result:   920.00 ****************\n",
            " OPEN C (4128.67): SELL 4145 @   2.40 -  BUY 4150 @   1.60 - TOTAL:   0.80\n",
            "CLOSE C (4137.90):  BUY 4145 @   0.00 - SELL 4150 @   0.00 - TOTAL:   0.00\n",
            "**************** Processed Date: 2023-05-08 - Result:   800.00 ****************\n",
            " OPEN C (4131.05): SELL 4150 @   3.10 -  BUY 4155 @   2.05 - TOTAL:   1.05\n",
            "CLOSE C (4137.10):  BUY 4150 @   0.00 - SELL 4155 @   0.00 - TOTAL:   0.00\n",
            "**************** Processed Date: 2023-05-10 - Result:  1050.00 ****************\n"
          ]
        },
        {
          "output_type": "stream",
          "name": "stderr",
          "text": []
        },
        {
          "output_type": "stream",
          "name": "stdout",
          "text": [
            " OPEN C (4117.37): SELL 4135 @   3.12 -  BUY 4140 @   2.10 - TOTAL:   1.02\n",
            "CLOSE C (4130.01):  BUY 4135 @   0.00 - SELL 4140 @   0.00 - TOTAL:   0.00\n",
            "**************** Processed Date: 2023-05-11 - Result:  1020.00 ****************\n",
            " OPEN C (4127.98): SELL 4145 @   2.45 -  BUY 4150 @   1.60 - TOTAL:   0.85\n",
            "CLOSE C (4123.85):  BUY 4145 @   0.00 - SELL 4150 @   0.00 - TOTAL:   0.00\n",
            "**************** Processed Date: 2023-05-12 - Result:   850.00 ****************\n",
            " OPEN C (4117.57): SELL 4135 @   1.85 -  BUY 4140 @   1.10 - TOTAL:   0.75\n",
            "CLOSE C (4136.51):  BUY 4135 @   1.51 - SELL 4140 @   0.00 - TOTAL:  -1.51\n",
            "**************** Processed Date: 2023-05-15 - Result:  -760.00 ****************\n",
            "****************** Processed Date: 2023-05-17 - Result: -- UV -- *******************\n",
            "****************** Processed Date: 2023-05-18 - Result: -- UV -- *******************\n",
            " OPEN P (4211.46): SELL 4195 @   4.40 -  BUY 4190 @   3.50 - TOTAL:   0.90\n",
            "CLOSE P (4191.97):  BUY 4195 @   3.03 - SELL 4190 @   0.00 - TOTAL:  -3.03\n"
          ]
        },
        {
          "output_type": "stream",
          "name": "stderr",
          "text": [
            " 53%|█████▎    | 164/309 [00:13<00:10, 13.36it/s]"
          ]
        },
        {
          "output_type": "stream",
          "name": "stdout",
          "text": [
            "**************** Processed Date: 2023-05-19 - Result: -2130.00 ****************\n",
            " OPEN P (4182.67): SELL 4165 @   2.36 -  BUY 4160 @   1.60 - TOTAL:   0.76\n",
            "CLOSE P (4145.97):  BUY 4165 @  19.03 - SELL 4160 @  14.03 - TOTAL:  -5.00\n",
            "**************** Processed Date: 2023-05-23 - Result: -4240.00 ****************\n",
            " OPEN C (4111.98): SELL 4130 @   4.10 -  BUY 4135 @   3.02 - TOTAL:   1.08\n",
            "CLOSE C (4115.13):  BUY 4130 @   0.00 - SELL 4135 @   0.00 - TOTAL:   0.00\n",
            "**************** Processed Date: 2023-05-24 - Result:  1080.00 ****************\n",
            " OPEN C (4136.50): SELL 4155 @   3.60 -  BUY 4160 @   2.50 - TOTAL:   1.10\n"
          ]
        },
        {
          "output_type": "stream",
          "name": "stderr",
          "text": []
        },
        {
          "output_type": "stream",
          "name": "stdout",
          "text": [
            "CLOSE C (4151.27):  BUY 4155 @   0.00 - SELL 4160 @   0.00 - TOTAL:   0.00\n",
            "**************** Processed Date: 2023-05-25 - Result:  1100.00 ****************\n",
            " OPEN P (4196.68): SELL 4180 @   4.44 -  BUY 4175 @   3.50 - TOTAL:   0.94\n",
            "CLOSE P (4205.47):  BUY 4180 @   0.00 - SELL 4175 @   0.00 - TOTAL:   0.00\n",
            "**************** Processed Date: 2023-05-26 - Result:   940.00 ****************\n",
            " OPEN C (4211.14): SELL 4230 @   2.40 -  BUY 4235 @   1.60 - TOTAL:   0.80\n",
            "CLOSE C (4205.47):  BUY 4230 @   0.00 - SELL 4235 @   0.00 - TOTAL:   0.00\n",
            "**************** Processed Date: 2023-05-30 - Result:   800.00 ****************\n",
            " OPEN C (4172.28): SELL 4190 @   3.00 -  BUY 4195 @   2.05 - TOTAL:   0.95\n",
            "CLOSE C (4181.76):  BUY 4190 @   0.00 - SELL 4195 @   0.00 - TOTAL:   0.00\n",
            "**************** Processed Date: 2023-05-31 - Result:   950.00 ****************\n"
          ]
        },
        {
          "output_type": "stream",
          "name": "stderr",
          "text": [
            "                                                 "
          ]
        },
        {
          "output_type": "stream",
          "name": "stdout",
          "text": [
            " OPEN P (4277.03): SELL 4260 @   2.50 -  BUY 4255 @   1.70 - TOTAL:   0.80\n",
            "CLOSE P (4283.59):  BUY 4260 @   0.00 - SELL 4255 @   0.00 - TOTAL:   0.00\n",
            "**************** Processed Date: 2023-06-06 - Result:   800.00 ****************\n",
            "****************** Processed Date: 2023-06-08 - Result: -- UV -- *******************\n",
            " OPEN P (4320.63): SELL 4305 @   2.60 -  BUY 4300 @   1.85 - TOTAL:   0.75\n",
            "CLOSE P (4299.44):  BUY 4305 @   5.56 - SELL 4300 @   0.56 - TOTAL:  -5.00\n",
            "**************** Processed Date: 2023-06-09 - Result: -4250.00 ****************\n",
            " OPEN P (4378.25): SELL 4360 @   8.15 -  BUY 4355 @   6.75 - TOTAL:   1.40\n",
            "CLOSE P (4372.57):  BUY 4360 @   0.00 - SELL 4355 @   0.00 - TOTAL:   0.00\n",
            "**************** Processed Date: 2023-06-14 - Result:  1400.00 ****************\n",
            " OPEN P (4395.12): SELL 4380 @   3.70 -  BUY 4375 @   2.85 - TOTAL:   0.85\n",
            "CLOSE P (4423.21):  BUY 4380 @   0.00 - SELL 4375 @   0.00 - TOTAL:   0.00\n",
            "**************** Processed Date: 2023-06-15 - Result:   850.00 ****************\n",
            " OPEN P (4372.44): SELL 4355 @   2.30 -  BUY 4350 @   1.52 - TOTAL:   0.78\n",
            "CLOSE P (4381.54):  BUY 4355 @   0.00 - SELL 4350 @   0.00 - TOTAL:   0.00\n"
          ]
        },
        {
          "output_type": "stream",
          "name": "stderr",
          "text": [
            "                                                 "
          ]
        },
        {
          "output_type": "stream",
          "name": "stdout",
          "text": [
            "**************** Processed Date: 2023-06-22 - Result:   780.00 ****************\n",
            "****************** Processed Date: 2023-06-23 - Result: -- UV -- *******************\n",
            " OPEN P (4356.40): SELL 4340 @   5.15 -  BUY 4335 @   2.55 - TOTAL:   2.60\n",
            "CLOSE P (4329.58):  BUY 4340 @  10.42 - SELL 4335 @   5.42 - TOTAL:  -5.00\n",
            "**************** Processed Date: 2023-06-26 - Result: -2400.00 ****************\n"
          ]
        },
        {
          "output_type": "stream",
          "name": "stderr",
          "text": [
            " 58%|█████▊    | 178/309 [00:14<00:12, 10.87it/s]"
          ]
        },
        {
          "output_type": "stream",
          "name": "stdout",
          "text": [
            "****************** Processed Date: 2023-06-28 - Result: -- UV -- *******************\n",
            "****************** Processed Date: 2023-06-29 - Result: -- UV -- *******************\n"
          ]
        },
        {
          "output_type": "stream",
          "name": "stderr",
          "text": [
            " 59%|█████▉    | 183/309 [00:15<00:11, 11.39it/s]"
          ]
        },
        {
          "output_type": "stream",
          "name": "stdout",
          "text": [
            " OPEN P (4445.97): SELL 4430 @   3.60 -  BUY 4425 @   2.65 - TOTAL:   0.95\n",
            "CLOSE P (4449.81):  BUY 4430 @   0.00 - SELL 4425 @   0.00 - TOTAL:   0.00\n",
            "**************** Processed Date: 2023-06-30 - Result:   950.00 ****************\n",
            "****************** Processed Date: 2023-07-03 - Result: -- UV -- *******************\n",
            "****************** Processed Date: 2023-07-05 - Result: -- UV -- *******************\n",
            " OPEN C (4392.19): SELL 4410 @   2.80 -  BUY 4415 @   1.85 - TOTAL:   0.95\n",
            "CLOSE C (4411.41):  BUY 4410 @   1.41 - SELL 4415 @   0.00 - TOTAL:  -1.41\n",
            "**************** Processed Date: 2023-07-06 - Result:  -460.00 ****************\n",
            "****************** Processed Date: 2023-07-07 - Result: -- UV -- *******************\n"
          ]
        },
        {
          "output_type": "stream",
          "name": "stderr",
          "text": [
            " 61%|██████    | 188/309 [00:15<00:08, 14.62it/s]"
          ]
        },
        {
          "output_type": "stream",
          "name": "stdout",
          "text": [
            "****************** Processed Date: 2023-07-10 - Result: -- UV -- *******************\n",
            " OPEN P (4485.61): SELL 4470 @   2.50 -  BUY 4465 @   1.75 - TOTAL:   0.75\n",
            "CLOSE P (4472.66):  BUY 4470 @   0.00 - SELL 4465 @   0.00 - TOTAL:   0.00\n",
            "**************** Processed Date: 2023-07-12 - Result:   750.00 ****************\n",
            "****************** Processed Date: 2023-07-18 - Result: -- UV -- *******************\n",
            "****************** Processed Date: 2023-07-21 - Result: -- UV -- *******************\n",
            "****************** Processed Date: 2023-07-25 - Result: -- UV -- *******************\n",
            " OPEN C (4589.23): SELL 4605 @   1.98 -  BUY 4610 @   1.12 - TOTAL:   0.86\n",
            "CLOSE C (4537.76):  BUY 4605 @   0.00 - SELL 4610 @   0.00 - TOTAL:   0.00\n",
            "**************** Processed Date: 2023-07-27 - Result:   860.00 ****************\n"
          ]
        },
        {
          "output_type": "stream",
          "name": "stderr",
          "text": [
            " 62%|██████▏   | 192/309 [00:15<00:08, 13.87it/s]"
          ]
        },
        {
          "output_type": "stream",
          "name": "stdout",
          "text": [
            "****************** Processed Date: 2023-07-28 - Result: -- UV -- *******************\n",
            " OPEN C (4532.04): SELL 4550 @   2.55 -  BUY 4555 @   1.60 - TOTAL:   0.95\n",
            "CLOSE C (4513.76):  BUY 4550 @   0.00 - SELL 4555 @   0.00 - TOTAL:   0.00\n",
            "**************** Processed Date: 2023-08-02 - Result:   950.00 ****************\n",
            " OPEN C (4473.65): SELL 4490 @   3.50 -  BUY 4495 @   2.35 - TOTAL:   1.15\n",
            "CLOSE C (4499.40):  BUY 4490 @   9.40 - SELL 4495 @   4.40 - TOTAL:  -5.00\n",
            "**************** Processed Date: 2023-08-08 - Result: -3850.00 ****************\n",
            "****************** Processed Date: 2023-08-10 - Result: -- UV -- *******************\n"
          ]
        },
        {
          "output_type": "stream",
          "name": "stderr",
          "text": [
            " 63%|██████▎   | 196/309 [00:16<00:08, 13.80it/s]"
          ]
        },
        {
          "output_type": "stream",
          "name": "stdout",
          "text": [
            " OPEN P (4470.29): SELL 4455 @   5.40 -  BUY 4450 @   4.40 - TOTAL:   1.00\n",
            "CLOSE P (4464.31):  BUY 4455 @   0.00 - SELL 4450 @   0.00 - TOTAL:   0.00\n",
            "**************** Processed Date: 2023-08-11 - Result:  1000.00 ****************\n",
            " OPEN P (4468.52): SELL 4450 @   2.95 -  BUY 4445 @   2.15 - TOTAL:   0.80\n",
            "CLOSE P (4489.99):  BUY 4450 @   0.00 - SELL 4445 @   0.00 - TOTAL:   0.00\n",
            "**************** Processed Date: 2023-08-14 - Result:   800.00 ****************\n",
            " OPEN C (4449.18): SELL 4465 @   4.20 -  BUY 4470 @   2.95 - TOTAL:   1.25\n",
            "CLOSE C (4438.12):  BUY 4465 @   0.00 - SELL 4470 @   0.00 - TOTAL:   0.00\n",
            "**************** Processed Date: 2023-08-15 - Result:  1250.00 ****************\n",
            " OPEN P (4442.32): SELL 4425 @   3.67 -  BUY 4420 @   2.70 - TOTAL:   0.97\n",
            "CLOSE P (4404.24):  BUY 4425 @  20.76 - SELL 4420 @  15.76 - TOTAL:  -5.00\n",
            "**************** Processed Date: 2023-08-16 - Result: -4030.00 ****************\n"
          ]
        },
        {
          "output_type": "stream",
          "name": "stderr",
          "text": [
            " 65%|██████▍   | 200/309 [00:16<00:08, 13.25it/s]"
          ]
        },
        {
          "output_type": "stream",
          "name": "stdout",
          "text": [
            " OPEN C (4408.21): SELL 4425 @   3.80 -  BUY 4430 @   2.65 - TOTAL:   1.15\n",
            "CLOSE C (4369.74):  BUY 4425 @   0.00 - SELL 4430 @   0.00 - TOTAL:   0.00\n",
            "**************** Processed Date: 2023-08-17 - Result:  1150.00 ****************\n",
            " OPEN P (4345.41): SELL 4330 @   5.50 -  BUY 4325 @   4.15 - TOTAL:   1.35\n",
            "CLOSE P (4370.60):  BUY 4330 @   0.00 - SELL 4325 @   0.00 - TOTAL:   0.00\n",
            "**************** Processed Date: 2023-08-18 - Result:  1350.00 ****************\n",
            " OPEN C (4402.05): SELL 4420 @   3.43 -  BUY 4425 @   2.35 - TOTAL:   1.08\n",
            "CLOSE C (4387.87):  BUY 4420 @   0.00 - SELL 4425 @   0.00 - TOTAL:   0.00\n",
            "**************** Processed Date: 2023-08-22 - Result:  1080.00 ****************\n"
          ]
        },
        {
          "output_type": "stream",
          "name": "stderr",
          "text": [
            " 65%|██████▌   | 202/309 [00:16<00:09, 11.27it/s]"
          ]
        },
        {
          "output_type": "stream",
          "name": "stdout",
          "text": [
            " OPEN P (4415.66): SELL 4400 @   4.40 -  BUY 4395 @   3.35 - TOTAL:   1.05\n",
            "CLOSE P (4436.54):  BUY 4400 @   0.00 - SELL 4395 @   0.00 - TOTAL:   0.00\n",
            "**************** Processed Date: 2023-08-23 - Result:  1050.00 ****************\n",
            " OPEN C (4428.64): SELL 4445 @   3.80 -  BUY 4450 @   2.60 - TOTAL:   1.20\n",
            "CLOSE C (4375.99):  BUY 4445 @   0.00 - SELL 4450 @   0.00 - TOTAL:   0.00\n",
            "**************** Processed Date: 2023-08-24 - Result:  1200.00 ****************\n"
          ]
        },
        {
          "output_type": "stream",
          "name": "stderr",
          "text": [
            " 66%|██████▌   | 204/309 [00:16<00:12,  8.73it/s]"
          ]
        },
        {
          "output_type": "stream",
          "name": "stdout",
          "text": [
            " OPEN P (4437.19): SELL 4420 @   3.50 -  BUY 4415 @   2.65 - TOTAL:   0.85\n",
            "CLOSE P (4433.20):  BUY 4420 @   0.00 - SELL 4415 @   0.00 - TOTAL:   0.00\n",
            "**************** Processed Date: 2023-08-28 - Result:   850.00 ****************\n",
            " OPEN P (4465.85): SELL 4450 @   3.55 -  BUY 4445 @   2.65 - TOTAL:   0.90\n",
            "CLOSE P (4495.98):  BUY 4450 @   0.00 - SELL 4445 @   0.00 - TOTAL:   0.00\n",
            "**************** Processed Date: 2023-08-29 - Result:   900.00 ****************\n"
          ]
        },
        {
          "output_type": "stream",
          "name": "stderr",
          "text": [
            " 68%|██████▊   | 209/309 [00:17<00:07, 12.54it/s]"
          ]
        },
        {
          "output_type": "stream",
          "name": "stdout",
          "text": [
            " OPEN P (4530.18): SELL 4515 @   3.28 -  BUY 4510 @   2.44 - TOTAL:   0.84\n",
            "CLOSE P (4508.28):  BUY 4515 @   6.72 - SELL 4510 @   1.72 - TOTAL:  -5.00\n",
            "**************** Processed Date: 2023-08-31 - Result: -4160.00 ****************\n",
            "****************** Processed Date: 2023-09-01 - Result: -- UV -- *******************\n",
            "****************** Processed Date: 2023-09-05 - Result: -- UV -- *******************\n",
            " OPEN C (4464.49): SELL 4480 @   2.20 -  BUY 4485 @   1.35 - TOTAL:   0.85\n",
            "CLOSE C (4465.46):  BUY 4480 @   0.00 - SELL 4485 @   0.00 - TOTAL:   0.00\n",
            "**************** Processed Date: 2023-09-06 - Result:   850.00 ****************\n",
            " OPEN P (4471.09): SELL 4455 @   2.37 -  BUY 4450 @   1.60 - TOTAL:   0.77\n",
            "CLOSE P (4457.99):  BUY 4455 @   0.00 - SELL 4450 @   0.00 - TOTAL:   0.00\n",
            "**************** Processed Date: 2023-09-08 - Result:   770.00 ****************\n",
            "****************** Processed Date: 2023-09-11 - Result: -- UV -- *******************\n"
          ]
        },
        {
          "output_type": "stream",
          "name": "stderr",
          "text": [
            " 69%|██████▉   | 214/309 [00:17<00:07, 13.53it/s]"
          ]
        },
        {
          "output_type": "stream",
          "name": "stdout",
          "text": [
            " OPEN C (4478.04): SELL 4495 @   2.40 -  BUY 4500 @   1.50 - TOTAL:   0.90\n",
            "CLOSE C (4450.35):  BUY 4495 @   0.00 - SELL 4500 @   0.00 - TOTAL:   0.00\n",
            "**************** Processed Date: 2023-09-15 - Result:   900.00 ****************\n",
            " OPEN C (4433.24): SELL 4450 @   1.75 -  BUY 4455 @   1.00 - TOTAL:   0.75\n",
            "CLOSE C (4443.69):  BUY 4450 @   0.00 - SELL 4455 @   0.00 - TOTAL:   0.00\n",
            "**************** Processed Date: 2023-09-19 - Result:   750.00 ****************\n",
            " OPEN C (4363.37): SELL 4380 @   3.40 -  BUY 4385 @   2.30 - TOTAL:   1.10\n",
            "CLOSE C (4329.41):  BUY 4380 @   0.00 - SELL 4385 @   0.00 - TOTAL:   0.00\n",
            "**************** Processed Date: 2023-09-21 - Result:  1100.00 ****************\n",
            " OPEN P (4344.37): SELL 4325 @   3.15 -  BUY 4320 @   2.32 - TOTAL:   0.83\n",
            "CLOSE P (4319.25):  BUY 4325 @   5.75 - SELL 4320 @   0.75 - TOTAL:  -5.00\n",
            "**************** Processed Date: 2023-09-22 - Result: -4170.00 ****************\n"
          ]
        },
        {
          "output_type": "stream",
          "name": "stderr",
          "text": [
            " 71%|███████   | 218/309 [00:17<00:06, 13.48it/s]"
          ]
        },
        {
          "output_type": "stream",
          "name": "stdout",
          "text": [
            " OPEN C (4294.36): SELL 4310 @   5.30 -  BUY 4315 @   3.90 - TOTAL:   1.40\n",
            "CLOSE C (4274.97):  BUY 4310 @   0.00 - SELL 4315 @   0.00 - TOTAL:   0.00\n",
            "**************** Processed Date: 2023-09-26 - Result:  1400.00 ****************\n",
            " OPEN C (4283.77): SELL 4300 @   4.30 -  BUY 4305 @   3.00 - TOTAL:   1.30\n",
            "CLOSE C (4273.33):  BUY 4300 @   0.00 - SELL 4305 @   0.00 - TOTAL:   0.00\n",
            "**************** Processed Date: 2023-09-27 - Result:  1300.00 ****************\n",
            " OPEN P (4278.68): SELL 4260 @   6.00 -  BUY 4255 @   4.60 - TOTAL:   1.40\n",
            "CLOSE P (4299.26):  BUY 4260 @   0.00 - SELL 4255 @   0.00 - TOTAL:   0.00\n",
            "**************** Processed Date: 2023-09-28 - Result:  1400.00 ****************\n",
            " OPEN C (4318.39): SELL 4335 @   5.20 -  BUY 4340 @   4.10 - TOTAL:   1.10\n",
            "CLOSE C (4289.13):  BUY 4335 @   0.00 - SELL 4340 @   0.00 - TOTAL:   0.00\n",
            "**************** Processed Date: 2023-09-29 - Result:  1100.00 ****************\n",
            " OPEN P (4296.61): SELL 4280 @   4.96 -  BUY 4275 @   3.90 - TOTAL:   1.06\n",
            "CLOSE P (4335.85):  BUY 4280 @   0.00 - SELL 4275 @   0.00 - TOTAL:   0.00\n"
          ]
        },
        {
          "output_type": "stream",
          "name": "stderr",
          "text": []
        },
        {
          "output_type": "stream",
          "name": "stdout",
          "text": [
            "**************** Processed Date: 2023-10-09 - Result:  1060.00 ****************\n",
            " OPEN P (4364.41): SELL 4345 @   4.36 -  BUY 4340 @   3.31 - TOTAL:   1.05\n",
            "CLOSE P (4358.63):  BUY 4345 @   0.00 - SELL 4340 @   0.00 - TOTAL:   0.00\n",
            "**************** Processed Date: 2023-10-10 - Result:  1050.00 ****************\n",
            " OPEN C (4363.36): SELL 4380 @   4.60 -  BUY 4385 @   3.40 - TOTAL:   1.20\n",
            "CLOSE C (4376.80):  BUY 4380 @   0.00 - SELL 4385 @   0.00 - TOTAL:   0.00\n",
            "**************** Processed Date: 2023-10-11 - Result:  1200.00 ****************\n",
            " OPEN C (4372.21): SELL 4390 @   3.60 -  BUY 4395 @   2.55 - TOTAL:   1.05\n"
          ]
        },
        {
          "output_type": "stream",
          "name": "stderr",
          "text": [
            " 72%|███████▏  | 224/309 [00:18<00:08, 10.45it/s]"
          ]
        },
        {
          "output_type": "stream",
          "name": "stdout",
          "text": [
            "CLOSE C (4349.63):  BUY 4390 @   0.00 - SELL 4395 @   0.00 - TOTAL:   0.00\n",
            "**************** Processed Date: 2023-10-12 - Result:  1050.00 ****************\n",
            " OPEN C (4357.44): SELL 4375 @   4.90 -  BUY 4380 @   3.60 - TOTAL:   1.30\n",
            "CLOSE C (4325.28):  BUY 4375 @   0.00 - SELL 4380 @   0.00 - TOTAL:   0.00\n",
            "**************** Processed Date: 2023-10-13 - Result:  1300.00 ****************\n",
            " OPEN P (4371.44): SELL 4355 @   4.80 -  BUY 4350 @   3.72 - TOTAL:   1.08\n",
            "CLOSE P (4371.93):  BUY 4355 @   0.00 - SELL 4350 @   0.00 - TOTAL:   0.00\n",
            "**************** Processed Date: 2023-10-16 - Result:  1080.00 ****************\n",
            " OPEN P (4359.70): SELL 4340 @   4.50 -  BUY 4335 @   3.50 - TOTAL:   1.00\n",
            "CLOSE P (4372.98):  BUY 4340 @   0.00 - SELL 4335 @   0.00 - TOTAL:   0.00\n"
          ]
        },
        {
          "output_type": "stream",
          "name": "stderr",
          "text": [
            " 74%|███████▍  | 228/309 [00:18<00:06, 12.51it/s]"
          ]
        },
        {
          "output_type": "stream",
          "name": "stdout",
          "text": [
            "**************** Processed Date: 2023-10-17 - Result:  1000.00 ****************\n",
            " OPEN C (4304.94): SELL 4320 @   8.10 -  BUY 4325 @   6.47 - TOTAL:   1.63\n",
            "CLOSE C (4277.58):  BUY 4320 @   0.00 - SELL 4325 @   0.00 - TOTAL:   0.00\n",
            "**************** Processed Date: 2023-10-19 - Result:  1630.00 ****************\n",
            " OPEN C (4245.11): SELL 4265 @   6.50 -  BUY 4270 @   5.30 - TOTAL:   1.20\n",
            "CLOSE C (4223.58):  BUY 4265 @   0.00 - SELL 4270 @   0.00 - TOTAL:   0.00\n",
            "**************** Processed Date: 2023-10-20 - Result:  1200.00 ****************\n",
            " OPEN P (4255.24): SELL 4240 @   5.50 -  BUY 4235 @   4.10 - TOTAL:   1.40\n",
            "CLOSE P (4247.62):  BUY 4240 @   0.00 - SELL 4235 @   0.00 - TOTAL:   0.00\n",
            "**************** Processed Date: 2023-10-24 - Result:  1400.00 ****************\n",
            "****************** Processed Date: 2023-10-25 - Result: -- UV -- *******************\n"
          ]
        },
        {
          "output_type": "stream",
          "name": "stderr",
          "text": [
            " 75%|███████▌  | 233/309 [00:19<00:05, 15.11it/s]"
          ]
        },
        {
          "output_type": "stream",
          "name": "stdout",
          "text": [
            " OPEN C (4141.69): SELL 4160 @   5.80 -  BUY 4165 @   4.60 - TOTAL:   1.20\n",
            "CLOSE C (4118.30):  BUY 4160 @   0.00 - SELL 4165 @   0.00 - TOTAL:   0.00\n",
            "**************** Processed Date: 2023-10-27 - Result:  1200.00 ****************\n",
            " OPEN P (4222.76): SELL 4205 @   9.50 -  BUY 4200 @   8.00 - TOTAL:   1.50\n",
            "CLOSE P (4238.46):  BUY 4205 @   0.00 - SELL 4200 @   0.00 - TOTAL:   0.00\n",
            "**************** Processed Date: 2023-11-01 - Result:  1500.00 ****************\n",
            " OPEN P (4292.99): SELL 4275 @   3.37 -  BUY 4270 @   2.45 - TOTAL:   0.92\n",
            "CLOSE P (4318.97):  BUY 4275 @   0.00 - SELL 4270 @   0.00 - TOTAL:   0.00\n",
            "**************** Processed Date: 2023-11-02 - Result:   920.00 ****************\n",
            " OPEN P (4348.88): SELL 4330 @   3.60 -  BUY 4325 @   2.77 - TOTAL:   0.83\n",
            "CLOSE P (4358.11):  BUY 4330 @   0.00 - SELL 4325 @   0.00 - TOTAL:   0.00\n",
            "**************** Processed Date: 2023-11-03 - Result:   830.00 ****************\n",
            " OPEN C (4363.48): SELL 4380 @   2.15 -  BUY 4385 @   1.30 - TOTAL:   0.85\n",
            "CLOSE C (4366.73):  BUY 4380 @   0.00 - SELL 4385 @   0.00 - TOTAL:   0.00\n",
            "**************** Processed Date: 2023-11-06 - Result:   850.00 ****************\n"
          ]
        },
        {
          "output_type": "stream",
          "name": "stderr",
          "text": [
            " 77%|███████▋  | 237/309 [00:19<00:04, 16.10it/s]"
          ]
        },
        {
          "output_type": "stream",
          "name": "stdout",
          "text": [
            " OPEN C (4379.65): SELL 4395 @   2.22 -  BUY 4400 @   1.35 - TOTAL:   0.87\n",
            "CLOSE C (4382.98):  BUY 4395 @   0.00 - SELL 4400 @   0.00 - TOTAL:   0.00\n",
            "**************** Processed Date: 2023-11-08 - Result:   870.00 ****************\n",
            " OPEN C (4374.21): SELL 4390 @   2.72 -  BUY 4395 @   1.70 - TOTAL:   1.02\n",
            "CLOSE C (4347.43):  BUY 4390 @   0.00 - SELL 4395 @   0.00 - TOTAL:   0.00\n",
            "**************** Processed Date: 2023-11-09 - Result:  1020.00 ****************\n",
            " OPEN C (4357.03): SELL 4375 @   2.16 -  BUY 4380 @   1.25 - TOTAL:   0.91\n",
            "CLOSE C (4415.89):  BUY 4375 @  40.89 - SELL 4380 @  35.89 - TOTAL:  -5.00\n",
            "**************** Processed Date: 2023-11-10 - Result: -4090.00 ****************\n",
            " OPEN P (4496.38): SELL 4480 @   3.50 -  BUY 4475 @   2.60 - TOTAL:   0.90\n",
            "CLOSE P (4495.83):  BUY 4480 @   0.00 - SELL 4475 @   0.00 - TOTAL:   0.00\n",
            "**************** Processed Date: 2023-11-14 - Result:   900.00 ****************\n",
            " OPEN P (4505.75): SELL 4490 @   2.90 -  BUY 4485 @   2.05 - TOTAL:   0.85\n",
            "CLOSE P (4508.43):  BUY 4490 @   0.00 - SELL 4485 @   0.00 - TOTAL:   0.00\n",
            "**************** Processed Date: 2023-11-16 - Result:   850.00 ****************\n"
          ]
        },
        {
          "output_type": "stream",
          "name": "stderr",
          "text": [
            " 79%|███████▉  | 245/309 [00:19<00:02, 24.64it/s]"
          ]
        },
        {
          "output_type": "stream",
          "name": "stdout",
          "text": [
            "****************** Processed Date: 2023-11-20 - Result: -- UV -- *******************\n",
            "****************** Processed Date: 2023-11-21 - Result: -- UV -- *******************\n",
            "****************** Processed Date: 2023-11-27 - Result: -- UV -- *******************\n",
            "****************** Processed Date: 2023-11-30 - Result: -- UV -- *******************\n",
            "****************** Processed Date: 2023-12-05 - Result: -- UV -- *******************\n",
            " OPEN C (4573.91): SELL 4590 @   2.15 -  BUY 4595 @   1.35 - TOTAL:   0.80\n",
            "CLOSE C (4550.34):  BUY 4590 @   0.00 - SELL 4595 @   0.00 - TOTAL:   0.00\n",
            "**************** Processed Date: 2023-12-06 - Result:   800.00 ****************\n",
            "****************** Processed Date: 2023-12-07 - Result: -- UV -- *******************\n",
            " OPEN P (4601.35): SELL 4585 @   2.65 -  BUY 4580 @   1.85 - TOTAL:   0.80\n",
            "CLOSE P (4603.49):  BUY 4585 @   0.00 - SELL 4580 @   0.00 - TOTAL:   0.00\n",
            "**************** Processed Date: 2023-12-08 - Result:   800.00 ****************\n",
            "****************** Processed Date: 2023-12-11 - Result: -- UV -- *******************\n"
          ]
        },
        {
          "output_type": "stream",
          "name": "stderr",
          "text": [
            " 81%|████████  | 249/309 [00:19<00:02, 27.93it/s]"
          ]
        },
        {
          "output_type": "stream",
          "name": "stdout",
          "text": [
            " OPEN P (4721.23): SELL 4705 @   2.50 -  BUY 4700 @   1.65 - TOTAL:   0.85\n",
            "CLOSE P (4715.03):  BUY 4705 @   0.00 - SELL 4700 @   0.00 - TOTAL:   0.00\n",
            "**************** Processed Date: 2023-12-15 - Result:   850.00 ****************\n",
            "****************** Processed Date: 2023-12-18 - Result: -- UV -- *******************\n",
            "****************** Processed Date: 2023-12-19 - Result: -- UV -- *******************\n"
          ]
        },
        {
          "output_type": "stream",
          "name": "stderr",
          "text": [
            "                                                 "
          ]
        },
        {
          "output_type": "stream",
          "name": "stdout",
          "text": [
            "****************** Processed Date: 2023-12-20 - Result: -- UV -- *******************\n",
            " OPEN C (4730.79): SELL 4750 @   3.50 -  BUY 4755 @   2.55 - TOTAL:   0.95\n"
          ]
        },
        {
          "output_type": "stream",
          "name": "stderr",
          "text": [
            " 83%|████████▎ | 255/309 [00:20<00:03, 15.77it/s]"
          ]
        },
        {
          "output_type": "stream",
          "name": "stdout",
          "text": [
            "CLOSE C (4747.53):  BUY 4750 @   0.00 - SELL 4755 @   0.00 - TOTAL:   0.00\n",
            "**************** Processed Date: 2023-12-21 - Result:   950.00 ****************\n",
            " OPEN P (4770.30): SELL 4755 @   3.10 -  BUY 4750 @   2.16 - TOTAL:   0.94\n",
            "CLOSE P (4755.16):  BUY 4755 @   0.00 - SELL 4750 @   0.00 - TOTAL:   0.00\n",
            "**************** Processed Date: 2023-12-22 - Result:   940.00 ****************\n",
            "****************** Processed Date: 2023-12-26 - Result: -- UV -- *******************\n",
            "****************** Processed Date: 2024-01-02 - Result: -- UV -- *******************\n",
            " OPEN C (4713.21): SELL 4730 @   2.70 -  BUY 4735 @   1.75 - TOTAL:   0.95\n",
            "CLOSE C (4704.15):  BUY 4730 @   0.00 - SELL 4735 @   0.00 - TOTAL:   0.00\n",
            "**************** Processed Date: 2024-01-03 - Result:   950.00 ****************\n",
            " OPEN P (4715.09): SELL 4700 @   2.50 -  BUY 4695 @   1.65 - TOTAL:   0.85\n",
            "CLOSE P (4689.70):  BUY 4700 @  10.30 - SELL 4695 @   5.30 - TOTAL:  -5.00\n"
          ]
        },
        {
          "output_type": "stream",
          "name": "stderr",
          "text": [
            " 84%|████████▍ | 261/309 [00:20<00:02, 18.74it/s]"
          ]
        },
        {
          "output_type": "stream",
          "name": "stdout",
          "text": [
            "**************** Processed Date: 2024-01-04 - Result: -4150.00 ****************\n",
            " OPEN P (4712.64): SELL 4695 @   3.40 -  BUY 4690 @   2.55 - TOTAL:   0.85\n",
            "CLOSE P (4696.66):  BUY 4695 @   0.00 - SELL 4690 @   0.00 - TOTAL:   0.00\n",
            "**************** Processed Date: 2024-01-05 - Result:   850.00 ****************\n",
            "****************** Processed Date: 2024-01-08 - Result: -- UV -- *******************\n",
            " OPEN P (4742.03): SELL 4725 @   2.15 -  BUY 4720 @   1.40 - TOTAL:   0.75\n",
            "CLOSE P (4755.87):  BUY 4725 @   0.00 - SELL 4720 @   0.00 - TOTAL:   0.00\n",
            "**************** Processed Date: 2024-01-09 - Result:   750.00 ****************\n",
            " OPEN C (4766.58): SELL 4785 @   3.80 -  BUY 4790 @   2.70 - TOTAL:   1.10\n",
            "CLOSE C (4780.29):  BUY 4785 @   0.00 - SELL 4790 @   0.00 - TOTAL:   0.00\n",
            "**************** Processed Date: 2024-01-11 - Result:  1100.00 ****************\n"
          ]
        },
        {
          "output_type": "stream",
          "name": "stderr",
          "text": [
            " 85%|████████▌ | 264/309 [00:20<00:02, 19.05it/s]"
          ]
        },
        {
          "output_type": "stream",
          "name": "stdout",
          "text": [
            " OPEN C (4780.86): SELL 4800 @   3.00 -  BUY 4805 @   2.05 - TOTAL:   0.95\n",
            "CLOSE C (4783.14):  BUY 4800 @   0.00 - SELL 4805 @   0.00 - TOTAL:   0.00\n",
            "**************** Processed Date: 2024-01-12 - Result:   950.00 ****************\n",
            " OPEN P (4895.88): SELL 4880 @   3.00 -  BUY 4875 @   2.10 - TOTAL:   0.90\n",
            "CLOSE P (4895.05):  BUY 4880 @   0.00 - SELL 4875 @   0.00 - TOTAL:   0.00\n",
            "**************** Processed Date: 2024-01-25 - Result:   900.00 ****************\n",
            " OPEN C (4887.84): SELL 4905 @   8.15 -  BUY 4910 @   6.80 - TOTAL:   1.35\n",
            "CLOSE C (4853.46):  BUY 4905 @   0.00 - SELL 4910 @   0.00 - TOTAL:   0.00\n",
            "**************** Processed Date: 2024-01-31 - Result:  1350.00 ****************\n",
            " OPEN P (4923.81): SELL 4905 @   4.10 -  BUY 4900 @   3.20 - TOTAL:   0.90\n",
            "CLOSE P (4958.04):  BUY 4905 @   0.00 - SELL 4900 @   0.00 - TOTAL:   0.00\n",
            "**************** Processed Date: 2024-02-02 - Result:   900.00 ****************\n",
            " OPEN C (4928.95): SELL 4945 @   4.02 -  BUY 4950 @   2.82 - TOTAL:   1.20\n",
            "CLOSE C (4942.21):  BUY 4945 @   0.00 - SELL 4950 @   0.00 - TOTAL:   0.00\n"
          ]
        },
        {
          "output_type": "stream",
          "name": "stderr",
          "text": [
            " 87%|████████▋ | 270/309 [00:20<00:01, 19.78it/s]"
          ]
        },
        {
          "output_type": "stream",
          "name": "stdout",
          "text": [
            "**************** Processed Date: 2024-02-05 - Result:  1200.00 ****************\n",
            " OPEN C (4938.65): SELL 4955 @   3.30 -  BUY 4960 @   2.25 - TOTAL:   1.05\n",
            "CLOSE C (4954.24):  BUY 4955 @   0.00 - SELL 4960 @   0.00 - TOTAL:   0.00\n",
            "**************** Processed Date: 2024-02-06 - Result:  1050.00 ****************\n",
            " OPEN P (5010.66): SELL 4995 @   2.90 -  BUY 4990 @   2.10 - TOTAL:   0.80\n",
            "CLOSE P (5025.89):  BUY 4995 @   0.00 - SELL 4990 @   0.00 - TOTAL:   0.00\n",
            "**************** Processed Date: 2024-02-09 - Result:   800.00 ****************\n",
            " OPEN P (4962.19): SELL 4945 @   4.15 -  BUY 4940 @   3.15 - TOTAL:   1.00\n",
            "CLOSE P (4953.70):  BUY 4945 @   0.00 - SELL 4940 @   0.00 - TOTAL:   0.00\n",
            "**************** Processed Date: 2024-02-13 - Result:  1000.00 ****************\n",
            " OPEN C (5012.96): SELL 5030 @   4.10 -  BUY 5035 @   2.90 - TOTAL:   1.20\n",
            "CLOSE C (5005.15):  BUY 5030 @   0.00 - SELL 5035 @   0.00 - TOTAL:   0.00\n"
          ]
        },
        {
          "output_type": "stream",
          "name": "stderr",
          "text": [
            " 88%|████████▊ | 273/309 [00:21<00:01, 19.40it/s]"
          ]
        },
        {
          "output_type": "stream",
          "name": "stdout",
          "text": [
            "**************** Processed Date: 2024-02-16 - Result:  1200.00 ****************\n",
            " OPEN C (4971.61): SELL 4990 @   3.60 -  BUY 4995 @   2.47 - TOTAL:   1.13\n",
            "CLOSE C (4975.99):  BUY 4990 @   0.00 - SELL 4995 @   0.00 - TOTAL:   0.00\n",
            "**************** Processed Date: 2024-02-20 - Result:  1130.00 ****************\n",
            " OPEN P (5063.30): SELL 5045 @   4.00 -  BUY 5040 @   3.00 - TOTAL:   1.00\n",
            "CLOSE P (5086.19):  BUY 5045 @   0.00 - SELL 5040 @   0.00 - TOTAL:   0.00\n",
            "**************** Processed Date: 2024-02-22 - Result:  1000.00 ****************\n",
            " OPEN C (5085.35): SELL 5105 @   2.22 -  BUY 5110 @   1.45 - TOTAL:   0.77\n",
            "CLOSE C (5097.54):  BUY 5105 @   0.00 - SELL 5110 @   0.00 - TOTAL:   0.00\n",
            "**************** Processed Date: 2024-02-29 - Result:   770.00 ****************\n",
            " OPEN P (5111.78): SELL 5095 @   3.20 -  BUY 5090 @   2.30 - TOTAL:   0.90\n",
            "CLOSE P (5137.04):  BUY 5095 @   0.00 - SELL 5090 @   0.00 - TOTAL:   0.00\n",
            "**************** Processed Date: 2024-03-01 - Result:   900.00 ****************\n"
          ]
        },
        {
          "output_type": "stream",
          "name": "stderr",
          "text": [
            " 90%|█████████ | 279/309 [00:21<00:01, 20.16it/s]"
          ]
        },
        {
          "output_type": "stream",
          "name": "stdout",
          "text": [
            " OPEN C (5091.37): SELL 5110 @   2.30 -  BUY 5115 @   1.50 - TOTAL:   0.80\n",
            "CLOSE C (5080.56):  BUY 5110 @   0.00 - SELL 5115 @   0.00 - TOTAL:   0.00\n",
            "**************** Processed Date: 2024-03-05 - Result:   800.00 ****************\n",
            " OPEN C (5101.55): SELL 5120 @   3.85 -  BUY 5125 @   2.80 - TOTAL:   1.05\n",
            "CLOSE C (5105.73):  BUY 5120 @   0.00 - SELL 5125 @   0.00 - TOTAL:   0.00\n",
            "**************** Processed Date: 2024-03-06 - Result:  1050.00 ****************\n",
            " OPEN P (5148.75): SELL 5130 @   3.60 -  BUY 5125 @   2.74 - TOTAL:   0.86\n",
            "CLOSE P (5158.28):  BUY 5130 @   0.00 - SELL 5125 @   0.00 - TOTAL:   0.00\n",
            "**************** Processed Date: 2024-03-07 - Result:   860.00 ****************\n",
            " OPEN P (5186.49): SELL 5170 @   4.10 -  BUY 5165 @   3.00 - TOTAL:   1.10\n",
            "CLOSE P (5124.37):  BUY 5170 @  45.63 - SELL 5165 @  40.63 - TOTAL:  -5.00\n",
            "**************** Processed Date: 2024-03-08 - Result: -3900.00 ****************\n",
            " OPEN C (5096.05): SELL 5115 @   3.60 -  BUY 5120 @   2.60 - TOTAL:   1.00\n",
            "CLOSE C (5118.46):  BUY 5115 @   3.46 - SELL 5120 @   0.00 - TOTAL:  -3.46\n"
          ]
        },
        {
          "output_type": "stream",
          "name": "stderr",
          "text": [
            " 91%|█████████▏| 282/309 [00:21<00:01, 20.39it/s]"
          ]
        },
        {
          "output_type": "stream",
          "name": "stdout",
          "text": [
            "**************** Processed Date: 2024-03-11 - Result: -2460.00 ****************\n",
            " OPEN C (5155.52): SELL 5175 @   3.15 -  BUY 5180 @   2.15 - TOTAL:   1.00\n",
            "CLOSE C (5151.43):  BUY 5175 @   0.00 - SELL 5180 @   0.00 - TOTAL:   0.00\n",
            "**************** Processed Date: 2024-03-14 - Result:  1000.00 ****************\n",
            " OPEN P (5172.25): SELL 5155 @   2.75 -  BUY 5150 @   1.90 - TOTAL:   0.85\n",
            "CLOSE P (5149.42):  BUY 5155 @   5.58 - SELL 5150 @   0.58 - TOTAL:  -5.00\n",
            "**************** Processed Date: 2024-03-18 - Result: -4150.00 ****************\n",
            "****************** Processed Date: 2024-03-21 - Result: -- UV -- *******************\n",
            " OPEN C (5217.95): SELL 5235 @   2.25 -  BUY 5240 @   1.35 - TOTAL:   0.90\n",
            "CLOSE C (5249.13):  BUY 5235 @  14.13 - SELL 5240 @   9.13 - TOTAL:  -5.00\n",
            "**************** Processed Date: 2024-03-27 - Result: -4100.00 ****************\n"
          ]
        },
        {
          "output_type": "stream",
          "name": "stderr",
          "text": [
            " 93%|█████████▎| 288/309 [00:21<00:00, 21.87it/s]"
          ]
        },
        {
          "output_type": "stream",
          "name": "stdout",
          "text": [
            "****************** Processed Date: 2024-04-01 - Result: -- UV -- *******************\n",
            " OPEN C (5190.69): SELL 5210 @   2.45 -  BUY 5215 @   1.65 - TOTAL:   0.80\n",
            "CLOSE C (5205.87):  BUY 5210 @   0.00 - SELL 5215 @   0.00 - TOTAL:   0.00\n",
            "**************** Processed Date: 2024-04-02 - Result:   800.00 ****************\n",
            " OPEN P (5223.18): SELL 5205 @   2.65 -  BUY 5200 @   1.90 - TOTAL:   0.75\n",
            "CLOSE P (5213.18):  BUY 5205 @   0.00 - SELL 5200 @   0.00 - TOTAL:   0.00\n",
            "**************** Processed Date: 2024-04-03 - Result:   750.00 ****************\n",
            " OPEN P (5172.64): SELL 5155 @   7.70 -  BUY 5150 @   6.40 - TOTAL:   1.30\n",
            "CLOSE P (5204.80):  BUY 5155 @   0.00 - SELL 5150 @   0.00 - TOTAL:   0.00\n",
            "**************** Processed Date: 2024-04-05 - Result:  1300.00 ****************\n",
            " OPEN C (5193.32): SELL 5210 @   4.14 -  BUY 5215 @   2.95 - TOTAL:   1.19\n",
            "CLOSE C (5210.06):  BUY 5210 @   0.06 - SELL 5215 @   0.00 - TOTAL:  -0.06\n",
            "**************** Processed Date: 2024-04-09 - Result:  1130.00 ****************\n"
          ]
        },
        {
          "output_type": "stream",
          "name": "stderr",
          "text": [
            " 94%|█████████▍| 291/309 [00:21<00:00, 21.23it/s]"
          ]
        },
        {
          "output_type": "stream",
          "name": "stdout",
          "text": [
            " OPEN P (5164.86): SELL 5145 @   7.10 -  BUY 5140 @   6.20 - TOTAL:   0.90\n",
            "CLOSE P (5159.83):  BUY 5145 @   0.00 - SELL 5140 @   0.00 - TOTAL:   0.00\n",
            "**************** Processed Date: 2024-04-10 - Result:   900.00 ****************\n",
            " OPEN C (5143.17): SELL 5160 @   8.14 -  BUY 5165 @   6.60 - TOTAL:   1.54\n",
            "CLOSE C (5198.17):  BUY 5160 @  38.17 - SELL 5165 @  33.17 - TOTAL:  -5.00\n",
            "**************** Processed Date: 2024-04-11 - Result: -3460.00 ****************\n",
            " OPEN C (5141.74): SELL 5160 @   5.70 -  BUY 5165 @   4.40 - TOTAL:   1.30\n",
            "CLOSE C (5061.62):  BUY 5160 @   0.00 - SELL 5165 @   0.00 - TOTAL:   0.00\n",
            "**************** Processed Date: 2024-04-15 - Result:  1300.00 ****************\n",
            " OPEN C (5048.65): SELL 5065 @  10.90 -  BUY 5070 @   9.14 - TOTAL:   1.76\n",
            "CLOSE C (5050.59):  BUY 5065 @   0.00 - SELL 5070 @   0.00 - TOTAL:   0.00\n",
            "**************** Processed Date: 2024-04-16 - Result:  1760.00 ****************\n",
            " OPEN C (5059.72): SELL 5075 @   7.80 -  BUY 5080 @   6.10 - TOTAL:   1.70\n"
          ]
        },
        {
          "output_type": "stream",
          "name": "stderr",
          "text": [
            " 96%|█████████▌| 297/309 [00:22<00:00, 19.95it/s]"
          ]
        },
        {
          "output_type": "stream",
          "name": "stdout",
          "text": [
            "CLOSE C (5021.42):  BUY 5075 @   0.00 - SELL 5080 @   0.00 - TOTAL:   0.00\n",
            "**************** Processed Date: 2024-04-17 - Result:  1700.00 ****************\n",
            " OPEN C (4979.17): SELL 4995 @   6.32 -  BUY 5000 @   4.90 - TOTAL:   1.42\n",
            "CLOSE C (5011.48):  BUY 4995 @  16.48 - SELL 5000 @  11.48 - TOTAL:  -5.00\n",
            "**************** Processed Date: 2024-04-22 - Result: -3580.00 ****************\n",
            " OPEN P (5059.61): SELL 5040 @   5.27 -  BUY 5035 @   4.30 - TOTAL:   0.97\n",
            "CLOSE P (5069.41):  BUY 5040 @   0.00 - SELL 5035 @   0.00 - TOTAL:   0.00\n",
            "**************** Processed Date: 2024-04-23 - Result:   970.00 ****************\n",
            " OPEN P (5096.85): SELL 5080 @   6.60 -  BUY 5075 @   5.50 - TOTAL:   1.10\n",
            "CLOSE P (5098.69):  BUY 5080 @   0.00 - SELL 5075 @   0.00 - TOTAL:   0.00\n",
            "**************** Processed Date: 2024-04-26 - Result:  1100.00 ****************\n"
          ]
        },
        {
          "output_type": "stream",
          "name": "stderr",
          "text": [
            " 97%|█████████▋| 300/309 [00:22<00:00, 20.12it/s]"
          ]
        },
        {
          "output_type": "stream",
          "name": "stdout",
          "text": [
            " OPEN C (5022.94): SELL 5040 @  12.63 -  BUY 5045 @  11.00 - TOTAL:   1.63\n",
            "CLOSE C (5017.57):  BUY 5040 @   0.00 - SELL 5045 @   0.00 - TOTAL:   0.00\n",
            "**************** Processed Date: 2024-05-01 - Result:  1630.00 ****************\n",
            " OPEN C (5034.40): SELL 5050 @   8.00 -  BUY 5055 @   6.17 - TOTAL:   1.83\n",
            "CLOSE C (5065.36):  BUY 5050 @  15.36 - SELL 5055 @  10.36 - TOTAL:  -5.00\n",
            "**************** Processed Date: 2024-05-02 - Result: -3170.00 ****************\n",
            " OPEN P (5158.50): SELL 5140 @   3.24 -  BUY 5135 @   2.47 - TOTAL:   0.77\n",
            "CLOSE P (5180.70):  BUY 5140 @   0.00 - SELL 5135 @   0.00 - TOTAL:   0.00\n",
            "**************** Processed Date: 2024-05-06 - Result:   770.00 ****************\n",
            "****************** Processed Date: 2024-05-08 - Result: -- UV -- *******************\n",
            "****************** Processed Date: 2024-05-13 - Result: -- UV -- *******************\n",
            "****************** Processed Date: 2024-05-14 - Result: -- UV -- *******************\n"
          ]
        },
        {
          "output_type": "stream",
          "name": "stderr",
          "text": [
            "100%|██████████| 309/309 [00:22<00:00, 13.71it/s]"
          ]
        },
        {
          "output_type": "stream",
          "name": "stdout",
          "text": [
            "****************** Processed Date: 2024-05-20 - Result: -- UV -- *******************\n",
            "****************** Processed Date: 2024-05-21 - Result: -- UV -- *******************\n",
            " OPEN C (5313.66): SELL 5330 @   4.22 -  BUY 5335 @   2.99 - TOTAL:   1.23\n",
            "CLOSE C (5268.33):  BUY 5330 @   0.00 - SELL 5335 @   0.00 - TOTAL:   0.00\n",
            "**************** Processed Date: 2024-05-23 - Result:  1230.00 ****************\n",
            " OPEN P (5295.12): SELL 5280 @   3.40 -  BUY 5275 @   2.55 - TOTAL:   0.85\n",
            "CLOSE P (5304.70):  BUY 5280 @   0.00 - SELL 5275 @   0.00 - TOTAL:   0.00\n",
            "**************** Processed Date: 2024-05-24 - Result:   850.00 ****************\n",
            "****************** Processed Date: 2024-05-28 - Result: -- UV -- *******************\n",
            " OPEN P (5276.50): SELL 5260 @   3.20 -  BUY 5255 @   2.26 - TOTAL:   0.94\n",
            "CLOSE P (5265.78):  BUY 5260 @   0.00 - SELL 5255 @   0.00 - TOTAL:   0.00\n",
            "**************** Processed Date: 2024-05-29 - Result:   940.00 ****************\n"
          ]
        },
        {
          "output_type": "stream",
          "name": "stderr",
          "text": [
            "\n"
          ]
        }
      ]
    },
    {
      "cell_type": "code",
      "source": [
        "### Generate result ###\n",
        "\n",
        "# Calculate wins and losses\n",
        "df_result = pd.DataFrame(pnl, columns=['expire_date','gross_result','net_result'])\n",
        "df_result['wins'] = np.where(df_result['net_result'] > 0, 1, 0)\n",
        "df_result['losses'] = np.where(df_result['net_result'] < 0, 1, 0)"
      ],
      "metadata": {
        "id": "NpX4bi5qnTM4"
      },
      "execution_count": 8,
      "outputs": []
    },
    {
      "cell_type": "code",
      "source": [
        "# Show the parameters\n",
        "print(f' PARAMETERS '.center(70, '*'))\n",
        "print(f'* Hour Open: {HOUR_OPEN}')\n",
        "print(f'* Minute Open: {MINUTE_OPEN}')\n",
        "print(f'* Strikes From Price: {STRIKES}')\n",
        "print(f'* Distance Between Strikes: {DIST_BETWEEN_STRIKES}')\n",
        "print(f'* Max % Change To Open A Bearish Trade: {MAX_CHANGE_BEARISH}')\n",
        "print(f'* Min % Change To Open A Bullish Trade: {MIN_CHANGE_BULLISH}')\n",
        "print(f'* Max Day Change To Open A Bearish Trade: {MAX_DAY_CHANGE_BEARISH}')\n",
        "print(f'* Min Day Change To Open A Bullish Trade: {MIN_DAY_CHANGE_BULLISH}')\n",
        "print(f'* Min Strike Percentage: {MIN_STRIKE_PERCENTAGE}')\n",
        "\n",
        "# Show the Total Result\n",
        "print(f' SUMMARIZED RESULT '.center(70, '*'))\n",
        "print(f'* Trading Days: {len(df_result)}')\n",
        "print(f'* Gross PnL: $ {df_result[\"gross_result\"].sum():.2f}')\n",
        "print(f'* Net PnL: $ {df_result[\"net_result\"].sum():.2f}')\n",
        "print(f'* Win Rate: {100 * (df_result[\"wins\"].sum() / (df_result[\"wins\"].sum() + df_result[\"losses\"].sum())):.2f} %')\n",
        "\n",
        "# Show The Monthly Result\n",
        "print(f' MONTHLY DETAIL RESULT '.center(70, '*'))\n",
        "df_monthly = df_result[['expire_date','gross_result','net_result','wins','losses']]\n",
        "df_monthly['year_month'] = df_monthly['expire_date'].str[0:7]\n",
        "df_monthly = df_monthly.drop('expire_date', axis=1)\n",
        "df_monthly = df_monthly.groupby(['year_month']).sum()\n",
        "\n",
        "print(df_monthly)\n",
        "\n",
        "# Show The Yearly Result\n",
        "print(f' YEARLY DETAIL RESULT '.center(70, '*'))\n",
        "df_yearly = df_result[['expire_date','gross_result','net_result','wins','losses']]\n",
        "df_yearly['year'] = df_yearly['expire_date'].str[0:4]\n",
        "df_yearly = df_yearly.drop('expire_date', axis=1)\n",
        "df_yearly = df_yearly.groupby(['year']).sum()\n",
        "\n",
        "print(df_yearly)\n"
      ],
      "metadata": {
        "id": "vzPXDAynnTKZ",
        "colab": {
          "base_uri": "https://localhost:8080/"
        },
        "outputId": "cab9d158-da03-4ebd-f319-b8739b1c587c"
      },
      "execution_count": 9,
      "outputs": [
        {
          "output_type": "stream",
          "name": "stdout",
          "text": [
            "***************************** PARAMETERS *****************************\n",
            "* Hour Open: 10\n",
            "* Minute Open: 30\n",
            "* Strikes From Price: 15\n",
            "* Distance Between Strikes: 5\n",
            "* Max % Change To Open A Bearish Trade: -0.1\n",
            "* Min % Change To Open A Bullish Trade: 0.1\n",
            "* Max Day Change To Open A Bearish Trade: 0.15\n",
            "* Min Day Change To Open A Bullish Trade: -0.15\n",
            "* Min Strike Percentage: 0.15\n",
            "************************* SUMMARIZED RESULT **************************\n",
            "* Trading Days: 262\n",
            "* Gross PnL: $ 111680.00\n",
            "* Net PnL: $ 106440.00\n",
            "* Win Rate: 82.82 %\n",
            "*********************** MONTHLY DETAIL RESULT ************************\n",
            "            gross_result  net_result  wins  losses\n",
            "year_month                                        \n",
            "2022-01          -4060.0     -4140.0     2       2\n",
            "2022-02            220.0       140.0     3       1\n",
            "2022-03           7290.0      7130.0     7       1\n",
            "2022-04          12870.0     12670.0    10       0\n",
            "2022-05           1110.0       910.0     7       3\n",
            "2022-06          14540.0     14340.0     8       2\n",
            "2022-07          -3440.0     -3600.0     5       3\n",
            "2022-08           1800.0      1520.0    11       3\n",
            "2022-09          10650.0     10390.0    11       2\n",
            "2022-10           9830.0      9630.0     9       1\n",
            "2022-11           2250.0      2070.0     7       2\n",
            "2022-12           8570.0      8430.0     7       0\n",
            "2023-01           6590.0      6390.0     9       1\n",
            "2023-02          -1460.0     -1600.0     5       2\n",
            "2023-03          -2400.0     -2600.0     7       3\n",
            "2023-04           8660.0      8460.0    10       0\n",
            "2023-05           4610.0      4310.0    12       3\n",
            "2023-06          -1870.0     -2010.0     5       2\n",
            "2023-07           1150.0      1090.0     2       1\n",
            "2023-08           -460.0      -740.0    11       3\n",
            "2023-09           5400.0      5200.0     9       1\n",
            "2023-10          13170.0     12950.0    11       0\n",
            "2023-11           3650.0      3470.0     8       1\n",
            "2023-12           4340.0      4240.0     5       0\n",
            "2024-01           2700.0      2540.0     7       1\n",
            "2024-02           9050.0      8870.0     9       0\n",
            "2024-03         -10000.0    -10180.0     5       4\n",
            "2024-04           4670.0      4430.0    10       2\n",
            "2024-05           2250.0      2130.0     5       1\n",
            "************************ YEARLY DETAIL RESULT ************************\n",
            "      gross_result  net_result  wins  losses\n",
            "year                                        \n",
            "2022       61630.0     59490.0    87      20\n",
            "2023       41380.0     39160.0    94      17\n",
            "2024        8670.0      7790.0    36       8\n"
          ]
        }
      ]
    },
    {
      "cell_type": "code",
      "source": [],
      "metadata": {
        "id": "lRDNtP4VmZfI"
      },
      "execution_count": null,
      "outputs": []
    }
  ]
}