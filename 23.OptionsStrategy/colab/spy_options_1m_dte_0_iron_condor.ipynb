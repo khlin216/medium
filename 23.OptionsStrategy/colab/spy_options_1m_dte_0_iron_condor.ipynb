{
  "nbformat": 4,
  "nbformat_minor": 0,
  "metadata": {
    "colab": {
      "provenance": []
    },
    "kernelspec": {
      "name": "python3",
      "display_name": "Python 3"
    },
    "language_info": {
      "name": "python"
    }
  },
  "cells": [
    {
      "cell_type": "markdown",
      "source": [
        "Copy the file **spy_dte_0_iron_condor.csv.gz** located in https://github.com/crapher/medium/tree/main/23.OptionsStrategy/data to your colab folder"
      ],
      "metadata": {
        "id": "_XQkxgIHPS8z"
      }
    },
    {
      "cell_type": "code",
      "execution_count": 1,
      "metadata": {
        "id": "-LjpN-v8Btt7"
      },
      "outputs": [],
      "source": [
        "import warnings\n",
        "warnings.filterwarnings(\"ignore\")\n",
        "\n",
        "import numpy as np\n",
        "import pandas as pd\n",
        "\n",
        "from tqdm import tqdm"
      ]
    },
    {
      "cell_type": "code",
      "source": [
        "# Constants\n",
        "DEBUG = 1\n",
        "OPTIONS_FILE='./spy_dte_0_iron_condor.csv.gz'\n",
        "\n",
        "FEES_PER_CONTRACT = 0.6\n",
        "CONTRACTS = 10\n",
        "\n",
        "HOUR_OPEN = 11\n",
        "MINUTE_OPEN = 45\n",
        "STRIKES = 1"
      ],
      "metadata": {
        "id": "I1F7CD1kQPEx"
      },
      "execution_count": 2,
      "outputs": []
    },
    {
      "cell_type": "code",
      "source": [
        "### Helper functions ###\n",
        "def get_iron_condor_strikes(df, strikes):\n",
        "\n",
        "    put_sell  = int(df['close_underlying'].values[0]) - strikes\n",
        "    call_sell = int(df['close_underlying'].values[0]) + strikes\n",
        "    put_buy   = put_sell - 1\n",
        "    call_buy  = call_sell + 1\n",
        "\n",
        "    return (put_buy, put_sell, call_sell, call_buy)\n",
        "\n",
        "def get_iron_condor_cost(df, put_buy, put_sell, call_sell, call_buy):\n",
        "\n",
        "    # Open Iron Condor\n",
        "    df = df.sort_values('date', ascending=True)\n",
        "\n",
        "    stock_price     = df[(df['strike'] == put_buy)   & (df['kind'] == 'P')]['close_underlying'].values[0]\n",
        "    put_buy_price   = df[(df['strike'] == put_buy)   & (df['kind'] == 'P')]['close'].values[0]\n",
        "    put_sell_price  = df[(df['strike'] == put_sell)  & (df['kind'] == 'P')]['close'].values[0]\n",
        "    call_sell_price = df[(df['strike'] == call_sell) & (df['kind'] == 'C')]['close'].values[0]\n",
        "    call_buy_price  = df[(df['strike'] == call_buy)  & (df['kind'] == 'C')]['close'].values[0]\n",
        "\n",
        "    open_cost  = -100 * put_buy_price\n",
        "    open_cost +=  100 * put_sell_price\n",
        "    open_cost +=  100 * call_sell_price\n",
        "    open_cost += -100 * call_buy_price\n",
        "    open_cost *= CONTRACTS\n",
        "\n",
        "    if DEBUG:\n",
        "        tqdm.write(f' OPEN ({stock_price}): {put_buy} @ {put_buy_price} - {put_sell} @ {put_sell_price} - {call_sell} @ {call_sell_price} - {call_buy} @ {call_buy_price}')\n",
        "\n",
        "    # Close Iron Condor\n",
        "    stock_price     = df[(df['strike'] == put_buy)   & (df['kind'] == 'P')]['close_underlying'].values[-1]\n",
        "    put_buy_price   = df[(df['strike'] == put_buy)   & (df['kind'] == 'P')]['close'].values[-1]\n",
        "    put_sell_price  = df[(df['strike'] == put_sell)  & (df['kind'] == 'P')]['close'].values[-1]\n",
        "    call_sell_price = df[(df['strike'] == call_sell) & (df['kind'] == 'C')]['close'].values[-1]\n",
        "    call_buy_price  = df[(df['strike'] == call_buy)  & (df['kind'] == 'C')]['close'].values[-1]\n",
        "\n",
        "    if DEBUG:\n",
        "        tqdm.write(f'CLOSE ({stock_price}): {put_buy} @ {put_buy_price} - {put_sell} @ {put_sell_price} - {call_sell} @ {call_sell_price} - {call_buy} @ {call_buy_price}')\n",
        "\n",
        "    close_cost  =  100 * put_buy_price\n",
        "    close_cost += -100 * put_sell_price\n",
        "    close_cost += -100 * call_sell_price\n",
        "    close_cost +=  100 * call_buy_price\n",
        "    close_cost *= CONTRACTS\n",
        "\n",
        "    if DEBUG:\n",
        "        tqdm.write(f'**************** Processed Date: {df[\"date\"].dt.date.values[0]} - Result: {open_cost + close_cost:7.2f} ****************')\n",
        "\n",
        "    return open_cost + close_cost"
      ],
      "metadata": {
        "id": "kfv-C_mjxN2F"
      },
      "execution_count": 3,
      "outputs": []
    },
    {
      "cell_type": "code",
      "source": [
        "### Read File ###\n",
        "df = pd.read_csv(OPTIONS_FILE, header=0)\n",
        "df['date'] = pd.to_datetime(df['date'])"
      ],
      "metadata": {
        "id": "36mzjkH6B-7a"
      },
      "execution_count": 4,
      "outputs": []
    },
    {
      "cell_type": "code",
      "source": [
        "### Get all the expiration dates ###\n",
        "expirations = df['expire_date'].unique().tolist()"
      ],
      "metadata": {
        "id": "BGeOrtCZxSDj"
      },
      "execution_count": 5,
      "outputs": []
    },
    {
      "cell_type": "code",
      "source": [
        "### Get P&L by day ###\n",
        "pnl = []\n",
        "\n",
        "df_cost = df[(df.date.dt.hour > HOUR_OPEN) | ((df.date.dt.hour == HOUR_OPEN) & (df.date.dt.minute >= MINUTE_OPEN))]\n",
        "df_open = df_cost[(df_cost.date.dt.hour == HOUR_OPEN) & (df_cost.date.dt.minute == MINUTE_OPEN)]\n",
        "\n",
        "for expiration in tqdm(expirations):\n",
        "\n",
        "    try:\n",
        "        (put_buy, put_sell, call_sell, call_buy) = get_iron_condor_strikes(df_open[df_open['expire_date'] == expiration], STRIKES)\n",
        "        cost = get_iron_condor_cost(df_cost[df_cost['expire_date'] == expiration], put_buy, put_sell, call_sell, call_buy)\n",
        "\n",
        "        pnl.append([expiration, cost])\n",
        "    except Exception as ex:\n",
        "        continue"
      ],
      "metadata": {
        "id": "Eck0aed5QLR4",
        "colab": {
          "base_uri": "https://localhost:8080/"
        },
        "outputId": "7b5cb41b-3f7c-4d50-a610-b7fbb3429037"
      },
      "execution_count": 6,
      "outputs": [
        {
          "output_type": "stream",
          "name": "stderr",
          "text": [
            "  1%|          | 2/370 [00:00<00:30, 11.88it/s]"
          ]
        },
        {
          "output_type": "stream",
          "name": "stdout",
          "text": [
            " OPEN (420.2311): 418 @ 0.13 - 419 @ 0.25 - 421 @ 0.27 - 422 @ 0.07\n",
            "CLOSE (420.84): 418 @ 0.01 - 419 @ 0.02 - 421 @ 0.05 - 422 @ 0.01\n",
            "**************** Processed Date: 2021-06-21 - Result:  270.00 ****************\n",
            " OPEN (423.22): 421 @ 0.07 - 422 @ 0.18 - 424 @ 0.21 - 425 @ 0.05\n",
            "CLOSE (422.6): 421 @ 0.01 - 422 @ 0.04 - 424 @ 0.01 - 425 @ 0.05\n",
            "**************** Processed Date: 2021-06-23 - Result:  280.00 ****************\n",
            " OPEN (426.25): 424 @ 0.06 - 425 @ 0.11 - 427 @ 0.15 - 428 @ 0.03\n",
            "CLOSE (426.56): 424 @ 0.01 - 425 @ 0.01 - 427 @ 0.04 - 428 @ 0.01\n",
            "**************** Processed Date: 2021-06-25 - Result:  140.00 ****************\n"
          ]
        },
        {
          "output_type": "stream",
          "name": "stderr",
          "text": [
            "  2%|▏         | 6/370 [00:00<00:29, 12.53it/s]"
          ]
        },
        {
          "output_type": "stream",
          "name": "stdout",
          "text": [
            " OPEN (426.415): 424 @ 0.03 - 425 @ 0.09 - 427 @ 0.19 - 428 @ 0.04\n",
            "CLOSE (427.48): 424 @ 0.01 - 425 @ 0.01 - 427 @ 0.51 - 428 @ 0.01\n",
            "**************** Processed Date: 2021-06-28 - Result: -290.00 ****************\n",
            " OPEN (427.97): 425 @ 0.04 - 426 @ 0.07 - 428 @ 0.42 - 429 @ 0.1\n",
            "CLOSE (428.07): 425 @ 0.01 - 426 @ 0.02 - 428 @ 0.25 - 429 @ 0.01\n",
            "**************** Processed Date: 2021-06-30 - Result:  100.00 ****************\n",
            " OPEN (432.19): 430 @ 0.04 - 431 @ 0.08 - 433 @ 0.07 - 434 @ 0.01\n",
            "CLOSE (433.635): 430 @ 0.01 - 431 @ 0.01 - 433 @ 0.73 - 434 @ 0.05\n",
            "**************** Processed Date: 2021-07-02 - Result: -580.00 ****************\n"
          ]
        },
        {
          "output_type": "stream",
          "name": "stderr",
          "text": [
            "  2%|▏         | 8/370 [00:00<00:29, 12.39it/s]"
          ]
        },
        {
          "output_type": "stream",
          "name": "stdout",
          "text": [
            " OPEN (431.099): 429 @ 0.1 - 430 @ 0.24 - 432 @ 0.22 - 433 @ 0.07\n",
            "CLOSE (432.9): 429 @ 0.01 - 430 @ 0.01 - 432 @ 0.77 - 433 @ 0.08\n",
            "**************** Processed Date: 2021-07-06 - Result: -400.00 ****************\n",
            " OPEN (434.02): 432 @ 0.15 - 433 @ 0.28 - 435 @ 0.21 - 436 @ 0.06\n",
            "CLOSE (434.43): 432 @ 0.01 - 433 @ 0.01 - 435 @ 0.02 - 436 @ 0.01\n",
            "**************** Processed Date: 2021-07-07 - Result:  270.00 ****************\n",
            " OPEN (435.1401): 433 @ 0.1 - 434 @ 0.21 - 436 @ 0.25 - 437 @ 0.09\n",
            "CLOSE (435.49): 433 @ 0.01 - 434 @ 0.01 - 436 @ 0.01 - 437 @ 0.01\n",
            "**************** Processed Date: 2021-07-09 - Result:  270.00 ****************\n"
          ]
        },
        {
          "output_type": "stream",
          "name": "stderr",
          "text": [
            "  3%|▎         | 12/370 [00:00<00:27, 13.02it/s]"
          ]
        },
        {
          "output_type": "stream",
          "name": "stdout",
          "text": [
            " OPEN (436.37): 434 @ 0.05 - 435 @ 0.12 - 437 @ 0.21 - 438 @ 0.04\n",
            "CLOSE (436.9): 434 @ 0.01 - 435 @ 0.01 - 437 @ 0.22 - 438 @ 0.01\n",
            "**************** Processed Date: 2021-07-12 - Result:   30.00 ****************\n",
            " OPEN (435.42): 433 @ 0.18 - 434 @ 0.3 - 436 @ 0.45 - 437 @ 0.16\n",
            "CLOSE (436.105): 433 @ 0.01 - 434 @ 0.02 - 436 @ 0.22 - 437 @ 0.01\n",
            "**************** Processed Date: 2021-07-14 - Result:  190.00 ****************\n",
            " OPEN (433.435): 431 @ 0.16 - 432 @ 0.3 - 434 @ 0.47 - 435 @ 0.17\n",
            "CLOSE (431.4): 431 @ 0.1 - 432 @ 0.64 - 434 @ 0.01 - 435 @ 0.01\n",
            "**************** Processed Date: 2021-07-16 - Result: -100.00 ****************\n"
          ]
        },
        {
          "output_type": "stream",
          "name": "stderr",
          "text": [
            "  4%|▍         | 14/370 [00:01<00:27, 13.18it/s]"
          ]
        },
        {
          "output_type": "stream",
          "name": "stdout",
          "text": [
            " OPEN (425.297): 423 @ 0.39 - 424 @ 0.65 - 426 @ 0.8 - 427 @ 0.44\n",
            "CLOSE (424.96): 423 @ 0.01 - 424 @ 0.09 - 426 @ 0.04 - 427 @ 0.01\n",
            "**************** Processed Date: 2021-07-19 - Result:  510.00 ****************\n",
            " OPEN (433.55): 431 @ 0.09 - 432 @ 0.18 - 434 @ 0.38 - 435 @ 0.1\n",
            "CLOSE (434.56): 431 @ 0.01 - 432 @ 0.01 - 434 @ 0.6 - 435 @ 0.03\n",
            "**************** Processed Date: 2021-07-21 - Result: -200.00 ****************\n",
            " OPEN (438.9): 436 @ 0.08 - 437 @ 0.14 - 439 @ 0.51 - 440 @ 0.16\n",
            "CLOSE (439.83): 436 @ 0.01 - 437 @ 0.01 - 439 @ 0.9 - 440 @ 0.12\n",
            "**************** Processed Date: 2021-07-23 - Result: -370.00 ****************\n"
          ]
        },
        {
          "output_type": "stream",
          "name": "stderr",
          "text": [
            "  5%|▍         | 18/370 [00:01<00:26, 13.11it/s]"
          ]
        },
        {
          "output_type": "stream",
          "name": "stdout",
          "text": [
            " OPEN (440.5499): 438 @ 0.06 - 439 @ 0.12 - 441 @ 0.33 - 442 @ 0.08\n",
            "CLOSE (440.93): 438 @ 0.01 - 439 @ 0.02 - 441 @ 0.15 - 442 @ 0.01\n",
            "**************** Processed Date: 2021-07-26 - Result:  160.00 ****************\n",
            " OPEN (439.389): 437 @ 0.26 - 438 @ 0.45 - 440 @ 0.63 - 441 @ 0.28\n",
            "CLOSE (438.79): 437 @ 0.02 - 438 @ 0.05 - 440 @ 0.01 - 441 @ 0.01\n",
            "**************** Processed Date: 2021-07-28 - Result:  510.00 ****************\n",
            " OPEN (438.405): 436 @ 0.14 - 437 @ 0.3 - 439 @ 0.47 - 440 @ 0.19\n",
            "CLOSE (438.47): 436 @ 0.01 - 437 @ 0.03 - 439 @ 0.03 - 440 @ 0.01\n",
            "**************** Processed Date: 2021-07-30 - Result:  400.00 ****************\n"
          ]
        },
        {
          "output_type": "stream",
          "name": "stderr",
          "text": [
            "  5%|▌         | 20/370 [00:01<00:29, 12.06it/s]"
          ]
        },
        {
          "output_type": "stream",
          "name": "stdout",
          "text": [
            " OPEN (439.845): 437 @ 0.08 - 438 @ 0.15 - 440 @ 0.49 - 441 @ 0.15\n",
            "CLOSE (437.58): 437 @ 0.02 - 438 @ 0.42 - 440 @ 0.01 - 441 @ 0.01\n",
            "**************** Processed Date: 2021-08-02 - Result:   10.00 ****************\n",
            " OPEN (439.113): 437 @ 0.14 - 438 @ 0.27 - 440 @ 0.24 - 441 @ 0.07\n",
            "CLOSE (439.01): 437 @ 0.01 - 438 @ 0.01 - 440 @ 0.01 - 441 @ 0.01\n",
            "**************** Processed Date: 2021-08-04 - Result:  300.00 ****************\n"
          ]
        },
        {
          "output_type": "stream",
          "name": "stderr",
          "text": [
            "  6%|▌         | 22/370 [00:01<00:30, 11.28it/s]"
          ]
        },
        {
          "output_type": "stream",
          "name": "stdout",
          "text": [
            " OPEN (442.05): 440 @ 0.08 - 441 @ 0.2 - 443 @ 0.17 - 444 @ 0.04\n",
            "CLOSE (442.53): 440 @ 0.01 - 441 @ 0.01 - 443 @ 0.03 - 444 @ 0.01\n",
            "**************** Processed Date: 2021-08-06 - Result:  230.00 ****************\n",
            " OPEN (442.11): 440 @ 0.06 - 441 @ 0.15 - 443 @ 0.13 - 444 @ 0.03\n",
            "CLOSE (442.17): 440 @ 0.01 - 441 @ 0.01 - 443 @ 0.01 - 444 @ 0.01\n",
            "**************** Processed Date: 2021-08-09 - Result:  190.00 ****************\n"
          ]
        },
        {
          "output_type": "stream",
          "name": "stderr",
          "text": [
            "  6%|▋         | 24/370 [00:02<00:32, 10.60it/s]"
          ]
        },
        {
          "output_type": "stream",
          "name": "stdout",
          "text": [
            " OPEN (442.715): 440 @ 0.06 - 441 @ 0.1 - 443 @ 0.34 - 444 @ 0.07\n",
            "CLOSE (443.51): 440 @ 0.01 - 441 @ 0.01 - 443 @ 0.74 - 444 @ 0.04\n",
            "**************** Processed Date: 2021-08-11 - Result: -390.00 ****************\n",
            " OPEN (445.5999): 443 @ 0.04 - 444 @ 0.06 - 446 @ 0.19 - 447 @ 0.03\n",
            "CLOSE (445.9): 443 @ 0.02 - 444 @ 0.01 - 446 @ 0.08 - 447 @ 0.01\n",
            "**************** Processed Date: 2021-08-13 - Result:  120.00 ****************\n"
          ]
        },
        {
          "output_type": "stream",
          "name": "stderr",
          "text": [
            "  7%|▋         | 26/370 [00:02<00:33, 10.16it/s]"
          ]
        },
        {
          "output_type": "stream",
          "name": "stdout",
          "text": [
            " OPEN (444.35): 442 @ 0.05 - 443 @ 0.12 - 445 @ 0.23 - 446 @ 0.05\n",
            "CLOSE (446.9054): 442 @ 0.01 - 443 @ 0.01 - 445 @ 2.08 - 446 @ 1.09\n",
            "**************** Processed Date: 2021-08-16 - Result: -740.00 ****************\n",
            " OPEN (443.73): 441 @ 0.1 - 442 @ 0.19 - 444 @ 0.51 - 445 @ 0.18\n",
            "CLOSE (439.21): 441 @ 1.7 - 442 @ 2.65 - 444 @ 0.01 - 445 @ 0.01\n",
            "**************** Processed Date: 2021-08-18 - Result: -530.00 ****************\n"
          ]
        },
        {
          "output_type": "stream",
          "name": "stderr",
          "text": [
            "  8%|▊         | 28/370 [00:02<00:35,  9.66it/s]"
          ]
        },
        {
          "output_type": "stream",
          "name": "stdout",
          "text": [
            " OPEN (442.36): 440 @ 0.24 - 441 @ 0.39 - 443 @ 0.43 - 444 @ 0.13\n",
            "CLOSE (443.33): 440 @ 0.01 - 441 @ 0.01 - 443 @ 0.37 - 444 @ 0.01\n",
            "**************** Processed Date: 2021-08-20 - Result:   90.00 ****************\n",
            " OPEN (447.66): 445 @ 0.05 - 446 @ 0.1 - 448 @ 0.26 - 449 @ 0.06\n",
            "CLOSE (447.25): 445 @ 0.01 - 446 @ 0.02 - 448 @ 0.01 - 449 @ 0.01\n",
            "**************** Processed Date: 2021-08-23 - Result:  240.00 ****************\n"
          ]
        },
        {
          "output_type": "stream",
          "name": "stderr",
          "text": []
        },
        {
          "output_type": "stream",
          "name": "stdout",
          "text": [
            " OPEN (448.945): 446 @ 0.03 - 447 @ 0.06 - 449 @ 0.37 - 450 @ 0.07\n",
            "CLOSE (449.13): 446 @ 0.01 - 447 @ 0.01 - 449 @ 0.06 - 450 @ 0.01\n",
            "**************** Processed Date: 2021-08-25 - Result:  280.00 ****************\n",
            " OPEN (449.795): 447 @ 0.07 - 448 @ 0.12 - 450 @ 0.36 - 451 @ 0.08\n",
            "CLOSE (450.18): 447 @ 0.01 - 448 @ 0.01 - 450 @ 0.2 - 451 @ 0.01\n",
            "**************** Processed Date: 2021-08-27 - Result:  140.00 ****************\n"
          ]
        },
        {
          "output_type": "stream",
          "name": "stderr",
          "text": [
            "  9%|▊         | 32/370 [00:02<00:34,  9.90it/s]"
          ]
        },
        {
          "output_type": "stream",
          "name": "stdout",
          "text": [
            " OPEN (452.82): 450 @ 0.03 - 451 @ 0.06 - 453 @ 0.31 - 454 @ 0.07\n",
            "CLOSE (452.22): 450 @ 0.01 - 451 @ 0.01 - 453 @ 0.02 - 454 @ 0.01\n",
            "**************** Processed Date: 2021-08-30 - Result:  260.00 ****************\n",
            " OPEN (452.41): 450 @ 0.03 - 451 @ 0.08 - 453 @ 0.17 - 454 @ 0.04\n",
            "CLOSE (451.82): 450 @ 0.01 - 451 @ 0.01 - 453 @ 0.01 - 454 @ 0.01\n",
            "**************** Processed Date: 2021-09-01 - Result:  180.00 ****************\n",
            " OPEN (452.939): 450 @ 0.06 - 451 @ 0.12 - 453 @ 0.48 - 454 @ 0.12\n"
          ]
        },
        {
          "output_type": "stream",
          "name": "stderr",
          "text": [
            "  9%|▉         | 34/370 [00:03<00:33, 10.11it/s]"
          ]
        },
        {
          "output_type": "stream",
          "name": "stdout",
          "text": [
            "CLOSE (453.06): 450 @ 0.01 - 451 @ 0.01 - 453 @ 0.16 - 454 @ 0.01\n",
            "**************** Processed Date: 2021-09-03 - Result:  270.00 ****************\n",
            " OPEN (451.38): 449 @ 0.07 - 450 @ 0.16 - 452 @ 0.25 - 453 @ 0.05\n",
            "CLOSE (451.51): 449 @ 0.01 - 450 @ 0.01 - 452 @ 0.02 - 453 @ 0.01\n",
            "**************** Processed Date: 2021-09-07 - Result:  280.00 ****************\n",
            " OPEN (449.82): 447 @ 0.11 - 448 @ 0.19 - 450 @ 0.56 - 451 @ 0.19\n",
            "CLOSE (450.81): 447 @ 0.01 - 448 @ 0.01 - 450 @ 0.96 - 451 @ 0.11\n",
            "**************** Processed Date: 2021-09-08 - Result: -400.00 ****************\n"
          ]
        },
        {
          "output_type": "stream",
          "name": "stderr",
          "text": [
            "                                                "
          ]
        },
        {
          "output_type": "stream",
          "name": "stdout",
          "text": [
            " OPEN (447.9499): 445 @ 0.13 - 446 @ 0.24 - 448 @ 0.76 - 449 @ 0.35\n",
            "CLOSE (445.5002): 445 @ 0.09 - 446 @ 0.54 - 448 @ 0.01 - 449 @ 0.01\n",
            "**************** Processed Date: 2021-09-10 - Result:   70.00 ****************\n",
            " OPEN (446.165): 444 @ 0.28 - 445 @ 0.49 - 447 @ 0.48 - 448 @ 0.19\n",
            "CLOSE (446.5599): 444 @ 0.01 - 445 @ 0.01 - 447 @ 0.07 - 448 @ 0.01\n",
            "**************** Processed Date: 2021-09-13 - Result:  440.00 ****************\n",
            " OPEN (445.005): 443 @ 0.27 - 444 @ 0.45 - 446 @ 0.35 - 447 @ 0.12\n"
          ]
        },
        {
          "output_type": "stream",
          "name": "stderr",
          "text": [
            " 11%|█         | 40/370 [00:03<00:31, 10.39it/s]"
          ]
        },
        {
          "output_type": "stream",
          "name": "stdout",
          "text": [
            "CLOSE (447.86): 443 @ 0.01 - 444 @ 0.01 - 446 @ 1.85 - 447 @ 0.86\n",
            "**************** Processed Date: 2021-09-15 - Result: -580.00 ****************\n",
            " OPEN (442.1): 440 @ 0.43 - 441 @ 0.68 - 443 @ 0.73 - 444 @ 0.41\n",
            "CLOSE (441.42): 440 @ 0.01 - 441 @ 0.16 - 443 @ 0.01 - 444 @ 0.01\n",
            "**************** Processed Date: 2021-09-17 - Result:  420.00 ****************\n",
            " OPEN (433.67): 431 @ 0.41 - 432 @ 0.62 - 434 @ 1.08 - 435 @ 0.69\n",
            "CLOSE (434.06): 431 @ 0.02 - 432 @ 0.04 - 434 @ 0.52 - 435 @ 0.11\n",
            "**************** Processed Date: 2021-09-20 - Result:  170.00 ****************\n"
          ]
        },
        {
          "output_type": "stream",
          "name": "stderr",
          "text": [
            " 11%|█▏        | 42/370 [00:03<00:31, 10.55it/s]"
          ]
        },
        {
          "output_type": "stream",
          "name": "stdout",
          "text": [
            " OPEN (439.01): 437 @ 0.7 - 438 @ 1.0 - 440 @ 0.91 - 441 @ 0.55\n",
            "CLOSE (437.83): 437 @ 0.1 - 438 @ 0.45 - 440 @ 0.01 - 441 @ 0.01\n",
            "**************** Processed Date: 2021-09-22 - Result:  310.00 ****************\n",
            " OPEN (442.56): 440 @ 0.19 - 441 @ 0.32 - 443 @ 0.57 - 444 @ 0.24\n",
            "CLOSE (443.92): 440 @ 0.01 - 441 @ 0.01 - 443 @ 0.94 - 444 @ 0.14\n",
            "**************** Processed Date: 2021-09-24 - Result: -340.00 ****************\n",
            " OPEN (442.44): 440 @ 0.11 - 441 @ 0.21 - 443 @ 0.42 - 444 @ 0.16\n",
            "CLOSE (442.68): 440 @ 0.01 - 441 @ 0.01 - 443 @ 0.06 - 444 @ 0.01\n"
          ]
        },
        {
          "output_type": "stream",
          "name": "stderr",
          "text": [
            " 12%|█▏        | 44/370 [00:04<00:31, 10.48it/s]"
          ]
        },
        {
          "output_type": "stream",
          "name": "stdout",
          "text": [
            "**************** Processed Date: 2021-09-27 - Result:  310.00 ****************\n",
            " OPEN (435.07): 433 @ 0.42 - 434 @ 0.68 - 436 @ 0.65 - 437 @ 0.31\n",
            "CLOSE (434.43): 433 @ 0.03 - 434 @ 0.16 - 436 @ 0.01 - 437 @ 0.01\n",
            "**************** Processed Date: 2021-09-29 - Result:  470.00 ****************\n",
            " OPEN (432.61): 430 @ 0.53 - 431 @ 0.78 - 433 @ 1.17 - 434 @ 0.74\n",
            "CLOSE (429.16): 430 @ 1.25 - 431 @ 2.11 - 433 @ 0.02 - 434 @ 0.01\n",
            "**************** Processed Date: 2021-09-30 - Result: -190.00 ****************\n"
          ]
        },
        {
          "output_type": "stream",
          "name": "stderr",
          "text": [
            " 12%|█▏        | 46/370 [00:04<00:30, 10.56it/s]"
          ]
        },
        {
          "output_type": "stream",
          "name": "stdout",
          "text": [
            " OPEN (431.94): 429 @ 0.34 - 430 @ 0.53 - 432 @ 1.16 - 433 @ 0.71\n",
            "CLOSE (434.19): 429 @ 0.01 - 430 @ 0.01 - 432 @ 2.13 - 433 @ 1.05\n",
            "**************** Processed Date: 2021-10-01 - Result: -440.00 ****************\n",
            " OPEN (427.1123): 425 @ 0.62 - 426 @ 0.91 - 428 @ 0.96 - 429 @ 0.61\n",
            "CLOSE (428.69): 425 @ 0.01 - 426 @ 0.01 - 428 @ 0.85 - 429 @ 0.24\n",
            "**************** Processed Date: 2021-10-04 - Result:   30.00 ****************\n",
            " OPEN (429.83): 427 @ 0.33 - 428 @ 0.54 - 430 @ 1.09 - 431 @ 0.65\n"
          ]
        },
        {
          "output_type": "stream",
          "name": "stderr",
          "text": [
            " 13%|█▎        | 48/370 [00:04<00:31, 10.38it/s]"
          ]
        },
        {
          "output_type": "stream",
          "name": "stdout",
          "text": [
            "CLOSE (434.91): 427 @ 0.01 - 428 @ 0.01 - 430 @ 5.05 - 431 @ 3.92\n",
            "**************** Processed Date: 2021-10-06 - Result: -480.00 ****************\n",
            " OPEN (438.52): 436 @ 0.22 - 437 @ 0.4 - 439 @ 0.68 - 440 @ 0.35\n",
            "CLOSE (437.83): 436 @ 0.01 - 437 @ 0.03 - 439 @ 0.02 - 440 @ 0.01\n",
            "**************** Processed Date: 2021-10-08 - Result:  480.00 ****************\n",
            " OPEN (439.8964): 437 @ 0.09 - 438 @ 0.21 - 440 @ 0.71 - 441 @ 0.31\n",
            "CLOSE (434.66): 437 @ 2.34 - 438 @ 3.34 - 440 @ 0.01 - 441 @ 0.01\n"
          ]
        },
        {
          "output_type": "stream",
          "name": "stderr",
          "text": [
            " 14%|█▍        | 52/370 [00:04<00:30, 10.47it/s]"
          ]
        },
        {
          "output_type": "stream",
          "name": "stdout",
          "text": [
            "**************** Processed Date: 2021-10-11 - Result: -480.00 ****************\n",
            " OPEN (433.66): 431 @ 0.3 - 432 @ 0.48 - 434 @ 0.87 - 435 @ 0.47\n",
            "CLOSE (434.91): 431 @ 0.01 - 432 @ 0.01 - 434 @ 1.15 - 435 @ 0.27\n",
            "**************** Processed Date: 2021-10-13 - Result: -300.00 ****************\n",
            " OPEN (444.9877): 442 @ 0.09 - 443 @ 0.16 - 445 @ 0.62 - 446 @ 0.23\n",
            "CLOSE (445.845): 442 @ 0.01 - 443 @ 0.01 - 445 @ 0.64 - 446 @ 0.05\n",
            "**************** Processed Date: 2021-10-15 - Result: -130.00 ****************\n"
          ]
        },
        {
          "output_type": "stream",
          "name": "stderr",
          "text": [
            " 15%|█▍        | 54/370 [00:05<00:29, 10.65it/s]"
          ]
        },
        {
          "output_type": "stream",
          "name": "stdout",
          "text": [
            " OPEN (446.495): 444 @ 0.08 - 445 @ 0.18 - 447 @ 0.35 - 448 @ 0.11\n",
            "CLOSE (447.2225): 444 @ 0.01 - 445 @ 0.01 - 447 @ 0.41 - 448 @ 0.02\n",
            "**************** Processed Date: 2021-10-18 - Result:  -50.00 ****************\n",
            " OPEN (452.219): 450 @ 0.09 - 451 @ 0.19 - 453 @ 0.23 - 454 @ 0.06\n",
            "CLOSE (452.4): 450 @ 0.01 - 451 @ 0.01 - 453 @ 0.01 - 454 @ 0.01\n",
            "**************** Processed Date: 2021-10-20 - Result:  270.00 ****************\n",
            " OPEN (451.305): 449 @ 0.26 - 450 @ 0.44 - 452 @ 0.56 - 453 @ 0.25\n",
            "CLOSE (453.24): 449 @ 0.01 - 450 @ 0.01 - 452 @ 1.12 - 453 @ 0.26\n"
          ]
        },
        {
          "output_type": "stream",
          "name": "stderr",
          "text": [
            " 15%|█▌        | 56/370 [00:05<00:29, 10.69it/s]"
          ]
        },
        {
          "output_type": "stream",
          "name": "stdout",
          "text": [
            "**************** Processed Date: 2021-10-22 - Result: -370.00 ****************\n",
            " OPEN (454.63): 452 @ 0.06 - 453 @ 0.11 - 455 @ 0.33 - 456 @ 0.07\n",
            "CLOSE (455.49): 452 @ 0.01 - 453 @ 0.01 - 455 @ 0.3 - 456 @ 0.02\n",
            "**************** Processed Date: 2021-10-25 - Result:   30.00 ****************\n",
            " OPEN (456.0313): 454 @ 0.11 - 455 @ 0.24 - 457 @ 0.22 - 458 @ 0.07\n",
            "CLOSE (453.9): 454 @ 0.26 - 455 @ 1.1 - 457 @ 0.01 - 458 @ 0.01\n",
            "**************** Processed Date: 2021-10-27 - Result: -560.00 ****************\n"
          ]
        },
        {
          "output_type": "stream",
          "name": "stderr",
          "text": [
            " 16%|█▌        | 58/370 [00:05<00:29, 10.73it/s]"
          ]
        },
        {
          "output_type": "stream",
          "name": "stdout",
          "text": [
            " OPEN (457.85): 455 @ 0.09 - 456 @ 0.18 - 458 @ 0.56 - 459 @ 0.2\n",
            "CLOSE (459.23): 455 @ 0.01 - 456 @ 0.01 - 458 @ 1.3 - 459 @ 0.22\n",
            "**************** Processed Date: 2021-10-29 - Result: -630.00 ****************\n",
            " OPEN (459.22): 457 @ 0.09 - 458 @ 0.22 - 460 @ 0.31 - 461 @ 0.11\n",
            "CLOSE (460.1): 457 @ 0.01 - 458 @ 0.01 - 460 @ 0.18 - 461 @ 0.01\n",
            "**************** Processed Date: 2021-11-01 - Result:  160.00 ****************\n"
          ]
        },
        {
          "output_type": "stream",
          "name": "stderr",
          "text": [
            "                                                "
          ]
        },
        {
          "output_type": "stream",
          "name": "stdout",
          "text": [
            " OPEN (461.26): 459 @ 0.42 - 460 @ 0.65 - 462 @ 0.74 - 463 @ 0.38\n",
            "CLOSE (464.74): 459 @ 0.01 - 460 @ 0.01 - 462 @ 2.73 - 463 @ 1.68\n",
            "**************** Processed Date: 2021-11-03 - Result: -460.00 ****************\n",
            " OPEN (469.7181): 467 @ 0.07 - 468 @ 0.14 - 470 @ 0.44 - 471 @ 0.14\n",
            "CLOSE (468.49): 467 @ 0.01 - 468 @ 0.06 - 470 @ 0.01 - 471 @ 0.01\n",
            "**************** Processed Date: 2021-11-05 - Result:  320.00 ****************\n",
            " OPEN (468.83): 466 @ 0.06 - 467 @ 0.12 - 469 @ 0.5 - 470 @ 0.18\n",
            "CLOSE (468.96): 466 @ 0.01 - 467 @ 0.01 - 469 @ 0.1 - 470 @ 0.01\n"
          ]
        },
        {
          "output_type": "stream",
          "name": "stderr",
          "text": []
        },
        {
          "output_type": "stream",
          "name": "stdout",
          "text": [
            "**************** Processed Date: 2021-11-08 - Result:  290.00 ****************\n",
            " OPEN (466.51): 464 @ 0.12 - 465 @ 0.25 - 467 @ 0.45 - 468 @ 0.15\n",
            "CLOSE (463.65): 464 @ 0.43 - 465 @ 1.6 - 467 @ 0.01 - 468 @ 0.01\n",
            "**************** Processed Date: 2021-11-10 - Result: -740.00 ****************\n",
            " OPEN (466.81): 464 @ 0.1 - 465 @ 0.18 - 467 @ 0.57 - 468 @ 0.22\n",
            "CLOSE (467.195): 464 @ 0.01 - 465 @ 0.01 - 467 @ 0.3 - 468 @ 0.03\n"
          ]
        },
        {
          "output_type": "stream",
          "name": "stderr",
          "text": [
            " 18%|█▊        | 66/370 [00:06<00:29, 10.24it/s]"
          ]
        },
        {
          "output_type": "stream",
          "name": "stdout",
          "text": [
            "**************** Processed Date: 2021-11-12 - Result:  160.00 ****************\n",
            " OPEN (466.42): 464 @ 0.15 - 465 @ 0.29 - 467 @ 0.48 - 468 @ 0.19\n",
            "CLOSE (467.4): 464 @ 0.02 - 465 @ 0.01 - 467 @ 0.48 - 468 @ 0.01\n",
            "**************** Processed Date: 2021-11-15 - Result:  -30.00 ****************\n",
            " OPEN (468.66): 466 @ 0.05 - 467 @ 0.13 - 469 @ 0.4 - 470 @ 0.11\n",
            "CLOSE (468.11): 466 @ 0.01 - 467 @ 0.01 - 469 @ 0.01 - 470 @ 0.01\n",
            "**************** Processed Date: 2021-11-17 - Result:  370.00 ****************\n"
          ]
        },
        {
          "output_type": "stream",
          "name": "stderr",
          "text": [
            " 18%|█▊        | 68/370 [00:06<00:29, 10.22it/s]"
          ]
        },
        {
          "output_type": "stream",
          "name": "stdout",
          "text": [
            " OPEN (470.07): 468 @ 0.17 - 469 @ 0.33 - 471 @ 0.28 - 472 @ 0.08\n",
            "CLOSE (468.92): 468 @ 0.02 - 469 @ 0.24 - 471 @ 0.01 - 472 @ 0.01\n",
            "**************** Processed Date: 2021-11-19 - Result:  140.00 ****************\n",
            " OPEN (471.9701): 469 @ 0.07 - 470 @ 0.13 - 472 @ 0.51 - 473 @ 0.15\n",
            "CLOSE (467.52): 469 @ 1.54 - 470 @ 2.53 - 472 @ 0.01 - 473 @ 0.01\n",
            "**************** Processed Date: 2021-11-22 - Result: -570.00 ****************\n",
            " OPEN (468.175): 466 @ 0.28 - 467 @ 0.46 - 469 @ 0.46 - 470 @ 0.19\n"
          ]
        },
        {
          "output_type": "stream",
          "name": "stderr",
          "text": [
            " 19%|█▉        | 70/370 [00:06<00:29, 10.13it/s]"
          ]
        },
        {
          "output_type": "stream",
          "name": "stdout",
          "text": [
            "CLOSE (469.37): 466 @ 0.01 - 467 @ 0.02 - 469 @ 0.46 - 470 @ 0.02\n",
            "**************** Processed Date: 2021-11-24 - Result:    0.00 ****************\n",
            " OPEN (459.18): 457 @ 0.18 - 458 @ 0.37 - 460 @ 0.5 - 461 @ 0.26\n",
            "CLOSE (458.97): 457 @ 0.05 - 458 @ 0.19 - 460 @ 0.03 - 461 @ 0.01\n",
            "**************** Processed Date: 2021-11-26 - Result:  270.00 ****************\n"
          ]
        },
        {
          "output_type": "stream",
          "name": "stderr",
          "text": [
            " 19%|█▉        | 72/370 [00:06<00:29,  9.94it/s]"
          ]
        },
        {
          "output_type": "stream",
          "name": "stdout",
          "text": [
            " OPEN (464.18): 462 @ 0.35 - 463 @ 0.55 - 465 @ 0.57 - 466 @ 0.26\n",
            "CLOSE (464.63): 462 @ 0.01 - 463 @ 0.02 - 465 @ 0.12 - 466 @ 0.01\n",
            "**************** Processed Date: 2021-11-29 - Result:  390.00 ****************\n",
            " OPEN (463.43): 461 @ 0.34 - 462 @ 0.54 - 464 @ 0.71 - 465 @ 0.36\n",
            "CLOSE (450.51): 461 @ 10.57 - 462 @ 11.35 - 464 @ 0.01 - 465 @ 0.01\n",
            "**************** Processed Date: 2021-12-01 - Result: -230.00 ****************\n",
            " OPEN (451.71): 449 @ 1.0 - 450 @ 1.28 - 452 @ 1.8 - 453 @ 1.32\n"
          ]
        },
        {
          "output_type": "stream",
          "name": "stderr",
          "text": [
            " 20%|██        | 74/370 [00:07<00:30,  9.78it/s]"
          ]
        },
        {
          "output_type": "stream",
          "name": "stdout",
          "text": [
            "CLOSE (453.43): 449 @ 0.02 - 450 @ 0.01 - 452 @ 1.6 - 453 @ 0.69\n",
            "**************** Processed Date: 2021-12-03 - Result: -140.00 ****************\n",
            " OPEN (458.18): 456 @ 0.82 - 457 @ 1.08 - 459 @ 1.06 - 460 @ 0.63\n",
            "CLOSE (458.78): 456 @ 0.01 - 457 @ 0.02 - 459 @ 0.2 - 460 @ 0.02\n",
            "**************** Processed Date: 2021-12-06 - Result:  500.00 ****************\n",
            " OPEN (467.83): 465 @ 0.19 - 466 @ 0.32 - 468 @ 0.74 - 469 @ 0.34\n",
            "CLOSE (469.5401): 465 @ 0.01 - 466 @ 0.01 - 468 @ 1.47 - 469 @ 0.59\n",
            "**************** Processed Date: 2021-12-08 - Result: -350.00 ****************\n"
          ]
        },
        {
          "output_type": "stream",
          "name": "stderr",
          "text": [
            " 21%|██▏       | 79/370 [00:07<00:21, 13.78it/s]"
          ]
        },
        {
          "output_type": "stream",
          "name": "stdout",
          "text": [
            " OPEN (468.75): 466 @ 0.15 - 467 @ 0.26 - 469 @ 0.63 - 470 @ 0.27\n",
            "CLOSE (470.71): 466 @ 0.01 - 467 @ 0.01 - 469 @ 1.69 - 470 @ 0.75\n",
            "**************** Processed Date: 2021-12-10 - Result: -470.00 ****************\n",
            " OPEN (461.24): 459 @ 1.11 - 460 @ 1.45 - 462 @ 1.61 - 463 @ 1.14\n",
            "CLOSE (459.9): 459 @ 0.16 - 460 @ 0.46 - 462 @ 0.02 - 463 @ 0.02\n",
            "**************** Processed Date: 2021-12-17 - Result:  510.00 ****************\n"
          ]
        },
        {
          "output_type": "stream",
          "name": "stderr",
          "text": [
            " 23%|██▎       | 84/370 [00:07<00:18, 15.07it/s]"
          ]
        },
        {
          "output_type": "stream",
          "name": "stdout",
          "text": [
            " OPEN (471.195): 469 @ 0.15 - 470 @ 0.28 - 472 @ 0.33 - 473 @ 0.11\n",
            "CLOSE (470.58): 469 @ 0.01 - 470 @ 0.09 - 472 @ 0.01 - 473 @ 0.01\n",
            "**************** Processed Date: 2021-12-23 - Result:  270.00 ****************\n",
            " OPEN (475.02): 473 @ 0.17 - 474 @ 0.34 - 476 @ 0.25 - 477 @ 0.07\n",
            "CLOSE (477.1): 473 @ 0.01 - 474 @ 0.01 - 476 @ 1.21 - 477 @ 0.35\n",
            "**************** Processed Date: 2021-12-27 - Result: -510.00 ****************\n",
            " OPEN (476.725): 474 @ 0.09 - 475 @ 0.2 - 477 @ 0.58 - 478 @ 0.24\n",
            "CLOSE (477.885): 474 @ 0.01 - 475 @ 0.01 - 477 @ 0.53 - 478 @ 0.02\n",
            "**************** Processed Date: 2021-12-29 - Result:  -60.00 ****************\n"
          ]
        },
        {
          "output_type": "stream",
          "name": "stderr",
          "text": [
            " 23%|██▎       | 86/370 [00:07<00:20, 14.03it/s]"
          ]
        },
        {
          "output_type": "stream",
          "name": "stdout",
          "text": [
            " OPEN (475.8575): 473 @ 0.13 - 474 @ 0.26 - 476 @ 0.76 - 477 @ 0.39\n",
            "CLOSE (474.88): 473 @ 0.01 - 474 @ 0.04 - 476 @ 0.03 - 477 @ 0.01\n",
            "**************** Processed Date: 2021-12-31 - Result:  450.00 ****************\n",
            " OPEN (475.345): 473 @ 0.17 - 474 @ 0.35 - 476 @ 0.51 - 477 @ 0.23\n",
            "CLOSE (477.76): 473 @ 0.01 - 474 @ 0.03 - 476 @ 1.64 - 477 @ 0.78\n",
            "**************** Processed Date: 2022-01-03 - Result: -420.00 ****************\n",
            " OPEN (476.38): 474 @ 0.24 - 475 @ 0.41 - 477 @ 0.56 - 478 @ 0.26\n",
            "CLOSE (468.38): 474 @ 5.55 - 475 @ 6.51 - 477 @ 0.01 - 478 @ 0.01\n",
            "**************** Processed Date: 2022-01-05 - Result: -490.00 ****************\n"
          ]
        },
        {
          "output_type": "stream",
          "name": "stderr",
          "text": [
            "                                                "
          ]
        },
        {
          "output_type": "stream",
          "name": "stdout",
          "text": [
            " OPEN (466.6343): 464 @ 0.33 - 465 @ 0.51 - 467 @ 0.84 - 468 @ 0.45\n",
            "CLOSE (466.12): 464 @ 0.01 - 465 @ 0.06 - 467 @ 0.03 - 468 @ 0.01\n",
            "**************** Processed Date: 2022-01-07 - Result:  500.00 ****************\n",
            " OPEN (470.985): 468 @ 0.38 - 469 @ 0.56 - 471 @ 1.23 - 472 @ 0.77\n",
            "CLOSE (471.14): 468 @ 0.01 - 469 @ 0.01 - 471 @ 0.22 - 472 @ 0.01\n",
            "**************** Processed Date: 2022-01-12 - Result:  430.00 ****************\n",
            " OPEN (462.79): 460 @ 0.45 - 461 @ 0.67 - 463 @ 1.24 - 464 @ 0.8\n",
            "CLOSE (464.69): 460 @ 0.02 - 461 @ 0.01 - 463 @ 1.25 - 464 @ 0.64\n"
          ]
        },
        {
          "output_type": "stream",
          "name": "stderr",
          "text": [
            " 25%|██▍       | 92/370 [00:08<00:20, 13.39it/s]"
          ]
        },
        {
          "output_type": "stream",
          "name": "stdout",
          "text": [
            "**************** Processed Date: 2022-01-14 - Result:   60.00 ****************\n",
            " OPEN (457.87): 455 @ 0.44 - 456 @ 0.67 - 458 @ 1.28 - 459 @ 0.87\n",
            "CLOSE (456.51): 455 @ 0.03 - 456 @ 0.16 - 458 @ 0.06 - 459 @ 0.01\n",
            "**************** Processed Date: 2022-01-18 - Result:  460.00 ****************\n",
            " OPEN (445.22): 443 @ 1.13 - 444 @ 1.46 - 446 @ 1.54 - 447 @ 1.14\n"
          ]
        },
        {
          "output_type": "stream",
          "name": "stderr",
          "text": []
        },
        {
          "output_type": "stream",
          "name": "stdout",
          "text": [
            "CLOSE (438.02): 443 @ 5.0 - 444 @ 4.41 - 446 @ 0.01 - 447 @ 0.01\n",
            "**************** Processed Date: 2022-01-21 - Result: 1320.00 ****************\n",
            " OPEN (441.11): 439 @ 2.35 - 440 @ 2.73 - 442 @ 2.75 - 443 @ 2.27\n",
            "CLOSE (433.46): 439 @ 5.43 - 440 @ 6.3 - 442 @ 0.01 - 443 @ 0.01\n",
            "**************** Processed Date: 2022-01-26 - Result:  -10.00 ****************\n",
            " OPEN (435.38): 433 @ 1.3 - 434 @ 1.63 - 436 @ 1.83 - 437 @ 1.37\n",
            "CLOSE (441.9): 433 @ 0.01 - 434 @ 0.01 - 436 @ 6.0 - 437 @ 4.8\n"
          ]
        },
        {
          "output_type": "stream",
          "name": "stderr",
          "text": [
            " 27%|██▋       | 100/370 [00:08<00:16, 16.37it/s]"
          ]
        },
        {
          "output_type": "stream",
          "name": "stdout",
          "text": [
            "**************** Processed Date: 2022-01-28 - Result: -410.00 ****************\n",
            " OPEN (447.28): 445 @ 0.88 - 446 @ 1.18 - 448 @ 1.39 - 449 @ 0.97\n",
            "CLOSE (448.73): 445 @ 0.01 - 446 @ 0.02 - 448 @ 0.82 - 449 @ 0.26\n",
            "**************** Processed Date: 2022-02-04 - Result:  150.00 ****************\n"
          ]
        },
        {
          "output_type": "stream",
          "name": "stderr",
          "text": [
            " 28%|██▊       | 102/370 [00:08<00:18, 14.61it/s]"
          ]
        },
        {
          "output_type": "stream",
          "name": "stdout",
          "text": [
            " OPEN (447.45): 445 @ 0.53 - 446 @ 0.8 - 448 @ 1.12 - 449 @ 0.73\n",
            "CLOSE (447.23): 445 @ 0.02 - 446 @ 0.1 - 448 @ 0.16 - 449 @ 0.04\n",
            "**************** Processed Date: 2022-02-07 - Result:  460.00 ****************\n",
            " OPEN (456.14): 454 @ 0.49 - 455 @ 0.73 - 457 @ 0.73 - 458 @ 0.4\n",
            "CLOSE (457.5): 454 @ 0.01 - 455 @ 0.01 - 457 @ 0.46 - 458 @ 0.06\n",
            "**************** Processed Date: 2022-02-09 - Result:  170.00 ****************\n",
            " OPEN (447.38): 445 @ 0.79 - 446 @ 1.09 - 448 @ 1.35 - 449 @ 0.94\n",
            "CLOSE (440.51): 445 @ 4.24 - 446 @ 5.3 - 448 @ 0.01 - 449 @ 0.01\n",
            "**************** Processed Date: 2022-02-11 - Result: -350.00 ****************\n"
          ]
        },
        {
          "output_type": "stream",
          "name": "stderr",
          "text": [
            " 28%|██▊       | 104/370 [00:09<00:19, 13.91it/s]"
          ]
        },
        {
          "output_type": "stream",
          "name": "stdout",
          "text": [
            " OPEN (440.17): 438 @ 1.12 - 439 @ 1.39 - 441 @ 1.52 - 442 @ 1.11\n",
            "CLOSE (439.06): 438 @ 0.12 - 439 @ 0.4 - 441 @ 0.02 - 442 @ 0.01\n",
            "**************** Processed Date: 2022-02-14 - Result:  390.00 ****************\n",
            " OPEN (443.31): 441 @ 0.81 - 442 @ 1.1 - 444 @ 1.27 - 445 @ 0.84\n",
            "CLOSE (446.61): 441 @ 0.01 - 442 @ 0.01 - 444 @ 2.69 - 445 @ 1.75\n",
            "**************** Processed Date: 2022-02-16 - Result: -220.00 ****************\n",
            " OPEN (434.88): 432 @ 0.82 - 433 @ 1.1 - 435 @ 1.78 - 436 @ 1.3\n"
          ]
        },
        {
          "output_type": "stream",
          "name": "stderr",
          "text": [
            " 29%|██▊       | 106/370 [00:09<00:21, 12.10it/s]"
          ]
        },
        {
          "output_type": "stream",
          "name": "stdout",
          "text": [
            "CLOSE (434.27): 432 @ 0.04 - 433 @ 0.11 - 435 @ 0.18 - 436 @ 0.04\n",
            "**************** Processed Date: 2022-02-18 - Result:  550.00 ****************\n",
            " OPEN (431.4625): 429 @ 1.02 - 430 @ 1.34 - 432 @ 1.59 - 433 @ 1.12\n",
            "CLOSE (429.65): 429 @ 0.15 - 430 @ 0.63 - 432 @ 0.01 - 433 @ 0.02\n",
            "**************** Processed Date: 2022-02-22 - Result:  320.00 ****************\n"
          ]
        },
        {
          "output_type": "stream",
          "name": "stderr",
          "text": [
            "                                                 "
          ]
        },
        {
          "output_type": "stream",
          "name": "stdout",
          "text": [
            " OPEN (427.52): 425 @ 0.86 - 426 @ 1.18 - 428 @ 1.54 - 429 @ 1.12\n",
            "CLOSE (421.97): 425 @ 3.06 - 426 @ 3.96 - 428 @ 0.01 - 429 @ 0.01\n",
            "**************** Processed Date: 2022-02-23 - Result: -160.00 ****************\n"
          ]
        },
        {
          "output_type": "stream",
          "name": "stderr",
          "text": [
            " 29%|██▉       | 108/370 [00:09<00:27,  9.54it/s]"
          ]
        },
        {
          "output_type": "stream",
          "name": "stdout",
          "text": [
            " OPEN (435.43): 433 @ 0.86 - 434 @ 1.14 - 436 @ 1.4 - 437 @ 0.93\n",
            "CLOSE (437.68): 433 @ 0.01 - 434 @ 0.02 - 436 @ 1.66 - 437 @ 0.8\n",
            "**************** Processed Date: 2022-02-25 - Result: -120.00 ****************\n"
          ]
        },
        {
          "output_type": "stream",
          "name": "stderr",
          "text": [
            " 30%|███       | 111/370 [00:10<00:36,  7.14it/s]"
          ]
        },
        {
          "output_type": "stream",
          "name": "stdout",
          "text": [
            " OPEN (437.18): 435 @ 1.05 - 436 @ 1.34 - 438 @ 1.42 - 439 @ 1.01\n",
            "CLOSE (436.67): 435 @ 0.06 - 436 @ 0.26 - 438 @ 0.04 - 439 @ 0.01\n",
            "**************** Processed Date: 2022-02-28 - Result:  470.00 ****************\n",
            " OPEN (436.85): 434 @ 0.86 - 435 @ 1.12 - 437 @ 1.75 - 438 @ 1.25\n",
            "CLOSE (437.83): 434 @ 0.01 - 435 @ 0.01 - 437 @ 1.0 - 438 @ 0.34\n",
            "**************** Processed Date: 2022-03-02 - Result:  100.00 ****************\n"
          ]
        },
        {
          "output_type": "stream",
          "name": "stderr",
          "text": [
            " 31%|███       | 114/370 [00:10<00:29,  8.75it/s]"
          ]
        },
        {
          "output_type": "stream",
          "name": "stdout",
          "text": [
            " OPEN (429.71): 427 @ 0.98 - 428 @ 1.25 - 430 @ 1.75 - 431 @ 1.27\n",
            "CLOSE (432.24): 427 @ 0.01 - 428 @ 0.01 - 430 @ 2.34 - 431 @ 1.25\n",
            "**************** Processed Date: 2022-03-04 - Result: -340.00 ****************\n",
            " OPEN (425.42): 423 @ 0.91 - 424 @ 1.23 - 426 @ 1.59 - 427 @ 1.19\n",
            "CLOSE (419.46): 423 @ 3.76 - 424 @ 4.43 - 426 @ 0.01 - 427 @ 0.01\n",
            "**************** Processed Date: 2022-03-07 - Result:   50.00 ****************\n",
            " OPEN (426.93): 424 @ 1.07 - 425 @ 1.33 - 427 @ 1.96 - 428 @ 1.45\n",
            "CLOSE (427.41): 424 @ 0.02 - 425 @ 0.04 - 427 @ 0.74 - 428 @ 0.22\n",
            "**************** Processed Date: 2022-03-09 - Result:  230.00 ****************\n"
          ]
        },
        {
          "output_type": "stream",
          "name": "stderr",
          "text": [
            " 31%|███▏      | 116/370 [00:10<00:25,  9.88it/s]"
          ]
        },
        {
          "output_type": "stream",
          "name": "stdout",
          "text": [
            " OPEN (424.53): 422 @ 0.73 - 423 @ 1.0 - 425 @ 1.31 - 426 @ 0.91\n",
            "CLOSE (420.08): 422 @ 1.92 - 423 @ 3.18 - 425 @ 0.01 - 426 @ 0.01\n",
            "**************** Processed Date: 2022-03-11 - Result: -590.00 ****************\n",
            " OPEN (420.67): 418 @ 0.69 - 419 @ 0.97 - 421 @ 1.48 - 422 @ 1.01\n",
            "CLOSE (417.06): 418 @ 1.14 - 419 @ 2.0 - 421 @ 0.01 - 422 @ 0.01\n",
            "**************** Processed Date: 2022-03-14 - Result: -110.00 ****************\n",
            " OPEN (432.445): 430 @ 1.22 - 431 @ 1.57 - 433 @ 1.9 - 434 @ 1.47\n",
            "CLOSE (435.61): 430 @ 0.04 - 431 @ 0.01 - 433 @ 2.4 - 434 @ 1.63\n",
            "**************** Processed Date: 2022-03-16 - Result:   40.00 ****************\n"
          ]
        },
        {
          "output_type": "stream",
          "name": "stderr",
          "text": [
            " 32%|███▏      | 118/370 [00:10<00:23, 10.74it/s]"
          ]
        },
        {
          "output_type": "stream",
          "name": "stdout",
          "text": [
            " OPEN (440.22): 438 @ 0.5 - 439 @ 0.76 - 441 @ 0.86 - 442 @ 0.49\n",
            "CLOSE (444.47): 438 @ 0.01 - 439 @ 0.01 - 441 @ 3.51 - 442 @ 2.23\n",
            "**************** Processed Date: 2022-03-18 - Result: -650.00 ****************\n",
            " OPEN (444.93): 442 @ 0.42 - 443 @ 0.61 - 445 @ 1.21 - 446 @ 0.75\n",
            "CLOSE (444.43): 442 @ 0.01 - 443 @ 0.01 - 445 @ 0.05 - 446 @ 0.01\n",
            "**************** Processed Date: 2022-03-21 - Result:  610.00 ****************\n",
            " OPEN (447.793): 445 @ 0.34 - 446 @ 0.53 - 448 @ 1.02 - 449 @ 0.6\n",
            "CLOSE (443.84): 445 @ 1.25 - 446 @ 2.2 - 448 @ 0.01 - 449 @ 0.01\n"
          ]
        },
        {
          "output_type": "stream",
          "name": "stderr",
          "text": [
            " 33%|███▎      | 122/370 [00:10<00:21, 11.57it/s]"
          ]
        },
        {
          "output_type": "stream",
          "name": "stdout",
          "text": [
            "**************** Processed Date: 2022-03-23 - Result: -340.00 ****************\n",
            " OPEN (449.8099): 447 @ 0.4 - 448 @ 0.61 - 450 @ 1.16 - 451 @ 0.72\n",
            "CLOSE (452.66): 447 @ 0.01 - 448 @ 0.01 - 450 @ 2.74 - 451 @ 1.55\n",
            "**************** Processed Date: 2022-03-25 - Result: -540.00 ****************\n",
            " OPEN (451.21): 449 @ 0.4 - 450 @ 0.64 - 452 @ 0.67 - 453 @ 0.35\n",
            "CLOSE (455.56): 449 @ 0.01 - 450 @ 0.01 - 452 @ 3.75 - 453 @ 2.78\n",
            "**************** Processed Date: 2022-03-28 - Result: -410.00 ****************\n"
          ]
        },
        {
          "output_type": "stream",
          "name": "stderr",
          "text": [
            " 34%|███▎      | 124/370 [00:11<00:20, 11.83it/s]"
          ]
        },
        {
          "output_type": "stream",
          "name": "stdout",
          "text": [
            " OPEN (459.63): 457 @ 0.27 - 458 @ 0.45 - 460 @ 0.82 - 461 @ 0.46\n",
            "CLOSE (458.72): 457 @ 0.01 - 458 @ 0.1 - 460 @ 0.01 - 461 @ 0.01\n",
            "**************** Processed Date: 2022-03-30 - Result:  450.00 ****************\n",
            " OPEN (457.8): 455 @ 0.37 - 456 @ 0.58 - 458 @ 1.05 - 459 @ 0.64\n",
            "CLOSE (451.65): 455 @ 3.03 - 456 @ 4.2 - 458 @ 0.01 - 459 @ 0.01\n",
            "**************** Processed Date: 2022-03-31 - Result: -550.00 ****************\n",
            " OPEN (450.37): 448 @ 0.36 - 449 @ 0.61 - 451 @ 0.83 - 452 @ 0.47\n",
            "CLOSE (452.88): 448 @ 0.01 - 449 @ 0.01 - 451 @ 1.94 - 452 @ 0.89\n",
            "**************** Processed Date: 2022-04-01 - Result: -440.00 ****************\n"
          ]
        },
        {
          "output_type": "stream",
          "name": "stderr",
          "text": [
            " 35%|███▍      | 128/370 [00:11<00:20, 11.95it/s]"
          ]
        },
        {
          "output_type": "stream",
          "name": "stdout",
          "text": [
            " OPEN (455.25): 453 @ 0.24 - 454 @ 0.42 - 456 @ 0.5 - 457 @ 0.2\n",
            "CLOSE (456.78): 453 @ 0.01 - 454 @ 0.01 - 456 @ 0.76 - 457 @ 0.12\n",
            "**************** Processed Date: 2022-04-04 - Result: -160.00 ****************\n",
            " OPEN (445.5): 443 @ 0.57 - 444 @ 0.84 - 446 @ 1.21 - 447 @ 0.82\n",
            "CLOSE (446.57): 443 @ 0.01 - 444 @ 0.01 - 446 @ 0.68 - 447 @ 0.15\n",
            "**************** Processed Date: 2022-04-06 - Result:  130.00 ****************\n",
            " OPEN (449.2397): 447 @ 0.44 - 448 @ 0.7 - 450 @ 0.8 - 451 @ 0.46\n",
            "CLOSE (447.62): 447 @ 0.06 - 448 @ 0.24 - 450 @ 0.01 - 451 @ 0.01\n",
            "**************** Processed Date: 2022-04-08 - Result:  420.00 ****************\n"
          ]
        },
        {
          "output_type": "stream",
          "name": "stderr",
          "text": [
            " 35%|███▌      | 130/370 [00:11<00:19, 12.03it/s]"
          ]
        },
        {
          "output_type": "stream",
          "name": "stdout",
          "text": [
            " OPEN (442.585): 440 @ 0.2 - 441 @ 0.4 - 443 @ 0.82 - 444 @ 0.49\n",
            "CLOSE (439.97): 440 @ 0.29 - 441 @ 1.14 - 443 @ 0.01 - 444 @ 0.01\n",
            "**************** Processed Date: 2022-04-11 - Result: -320.00 ****************\n",
            " OPEN (441.23): 439 @ 0.4 - 440 @ 0.64 - 442 @ 0.69 - 443 @ 0.35\n",
            "CLOSE (443.36): 439 @ 0.01 - 440 @ 0.01 - 442 @ 1.42 - 443 @ 0.47\n",
            "**************** Processed Date: 2022-04-13 - Result: -370.00 ****************\n",
            " OPEN (440.7999): 438 @ 0.36 - 439 @ 0.56 - 441 @ 1.1 - 442 @ 0.67\n",
            "CLOSE (437.87): 438 @ 0.25 - 439 @ 1.04 - 441 @ 0.02 - 442 @ 0.01\n",
            "**************** Processed Date: 2022-04-14 - Result: -170.00 ****************\n"
          ]
        },
        {
          "output_type": "stream",
          "name": "stderr",
          "text": [
            " 36%|███▌      | 134/370 [00:11<00:19, 12.21it/s]"
          ]
        },
        {
          "output_type": "stream",
          "name": "stdout",
          "text": [
            " OPEN (436.86): 434 @ 0.29 - 435 @ 0.52 - 437 @ 1.11 - 438 @ 0.69\n",
            "CLOSE (437.245): 434 @ 0.01 - 435 @ 0.01 - 437 @ 0.98 - 438 @ 0.23\n",
            "**************** Processed Date: 2022-04-18 - Result: -100.00 ****************\n",
            " OPEN (446.29): 444 @ 0.29 - 445 @ 0.53 - 447 @ 0.69 - 448 @ 0.35\n",
            "CLOSE (444.68): 444 @ 0.18 - 445 @ 0.57 - 447 @ 0.01 - 448 @ 0.01\n",
            "**************** Processed Date: 2022-04-20 - Result:  190.00 ****************\n",
            " OPEN (431.04): 429 @ 0.62 - 430 @ 0.95 - 432 @ 0.97 - 433 @ 0.63\n",
            "CLOSE (426.09): 429 @ 3.0 - 430 @ 4.5 - 432 @ 0.01 - 433 @ 0.01\n",
            "**************** Processed Date: 2022-04-22 - Result: -830.00 ****************\n"
          ]
        },
        {
          "output_type": "stream",
          "name": "stderr",
          "text": [
            " 37%|███▋      | 136/370 [00:12<00:18, 12.49it/s]"
          ]
        },
        {
          "output_type": "stream",
          "name": "stdout",
          "text": [
            " OPEN (419.54): 417 @ 0.97 - 418 @ 1.29 - 420 @ 1.71 - 421 @ 1.28\n",
            "CLOSE (428.535): 417 @ 0.01 - 418 @ 0.01 - 420 @ 8.15 - 421 @ 7.16\n",
            "**************** Processed Date: 2022-04-25 - Result: -240.00 ****************\n",
            " OPEN (420.09): 418 @ 1.23 - 419 @ 1.57 - 421 @ 1.59 - 422 @ 1.17\n",
            "CLOSE (417.26): 418 @ 0.78 - 419 @ 1.97 - 421 @ 0.01 - 422 @ 0.01\n",
            "**************** Processed Date: 2022-04-27 - Result: -430.00 ****************\n",
            " OPEN (421.91): 419 @ 0.73 - 420 @ 1.02 - 422 @ 1.77 - 423 @ 1.33\n",
            "CLOSE (412.05): 419 @ 7.37 - 420 @ 8.0 - 422 @ 0.01 - 423 @ 0.01\n",
            "**************** Processed Date: 2022-04-29 - Result:  100.00 ****************\n"
          ]
        },
        {
          "output_type": "stream",
          "name": "stderr",
          "text": [
            " 38%|███▊      | 140/370 [00:12<00:18, 12.16it/s]"
          ]
        },
        {
          "output_type": "stream",
          "name": "stdout",
          "text": [
            " OPEN (410.39): 408 @ 1.18 - 409 @ 1.52 - 411 @ 1.82 - 412 @ 1.38\n",
            "CLOSE (414.39): 408 @ 0.01 - 409 @ 0.01 - 411 @ 3.66 - 412 @ 2.3\n",
            "**************** Processed Date: 2022-05-02 - Result: -580.00 ****************\n",
            " OPEN (414.5286): 412 @ 1.75 - 413 @ 2.11 - 415 @ 2.6 - 416 @ 2.1\n",
            "CLOSE (428.99): 412 @ 0.01 - 413 @ 0.01 - 415 @ 13.62 - 416 @ 12.5\n",
            "**************** Processed Date: 2022-05-04 - Result: -260.00 ****************\n",
            " OPEN (410.61): 408 @ 1.42 - 409 @ 1.79 - 411 @ 2.18 - 412 @ 1.78\n",
            "CLOSE (411.38): 408 @ 0.02 - 409 @ 0.02 - 411 @ 0.67 - 412 @ 0.16\n",
            "**************** Processed Date: 2022-05-06 - Result:  260.00 ****************\n"
          ]
        },
        {
          "output_type": "stream",
          "name": "stderr",
          "text": [
            " 38%|███▊      | 142/370 [00:12<00:18, 12.20it/s]"
          ]
        },
        {
          "output_type": "stream",
          "name": "stdout",
          "text": [
            " OPEN (401.8199): 399 @ 1.11 - 400 @ 1.47 - 402 @ 2.15 - 403 @ 1.75\n",
            "CLOSE (398.24): 399 @ 0.93 - 400 @ 1.59 - 402 @ 0.01 - 403 @ 0.01\n",
            "**************** Processed Date: 2022-05-09 - Result:  100.00 ****************\n",
            " OPEN (402.83): 400 @ 1.09 - 401 @ 1.43 - 403 @ 2.15 - 404 @ 1.71\n",
            "CLOSE (392.77): 400 @ 7.5 - 401 @ 8.5 - 403 @ 0.01 - 404 @ 0.01\n",
            "**************** Processed Date: 2022-05-11 - Result: -220.00 ****************\n",
            " OPEN (401.09): 399 @ 1.08 - 400 @ 1.4 - 402 @ 1.44 - 403 @ 0.98\n",
            "CLOSE (401.69): 399 @ 0.04 - 400 @ 0.04 - 402 @ 0.26 - 403 @ 0.03\n",
            "**************** Processed Date: 2022-05-13 - Result:  550.00 ****************\n"
          ]
        },
        {
          "output_type": "stream",
          "name": "stderr",
          "text": [
            " 39%|███▉      | 146/370 [00:12<00:18, 12.25it/s]"
          ]
        },
        {
          "output_type": "stream",
          "name": "stdout",
          "text": [
            " OPEN (400.37): 398 @ 0.88 - 399 @ 1.19 - 401 @ 1.48 - 402 @ 1.07\n",
            "CLOSE (400.23): 398 @ 0.02 - 399 @ 0.02 - 401 @ 0.05 - 402 @ 0.01\n",
            "**************** Processed Date: 2022-05-16 - Result:  680.00 ****************\n",
            " OPEN (397.565): 395 @ 0.67 - 396 @ 1.0 - 398 @ 1.49 - 399 @ 1.08\n",
            "CLOSE (391.93): 395 @ 2.94 - 396 @ 3.8 - 398 @ 0.01 - 399 @ 0.01\n",
            "**************** Processed Date: 2022-05-18 - Result: -120.00 ****************\n",
            " OPEN (386.37): 384 @ 1.09 - 385 @ 1.44 - 387 @ 1.73 - 388 @ 1.32\n",
            "CLOSE (389.65): 384 @ 0.01 - 385 @ 0.01 - 387 @ 2.7 - 388 @ 1.65\n",
            "**************** Processed Date: 2022-05-20 - Result: -290.00 ****************\n"
          ]
        },
        {
          "output_type": "stream",
          "name": "stderr",
          "text": [
            " 40%|████      | 148/370 [00:13<00:17, 12.63it/s]"
          ]
        },
        {
          "output_type": "stream",
          "name": "stdout",
          "text": [
            " OPEN (396.65): 394 @ 0.8 - 395 @ 1.09 - 397 @ 1.53 - 398 @ 1.08\n",
            "CLOSE (396.93): 394 @ 0.01 - 395 @ 0.01 - 397 @ 0.23 - 398 @ 0.01\n",
            "**************** Processed Date: 2022-05-23 - Result:  520.00 ****************\n",
            " OPEN (395.3): 393 @ 1.09 - 394 @ 1.4 - 396 @ 1.56 - 397 @ 1.12\n",
            "CLOSE (396.97): 393 @ 0.01 - 394 @ 0.01 - 396 @ 1.5 - 397 @ 0.68\n",
            "**************** Processed Date: 2022-05-25 - Result:  -70.00 ****************\n",
            " OPEN (412.4): 410 @ 0.37 - 411 @ 0.58 - 413 @ 0.78 - 414 @ 0.42\n",
            "CLOSE (415.35): 410 @ 0.01 - 411 @ 0.01 - 413 @ 2.34 - 414 @ 1.39\n",
            "**************** Processed Date: 2022-05-27 - Result: -380.00 ****************\n"
          ]
        },
        {
          "output_type": "stream",
          "name": "stderr",
          "text": [
            " 41%|████      | 152/370 [00:13<00:17, 12.65it/s]"
          ]
        },
        {
          "output_type": "stream",
          "name": "stdout",
          "text": [
            " OPEN (412.97): 410 @ 0.57 - 411 @ 0.84 - 413 @ 1.58 - 414 @ 1.12\n",
            "CLOSE (412.94): 410 @ 0.02 - 411 @ 0.03 - 413 @ 0.3 - 414 @ 0.07\n",
            "**************** Processed Date: 2022-05-31 - Result:  490.00 ****************\n",
            " OPEN (407.9276): 405 @ 0.49 - 406 @ 0.75 - 408 @ 1.46 - 409 @ 1.05\n",
            "CLOSE (409.95): 405 @ 0.01 - 406 @ 0.01 - 408 @ 1.7 - 409 @ 0.71\n",
            "**************** Processed Date: 2022-06-01 - Result: -320.00 ****************\n",
            " OPEN (410.49): 408 @ 0.58 - 409 @ 0.87 - 411 @ 1.25 - 412 @ 0.84\n",
            "CLOSE (410.59): 408 @ 0.01 - 409 @ 0.01 - 411 @ 0.12 - 412 @ 0.04\n",
            "**************** Processed Date: 2022-06-03 - Result:  620.00 ****************\n"
          ]
        },
        {
          "output_type": "stream",
          "name": "stderr",
          "text": [
            " 42%|████▏     | 154/370 [00:13<00:17, 12.47it/s]"
          ]
        },
        {
          "output_type": "stream",
          "name": "stdout",
          "text": [
            " OPEN (414.19): 412 @ 0.54 - 413 @ 0.82 - 415 @ 0.91 - 416 @ 0.57\n",
            "CLOSE (411.76): 412 @ 0.42 - 413 @ 1.23 - 415 @ 0.01 - 416 @ 0.01\n",
            "**************** Processed Date: 2022-06-06 - Result: -190.00 ****************\n",
            " OPEN (414.7835): 412 @ 0.35 - 413 @ 0.58 - 415 @ 1.16 - 416 @ 0.74\n",
            "CLOSE (411.29): 412 @ 0.73 - 413 @ 1.7 - 415 @ 0.01 - 416 @ 0.01\n",
            "**************** Processed Date: 2022-06-08 - Result: -320.00 ****************\n",
            " OPEN (390.75): 388 @ 0.67 - 389 @ 0.96 - 391 @ 1.61 - 392 @ 1.19\n",
            "CLOSE (389.82): 388 @ 0.01 - 389 @ 0.04 - 391 @ 0.01 - 392 @ 0.01\n",
            "**************** Processed Date: 2022-06-10 - Result:  680.00 ****************\n"
          ]
        },
        {
          "output_type": "stream",
          "name": "stderr",
          "text": [
            " 43%|████▎     | 158/370 [00:13<00:16, 12.58it/s]"
          ]
        },
        {
          "output_type": "stream",
          "name": "stdout",
          "text": [
            " OPEN (378.66): 376 @ 1.01 - 377 @ 1.34 - 379 @ 1.89 - 380 @ 1.45\n",
            "CLOSE (375.02): 376 @ 1.02 - 377 @ 1.67 - 379 @ 0.01 - 380 @ 0.01\n",
            "**************** Processed Date: 2022-06-13 - Result:  120.00 ****************\n",
            " OPEN (377.1548): 375 @ 2.34 - 376 @ 2.76 - 378 @ 2.92 - 379 @ 2.45\n",
            "CLOSE (379.13): 375 @ 0.01 - 376 @ 0.02 - 378 @ 1.13 - 379 @ 0.56\n",
            "**************** Processed Date: 2022-06-15 - Result:  310.00 ****************\n",
            " OPEN (365.34): 363 @ 1.13 - 364 @ 1.47 - 366 @ 1.72 - 367 @ 1.29\n",
            "CLOSE (365.84): 363 @ 0.01 - 364 @ 0.01 - 366 @ 0.24 - 367 @ 0.04\n",
            "**************** Processed Date: 2022-06-17 - Result:  570.00 ****************\n"
          ]
        },
        {
          "output_type": "stream",
          "name": "stderr",
          "text": [
            " 43%|████▎     | 160/370 [00:14<00:17, 12.22it/s]"
          ]
        },
        {
          "output_type": "stream",
          "name": "stdout",
          "text": [
            " OPEN (374.52): 372 @ 0.5 - 373 @ 0.76 - 375 @ 1.06 - 376 @ 0.61\n",
            "CLOSE (375.0699): 372 @ 0.01 - 373 @ 0.01 - 375 @ 0.24 - 376 @ 0.02\n",
            "**************** Processed Date: 2022-06-21 - Result:  490.00 ****************\n",
            " OPEN (375.81): 373 @ 0.51 - 374 @ 0.74 - 376 @ 1.28 - 377 @ 0.83\n",
            "CLOSE (374.39): 373 @ 0.02 - 374 @ 0.12 - 376 @ 0.01 - 377 @ 0.01\n",
            "**************** Processed Date: 2022-06-22 - Result:  580.00 ****************\n",
            " OPEN (386.89): 384 @ 0.39 - 385 @ 0.56 - 387 @ 1.05 - 388 @ 0.6\n",
            "CLOSE (390.05): 384 @ 0.01 - 385 @ 0.01 - 387 @ 2.79 - 388 @ 1.96\n",
            "**************** Processed Date: 2022-06-24 - Result: -210.00 ****************\n"
          ]
        },
        {
          "output_type": "stream",
          "name": "stderr",
          "text": [
            " 44%|████▍     | 164/370 [00:14<00:16, 12.30it/s]"
          ]
        },
        {
          "output_type": "stream",
          "name": "stdout",
          "text": [
            " OPEN (391.01): 389 @ 0.57 - 390 @ 0.84 - 392 @ 0.82 - 393 @ 0.5\n",
            "CLOSE (388.66): 389 @ 0.45 - 390 @ 1.57 - 392 @ 0.01 - 393 @ 0.01\n",
            "**************** Processed Date: 2022-06-27 - Result: -530.00 ****************\n",
            " OPEN (380.31): 378 @ 0.57 - 379 @ 0.86 - 381 @ 1.04 - 382 @ 0.66\n",
            "CLOSE (380.36): 378 @ 0.01 - 379 @ 0.01 - 381 @ 0.09 - 382 @ 0.01\n",
            "**************** Processed Date: 2022-06-29 - Result:  590.00 ****************\n",
            " OPEN (377.47): 375 @ 0.83 - 376 @ 1.14 - 378 @ 1.55 - 379 @ 1.16\n",
            "CLOSE (377.285): 375 @ 0.01 - 376 @ 0.03 - 378 @ 0.14 - 379 @ 0.05\n",
            "**************** Processed Date: 2022-06-30 - Result:  590.00 ****************\n"
          ]
        },
        {
          "output_type": "stream",
          "name": "stderr",
          "text": [
            " 45%|████▍     | 166/370 [00:14<00:16, 12.19it/s]"
          ]
        },
        {
          "output_type": "stream",
          "name": "stdout",
          "text": [
            " OPEN (376.65): 374 @ 0.49 - 375 @ 0.74 - 377 @ 1.26 - 378 @ 0.86\n",
            "CLOSE (380.84): 374 @ 0.01 - 375 @ 0.01 - 377 @ 4.2 - 378 @ 3.14\n",
            "**************** Processed Date: 2022-07-01 - Result: -410.00 ****************\n",
            " OPEN (375.25): 373 @ 0.53 - 374 @ 0.83 - 376 @ 1.03 - 377 @ 0.7\n",
            "CLOSE (381.95): 373 @ 0.01 - 374 @ 0.01 - 376 @ 5.95 - 377 @ 4.72\n",
            "**************** Processed Date: 2022-07-05 - Result: -600.00 ****************\n",
            " OPEN (380.17): 378 @ 0.81 - 379 @ 1.14 - 381 @ 1.28 - 382 @ 0.89\n",
            "CLOSE (383.31): 378 @ 0.01 - 379 @ 0.01 - 381 @ 2.02 - 382 @ 1.3\n",
            "**************** Processed Date: 2022-07-06 - Result:    0.00 ****************\n"
          ]
        },
        {
          "output_type": "stream",
          "name": "stderr",
          "text": [
            " 46%|████▌     | 170/370 [00:14<00:16, 12.13it/s]"
          ]
        },
        {
          "output_type": "stream",
          "name": "stdout",
          "text": [
            " OPEN (389.62): 387 @ 0.34 - 388 @ 0.55 - 390 @ 0.95 - 391 @ 0.55\n",
            "CLOSE (388.68): 387 @ 0.01 - 388 @ 0.02 - 390 @ 0.01 - 391 @ 0.01\n",
            "**************** Processed Date: 2022-07-08 - Result:  600.00 ****************\n",
            " OPEN (384.71): 382 @ 0.3 - 383 @ 0.51 - 385 @ 1.0 - 386 @ 0.62\n",
            "CLOSE (384.28): 382 @ 0.01 - 383 @ 0.02 - 385 @ 0.02 - 386 @ 0.01\n",
            "**************** Processed Date: 2022-07-11 - Result:  570.00 ****************\n",
            " OPEN (378.02): 376 @ 0.72 - 377 @ 1.04 - 379 @ 1.05 - 380 @ 0.68\n",
            "CLOSE (378.87): 376 @ 0.01 - 377 @ 0.01 - 379 @ 0.21 - 380 @ 0.02\n",
            "**************** Processed Date: 2022-07-13 - Result:  500.00 ****************\n"
          ]
        },
        {
          "output_type": "stream",
          "name": "stderr",
          "text": [
            " 46%|████▋     | 172/370 [00:15<00:16, 12.25it/s]"
          ]
        },
        {
          "output_type": "stream",
          "name": "stdout",
          "text": [
            " OPEN (384.57): 382 @ 0.43 - 383 @ 0.63 - 385 @ 0.95 - 386 @ 0.54\n",
            "CLOSE (384.6901): 382 @ 0.01 - 383 @ 0.01 - 385 @ 0.17 - 386 @ 0.02\n",
            "**************** Processed Date: 2022-07-15 - Result:  460.00 ****************\n",
            " OPEN (388.19): 386 @ 0.26 - 387 @ 0.47 - 389 @ 0.61 - 390 @ 0.33\n",
            "CLOSE (381.99): 386 @ 3.95 - 387 @ 4.99 - 389 @ 0.01 - 390 @ 0.01\n",
            "**************** Processed Date: 2022-07-18 - Result: -550.00 ****************\n",
            " OPEN (395.2592): 393 @ 0.42 - 394 @ 0.69 - 396 @ 0.85 - 397 @ 0.51\n",
            "CLOSE (394.79): 393 @ 0.02 - 394 @ 0.07 - 396 @ 0.02 - 397 @ 0.01\n",
            "**************** Processed Date: 2022-07-20 - Result:  550.00 ****************\n"
          ]
        },
        {
          "output_type": "stream",
          "name": "stderr",
          "text": [
            " 48%|████▊     | 176/370 [00:15<00:15, 12.29it/s]"
          ]
        },
        {
          "output_type": "stream",
          "name": "stdout",
          "text": [
            " OPEN (395.87): 393 @ 0.28 - 394 @ 0.47 - 396 @ 1.07 - 397 @ 0.65\n",
            "CLOSE (395.12): 393 @ 0.01 - 394 @ 0.01 - 396 @ 0.01 - 397 @ 0.01\n",
            "**************** Processed Date: 2022-07-22 - Result:  610.00 ****************\n",
            " OPEN (396.05): 394 @ 0.43 - 395 @ 0.69 - 397 @ 0.66 - 398 @ 0.35\n",
            "CLOSE (395.55): 394 @ 0.01 - 395 @ 0.03 - 397 @ 0.01 - 398 @ 0.03\n",
            "**************** Processed Date: 2022-07-25 - Result:  570.00 ****************\n",
            " OPEN (396.53): 394 @ 1.22 - 395 @ 1.56 - 397 @ 1.94 - 398 @ 1.49\n",
            "CLOSE (401.38): 394 @ 0.01 - 395 @ 0.01 - 397 @ 4.07 - 398 @ 3.0\n",
            "**************** Processed Date: 2022-07-27 - Result: -280.00 ****************\n"
          ]
        },
        {
          "output_type": "stream",
          "name": "stderr",
          "text": [
            " 48%|████▊     | 178/370 [00:15<00:15, 12.08it/s]"
          ]
        },
        {
          "output_type": "stream",
          "name": "stdout",
          "text": [
            " OPEN (409.6): 407 @ 0.32 - 408 @ 0.55 - 410 @ 0.97 - 411 @ 0.61\n",
            "CLOSE (411.95): 407 @ 0.01 - 408 @ 0.01 - 410 @ 2.0 - 411 @ 0.8\n",
            "**************** Processed Date: 2022-07-29 - Result: -610.00 ****************\n",
            " OPEN (412.735): 410 @ 0.26 - 411 @ 0.44 - 413 @ 0.91 - 414 @ 0.5\n",
            "CLOSE (410.71): 410 @ 0.03 - 411 @ 0.34 - 413 @ 0.01 - 414 @ 0.02\n",
            "**************** Processed Date: 2022-08-01 - Result:  290.00 ****************\n",
            " OPEN (413.03): 411 @ 0.39 - 412 @ 0.64 - 414 @ 0.59 - 415 @ 0.3\n",
            "CLOSE (414.41): 411 @ 0.01 - 412 @ 0.01 - 414 @ 0.37 - 415 @ 0.03\n",
            "**************** Processed Date: 2022-08-03 - Result:  200.00 ****************\n"
          ]
        },
        {
          "output_type": "stream",
          "name": "stderr",
          "text": [
            " 49%|████▉     | 182/370 [00:15<00:15, 12.25it/s]"
          ]
        },
        {
          "output_type": "stream",
          "name": "stdout",
          "text": [
            " OPEN (410.77): 408 @ 0.27 - 409 @ 0.45 - 411 @ 0.94 - 412 @ 0.53\n",
            "CLOSE (413.43): 408 @ 0.01 - 409 @ 0.01 - 411 @ 2.4 - 412 @ 1.27\n",
            "**************** Processed Date: 2022-08-05 - Result: -540.00 ****************\n",
            " OPEN (414.06): 412 @ 0.36 - 413 @ 0.62 - 415 @ 0.66 - 416 @ 0.36\n",
            "CLOSE (413.02): 412 @ 0.01 - 413 @ 0.15 - 415 @ 0.01 - 416 @ 0.01\n",
            "**************** Processed Date: 2022-08-08 - Result:  420.00 ****************\n",
            " OPEN (419.17): 417 @ 0.34 - 418 @ 0.55 - 420 @ 0.61 - 421 @ 0.31\n",
            "CLOSE (419.95): 417 @ 0.01 - 418 @ 0.01 - 420 @ 0.09 - 421 @ 0.01\n",
            "**************** Processed Date: 2022-08-10 - Result:  430.00 ****************\n"
          ]
        },
        {
          "output_type": "stream",
          "name": "stderr",
          "text": [
            " 50%|████▉     | 184/370 [00:16<00:15, 11.89it/s]"
          ]
        },
        {
          "output_type": "stream",
          "name": "stdout",
          "text": [
            " OPEN (423.53): 421 @ 0.22 - 422 @ 0.36 - 424 @ 0.56 - 425 @ 0.22\n",
            "CLOSE (426.5283): 421 @ 0.01 - 422 @ 0.01 - 424 @ 3.04 - 425 @ 1.9\n",
            "**************** Processed Date: 2022-08-12 - Result: -660.00 ****************\n",
            " OPEN (427.63): 425 @ 0.14 - 426 @ 0.3 - 428 @ 0.68 - 429 @ 0.32\n",
            "CLOSE (428.795): 425 @ 0.01 - 426 @ 0.01 - 428 @ 0.9 - 429 @ 0.11\n",
            "**************** Processed Date: 2022-08-15 - Result: -270.00 ****************\n",
            " OPEN (424.9): 422 @ 0.29 - 423 @ 0.5 - 425 @ 1.14 - 426 @ 0.7\n",
            "CLOSE (426.67): 422 @ 0.01 - 423 @ 0.01 - 425 @ 1.6 - 426 @ 0.68\n"
          ]
        },
        {
          "output_type": "stream",
          "name": "stderr",
          "text": [
            " 50%|█████     | 186/370 [00:16<00:15, 11.93it/s]"
          ]
        },
        {
          "output_type": "stream",
          "name": "stdout",
          "text": [
            "**************** Processed Date: 2022-08-17 - Result: -270.00 ****************\n",
            " OPEN (422.482): 420 @ 0.3 - 421 @ 0.51 - 423 @ 0.81 - 424 @ 0.46\n",
            "CLOSE (422.15): 420 @ 0.01 - 421 @ 0.01 - 423 @ 0.03 - 424 @ 0.01\n",
            "**************** Processed Date: 2022-08-19 - Result:  540.00 ****************\n",
            " OPEN (415.49): 413 @ 0.25 - 414 @ 0.46 - 416 @ 0.79 - 417 @ 0.41\n",
            "CLOSE (413.46): 413 @ 0.09 - 414 @ 0.64 - 416 @ 0.01 - 417 @ 0.01\n",
            "**************** Processed Date: 2022-08-22 - Result:   40.00 ****************\n"
          ]
        },
        {
          "output_type": "stream",
          "name": "stderr",
          "text": [
            " 51%|█████▏    | 190/370 [00:16<00:14, 12.21it/s]"
          ]
        },
        {
          "output_type": "stream",
          "name": "stdout",
          "text": [
            " OPEN (414.775): 412 @ 0.18 - 413 @ 0.31 - 415 @ 0.74 - 416 @ 0.35\n",
            "CLOSE (413.63): 412 @ 0.01 - 413 @ 0.03 - 415 @ 0.01 - 416 @ 0.01\n",
            "**************** Processed Date: 2022-08-24 - Result:  500.00 ****************\n",
            " OPEN (411.44): 409 @ 0.44 - 410 @ 0.69 - 412 @ 1.0 - 413 @ 0.66\n",
            "CLOSE (405.32): 409 @ 3.61 - 410 @ 4.56 - 412 @ 0.01 - 413 @ 0.01\n",
            "**************** Processed Date: 2022-08-26 - Result: -360.00 ****************\n",
            " OPEN (402.35): 400 @ 0.57 - 401 @ 0.85 - 403 @ 1.0 - 404 @ 0.61\n",
            "CLOSE (402.63): 400 @ 0.01 - 401 @ 0.01 - 403 @ 0.07 - 404 @ 0.01\n",
            "**************** Processed Date: 2022-08-29 - Result:  610.00 ****************\n"
          ]
        },
        {
          "output_type": "stream",
          "name": "stderr",
          "text": [
            " 52%|█████▏    | 192/370 [00:16<00:14, 12.36it/s]"
          ]
        },
        {
          "output_type": "stream",
          "name": "stdout",
          "text": [
            " OPEN (398.44): 396 @ 0.45 - 397 @ 0.69 - 399 @ 1.0 - 400 @ 0.6\n",
            "CLOSE (395.13): 396 @ 0.78 - 397 @ 1.91 - 399 @ 0.01 - 400 @ 0.01\n",
            "**************** Processed Date: 2022-08-31 - Result: -490.00 ****************\n",
            " OPEN (400.78): 398 @ 0.39 - 399 @ 0.61 - 401 @ 1.1 - 402 @ 0.67\n",
            "CLOSE (392.27): 398 @ 5.83 - 399 @ 7.21 - 401 @ 0.01 - 402 @ 0.01\n",
            "**************** Processed Date: 2022-09-02 - Result: -730.00 ****************\n",
            " OPEN (393.59): 391 @ 0.6 - 392 @ 0.86 - 394 @ 1.23 - 395 @ 0.8\n",
            "CLOSE (390.79): 391 @ 0.38 - 392 @ 1.14 - 394 @ 0.01 - 395 @ 0.01\n",
            "**************** Processed Date: 2022-09-06 - Result:  -70.00 ****************\n"
          ]
        },
        {
          "output_type": "stream",
          "name": "stderr",
          "text": [
            " 53%|█████▎    | 196/370 [00:16<00:14, 12.35it/s]"
          ]
        },
        {
          "output_type": "stream",
          "name": "stdout",
          "text": [
            " OPEN (393.63): 391 @ 0.54 - 392 @ 0.75 - 394 @ 1.1 - 395 @ 0.69\n",
            "CLOSE (397.96): 391 @ 0.01 - 392 @ 0.01 - 394 @ 3.6 - 395 @ 2.76\n",
            "**************** Processed Date: 2022-09-07 - Result: -220.00 ****************\n",
            " OPEN (405.73): 403 @ 0.44 - 404 @ 0.63 - 406 @ 1.07 - 407 @ 0.63\n",
            "CLOSE (406.55): 403 @ 0.01 - 404 @ 0.01 - 406 @ 0.6 - 407 @ 0.1\n",
            "**************** Processed Date: 2022-09-09 - Result:  130.00 ****************\n",
            " OPEN (410.48): 408 @ 0.4 - 409 @ 0.65 - 411 @ 0.94 - 412 @ 0.54\n",
            "CLOSE (410.95): 408 @ 0.03 - 409 @ 0.02 - 411 @ 0.25 - 412 @ 0.02\n",
            "**************** Processed Date: 2022-09-12 - Result:  430.00 ****************\n"
          ]
        },
        {
          "output_type": "stream",
          "name": "stderr",
          "text": []
        },
        {
          "output_type": "stream",
          "name": "stdout",
          "text": [
            " OPEN (395.4): 393 @ 0.62 - 394 @ 0.88 - 396 @ 1.12 - 397 @ 0.71\n",
            "CLOSE (394.61): 393 @ 0.02 - 394 @ 0.09 - 396 @ 0.02 - 397 @ 0.01\n",
            "**************** Processed Date: 2022-09-14 - Result:  590.00 ****************\n",
            " OPEN (383.25): 381 @ 0.8 - 382 @ 1.13 - 384 @ 1.26 - 385 @ 0.88\n",
            "CLOSE (385.64): 381 @ 0.01 - 382 @ 0.01 - 384 @ 1.59 - 385 @ 0.72\n",
            "**************** Processed Date: 2022-09-16 - Result: -160.00 ****************\n"
          ]
        },
        {
          "output_type": "stream",
          "name": "stderr",
          "text": [
            " 54%|█████▍    | 200/370 [00:17<00:15, 11.07it/s]"
          ]
        },
        {
          "output_type": "stream",
          "name": "stdout",
          "text": [
            " OPEN (384.935): 382 @ 0.45 - 383 @ 0.69 - 385 @ 1.36 - 386 @ 0.93\n",
            "CLOSE (388.54): 382 @ 0.01 - 383 @ 0.01 - 385 @ 3.55 - 386 @ 2.45\n",
            "**************** Processed Date: 2022-09-19 - Result: -430.00 ****************\n",
            " OPEN (386.2): 384 @ 2.21 - 385 @ 2.64 - 387 @ 2.81 - 388 @ 2.36\n",
            "CLOSE (377.39): 384 @ 6.41 - 385 @ 7.52 - 387 @ 0.01 - 388 @ 0.01\n",
            "**************** Processed Date: 2022-09-21 - Result: -230.00 ****************\n",
            " OPEN (366.635): 364 @ 0.63 - 365 @ 0.92 - 367 @ 1.45 - 368 @ 1.04\n"
          ]
        },
        {
          "output_type": "stream",
          "name": "stderr",
          "text": [
            "                                                 "
          ]
        },
        {
          "output_type": "stream",
          "name": "stdout",
          "text": [
            "CLOSE (367.92): 364 @ 0.01 - 365 @ 0.01 - 367 @ 0.96 - 368 @ 0.35\n",
            "**************** Processed Date: 2022-09-23 - Result:   90.00 ****************\n",
            " OPEN (365.49): 363 @ 0.73 - 364 @ 1.06 - 366 @ 1.44 - 367 @ 1.03\n",
            "CLOSE (364.31): 363 @ 0.05 - 364 @ 0.27 - 366 @ 0.02 - 367 @ 0.02\n",
            "**************** Processed Date: 2022-09-26 - Result:  520.00 ****************\n",
            " OPEN (366.76): 364 @ 0.72 - 365 @ 0.98 - 367 @ 1.5 - 368 @ 1.02\n",
            "CLOSE (370.73): 364 @ 0.01 - 365 @ 0.01 - 367 @ 3.34 - 368 @ 2.48\n"
          ]
        },
        {
          "output_type": "stream",
          "name": "stderr",
          "text": [
            " 55%|█████▌    | 204/370 [00:17<00:15, 10.64it/s]"
          ]
        },
        {
          "output_type": "stream",
          "name": "stdout",
          "text": [
            "**************** Processed Date: 2022-09-28 - Result: -120.00 ****************\n",
            " OPEN (363.5079): 361 @ 0.8 - 362 @ 1.08 - 364 @ 1.41 - 365 @ 0.97\n",
            "CLOSE (357.19): 361 @ 3.81 - 362 @ 4.38 - 364 @ 0.01 - 365 @ 0.01\n",
            "**************** Processed Date: 2022-09-30 - Result:  150.00 ****************\n",
            " OPEN (363.66): 361 @ 0.6 - 362 @ 0.82 - 364 @ 1.25 - 365 @ 0.8\n",
            "CLOSE (366.6): 361 @ 0.01 - 362 @ 0.01 - 364 @ 2.75 - 365 @ 1.69\n",
            "**************** Processed Date: 2022-10-03 - Result: -390.00 ****************\n"
          ]
        },
        {
          "output_type": "stream",
          "name": "stderr",
          "text": [
            " 56%|█████▌    | 206/370 [00:18<00:15, 10.50it/s]"
          ]
        },
        {
          "output_type": "stream",
          "name": "stdout",
          "text": [
            " OPEN (373.1982): 371 @ 0.51 - 372 @ 0.79 - 374 @ 0.83 - 375 @ 0.48\n",
            "CLOSE (376.71): 371 @ 0.01 - 372 @ 0.01 - 374 @ 3.19 - 375 @ 2.19\n",
            "**************** Processed Date: 2022-10-05 - Result: -370.00 ****************\n",
            " OPEN (365.35): 363 @ 0.62 - 364 @ 0.92 - 366 @ 1.2 - 367 @ 0.82\n",
            "CLOSE (362.8): 363 @ 0.46 - 364 @ 1.15 - 366 @ 0.01 - 367 @ 0.01\n",
            "**************** Processed Date: 2022-10-07 - Result:  -10.00 ****************\n"
          ]
        },
        {
          "output_type": "stream",
          "name": "stderr",
          "text": [
            " 56%|█████▌    | 208/370 [00:18<00:15, 10.37it/s]"
          ]
        },
        {
          "output_type": "stream",
          "name": "stdout",
          "text": [
            " OPEN (360.28): 358 @ 0.42 - 359 @ 0.71 - 361 @ 0.94 - 362 @ 0.59\n",
            "CLOSE (360.07): 358 @ 0.01 - 359 @ 0.01 - 361 @ 0.03 - 362 @ 0.03\n",
            "**************** Processed Date: 2022-10-10 - Result:  640.00 ****************\n",
            " OPEN (358.92): 356 @ 0.55 - 357 @ 0.79 - 359 @ 1.46 - 360 @ 1.02\n",
            "CLOSE (356.55): 356 @ 0.05 - 357 @ 0.5 - 359 @ 0.01 - 360 @ 0.01\n",
            "**************** Processed Date: 2022-10-12 - Result:  230.00 ****************\n",
            " OPEN (360.07): 358 @ 0.91 - 359 @ 1.29 - 361 @ 1.35 - 362 @ 0.98\n",
            "CLOSE (357.68): 358 @ 0.6 - 359 @ 1.16 - 361 @ 0.01 - 362 @ 0.01\n"
          ]
        },
        {
          "output_type": "stream",
          "name": "stderr",
          "text": [
            "                                                 "
          ]
        },
        {
          "output_type": "stream",
          "name": "stdout",
          "text": [
            "**************** Processed Date: 2022-10-14 - Result:  190.00 ****************\n",
            " OPEN (366.7101): 364 @ 0.55 - 365 @ 0.79 - 367 @ 1.26 - 368 @ 0.8\n",
            "CLOSE (366.8): 364 @ 0.01 - 365 @ 0.01 - 367 @ 0.13 - 368 @ 0.02\n",
            "**************** Processed Date: 2022-10-17 - Result:  590.00 ****************\n",
            " OPEN (369.635): 367 @ 0.51 - 368 @ 0.76 - 370 @ 1.2 - 371 @ 0.78\n",
            "CLOSE (368.56): 367 @ 0.04 - 368 @ 0.23 - 370 @ 0.05 - 371 @ 0.01\n"
          ]
        },
        {
          "output_type": "stream",
          "name": "stderr",
          "text": [
            " 58%|█████▊    | 214/370 [00:18<00:14, 10.49it/s]"
          ]
        },
        {
          "output_type": "stream",
          "name": "stdout",
          "text": [
            "**************** Processed Date: 2022-10-19 - Result:  440.00 ****************\n",
            " OPEN (369.28): 367 @ 0.72 - 368 @ 1.02 - 370 @ 1.16 - 371 @ 0.75\n",
            "CLOSE (374.28): 367 @ 0.01 - 368 @ 0.01 - 370 @ 4.44 - 371 @ 3.44\n",
            "**************** Processed Date: 2022-10-21 - Result: -290.00 ****************\n",
            " OPEN (376.6653): 374 @ 0.5 - 375 @ 0.75 - 377 @ 1.23 - 378 @ 0.8\n",
            "CLOSE (378.425): 374 @ 0.01 - 375 @ 0.01 - 377 @ 1.76 - 378 @ 0.72\n",
            "**************** Processed Date: 2022-10-24 - Result: -360.00 ****************\n"
          ]
        },
        {
          "output_type": "stream",
          "name": "stderr",
          "text": [
            "                                                 "
          ]
        },
        {
          "output_type": "stream",
          "name": "stdout",
          "text": [
            " OPEN (387.09): 385 @ 0.48 - 386 @ 0.75 - 388 @ 0.74 - 389 @ 0.43\n",
            "CLOSE (382.08): 385 @ 3.27 - 386 @ 3.91 - 388 @ 0.01 - 389 @ 0.01\n",
            "**************** Processed Date: 2022-10-26 - Result:  -60.00 ****************\n",
            " OPEN (385.91): 383 @ 0.33 - 384 @ 0.52 - 386 @ 1.14 - 387 @ 0.71\n",
            "CLOSE (388.97): 383 @ 0.01 - 384 @ 0.01 - 386 @ 3.04 - 387 @ 2.04\n",
            "**************** Processed Date: 2022-10-28 - Result: -380.00 ****************\n",
            " OPEN (387.7901): 385 @ 0.35 - 386 @ 0.59 - 388 @ 1.2 - 389 @ 0.79\n",
            "CLOSE (386.21): 385 @ 0.01 - 386 @ 0.21 - 388 @ 0.01 - 389 @ 0.01\n"
          ]
        },
        {
          "output_type": "stream",
          "name": "stderr",
          "text": [
            " 59%|█████▉    | 218/370 [00:19<00:14, 10.75it/s]"
          ]
        },
        {
          "output_type": "stream",
          "name": "stdout",
          "text": [
            "**************** Processed Date: 2022-10-31 - Result:  450.00 ****************\n",
            " OPEN (382.95): 380 @ 1.7 - 381 @ 2.09 - 383 @ 2.98 - 384 @ 2.5\n",
            "CLOSE (374.87): 380 @ 5.08 - 381 @ 5.38 - 383 @ 0.01 - 384 @ 0.01\n",
            "**************** Processed Date: 2022-11-02 - Result:  570.00 ****************\n",
            " OPEN (372.93): 370 @ 0.51 - 371 @ 0.77 - 373 @ 1.5 - 374 @ 1.05\n",
            "CLOSE (376.34): 370 @ 0.01 - 371 @ 0.01 - 373 @ 3.33 - 374 @ 2.29\n",
            "**************** Processed Date: 2022-11-04 - Result: -330.00 ****************\n"
          ]
        },
        {
          "output_type": "stream",
          "name": "stderr",
          "text": [
            " 59%|█████▉    | 220/370 [00:19<00:14, 10.49it/s]"
          ]
        },
        {
          "output_type": "stream",
          "name": "stdout",
          "text": [
            " OPEN (376.31): 374 @ 0.43 - 375 @ 0.68 - 377 @ 0.9 - 378 @ 0.54\n",
            "CLOSE (379.76): 374 @ 0.01 - 375 @ 0.01 - 377 @ 2.94 - 378 @ 2.0\n",
            "**************** Processed Date: 2022-11-07 - Result: -330.00 ****************\n",
            " OPEN (379.96): 377 @ 0.42 - 378 @ 0.64 - 380 @ 1.34 - 381 @ 0.89\n",
            "CLOSE (374.15): 377 @ 2.76 - 378 @ 3.86 - 380 @ 0.01 - 381 @ 0.01\n",
            "**************** Processed Date: 2022-11-09 - Result: -430.00 ****************\n",
            " OPEN (394.82): 392 @ 0.42 - 393 @ 0.65 - 395 @ 1.22 - 396 @ 0.81\n",
            "CLOSE (398.23): 392 @ 0.01 - 393 @ 0.01 - 395 @ 3.53 - 396 @ 2.6\n"
          ]
        },
        {
          "output_type": "stream",
          "name": "stderr",
          "text": [
            " 61%|██████    | 224/370 [00:19<00:13, 10.69it/s]"
          ]
        },
        {
          "output_type": "stream",
          "name": "stdout",
          "text": [
            "**************** Processed Date: 2022-11-11 - Result: -290.00 ****************\n",
            " OPEN (398.0108): 396 @ 0.41 - 397 @ 0.67 - 399 @ 0.68 - 400 @ 0.38\n",
            "CLOSE (395.18): 396 @ 0.89 - 397 @ 1.74 - 399 @ 0.01 - 400 @ 0.01\n",
            "**************** Processed Date: 2022-11-14 - Result: -290.00 ****************\n",
            " OPEN (401.01): 399 @ 0.51 - 400 @ 0.79 - 402 @ 0.79 - 403 @ 0.5\n",
            "CLOSE (398.54): 399 @ 0.68 - 400 @ 1.69 - 402 @ 0.01 - 403 @ 0.01\n",
            "**************** Processed Date: 2022-11-15 - Result: -440.00 ****************\n"
          ]
        },
        {
          "output_type": "stream",
          "name": "stderr",
          "text": [
            " 61%|██████    | 226/370 [00:19<00:12, 11.30it/s]"
          ]
        },
        {
          "output_type": "stream",
          "name": "stdout",
          "text": [
            " OPEN (396.55): 394 @ 0.36 - 395 @ 0.59 - 397 @ 0.95 - 398 @ 0.56\n",
            "CLOSE (395.51): 394 @ 0.01 - 395 @ 0.1 - 397 @ 0.01 - 398 @ 0.01\n",
            "**************** Processed Date: 2022-11-16 - Result:  530.00 ****************\n",
            " OPEN (395.06): 393 @ 0.48 - 394 @ 0.78 - 396 @ 0.8 - 397 @ 0.48\n",
            "CLOSE (396.09): 393 @ 0.01 - 394 @ 0.01 - 396 @ 0.26 - 397 @ 0.03\n",
            "**************** Processed Date: 2022-11-18 - Result:  390.00 ****************\n"
          ]
        },
        {
          "output_type": "stream",
          "name": "stderr",
          "text": [
            " 62%|██████▏   | 228/370 [00:20<00:13, 10.80it/s]"
          ]
        },
        {
          "output_type": "stream",
          "name": "stdout",
          "text": [
            " OPEN (393.75): 391 @ 0.16 - 392 @ 0.34 - 394 @ 0.83 - 395 @ 0.47\n",
            "CLOSE (394.58): 391 @ 0.01 - 392 @ 0.01 - 394 @ 0.52 - 395 @ 0.04\n",
            "**************** Processed Date: 2022-11-21 - Result:   60.00 ****************\n",
            " OPEN (396.98): 394 @ 0.14 - 395 @ 0.27 - 397 @ 0.86 - 398 @ 0.42\n",
            "CLOSE (399.865): 394 @ 0.01 - 395 @ 0.01 - 397 @ 2.9 - 398 @ 1.88\n",
            "**************** Processed Date: 2022-11-22 - Result: -450.00 ****************\n"
          ]
        },
        {
          "output_type": "stream",
          "name": "stderr",
          "text": [
            " 62%|██████▏   | 230/370 [00:20<00:13, 10.31it/s]"
          ]
        },
        {
          "output_type": "stream",
          "name": "stdout",
          "text": [
            " OPEN (401.78): 399 @ 0.29 - 400 @ 0.46 - 402 @ 0.93 - 403 @ 0.52\n",
            "CLOSE (402.39): 399 @ 0.01 - 400 @ 0.02 - 402 @ 0.45 - 403 @ 0.01\n",
            "**************** Processed Date: 2022-11-23 - Result:  130.00 ****************\n",
            " OPEN (402.495): 400 @ 0.02 - 401 @ 0.04 - 403 @ 0.18 - 404 @ 0.03\n",
            "CLOSE (402.33): 400 @ 0.01 - 401 @ 0.01 - 403 @ 0.01 - 404 @ 0.01\n",
            "**************** Processed Date: 2022-11-25 - Result:  170.00 ****************\n",
            " OPEN (398.885): 396 @ 0.09 - 397 @ 0.23 - 399 @ 0.78 - 400 @ 0.37\n"
          ]
        },
        {
          "output_type": "stream",
          "name": "stderr",
          "text": [
            "                                                 "
          ]
        },
        {
          "output_type": "stream",
          "name": "stdout",
          "text": [
            "CLOSE (395.92): 396 @ 0.2 - 397 @ 0.98 - 399 @ 0.01 - 400 @ 0.01\n",
            "**************** Processed Date: 2022-11-28 - Result: -230.00 ****************\n",
            " OPEN (394.0376): 392 @ 0.34 - 393 @ 0.59 - 395 @ 0.55 - 396 @ 0.27\n",
            "CLOSE (395.25): 392 @ 0.01 - 393 @ 0.01 - 395 @ 0.39 - 396 @ 0.02\n",
            "**************** Processed Date: 2022-11-29 - Result:  160.00 ****************\n",
            " OPEN (395.39): 393 @ 1.3 - 394 @ 1.66 - 396 @ 1.93 - 397 @ 1.47\n",
            "CLOSE (406.71): 393 @ 0.01 - 394 @ 0.01 - 396 @ 10.25 - 397 @ 11.78\n"
          ]
        },
        {
          "output_type": "stream",
          "name": "stderr",
          "text": [
            " 64%|██████▍   | 236/370 [00:20<00:12, 10.51it/s]"
          ]
        },
        {
          "output_type": "stream",
          "name": "stdout",
          "text": [
            "**************** Processed Date: 2022-11-30 - Result: 2350.00 ****************\n",
            " OPEN (407.215): 405 @ 0.42 - 406 @ 0.67 - 408 @ 0.75 - 409 @ 0.41\n",
            "CLOSE (407.38): 405 @ 0.01 - 406 @ 0.01 - 408 @ 0.02 - 409 @ 0.01\n",
            "**************** Processed Date: 2022-12-01 - Result:  580.00 ****************\n",
            " OPEN (405.93): 403 @ 0.21 - 404 @ 0.38 - 406 @ 0.98 - 407 @ 0.55\n",
            "CLOSE (406.87): 403 @ 0.01 - 404 @ 0.01 - 406 @ 0.86 - 407 @ 0.19\n",
            "**************** Processed Date: 2022-12-02 - Result:  -70.00 ****************\n"
          ]
        },
        {
          "output_type": "stream",
          "name": "stderr",
          "text": [
            " 64%|██████▍   | 238/370 [00:21<00:12, 10.69it/s]"
          ]
        },
        {
          "output_type": "stream",
          "name": "stdout",
          "text": [
            " OPEN (402.04): 400 @ 0.26 - 401 @ 0.51 - 403 @ 0.53 - 404 @ 0.27\n",
            "CLOSE (399.61): 400 @ 0.43 - 401 @ 1.31 - 403 @ 0.01 - 404 @ 0.01\n",
            "**************** Processed Date: 2022-12-05 - Result: -370.00 ****************\n",
            " OPEN (395.4): 393 @ 0.23 - 394 @ 0.45 - 396 @ 0.75 - 397 @ 0.43\n",
            "CLOSE (393.86): 393 @ 0.03 - 394 @ 0.3 - 396 @ 0.01 - 397 @ 0.01\n",
            "**************** Processed Date: 2022-12-06 - Result:  270.00 ****************\n",
            " OPEN (393.13): 391 @ 0.42 - 392 @ 0.69 - 394 @ 0.75 - 395 @ 0.43\n",
            "CLOSE (393.15): 391 @ 0.01 - 392 @ 0.01 - 394 @ 0.01 - 395 @ 0.01\n",
            "**************** Processed Date: 2022-12-07 - Result:  590.00 ****************\n"
          ]
        },
        {
          "output_type": "stream",
          "name": "stderr",
          "text": [
            " 65%|██████▍   | 240/370 [00:21<00:12, 10.79it/s]"
          ]
        },
        {
          "output_type": "stream",
          "name": "stdout",
          "text": [
            " OPEN (396.07): 394 @ 0.3 - 395 @ 0.53 - 397 @ 0.56 - 398 @ 0.28\n",
            "CLOSE (396.21): 394 @ 0.01 - 395 @ 0.02 - 397 @ 0.02 - 398 @ 0.01\n",
            "**************** Processed Date: 2022-12-08 - Result:  490.00 ****************\n",
            " OPEN (397.4399): 395 @ 0.24 - 396 @ 0.41 - 398 @ 0.63 - 399 @ 0.32\n",
            "CLOSE (393.285): 395 @ 1.69 - 396 @ 2.66 - 398 @ 0.01 - 399 @ 0.01\n",
            "**************** Processed Date: 2022-12-09 - Result: -490.00 ****************\n",
            " OPEN (395.21): 393 @ 0.27 - 394 @ 0.48 - 396 @ 0.52 - 397 @ 0.22\n"
          ]
        },
        {
          "output_type": "stream",
          "name": "stderr",
          "text": [
            " 65%|██████▌   | 242/370 [00:21<00:12, 10.46it/s]"
          ]
        },
        {
          "output_type": "stream",
          "name": "stdout",
          "text": [
            "CLOSE (398.91): 393 @ 0.01 - 394 @ 0.01 - 396 @ 2.86 - 397 @ 1.95\n",
            "**************** Processed Date: 2022-12-12 - Result: -400.00 ****************\n",
            " OPEN (404.48): 402 @ 0.6 - 403 @ 0.88 - 405 @ 1.29 - 406 @ 0.89\n",
            "CLOSE (401.95): 402 @ 0.35 - 403 @ 0.92 - 405 @ 0.01 - 406 @ 0.01\n",
            "**************** Processed Date: 2022-12-13 - Result:  110.00 ****************\n"
          ]
        },
        {
          "output_type": "stream",
          "name": "stderr",
          "text": [
            " 66%|██████▌   | 244/370 [00:21<00:12,  9.95it/s]"
          ]
        },
        {
          "output_type": "stream",
          "name": "stdout",
          "text": [
            " OPEN (404.7385): 402 @ 2.39 - 403 @ 2.8 - 405 @ 3.4 - 406 @ 2.9\n",
            "CLOSE (399.41): 402 @ 2.64 - 403 @ 3.44 - 405 @ 0.01 - 406 @ 0.01\n",
            "**************** Processed Date: 2022-12-14 - Result:  110.00 ****************\n",
            " OPEN (389.45): 387 @ 0.43 - 388 @ 0.68 - 390 @ 1.04 - 391 @ 0.69\n",
            "CLOSE (389.65): 387 @ 0.01 - 388 @ 0.01 - 390 @ 0.17 - 391 @ 0.04\n",
            "**************** Processed Date: 2022-12-15 - Result:  470.00 ****************\n"
          ]
        },
        {
          "output_type": "stream",
          "name": "stderr",
          "text": [
            " 66%|██████▋   | 246/370 [00:21<00:12,  9.71it/s]"
          ]
        },
        {
          "output_type": "stream",
          "name": "stdout",
          "text": [
            " OPEN (382.26): 380 @ 0.46 - 381 @ 0.77 - 383 @ 0.99 - 384 @ 0.65\n",
            "CLOSE (383.3): 380 @ 0.01 - 381 @ 0.01 - 383 @ 0.51 - 384 @ 0.08\n",
            "**************** Processed Date: 2022-12-16 - Result:  220.00 ****************\n",
            " OPEN (381.165): 379 @ 0.24 - 380 @ 0.47 - 382 @ 0.57 - 383 @ 0.3\n",
            "CLOSE (379.98): 379 @ 0.02 - 380 @ 0.25 - 382 @ 0.01 - 383 @ 0.01\n",
            "**************** Processed Date: 2022-12-19 - Result:  270.00 ****************\n",
            " OPEN (379.955): 377 @ 0.23 - 378 @ 0.4 - 380 @ 1.02 - 381 @ 0.6\n"
          ]
        },
        {
          "output_type": "stream",
          "name": "stderr",
          "text": [
            " 67%|██████▋   | 249/370 [00:22<00:13,  9.20it/s]"
          ]
        },
        {
          "output_type": "stream",
          "name": "stdout",
          "text": [
            "CLOSE (380.54): 377 @ 0.01 - 378 @ 0.01 - 380 @ 0.58 - 381 @ 0.05\n",
            "**************** Processed Date: 2022-12-20 - Result:   60.00 ****************\n",
            " OPEN (386.2993): 384 @ 0.27 - 385 @ 0.47 - 387 @ 0.59 - 388 @ 0.29\n",
            "CLOSE (386.23): 384 @ 0.01 - 385 @ 0.01 - 387 @ 0.02 - 388 @ 0.01\n",
            "**************** Processed Date: 2022-12-21 - Result:  490.00 ****************\n"
          ]
        },
        {
          "output_type": "stream",
          "name": "stderr",
          "text": [
            " 68%|██████▊   | 251/370 [00:22<00:13,  8.77it/s]"
          ]
        },
        {
          "output_type": "stream",
          "name": "stdout",
          "text": [
            " OPEN (378.525): 376 @ 0.19 - 377 @ 0.36 - 379 @ 0.71 - 380 @ 0.39\n",
            "CLOSE (380.76): 376 @ 0.01 - 377 @ 0.01 - 379 @ 1.85 - 380 @ 0.73\n",
            "**************** Processed Date: 2022-12-22 - Result: -630.00 ****************\n",
            " OPEN (381.509): 379 @ 0.27 - 380 @ 0.47 - 382 @ 0.77 - 383 @ 0.41\n",
            "CLOSE (382.9): 379 @ 0.01 - 380 @ 0.01 - 382 @ 0.9 - 383 @ 0.14\n",
            "**************** Processed Date: 2022-12-23 - Result: -200.00 ****************\n"
          ]
        },
        {
          "output_type": "stream",
          "name": "stderr",
          "text": [
            " 68%|██████▊   | 252/370 [00:22<00:13,  8.74it/s]"
          ]
        },
        {
          "output_type": "stream",
          "name": "stdout",
          "text": [
            " OPEN (382.74): 380 @ 0.23 - 381 @ 0.4 - 383 @ 0.83 - 384 @ 0.44\n",
            "CLOSE (381.39): 380 @ 0.01 - 381 @ 0.08 - 383 @ 0.01 - 384 @ 0.01\n",
            "**************** Processed Date: 2022-12-27 - Result:  490.00 ****************\n",
            " OPEN (378.81): 376 @ 0.14 - 377 @ 0.29 - 379 @ 0.84 - 380 @ 0.45\n",
            "CLOSE (376.68): 376 @ 0.02 - 377 @ 0.39 - 379 @ 0.01 - 380 @ 0.01\n",
            "**************** Processed Date: 2022-12-28 - Result:  170.00 ****************\n",
            " OPEN (383.59): 381 @ 0.18 - 382 @ 0.34 - 384 @ 0.63 - 385 @ 0.29\n"
          ]
        },
        {
          "output_type": "stream",
          "name": "stderr",
          "text": [
            " 69%|██████▉   | 256/370 [00:22<00:11,  9.82it/s]"
          ]
        },
        {
          "output_type": "stream",
          "name": "stdout",
          "text": [
            "CLOSE (383.39): 381 @ 0.02 - 382 @ 0.01 - 384 @ 0.02 - 385 @ 0.03\n",
            "**************** Processed Date: 2022-12-29 - Result:  520.00 ****************\n",
            " OPEN (380.2306): 378 @ 0.3 - 379 @ 0.54 - 381 @ 0.6 - 382 @ 0.29\n",
            "CLOSE (382.44): 378 @ 0.01 - 379 @ 0.01 - 381 @ 1.38 - 382 @ 0.51\n",
            "**************** Processed Date: 2022-12-30 - Result: -320.00 ****************\n",
            " OPEN (379.11): 377 @ 0.37 - 378 @ 0.68 - 380 @ 0.79 - 381 @ 0.46\n",
            "CLOSE (380.84): 377 @ 0.01 - 378 @ 0.01 - 380 @ 0.9 - 381 @ 0.2\n",
            "**************** Processed Date: 2023-01-03 - Result:  -60.00 ****************\n"
          ]
        },
        {
          "output_type": "stream",
          "name": "stderr",
          "text": [
            " 70%|██████▉   | 258/370 [00:23<00:11,  9.73it/s]"
          ]
        },
        {
          "output_type": "stream",
          "name": "stdout",
          "text": [
            " OPEN (385.17): 383 @ 0.68 - 384 @ 0.99 - 386 @ 1.03 - 387 @ 0.64\n",
            "CLOSE (383.74): 383 @ 0.04 - 384 @ 0.38 - 386 @ 0.01 - 387 @ 0.01\n",
            "**************** Processed Date: 2023-01-04 - Result:  360.00 ****************\n",
            " OPEN (380.01): 378 @ 0.4 - 379 @ 0.66 - 381 @ 0.65 - 382 @ 0.38\n",
            "CLOSE (379.4): 378 @ 0.01 - 379 @ 0.1 - 381 @ 0.02 - 382 @ 0.01\n",
            "**************** Processed Date: 2023-01-05 - Result:  430.00 ****************\n"
          ]
        },
        {
          "output_type": "stream",
          "name": "stderr",
          "text": [
            " 70%|███████   | 260/370 [00:23<00:11,  9.73it/s]"
          ]
        },
        {
          "output_type": "stream",
          "name": "stdout",
          "text": [
            " OPEN (385.65): 383 @ 0.33 - 384 @ 0.54 - 386 @ 0.93 - 387 @ 0.52\n",
            "CLOSE (388.03): 383 @ 0.01 - 384 @ 0.01 - 386 @ 2.06 - 387 @ 0.99\n",
            "**************** Processed Date: 2023-01-06 - Result: -450.00 ****************\n",
            " OPEN (393.28): 391 @ 0.2 - 392 @ 0.4 - 394 @ 0.53 - 395 @ 0.25\n",
            "CLOSE (387.8657): 391 @ 3.13 - 392 @ 4.15 - 394 @ 0.01 - 395 @ 0.01\n",
            "**************** Processed Date: 2023-01-09 - Result: -540.00 ****************\n",
            " OPEN (387.51): 385 @ 0.3 - 386 @ 0.52 - 388 @ 0.85 - 389 @ 0.49\n"
          ]
        },
        {
          "output_type": "stream",
          "name": "stderr",
          "text": [
            " 71%|███████   | 262/370 [00:23<00:10, 10.10it/s]"
          ]
        },
        {
          "output_type": "stream",
          "name": "stdout",
          "text": [
            "CLOSE (390.63): 385 @ 0.01 - 386 @ 0.01 - 388 @ 2.59 - 389 @ 1.59\n",
            "**************** Processed Date: 2023-01-10 - Result: -420.00 ****************\n",
            " OPEN (392.76): 390 @ 0.17 - 391 @ 0.34 - 393 @ 0.78 - 394 @ 0.38\n",
            "CLOSE (395.5): 390 @ 0.01 - 391 @ 0.01 - 393 @ 2.5 - 394 @ 1.56\n",
            "**************** Processed Date: 2023-01-11 - Result: -370.00 ****************\n",
            " OPEN (396.17): 394 @ 0.44 - 395 @ 0.72 - 397 @ 0.81 - 398 @ 0.47\n",
            "CLOSE (396.94): 394 @ 0.01 - 395 @ 0.01 - 397 @ 0.2 - 398 @ 0.01\n",
            "**************** Processed Date: 2023-01-12 - Result:  430.00 ****************\n"
          ]
        },
        {
          "output_type": "stream",
          "name": "stderr",
          "text": [
            " 72%|███████▏  | 266/370 [00:23<00:09, 10.72it/s]"
          ]
        },
        {
          "output_type": "stream",
          "name": "stdout",
          "text": [
            " OPEN (395.5): 393 @ 0.26 - 394 @ 0.44 - 396 @ 0.72 - 397 @ 0.39\n",
            "CLOSE (398.47): 393 @ 0.01 - 394 @ 0.01 - 396 @ 2.59 - 397 @ 1.45\n",
            "**************** Processed Date: 2023-01-13 - Result: -630.00 ****************\n",
            " OPEN (398.065): 396 @ 0.2 - 397 @ 0.41 - 399 @ 0.45 - 400 @ 0.19\n",
            "CLOSE (397.76): 396 @ 0.04 - 397 @ 0.01 - 399 @ 0.02 - 400 @ 0.01\n",
            "**************** Processed Date: 2023-01-17 - Result:  490.00 ****************\n",
            " OPEN (394.43): 392 @ 0.15 - 393 @ 0.35 - 395 @ 0.66 - 396 @ 0.34\n",
            "CLOSE (391.54): 392 @ 0.49 - 393 @ 1.39 - 395 @ 0.05 - 396 @ 0.01\n",
            "**************** Processed Date: 2023-01-18 - Result: -420.00 ****************\n"
          ]
        },
        {
          "output_type": "stream",
          "name": "stderr",
          "text": []
        },
        {
          "output_type": "stream",
          "name": "stdout",
          "text": [
            " OPEN (387.45): 385 @ 0.25 - 386 @ 0.45 - 388 @ 0.72 - 389 @ 0.41\n",
            "CLOSE (388.68): 385 @ 0.01 - 386 @ 0.01 - 388 @ 0.59 - 389 @ 0.12\n",
            "**************** Processed Date: 2023-01-19 - Result:   40.00 ****************\n",
            " OPEN (391.85): 389 @ 0.17 - 390 @ 0.33 - 392 @ 0.85 - 393 @ 0.43\n",
            "CLOSE (395.83): 389 @ 0.01 - 390 @ 0.01 - 392 @ 3.81 - 393 @ 3.28\n",
            "**************** Processed Date: 2023-01-20 - Result:   50.00 ****************\n",
            " OPEN (401.06): 399 @ 0.35 - 400 @ 0.59 - 402 @ 0.57 - 403 @ 0.29\n",
            "CLOSE (400.59): 399 @ 0.01 - 400 @ 0.03 - 402 @ 0.01 - 403 @ 0.01\n"
          ]
        },
        {
          "output_type": "stream",
          "name": "stderr",
          "text": [
            "                                                 "
          ]
        },
        {
          "output_type": "stream",
          "name": "stdout",
          "text": [
            "**************** Processed Date: 2023-01-23 - Result:  500.00 ****************\n",
            " OPEN (400.2): 398 @ 0.38 - 399 @ 0.61 - 401 @ 0.71 - 402 @ 0.38\n",
            "CLOSE (400.17): 398 @ 0.01 - 399 @ 0.04 - 401 @ 0.06 - 402 @ 0.01\n",
            "**************** Processed Date: 2023-01-24 - Result:  480.00 ****************\n",
            " OPEN (396.0925): 394 @ 0.33 - 395 @ 0.58 - 397 @ 0.61 - 398 @ 0.34\n",
            "CLOSE (400.36): 394 @ 0.01 - 395 @ 0.01 - 397 @ 3.31 - 398 @ 2.35\n",
            "**************** Processed Date: 2023-01-25 - Result: -440.00 ****************\n",
            " OPEN (401.4231): 399 @ 0.31 - 400 @ 0.55 - 402 @ 0.82 - 403 @ 0.48\n"
          ]
        },
        {
          "output_type": "stream",
          "name": "stderr",
          "text": [
            " 74%|███████▎  | 272/370 [00:24<00:09, 10.85it/s]"
          ]
        },
        {
          "output_type": "stream",
          "name": "stdout",
          "text": [
            "CLOSE (404.71): 399 @ 0.01 - 400 @ 0.01 - 402 @ 2.74 - 403 @ 1.95\n",
            "**************** Processed Date: 2023-01-26 - Result: -210.00 ****************\n",
            " OPEN (405.65): 403 @ 0.21 - 404 @ 0.39 - 406 @ 0.81 - 407 @ 0.45\n",
            "CLOSE (405.65): 403 @ 0.01 - 404 @ 0.01 - 406 @ 0.1 - 407 @ 0.01\n",
            "**************** Processed Date: 2023-01-27 - Result:  450.00 ****************\n",
            " OPEN (402.97): 400 @ 0.18 - 401 @ 0.32 - 403 @ 0.97 - 404 @ 0.55\n"
          ]
        },
        {
          "output_type": "stream",
          "name": "stderr",
          "text": [
            " 75%|███████▍  | 276/370 [00:24<00:08, 10.56it/s]"
          ]
        },
        {
          "output_type": "stream",
          "name": "stdout",
          "text": [
            "CLOSE (400.63): 400 @ 0.04 - 401 @ 0.46 - 403 @ 0.01 - 404 @ 0.01\n",
            "**************** Processed Date: 2023-01-30 - Result:  140.00 ****************\n",
            " OPEN (402.9701): 400 @ 0.16 - 401 @ 0.3 - 403 @ 0.92 - 404 @ 0.5\n",
            "CLOSE (406.45): 400 @ 0.01 - 401 @ 0.01 - 403 @ 3.47 - 404 @ 2.5\n",
            "**************** Processed Date: 2023-01-31 - Result: -410.00 ****************\n",
            " OPEN (405.31): 403 @ 1.57 - 404 @ 1.98 - 406 @ 2.22 - 407 @ 1.79\n",
            "CLOSE (410.48): 403 @ 0.01 - 404 @ 0.01 - 406 @ 4.4 - 407 @ 3.74\n",
            "**************** Processed Date: 2023-02-01 - Result:  180.00 ****************\n"
          ]
        },
        {
          "output_type": "stream",
          "name": "stderr",
          "text": [
            "                                                 "
          ]
        },
        {
          "output_type": "stream",
          "name": "stdout",
          "text": [
            " OPEN (416.1483): 414 @ 0.6 - 415 @ 0.89 - 417 @ 0.99 - 418 @ 0.62\n",
            "CLOSE (416.78): 414 @ 0.11 - 415 @ 0.3 - 417 @ 0.74 - 418 @ 0.35\n",
            "**************** Processed Date: 2023-02-02 - Result:   80.00 ****************\n",
            " OPEN (416.07): 414 @ 0.51 - 415 @ 0.79 - 417 @ 0.8 - 418 @ 0.45\n",
            "CLOSE (412.36): 414 @ 1.66 - 415 @ 2.57 - 417 @ 0.01 - 418 @ 0.01\n",
            "**************** Processed Date: 2023-02-03 - Result: -280.00 ****************\n",
            " OPEN (410.4301): 408 @ 0.28 - 409 @ 0.5 - 411 @ 0.78 - 412 @ 0.45\n",
            "CLOSE (409.9): 408 @ 0.01 - 409 @ 0.02 - 411 @ 0.01 - 412 @ 0.01\n"
          ]
        },
        {
          "output_type": "stream",
          "name": "stderr",
          "text": [
            " 76%|███████▌  | 280/370 [00:25<00:08, 10.87it/s]"
          ]
        },
        {
          "output_type": "stream",
          "name": "stdout",
          "text": [
            "**************** Processed Date: 2023-02-06 - Result:  540.00 ****************\n",
            " OPEN (410.42): 408 @ 0.85 - 409 @ 1.17 - 411 @ 1.51 - 412 @ 1.09\n",
            "CLOSE (415.18): 408 @ 0.01 - 409 @ 0.01 - 411 @ 4.28 - 412 @ 3.2\n",
            "**************** Processed Date: 2023-02-07 - Result: -340.00 ****************\n",
            " OPEN (410.6801): 408 @ 0.3 - 409 @ 0.51 - 411 @ 1.01 - 412 @ 0.63\n",
            "CLOSE (410.66): 408 @ 0.01 - 409 @ 0.01 - 411 @ 0.1 - 412 @ 0.01\n",
            "**************** Processed Date: 2023-02-08 - Result:  500.00 ****************\n"
          ]
        },
        {
          "output_type": "stream",
          "name": "stderr",
          "text": []
        },
        {
          "output_type": "stream",
          "name": "stdout",
          "text": [
            " OPEN (411.56): 409 @ 0.25 - 410 @ 0.47 - 412 @ 0.88 - 413 @ 0.52\n",
            "CLOSE (407.13): 409 @ 1.85 - 410 @ 2.86 - 412 @ 0.01 - 413 @ 0.01\n",
            "**************** Processed Date: 2023-02-09 - Result: -430.00 ****************\n",
            " OPEN (406.72): 404 @ 0.36 - 405 @ 0.57 - 407 @ 1.06 - 408 @ 0.66\n",
            "CLOSE (408.03): 404 @ 0.01 - 405 @ 0.01 - 407 @ 0.97 - 408 @ 0.19\n",
            "**************** Processed Date: 2023-02-10 - Result: -170.00 ****************\n",
            " OPEN (412.01): 410 @ 0.29 - 411 @ 0.53 - 413 @ 0.48 - 414 @ 0.22\n",
            "CLOSE (412.82): 410 @ 0.01 - 411 @ 0.01 - 413 @ 0.1 - 414 @ 0.01\n"
          ]
        },
        {
          "output_type": "stream",
          "name": "stderr",
          "text": [
            " 77%|███████▋  | 286/370 [00:25<00:07, 11.36it/s]"
          ]
        },
        {
          "output_type": "stream",
          "name": "stdout",
          "text": [
            "**************** Processed Date: 2023-02-13 - Result:  410.00 ****************\n",
            " OPEN (408.98): 406 @ 0.4 - 407 @ 0.62 - 409 @ 1.39 - 410 @ 0.94\n",
            "CLOSE (412.67): 406 @ 0.01 - 407 @ 0.01 - 409 @ 3.55 - 410 @ 2.66\n",
            "**************** Processed Date: 2023-02-14 - Result: -220.00 ****************\n",
            " OPEN (412.33): 410 @ 0.26 - 411 @ 0.45 - 413 @ 0.65 - 414 @ 0.33\n",
            "CLOSE (413.99): 410 @ 0.01 - 411 @ 0.01 - 413 @ 0.95 - 414 @ 0.2\n",
            "**************** Processed Date: 2023-02-15 - Result: -240.00 ****************\n"
          ]
        },
        {
          "output_type": "stream",
          "name": "stderr",
          "text": [
            " 78%|███████▊  | 288/370 [00:25<00:07, 11.54it/s]"
          ]
        },
        {
          "output_type": "stream",
          "name": "stdout",
          "text": [
            " OPEN (411.73): 409 @ 0.23 - 410 @ 0.41 - 412 @ 0.87 - 413 @ 0.47\n",
            "CLOSE (408.33): 409 @ 0.7 - 410 @ 1.58 - 412 @ 0.01 - 413 @ 0.01\n",
            "**************** Processed Date: 2023-02-16 - Result: -300.00 ****************\n",
            " OPEN (405.2801): 403 @ 0.39 - 404 @ 0.65 - 406 @ 0.82 - 407 @ 0.5\n",
            "CLOSE (407.24): 403 @ 0.01 - 404 @ 0.02 - 406 @ 1.18 - 407 @ 0.34\n",
            "**************** Processed Date: 2023-02-17 - Result: -270.00 ****************\n",
            " OPEN (400.9241): 398 @ 0.23 - 399 @ 0.42 - 401 @ 1.09 - 402 @ 0.68\n",
            "CLOSE (399.13): 398 @ 0.02 - 399 @ 0.15 - 401 @ 0.01 - 402 @ 0.01\n",
            "**************** Processed Date: 2023-02-21 - Result:  470.00 ****************\n"
          ]
        },
        {
          "output_type": "stream",
          "name": "stderr",
          "text": [
            " 79%|███████▉  | 292/370 [00:26<00:06, 11.76it/s]"
          ]
        },
        {
          "output_type": "stream",
          "name": "stdout",
          "text": [
            " OPEN (399.36): 397 @ 0.51 - 398 @ 0.8 - 400 @ 1.02 - 401 @ 0.67\n",
            "CLOSE (398.58): 397 @ 0.01 - 398 @ 0.07 - 400 @ 0.01 - 401 @ 0.01\n",
            "**************** Processed Date: 2023-02-22 - Result:  580.00 ****************\n",
            " OPEN (397.0999): 395 @ 0.4 - 396 @ 0.7 - 398 @ 0.76 - 399 @ 0.45\n",
            "CLOSE (400.65): 395 @ 0.01 - 396 @ 0.01 - 398 @ 2.57 - 399 @ 1.72\n",
            "**************** Processed Date: 2023-02-23 - Result: -240.00 ****************\n",
            " OPEN (395.945): 393 @ 0.25 - 394 @ 0.44 - 396 @ 1.12 - 397 @ 0.69\n",
            "CLOSE (396.39): 393 @ 0.01 - 394 @ 0.01 - 396 @ 0.5 - 397 @ 0.04\n",
            "**************** Processed Date: 2023-02-24 - Result:  160.00 ****************\n"
          ]
        },
        {
          "output_type": "stream",
          "name": "stderr",
          "text": [
            " 79%|███████▉  | 294/370 [00:26<00:06, 11.69it/s]"
          ]
        },
        {
          "output_type": "stream",
          "name": "stdout",
          "text": [
            " OPEN (398.16): 396 @ 0.28 - 397 @ 0.51 - 399 @ 0.58 - 400 @ 0.3\n",
            "CLOSE (397.73): 396 @ 0.01 - 397 @ 0.03 - 399 @ 0.01 - 400 @ 0.01\n",
            "**************** Processed Date: 2023-02-27 - Result:  490.00 ****************\n",
            " OPEN (397.355): 395 @ 0.22 - 396 @ 0.44 - 398 @ 0.65 - 399 @ 0.34\n",
            "CLOSE (396.2): 395 @ 0.01 - 396 @ 0.1 - 398 @ 0.01 - 399 @ 0.01\n",
            "**************** Processed Date: 2023-02-28 - Result:  440.00 ****************\n",
            " OPEN (395.07): 393 @ 0.29 - 394 @ 0.54 - 396 @ 0.55 - 397 @ 0.27\n",
            "CLOSE (394.78): 393 @ 0.01 - 394 @ 0.02 - 396 @ 0.01 - 397 @ 0.01\n",
            "**************** Processed Date: 2023-03-01 - Result:  520.00 ****************\n"
          ]
        },
        {
          "output_type": "stream",
          "name": "stderr",
          "text": [
            " 81%|████████  | 298/370 [00:26<00:06, 11.96it/s]"
          ]
        },
        {
          "output_type": "stream",
          "name": "stdout",
          "text": [
            " OPEN (393.6305): 391 @ 0.23 - 392 @ 0.43 - 394 @ 0.85 - 395 @ 0.47\n",
            "CLOSE (397.79): 391 @ 0.01 - 392 @ 0.01 - 394 @ 3.57 - 395 @ 2.7\n",
            "**************** Processed Date: 2023-03-02 - Result: -290.00 ****************\n",
            " OPEN (401.34): 399 @ 0.26 - 400 @ 0.46 - 402 @ 0.63 - 403 @ 0.3\n",
            "CLOSE (404.14): 399 @ 0.01 - 400 @ 0.01 - 402 @ 2.13 - 403 @ 1.14\n",
            "**************** Processed Date: 2023-03-03 - Result: -460.00 ****************\n",
            " OPEN (406.58): 404 @ 0.18 - 405 @ 0.33 - 407 @ 0.66 - 408 @ 0.31\n",
            "CLOSE (404.46): 404 @ 0.02 - 405 @ 0.51 - 407 @ 0.01 - 408 @ 0.01\n",
            "**************** Processed Date: 2023-03-06 - Result:   10.00 ****************\n"
          ]
        },
        {
          "output_type": "stream",
          "name": "stderr",
          "text": [
            " 81%|████████  | 300/370 [00:26<00:06, 11.56it/s]"
          ]
        },
        {
          "output_type": "stream",
          "name": "stdout",
          "text": [
            " OPEN (400.58): 398 @ 0.29 - 399 @ 0.51 - 401 @ 0.92 - 402 @ 0.55\n",
            "CLOSE (398.26): 398 @ 0.11 - 399 @ 0.7 - 401 @ 0.01 - 402 @ 0.01\n",
            "**************** Processed Date: 2023-03-07 - Result:   -0.00 ****************\n",
            " OPEN (398.77): 396 @ 0.17 - 397 @ 0.34 - 399 @ 0.85 - 400 @ 0.46\n",
            "CLOSE (398.92): 396 @ 0.01 - 397 @ 0.01 - 399 @ 0.14 - 400 @ 0.01\n",
            "**************** Processed Date: 2023-03-08 - Result:  430.00 ****************\n",
            " OPEN (399.48): 397 @ 0.16 - 398 @ 0.31 - 400 @ 0.62 - 401 @ 0.31\n",
            "CLOSE (391.59): 397 @ 5.43 - 398 @ 6.29 - 400 @ 0.01 - 401 @ 0.01\n",
            "**************** Processed Date: 2023-03-09 - Result: -400.00 ****************\n"
          ]
        },
        {
          "output_type": "stream",
          "name": "stderr",
          "text": [
            " 82%|████████▏ | 304/370 [00:27<00:05, 11.53it/s]"
          ]
        },
        {
          "output_type": "stream",
          "name": "stdout",
          "text": [
            " OPEN (391.26): 389 @ 0.68 - 390 @ 0.98 - 392 @ 1.13 - 393 @ 0.76\n",
            "CLOSE (385.92): 389 @ 3.0 - 390 @ 3.84 - 392 @ 0.01 - 393 @ 0.01\n",
            "**************** Processed Date: 2023-03-10 - Result: -170.00 ****************\n",
            " OPEN (388.54): 386 @ 1.01 - 387 @ 1.31 - 389 @ 1.74 - 390 @ 1.3\n",
            "CLOSE (385.29): 386 @ 0.81 - 387 @ 1.67 - 389 @ 0.01 - 390 @ 0.01\n",
            "**************** Processed Date: 2023-03-13 - Result: -120.00 ****************\n",
            " OPEN (392.875): 390 @ 0.41 - 391 @ 0.6 - 393 @ 1.14 - 394 @ 0.68\n",
            "CLOSE (391.69): 390 @ 0.02 - 391 @ 0.08 - 393 @ 0.01 - 394 @ 0.01\n",
            "**************** Processed Date: 2023-03-14 - Result:  590.00 ****************\n"
          ]
        },
        {
          "output_type": "stream",
          "name": "stderr",
          "text": [
            " 83%|████████▎ | 306/370 [00:27<00:05, 11.61it/s]"
          ]
        },
        {
          "output_type": "stream",
          "name": "stdout",
          "text": [
            " OPEN (386.7): 384 @ 0.68 - 385 @ 0.94 - 387 @ 1.45 - 388 @ 1.02\n",
            "CLOSE (389.35): 384 @ 0.01 - 385 @ 0.01 - 387 @ 2.2 - 388 @ 1.4\n",
            "**************** Processed Date: 2023-03-15 - Result: -110.00 ****************\n",
            " OPEN (393.1413): 391 @ 0.66 - 392 @ 0.94 - 394 @ 0.94 - 395 @ 0.57\n",
            "CLOSE (396.03): 391 @ 0.01 - 392 @ 0.01 - 394 @ 1.95 - 395 @ 1.1\n",
            "**************** Processed Date: 2023-03-16 - Result: -200.00 ****************\n",
            " OPEN (389.24): 387 @ 0.57 - 388 @ 0.87 - 390 @ 1.05 - 391 @ 0.72\n",
            "CLOSE (390.11): 387 @ 0.02 - 388 @ 0.03 - 390 @ 0.39 - 391 @ 0.06\n",
            "**************** Processed Date: 2023-03-17 - Result:  290.00 ****************\n"
          ]
        },
        {
          "output_type": "stream",
          "name": "stderr",
          "text": [
            " 84%|████████▍ | 310/370 [00:27<00:05, 11.79it/s]"
          ]
        },
        {
          "output_type": "stream",
          "name": "stdout",
          "text": [
            " OPEN (393.36): 391 @ 0.49 - 392 @ 0.73 - 394 @ 0.91 - 395 @ 0.54\n",
            "CLOSE (393.66): 391 @ 0.01 - 392 @ 0.01 - 394 @ 0.07 - 395 @ 0.01\n",
            "**************** Processed Date: 2023-03-20 - Result:  550.00 ****************\n",
            " OPEN (395.96): 393 @ 0.22 - 394 @ 0.37 - 396 @ 0.98 - 397 @ 0.56\n",
            "CLOSE (398.87): 393 @ 0.01 - 394 @ 0.01 - 396 @ 2.49 - 397 @ 1.75\n",
            "**************** Processed Date: 2023-03-21 - Result: -170.00 ****************\n",
            " OPEN (398.84): 396 @ 1.51 - 397 @ 1.9 - 399 @ 2.59 - 400 @ 2.15\n",
            "CLOSE (392.14): 396 @ 3.65 - 397 @ 4.82 - 399 @ 0.01 - 400 @ 0.01\n",
            "**************** Processed Date: 2023-03-22 - Result: -340.00 ****************\n"
          ]
        },
        {
          "output_type": "stream",
          "name": "stderr",
          "text": [
            " 84%|████████▍ | 312/370 [00:27<00:05, 11.57it/s]"
          ]
        },
        {
          "output_type": "stream",
          "name": "stdout",
          "text": [
            " OPEN (397.81): 395 @ 0.42 - 396 @ 0.61 - 398 @ 1.1 - 399 @ 0.66\n",
            "CLOSE (393.11): 395 @ 2.0 - 396 @ 2.68 - 398 @ 0.01 - 399 @ 0.01\n",
            "**************** Processed Date: 2023-03-23 - Result:  -50.00 ****************\n",
            " OPEN (392.37): 390 @ 0.74 - 391 @ 1.02 - 393 @ 1.17 - 394 @ 0.76\n",
            "CLOSE (395.72): 390 @ 0.01 - 391 @ 0.01 - 393 @ 2.75 - 394 @ 1.67\n",
            "**************** Processed Date: 2023-03-24 - Result: -390.00 ****************\n",
            " OPEN (396.45): 394 @ 0.38 - 395 @ 0.63 - 397 @ 0.89 - 398 @ 0.53\n",
            "CLOSE (396.45): 394 @ 0.01 - 395 @ 0.01 - 397 @ 0.05 - 398 @ 0.01\n",
            "**************** Processed Date: 2023-03-27 - Result:  570.00 ****************\n"
          ]
        },
        {
          "output_type": "stream",
          "name": "stderr",
          "text": [
            " 85%|████████▌ | 316/370 [00:28<00:04, 11.44it/s]"
          ]
        },
        {
          "output_type": "stream",
          "name": "stdout",
          "text": [
            " OPEN (395.92): 393 @ 0.24 - 394 @ 0.41 - 396 @ 0.95 - 397 @ 0.51\n",
            "CLOSE (395.65): 393 @ 0.01 - 394 @ 0.01 - 396 @ 0.07 - 397 @ 0.01\n",
            "**************** Processed Date: 2023-03-28 - Result:  550.00 ****************\n",
            " OPEN (399.535): 397 @ 0.22 - 398 @ 0.36 - 400 @ 0.62 - 401 @ 0.26\n",
            "CLOSE (401.34): 397 @ 0.01 - 398 @ 0.01 - 400 @ 1.32 - 401 @ 0.41\n",
            "**************** Processed Date: 2023-03-29 - Result: -410.00 ****************\n",
            " OPEN (403.24): 401 @ 0.21 - 402 @ 0.38 - 404 @ 0.42 - 405 @ 0.16\n",
            "CLOSE (403.7): 401 @ 0.01 - 402 @ 0.01 - 404 @ 0.06 - 405 @ 0.01\n",
            "**************** Processed Date: 2023-03-30 - Result:  380.00 ****************\n"
          ]
        },
        {
          "output_type": "stream",
          "name": "stderr",
          "text": [
            " 86%|████████▌ | 318/370 [00:28<00:04, 11.31it/s]"
          ]
        },
        {
          "output_type": "stream",
          "name": "stdout",
          "text": [
            " OPEN (406.92): 404 @ 0.16 - 405 @ 0.28 - 407 @ 0.85 - 408 @ 0.45\n",
            "CLOSE (409.36): 404 @ 0.01 - 405 @ 0.01 - 407 @ 2.37 - 408 @ 1.34\n",
            "**************** Processed Date: 2023-03-31 - Result: -510.00 ****************\n",
            " OPEN (409.05): 407 @ 0.22 - 408 @ 0.42 - 410 @ 0.42 - 411 @ 0.18\n",
            "CLOSE (410.93): 407 @ 0.01 - 408 @ 0.02 - 410 @ 0.94 - 411 @ 0.12\n",
            "**************** Processed Date: 2023-04-03 - Result: -390.00 ****************\n",
            " OPEN (409.005): 407 @ 0.23 - 408 @ 0.47 - 410 @ 0.45 - 411 @ 0.21\n",
            "CLOSE (408.7): 407 @ 0.01 - 408 @ 0.01 - 410 @ 0.01 - 411 @ 0.01\n",
            "**************** Processed Date: 2023-04-04 - Result:  480.00 ****************\n"
          ]
        },
        {
          "output_type": "stream",
          "name": "stderr",
          "text": [
            " 87%|████████▋ | 322/370 [00:28<00:04, 11.59it/s]"
          ]
        },
        {
          "output_type": "stream",
          "name": "stdout",
          "text": [
            " OPEN (406.84): 404 @ 0.11 - 405 @ 0.23 - 407 @ 0.67 - 408 @ 0.29\n",
            "CLOSE (407.65): 404 @ 0.01 - 405 @ 0.01 - 407 @ 0.6 - 408 @ 0.04\n",
            "**************** Processed Date: 2023-04-05 - Result:  -60.00 ****************\n",
            " OPEN (407.68): 405 @ 0.1 - 406 @ 0.23 - 408 @ 0.59 - 409 @ 0.24\n",
            "CLOSE (409.2): 405 @ 0.01 - 406 @ 0.01 - 408 @ 1.2 - 409 @ 0.28\n",
            "**************** Processed Date: 2023-04-06 - Result: -440.00 ****************\n",
            " OPEN (407.69): 405 @ 0.1 - 406 @ 0.22 - 408 @ 0.57 - 409 @ 0.24\n",
            "CLOSE (409.235): 405 @ 0.01 - 406 @ 0.01 - 408 @ 1.56 - 409 @ 0.68\n",
            "**************** Processed Date: 2023-04-10 - Result: -430.00 ****************\n"
          ]
        },
        {
          "output_type": "stream",
          "name": "stderr",
          "text": [
            " 88%|████████▊ | 324/370 [00:29<00:04, 11.23it/s]"
          ]
        },
        {
          "output_type": "stream",
          "name": "stdout",
          "text": [
            " OPEN (409.55): 407 @ 0.1 - 408 @ 0.24 - 410 @ 0.53 - 411 @ 0.23\n",
            "CLOSE (409.71): 407 @ 0.01 - 408 @ 0.01 - 410 @ 0.1 - 411 @ 0.01\n",
            "**************** Processed Date: 2023-04-11 - Result:  350.00 ****************\n",
            " OPEN (409.862): 407 @ 0.2 - 408 @ 0.36 - 410 @ 0.88 - 411 @ 0.47\n",
            "CLOSE (408.07): 407 @ 0.01 - 408 @ 0.16 - 410 @ 0.01 - 411 @ 0.01\n",
            "**************** Processed Date: 2023-04-12 - Result:  420.00 ****************\n",
            " OPEN (410.81): 408 @ 0.14 - 409 @ 0.24 - 411 @ 0.66 - 412 @ 0.27\n",
            "CLOSE (413.445): 408 @ 0.01 - 409 @ 0.01 - 411 @ 2.43 - 412 @ 1.44\n",
            "**************** Processed Date: 2023-04-13 - Result: -500.00 ****************\n"
          ]
        },
        {
          "output_type": "stream",
          "name": "stderr",
          "text": [
            " 89%|████████▊ | 328/370 [00:29<00:03, 11.60it/s]"
          ]
        },
        {
          "output_type": "stream",
          "name": "stdout",
          "text": [
            " OPEN (411.69): 409 @ 0.12 - 410 @ 0.25 - 412 @ 0.66 - 413 @ 0.33\n",
            "CLOSE (412.49): 409 @ 0.01 - 410 @ 0.01 - 412 @ 0.57 - 413 @ 0.04\n",
            "**************** Processed Date: 2023-04-14 - Result:  -70.00 ****************\n",
            " OPEN (411.32): 409 @ 0.12 - 410 @ 0.28 - 412 @ 0.45 - 413 @ 0.19\n",
            "CLOSE (413.705): 409 @ 0.01 - 410 @ 0.01 - 412 @ 1.95 - 413 @ 0.91\n",
            "**************** Processed Date: 2023-04-17 - Result: -620.00 ****************\n",
            " OPEN (413.1899): 411 @ 0.15 - 412 @ 0.35 - 414 @ 0.43 - 415 @ 0.18\n",
            "CLOSE (414.22): 411 @ 0.01 - 412 @ 0.02 - 414 @ 0.37 - 415 @ 0.02\n",
            "**************** Processed Date: 2023-04-18 - Result:   90.00 ****************\n"
          ]
        },
        {
          "output_type": "stream",
          "name": "stderr",
          "text": []
        },
        {
          "output_type": "stream",
          "name": "stdout",
          "text": [
            " OPEN (413.39): 411 @ 0.13 - 412 @ 0.27 - 414 @ 0.42 - 415 @ 0.16\n",
            "CLOSE (414.21): 411 @ 0.01 - 412 @ 0.01 - 414 @ 0.36 - 415 @ 0.03\n",
            "**************** Processed Date: 2023-04-19 - Result:   70.00 ****************\n",
            " OPEN (412.5075): 410 @ 0.11 - 411 @ 0.22 - 413 @ 0.47 - 414 @ 0.19\n",
            "CLOSE (411.88): 410 @ 0.01 - 411 @ 0.02 - 413 @ 0.01 - 414 @ 0.01\n",
            "**************** Processed Date: 2023-04-20 - Result:  380.00 ****************\n",
            " OPEN (411.68): 409 @ 0.12 - 410 @ 0.26 - 412 @ 0.59 - 413 @ 0.24\n",
            "CLOSE (412.18): 409 @ 0.01 - 410 @ 0.01 - 412 @ 0.27 - 413 @ 0.01\n"
          ]
        },
        {
          "output_type": "stream",
          "name": "stderr",
          "text": [
            " 90%|████████▉ | 332/370 [00:29<00:03, 11.31it/s]"
          ]
        },
        {
          "output_type": "stream",
          "name": "stdout",
          "text": [
            "**************** Processed Date: 2023-04-21 - Result:  230.00 ****************\n",
            " OPEN (410.91): 408 @ 0.06 - 409 @ 0.15 - 411 @ 0.66 - 412 @ 0.29\n",
            "CLOSE (412.63): 408 @ 0.01 - 409 @ 0.01 - 411 @ 1.63 - 412 @ 0.59\n",
            "**************** Processed Date: 2023-04-24 - Result: -580.00 ****************\n",
            " OPEN (409.41): 407 @ 0.17 - 408 @ 0.35 - 410 @ 0.63 - 411 @ 0.31\n",
            "CLOSE (406.12): 407 @ 1.01 - 408 @ 1.97 - 410 @ 0.01 - 411 @ 0.01\n",
            "**************** Processed Date: 2023-04-25 - Result: -460.00 ****************\n"
          ]
        },
        {
          "output_type": "stream",
          "name": "stderr",
          "text": [
            " 90%|█████████ | 334/370 [00:30<00:03, 11.49it/s]"
          ]
        },
        {
          "output_type": "stream",
          "name": "stdout",
          "text": [
            " OPEN (407.35): 405 @ 0.19 - 406 @ 0.35 - 408 @ 0.48 - 409 @ 0.21\n",
            "CLOSE (404.37): 405 @ 0.66 - 406 @ 1.6 - 408 @ 0.01 - 409 @ 0.01\n",
            "**************** Processed Date: 2023-04-26 - Result: -510.00 ****************\n",
            " OPEN (408.66): 406 @ 0.18 - 407 @ 0.32 - 409 @ 0.66 - 410 @ 0.29\n",
            "CLOSE (412.28): 406 @ 0.01 - 407 @ 0.01 - 409 @ 3.45 - 410 @ 2.54\n",
            "**************** Processed Date: 2023-04-27 - Result: -400.00 ****************\n",
            " OPEN (414.25): 412 @ 0.23 - 413 @ 0.42 - 415 @ 0.5 - 416 @ 0.22\n",
            "CLOSE (415.93): 412 @ 0.01 - 413 @ 0.01 - 415 @ 0.95 - 416 @ 0.19\n"
          ]
        },
        {
          "output_type": "stream",
          "name": "stderr",
          "text": [
            " 91%|█████████▏| 338/370 [00:30<00:02, 11.29it/s]"
          ]
        },
        {
          "output_type": "stream",
          "name": "stdout",
          "text": [
            "**************** Processed Date: 2023-04-28 - Result: -290.00 ****************\n",
            " OPEN (416.14): 414 @ 0.13 - 415 @ 0.28 - 417 @ 0.33 - 418 @ 0.13\n",
            "CLOSE (415.53): 414 @ 0.01 - 415 @ 0.01 - 417 @ 0.01 - 418 @ 0.01\n",
            "**************** Processed Date: 2023-05-01 - Result:  350.00 ****************\n",
            " OPEN (409.37): 407 @ 0.25 - 408 @ 0.45 - 410 @ 0.68 - 411 @ 0.35\n",
            "CLOSE (410.87): 407 @ 0.01 - 408 @ 0.1 - 410 @ 0.77 - 411 @ 0.09\n",
            "**************** Processed Date: 2023-05-02 - Result: -240.00 ****************\n"
          ]
        },
        {
          "output_type": "stream",
          "name": "stderr",
          "text": [
            " 92%|█████████▏| 340/370 [00:30<00:02, 11.20it/s]"
          ]
        },
        {
          "output_type": "stream",
          "name": "stdout",
          "text": [
            " OPEN (410.96): 408 @ 0.88 - 409 @ 1.2 - 411 @ 2.02 - 412 @ 1.53\n",
            "CLOSE (407.99): 408 @ 0.26 - 409 @ 1.15 - 411 @ 0.01 - 412 @ 0.01\n",
            "**************** Processed Date: 2023-05-03 - Result:  -80.00 ****************\n",
            " OPEN (404.981): 402 @ 0.34 - 403 @ 0.52 - 405 @ 1.2 - 406 @ 0.75\n",
            "CLOSE (405.17): 402 @ 0.03 - 403 @ 0.07 - 405 @ 0.58 - 406 @ 0.25\n",
            "**************** Processed Date: 2023-05-04 - Result:  260.00 ****************\n",
            " OPEN (410.8886): 408 @ 0.17 - 409 @ 0.29 - 411 @ 0.79 - 412 @ 0.39\n",
            "CLOSE (412.61): 408 @ 0.01 - 409 @ 0.01 - 411 @ 1.46 - 412 @ 0.57\n"
          ]
        },
        {
          "output_type": "stream",
          "name": "stderr",
          "text": [
            " 92%|█████████▏| 342/370 [00:30<00:02, 11.22it/s]"
          ]
        },
        {
          "output_type": "stream",
          "name": "stdout",
          "text": [
            "**************** Processed Date: 2023-05-05 - Result: -370.00 ****************\n",
            " OPEN (412.3284): 410 @ 0.11 - 411 @ 0.23 - 413 @ 0.37 - 414 @ 0.14\n",
            "CLOSE (412.79): 410 @ 0.01 - 411 @ 0.01 - 413 @ 0.03 - 414 @ 0.01\n",
            "**************** Processed Date: 2023-05-08 - Result:  330.00 ****************\n",
            " OPEN (411.37): 409 @ 0.12 - 410 @ 0.25 - 412 @ 0.41 - 413 @ 0.13\n",
            "CLOSE (410.96): 409 @ 0.01 - 410 @ 0.01 - 412 @ 0.03 - 413 @ 0.01\n",
            "**************** Processed Date: 2023-05-09 - Result:  390.00 ****************\n"
          ]
        },
        {
          "output_type": "stream",
          "name": "stderr",
          "text": [
            " 93%|█████████▎| 344/370 [00:30<00:02, 11.18it/s]"
          ]
        },
        {
          "output_type": "stream",
          "name": "stdout",
          "text": [
            " OPEN (412.09): 410 @ 0.2 - 411 @ 0.38 - 413 @ 0.39 - 414 @ 0.16\n",
            "CLOSE (412.625): 410 @ 0.01 - 411 @ 0.01 - 413 @ 0.04 - 414 @ 0.01\n",
            "**************** Processed Date: 2023-05-10 - Result:  380.00 ****************\n",
            " OPEN (411.899): 409 @ 0.1 - 410 @ 0.21 - 412 @ 0.72 - 413 @ 0.33\n",
            "CLOSE (412.06): 409 @ 0.01 - 410 @ 0.01 - 412 @ 0.2 - 413 @ 0.01\n",
            "**************** Processed Date: 2023-05-11 - Result:  310.00 ****************\n",
            " OPEN (410.91): 408 @ 0.11 - 409 @ 0.23 - 411 @ 0.75 - 412 @ 0.34\n",
            "CLOSE (411.61): 408 @ 0.01 - 409 @ 0.01 - 411 @ 0.57 - 412 @ 0.04\n"
          ]
        },
        {
          "output_type": "stream",
          "name": "stderr",
          "text": [
            " 94%|█████████▍| 348/370 [00:31<00:01, 11.28it/s]"
          ]
        },
        {
          "output_type": "stream",
          "name": "stdout",
          "text": [
            "**************** Processed Date: 2023-05-12 - Result:    0.00 ****************\n",
            " OPEN (411.6): 409 @ 0.14 - 410 @ 0.24 - 412 @ 0.48 - 413 @ 0.18\n",
            "CLOSE (413.01): 409 @ 0.01 - 410 @ 0.01 - 412 @ 1.02 - 413 @ 0.12\n",
            "**************** Processed Date: 2023-05-15 - Result: -500.00 ****************\n",
            " OPEN (411.3332): 409 @ 0.13 - 410 @ 0.3 - 412 @ 0.45 - 413 @ 0.18\n",
            "CLOSE (410.25): 409 @ 0.02 - 410 @ 0.15 - 412 @ 0.01 - 413 @ 0.01\n",
            "**************** Processed Date: 2023-05-16 - Result:  310.00 ****************\n"
          ]
        },
        {
          "output_type": "stream",
          "name": "stderr",
          "text": [
            " 95%|█████████▍| 350/370 [00:31<00:01, 11.27it/s]"
          ]
        },
        {
          "output_type": "stream",
          "name": "stdout",
          "text": [
            " OPEN (412.675): 410 @ 0.11 - 411 @ 0.2 - 413 @ 0.5 - 414 @ 0.17\n",
            "CLOSE (415.02): 410 @ 0.01 - 411 @ 0.01 - 413 @ 2.14 - 414 @ 1.15\n",
            "**************** Processed Date: 2023-05-17 - Result: -570.00 ****************\n",
            " OPEN (417.47): 415 @ 0.12 - 416 @ 0.26 - 418 @ 0.51 - 419 @ 0.21\n",
            "CLOSE (419.23): 415 @ 0.01 - 416 @ 0.01 - 418 @ 1.2 - 419 @ 0.3\n",
            "**************** Processed Date: 2023-05-18 - Result: -460.00 ****************\n",
            " OPEN (418.52): 416 @ 0.27 - 417 @ 0.46 - 419 @ 0.77 - 420 @ 0.41\n",
            "CLOSE (418.61): 416 @ 0.01 - 417 @ 0.01 - 419 @ 0.03 - 420 @ 0.01\n",
            "**************** Processed Date: 2023-05-19 - Result:  530.00 ****************\n"
          ]
        },
        {
          "output_type": "stream",
          "name": "stderr",
          "text": [
            " 96%|█████████▌| 354/370 [00:31<00:01, 11.47it/s]"
          ]
        },
        {
          "output_type": "stream",
          "name": "stdout",
          "text": [
            " OPEN (418.895): 416 @ 0.08 - 417 @ 0.19 - 419 @ 0.65 - 420 @ 0.27\n",
            "CLOSE (418.78): 416 @ 0.03 - 417 @ 0.01 - 419 @ 0.06 - 420 @ 0.01\n",
            "**************** Processed Date: 2023-05-22 - Result:  460.00 ****************\n",
            " OPEN (417.88): 415 @ 0.06 - 416 @ 0.14 - 418 @ 0.6 - 419 @ 0.25\n",
            "CLOSE (414.09): 415 @ 0.9 - 416 @ 1.87 - 418 @ 0.01 - 419 @ 0.01\n",
            "**************** Processed Date: 2023-05-23 - Result: -540.00 ****************\n",
            " OPEN (410.37): 408 @ 0.38 - 409 @ 0.61 - 411 @ 0.83 - 412 @ 0.48\n",
            "CLOSE (411.09): 408 @ 0.01 - 409 @ 0.02 - 411 @ 0.38 - 412 @ 0.07\n",
            "**************** Processed Date: 2023-05-24 - Result:  260.00 ****************\n"
          ]
        },
        {
          "output_type": "stream",
          "name": "stderr",
          "text": [
            " 96%|█████████▌| 356/370 [00:31<00:01, 11.35it/s]"
          ]
        },
        {
          "output_type": "stream",
          "name": "stdout",
          "text": [
            " OPEN (412.78): 410 @ 0.17 - 411 @ 0.33 - 413 @ 0.8 - 414 @ 0.42\n",
            "CLOSE (414.63): 410 @ 0.01 - 411 @ 0.01 - 413 @ 1.65 - 414 @ 0.61\n",
            "**************** Processed Date: 2023-05-25 - Result: -500.00 ****************\n",
            " OPEN (419.0999): 417 @ 0.25 - 418 @ 0.47 - 420 @ 0.47 - 421 @ 0.2\n",
            "CLOSE (419.98): 417 @ 0.01 - 418 @ 0.01 - 420 @ 0.2 - 421 @ 0.01\n",
            "**************** Processed Date: 2023-05-26 - Result:  300.00 ****************\n",
            " OPEN (420.61): 418 @ 0.14 - 419 @ 0.28 - 421 @ 0.59 - 422 @ 0.27\n",
            "CLOSE (420.17): 418 @ 0.01 - 419 @ 0.01 - 421 @ 0.01 - 422 @ 0.01\n",
            "**************** Processed Date: 2023-05-30 - Result:  460.00 ****************\n"
          ]
        },
        {
          "output_type": "stream",
          "name": "stderr",
          "text": [
            " 97%|█████████▋| 358/370 [00:32<00:01, 11.22it/s]"
          ]
        },
        {
          "output_type": "stream",
          "name": "stdout",
          "text": [
            " OPEN (416.715): 414 @ 0.12 - 415 @ 0.26 - 417 @ 0.71 - 418 @ 0.34\n",
            "CLOSE (417.83): 414 @ 0.01 - 415 @ 0.01 - 417 @ 0.7 - 418 @ 0.11\n",
            "**************** Processed Date: 2023-05-31 - Result:  -80.00 ****************\n",
            " OPEN (420.61): 418 @ 0.11 - 419 @ 0.21 - 421 @ 0.49 - 422 @ 0.17\n",
            "CLOSE (421.81): 418 @ 0.01 - 419 @ 0.01 - 421 @ 0.83 - 422 @ 0.14\n",
            "**************** Processed Date: 2023-06-01 - Result: -270.00 ****************\n",
            " OPEN (427.15): 425 @ 0.2 - 426 @ 0.36 - 428 @ 0.41 - 429 @ 0.17\n",
            "CLOSE (427.91): 425 @ 0.01 - 426 @ 0.01 - 428 @ 0.13 - 429 @ 0.01\n"
          ]
        },
        {
          "output_type": "stream",
          "name": "stderr",
          "text": [
            " 98%|█████████▊| 362/370 [00:32<00:00, 11.21it/s]"
          ]
        },
        {
          "output_type": "stream",
          "name": "stdout",
          "text": [
            "**************** Processed Date: 2023-06-02 - Result:  280.00 ****************\n",
            " OPEN (428.96): 426 @ 0.08 - 427 @ 0.15 - 429 @ 0.66 - 430 @ 0.29\n",
            "CLOSE (427.1): 426 @ 0.01 - 427 @ 0.1 - 429 @ 0.01 - 430 @ 0.02\n",
            "**************** Processed Date: 2023-06-05 - Result:  360.00 ****************\n",
            " OPEN (427.902): 425 @ 0.08 - 426 @ 0.17 - 428 @ 0.67 - 429 @ 0.27\n",
            "CLOSE (428.04): 425 @ 0.01 - 426 @ 0.01 - 428 @ 0.15 - 429 @ 0.01\n",
            "**************** Processed Date: 2023-06-06 - Result:  350.00 ****************\n"
          ]
        },
        {
          "output_type": "stream",
          "name": "stderr",
          "text": [
            " 98%|█████████▊| 364/370 [00:32<00:00, 11.22it/s]"
          ]
        },
        {
          "output_type": "stream",
          "name": "stdout",
          "text": [
            " OPEN (427.49): 425 @ 0.08 - 426 @ 0.18 - 428 @ 0.42 - 429 @ 0.17\n",
            "CLOSE (426.6): 425 @ 0.01 - 426 @ 0.01 - 428 @ 0.01 - 429 @ 0.01\n",
            "**************** Processed Date: 2023-06-07 - Result:  350.00 ****************\n",
            " OPEN (428.1401): 426 @ 0.11 - 427 @ 0.24 - 429 @ 0.27 - 430 @ 0.09\n",
            "CLOSE (429.125): 426 @ 0.01 - 427 @ 0.01 - 429 @ 0.2 - 430 @ 0.01\n",
            "**************** Processed Date: 2023-06-08 - Result:  120.00 ****************\n",
            " OPEN (430.07): 428 @ 0.16 - 429 @ 0.32 - 431 @ 0.36 - 432 @ 0.14\n",
            "CLOSE (429.89): 428 @ 0.01 - 429 @ 0.01 - 431 @ 0.01 - 432 @ 0.01\n",
            "**************** Processed Date: 2023-06-09 - Result:  380.00 ****************\n"
          ]
        },
        {
          "output_type": "stream",
          "name": "stderr",
          "text": [
            " 99%|█████████▉| 368/370 [00:32<00:00, 11.50it/s]"
          ]
        },
        {
          "output_type": "stream",
          "name": "stdout",
          "text": [
            " OPEN (431.145): 429 @ 0.1 - 430 @ 0.22 - 432 @ 0.23 - 433 @ 0.07\n",
            "CLOSE (433.79): 429 @ 0.01 - 430 @ 0.01 - 432 @ 1.72 - 433 @ 0.8\n",
            "**************** Processed Date: 2023-06-12 - Result: -640.00 ****************\n",
            " OPEN (436.31): 434 @ 0.13 - 435 @ 0.26 - 437 @ 0.45 - 438 @ 0.21\n",
            "CLOSE (436.66): 434 @ 0.01 - 435 @ 0.01 - 437 @ 0.02 - 438 @ 0.01\n",
            "**************** Processed Date: 2023-06-13 - Result:  360.00 ****************\n",
            " OPEN (438.5): 436 @ 0.66 - 437 @ 0.95 - 439 @ 1.34 - 440 @ 0.93\n",
            "CLOSE (437.18): 436 @ 0.02 - 437 @ 0.17 - 439 @ 0.01 - 440 @ 0.01\n",
            "**************** Processed Date: 2023-06-14 - Result:  550.00 ****************\n"
          ]
        },
        {
          "output_type": "stream",
          "name": "stderr",
          "text": [
            "100%|██████████| 370/370 [00:33<00:00, 11.20it/s]"
          ]
        },
        {
          "output_type": "stream",
          "name": "stdout",
          "text": [
            " OPEN (440.9): 438 @ 0.15 - 439 @ 0.25 - 441 @ 0.76 - 442 @ 0.38\n",
            "CLOSE (442.6): 438 @ 0.01 - 439 @ 0.01 - 441 @ 1.51 - 442 @ 0.65\n",
            "**************** Processed Date: 2023-06-15 - Result: -380.00 ****************\n",
            " OPEN (441.05): 439 @ 0.2 - 440 @ 0.39 - 442 @ 0.42 - 443 @ 0.18\n",
            "CLOSE (439.43): 439 @ 0.03 - 440 @ 0.61 - 442 @ 0.01 - 443 @ 0.01\n",
            "**************** Processed Date: 2023-06-16 - Result: -150.00 ****************\n"
          ]
        },
        {
          "output_type": "stream",
          "name": "stderr",
          "text": [
            "\n"
          ]
        }
      ]
    },
    {
      "cell_type": "code",
      "source": [
        "### Generate result ###\n",
        "\n",
        "# Calculate Net Result\n",
        "df_result = pd.DataFrame(pnl, columns=['expire_date','gross_result'])\n",
        "df_result['net_result'] = df_result['gross_result'] - CONTRACTS * FEES_PER_CONTRACT * 4 # Let them expire\n",
        "df_result['wins'] = np.where(df_result['net_result'] > 0, 1, 0)\n",
        "df_result['losses'] = np.where(df_result['net_result'] < 0, 1, 0)"
      ],
      "metadata": {
        "id": "NpX4bi5qnTM4"
      },
      "execution_count": 7,
      "outputs": []
    },
    {
      "cell_type": "code",
      "source": [
        "# Show the parameters\n",
        "print(f' PARAMETERS '.center(70, '*'))\n",
        "print(f'* Hour Open: {HOUR_OPEN}')\n",
        "print(f'* Minute Open: {MINUTE_OPEN}')\n",
        "print(f'* Strikes From Price: {STRIKES}')\n",
        "\n",
        "# Show the Total Result\n",
        "print(f' SUMMARIZED RESULT '.center(70, '*'))\n",
        "print(f'* Trading Days: {len(df_result)}')\n",
        "print(f'* Gross PnL: $ {df_result[\"gross_result\"].sum():.2f}')\n",
        "print(f'* Net PnL: $ {df_result[\"net_result\"].sum():.2f}')\n",
        "print(f'* Win Rate: {100 * (df_result[\"wins\"].sum() / (df_result[\"wins\"].sum() + df_result[\"losses\"].sum())):.2f} %')\n",
        "\n",
        "# Show The Monthly Result\n",
        "print(f' MONTHLY DETAIL RESULT '.center(70, '*'))\n",
        "df_monthly = df_result[['expire_date','gross_result','net_result','wins','losses']]\n",
        "df_monthly['year_month'] = df_monthly['expire_date'].str[0:7]\n",
        "df_monthly = df_monthly.drop('expire_date', axis=1)\n",
        "df_monthly = df_monthly.groupby(['year_month']).sum()\n",
        "\n",
        "print(df_monthly)"
      ],
      "metadata": {
        "id": "vzPXDAynnTKZ",
        "colab": {
          "base_uri": "https://localhost:8080/"
        },
        "outputId": "139205d3-ac7d-4c43-f0cf-9bde8e65f44d"
      },
      "execution_count": 8,
      "outputs": [
        {
          "output_type": "stream",
          "name": "stdout",
          "text": [
            "***************************** PARAMETERS *****************************\n",
            "* Hour Open: 11\n",
            "* Minute Open: 45\n",
            "* Strikes From Price: 1\n",
            "************************* SUMMARIZED RESULT **************************\n",
            "* Trading Days: 360\n",
            "* Gross PnL: $ 9970.00\n",
            "* Net PnL: $ 1330.00\n",
            "* Win Rate: 52.22 %\n",
            "*********************** MONTHLY DETAIL RESULT ************************\n",
            "            gross_result  net_result  wins  losses\n",
            "year_month                                        \n",
            "2021-06            500.0       380.0     4       1\n",
            "2021-07            690.0       378.0     8       5\n",
            "2021-08            200.0      -112.0     9       4\n",
            "2021-09           1410.0      1074.0    10       4\n",
            "2021-10          -2630.0     -2942.0     4       9\n",
            "2021-11            300.0       -12.0     8       5\n",
            "2021-12            -30.0      -270.0     4       6\n",
            "2022-01           1440.0      1224.0     5       4\n",
            "2022-02           1660.0      1396.0     7       4\n",
            "2022-03          -2050.0     -2386.0     6       8\n",
            "2022-04          -2220.0     -2532.0     4       9\n",
            "2022-05            680.0       368.0     6       7\n",
            "2022-06           2980.0      2644.0     9       5\n",
            "2022-07           1410.0      1098.0     7       6\n",
            "2022-08            440.0       104.0     8       6\n",
            "2022-09            -50.0      -362.0     6       7\n",
            "2022-10            680.0       368.0     6       7\n",
            "2022-11           1570.0      1186.0     8       8\n",
            "2022-12           2360.0      1856.0    14       7\n",
            "2023-01           -580.0     -1060.0    10      10\n",
            "2023-02           1360.0       904.0    10       9\n",
            "2023-03            270.0      -282.0     8      15\n",
            "2023-04          -2730.0     -3186.0     7      12\n",
            "2023-05           1000.0       472.0    12      10\n",
            "2023-06           1310.0      1022.0     8       4\n"
          ]
        }
      ]
    }
  ]
}