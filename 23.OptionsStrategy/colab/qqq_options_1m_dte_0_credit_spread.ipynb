{
  "nbformat": 4,
  "nbformat_minor": 0,
  "metadata": {
    "colab": {
      "provenance": []
    },
    "kernelspec": {
      "name": "python3",
      "display_name": "Python 3"
    },
    "language_info": {
      "name": "python"
    }
  },
  "cells": [
    {
      "cell_type": "markdown",
      "source": [
        "Copy the file **qqq_dte_0.csv.gz** located in https://github.com/crapher/medium/tree/main/23.OptionsStrategy/data to your colab folder"
      ],
      "metadata": {
        "id": "_XQkxgIHPS8z"
      }
    },
    {
      "cell_type": "code",
      "execution_count": 1,
      "metadata": {
        "id": "-LjpN-v8Btt7"
      },
      "outputs": [],
      "source": [
        "import warnings\n",
        "import numpy as np\n",
        "import pandas as pd\n",
        "\n",
        "from tqdm import tqdm"
      ]
    },
    {
      "cell_type": "code",
      "source": [
        "# Constants\n",
        "DEBUG = 1\n",
        "OPTIONS_FILE='./qqq_dte_0.csv.gz'\n",
        "\n",
        "FEES_PER_CONTRACT = 0.6\n",
        "CONTRACTS = 10\n",
        "\n",
        "HOUR_OPEN = 10\n",
        "MINUTE_OPEN = 30\n",
        "STRIKES = 1\n",
        "DIST_BETWEEN_STRIKES = 2\n",
        "MAX_CHANGE_BEARISH = -0.35\n",
        "MIN_CHANGE_BULLISH = 0.35"
      ],
      "metadata": {
        "id": "I1F7CD1kQPEx"
      },
      "execution_count": 2,
      "outputs": []
    },
    {
      "cell_type": "code",
      "source": [
        "### Configuration ###\n",
        "warnings.filterwarnings(\"ignore\")\n",
        "np.set_printoptions(suppress=True)\n",
        "pd.options.mode.chained_assignment = None"
      ],
      "metadata": {
        "id": "3fZAJpXWmGHy"
      },
      "execution_count": 3,
      "outputs": []
    },
    {
      "cell_type": "code",
      "source": [
        "### Helper functions ###\n",
        "def get_vertical_option_kind(df, max_change_bearish, min_change_bullish):\n",
        "\n",
        "    changes = 100 * (df['close_underlying'].values / df['close_underlying'].values[0] - 1)\n",
        "\n",
        "    change = changes[-1]\n",
        "    min_change = min(changes)\n",
        "    max_change = max(changes)\n",
        "\n",
        "    if change < max_change_bearish and max_change < min_change_bullish:\n",
        "        return 'C' # Sell Call Vertical\n",
        "    elif change > min_change_bullish and min_change > max_change_bearish:\n",
        "        return 'P' # Sell Put Vertical\n",
        "    else:\n",
        "        return ''\n",
        "\n",
        "def get_vertical_strikes(df, kind, strikes, dist_between_strikes):\n",
        "\n",
        "    if kind == 'P':\n",
        "        sell_strike = int(df['close_underlying'].values[0]) - strikes\n",
        "        buy_strike  = sell_strike - dist_between_strikes\n",
        "    else:\n",
        "        sell_strike = int(df['close_underlying'].values[0]) + strikes\n",
        "        buy_strike  = sell_strike + dist_between_strikes\n",
        "\n",
        "    return (buy_strike, sell_strike)\n",
        "\n",
        "def get_vertical_result(df, kind, buy_strike, sell_strike):\n",
        "\n",
        "    # Open Vertical\n",
        "    df = df.sort_values('date', ascending=True)\n",
        "\n",
        "    stock_price = df['close_underlying'].values[0]\n",
        "    buy_price   = df[(df['strike'] == buy_strike)  & (df['kind'] == kind)]['close'].values[0]\n",
        "    sell_price  = df[(df['strike'] == sell_strike) & (df['kind'] == kind)]['close'].values[0]\n",
        "\n",
        "    open_cost  = -100 * buy_price\n",
        "    open_cost +=  100 * sell_price\n",
        "    open_cost *= CONTRACTS\n",
        "\n",
        "    if DEBUG:\n",
        "        tqdm.write(f' OPEN {kind} ({stock_price:6.2f}): SELL {sell_strike} @ {sell_price:6.2f} -  BUY {buy_strike} @ {buy_price:6.2f} - TOTAL: {(-buy_price + sell_price):6.2f}')\n",
        "\n",
        "    # Close Vertical (Prices are 0 if they are OTM/ATM or the difference between the strike and the underlying's close price if they are ITM)\n",
        "    stock_price = df['close_underlying'].values[-1]\n",
        "    sell_price = 0 if (kind == 'P' and buy_strike <= stock_price) or (kind == 'C' and buy_strike >= stock_price) else abs(buy_strike - stock_price)\n",
        "    buy_price = 0 if (kind == 'P' and sell_strike <= stock_price) or (kind == 'C' and sell_strike >= stock_price) else abs(sell_strike - stock_price)\n",
        "\n",
        "    if DEBUG:\n",
        "        tqdm.write(f'CLOSE {kind} ({stock_price:6.2f}):  BUY {sell_strike} @ {buy_price:6.2f} - SELL {buy_strike} @ {sell_price:6.2f} - TOTAL: {(-buy_price + sell_price):6.2f}')\n",
        "\n",
        "    close_cost = -100 * buy_price\n",
        "    close_cost += 100 * sell_price\n",
        "    close_cost *= CONTRACTS\n",
        "\n",
        "    if DEBUG:\n",
        "        tqdm.write(f'**************** Processed Date: {df[\"date\"].dt.date.values[0]} - Result: {open_cost + close_cost:8.2f} ****************')\n",
        "\n",
        "    return open_cost + close_cost"
      ],
      "metadata": {
        "id": "kfv-C_mjxN2F"
      },
      "execution_count": 4,
      "outputs": []
    },
    {
      "cell_type": "code",
      "source": [
        "### Read File ###\n",
        "df = pd.read_csv(OPTIONS_FILE, header=0)\n",
        "df['date'] = pd.to_datetime(df['date'])"
      ],
      "metadata": {
        "id": "36mzjkH6B-7a"
      },
      "execution_count": 5,
      "outputs": []
    },
    {
      "cell_type": "code",
      "source": [
        "### Get all the expiration dates ###\n",
        "expirations = df['expire_date'].unique().tolist()"
      ],
      "metadata": {
        "id": "BGeOrtCZxSDj"
      },
      "execution_count": 6,
      "outputs": []
    },
    {
      "cell_type": "code",
      "source": [
        "### Get P&L by day ###\n",
        "pnl = []\n",
        "df_trend = df[(df.date.dt.hour < HOUR_OPEN) | ((df.date.dt.hour == HOUR_OPEN) & (df.date.dt.minute < MINUTE_OPEN))]\n",
        "df_cost = df[(df.date.dt.hour > HOUR_OPEN) | ((df.date.dt.hour == HOUR_OPEN) & (df.date.dt.minute >= MINUTE_OPEN))]\n",
        "df_open = df_cost[(df_cost.date.dt.hour == HOUR_OPEN) & (df_cost.date.dt.minute == MINUTE_OPEN)]\n",
        "\n",
        "for expiration in tqdm(expirations):\n",
        "\n",
        "    try:\n",
        "        kind = get_vertical_option_kind(df_trend[df_trend['expire_date'] == expiration], MAX_CHANGE_BEARISH, MIN_CHANGE_BULLISH)\n",
        "\n",
        "        if kind == '':\n",
        "            if DEBUG:\n",
        "                tqdm.write(f'**************** Processed Date: {expiration} - Result: -- NA -- ****************')\n",
        "\n",
        "            continue\n",
        "\n",
        "        (buy_strike, sell_strike) = get_vertical_strikes(df_open[df_open['expire_date'] == expiration], kind, STRIKES, DIST_BETWEEN_STRIKES)\n",
        "        result = get_vertical_result(df_cost[df_cost['expire_date'] == expiration], kind, buy_strike, sell_strike)\n",
        "\n",
        "        pnl.append([expiration, result])\n",
        "\n",
        "    except Exception as ex:\n",
        "        continue"
      ],
      "metadata": {
        "id": "Eck0aed5QLR4",
        "colab": {
          "base_uri": "https://localhost:8080/"
        },
        "outputId": "1dec1fd3-652d-411a-b5ea-fa900c5b9a91"
      },
      "execution_count": 7,
      "outputs": [
        {
          "output_type": "stream",
          "name": "stderr",
          "text": [
            "  0%|          | 2/421 [00:00<00:47,  8.74it/s]"
          ]
        },
        {
          "output_type": "stream",
          "name": "stdout",
          "text": [
            "**************** Processed Date: 2022-01-03 - Result: -- NA -- ****************\n"
          ]
        },
        {
          "output_type": "stream",
          "name": "stderr",
          "text": [
            "  1%|          | 5/421 [00:00<00:42,  9.73it/s]"
          ]
        },
        {
          "output_type": "stream",
          "name": "stdout",
          "text": [
            "**************** Processed Date: 2022-01-07 - Result: -- NA -- ****************\n",
            "**************** Processed Date: 2022-01-10 - Result: -- NA -- ****************\n",
            "**************** Processed Date: 2022-01-12 - Result: -- NA -- ****************\n"
          ]
        },
        {
          "output_type": "stream",
          "name": "stderr",
          "text": [
            "  1%|▏         | 6/421 [00:00<00:51,  8.12it/s]"
          ]
        },
        {
          "output_type": "stream",
          "name": "stdout",
          "text": [
            " OPEN P (379.61): SELL 378 @   2.00 -  BUY 376 @   1.20 - TOTAL:   0.80\n",
            "CLOSE P (380.01):  BUY 378 @   0.00 - SELL 376 @   0.00 - TOTAL:   0.00\n",
            "**************** Processed Date: 2022-01-14 - Result:   800.00 ****************\n",
            "**************** Processed Date: 2022-01-18 - Result: -- NA -- ****************\n",
            "**************** Processed Date: 2022-01-19 - Result: -- NA -- ****************\n"
          ]
        },
        {
          "output_type": "stream",
          "name": "stderr",
          "text": [
            "  2%|▏         | 9/421 [00:01<00:52,  7.88it/s]"
          ]
        },
        {
          "output_type": "stream",
          "name": "stdout",
          "text": [
            " OPEN C (352.99): SELL 353 @   4.40 -  BUY 355 @   3.81 - TOTAL:   0.59\n",
            "CLOSE C (351.69):  BUY 353 @   0.00 - SELL 355 @   0.00 - TOTAL:   0.00\n",
            "**************** Processed Date: 2022-01-21 - Result:   590.00 ****************\n",
            "**************** Processed Date: 2022-01-24 - Result: -- NA -- ****************\n"
          ]
        },
        {
          "output_type": "stream",
          "name": "stderr",
          "text": [
            "  3%|▎         | 11/421 [00:01<00:55,  7.43it/s]"
          ]
        },
        {
          "output_type": "stream",
          "name": "stdout",
          "text": [
            " OPEN C (345.83): SELL 346 @   6.60 -  BUY 348 @   5.25 - TOTAL:   1.35\n",
            "CLOSE C (344.57):  BUY 346 @   0.00 - SELL 348 @   0.00 - TOTAL:   0.00\n",
            "**************** Processed Date: 2022-01-26 - Result:  1350.00 ****************\n"
          ]
        },
        {
          "output_type": "stream",
          "name": "stderr",
          "text": [
            "  3%|▎         | 14/421 [00:01<00:51,  7.98it/s]"
          ]
        },
        {
          "output_type": "stream",
          "name": "stdout",
          "text": [
            " OPEN P (346.90): SELL 345 @   5.54 -  BUY 343 @   3.75 - TOTAL:   1.79\n",
            "CLOSE P (351.80):  BUY 345 @   0.00 - SELL 343 @   0.00 - TOTAL:   0.00\n",
            "**************** Processed Date: 2022-01-28 - Result:  1790.00 ****************\n",
            "**************** Processed Date: 2022-01-31 - Result: -- NA -- ****************\n",
            "**************** Processed Date: 2022-02-02 - Result: -- NA -- ****************\n"
          ]
        },
        {
          "output_type": "stream",
          "name": "stderr",
          "text": [
            "  4%|▍         | 16/421 [00:02<00:52,  7.72it/s]"
          ]
        },
        {
          "output_type": "stream",
          "name": "stdout",
          "text": [
            "**************** Processed Date: 2022-02-04 - Result: -- NA -- ****************\n",
            " OPEN C (357.31): SELL 358 @   2.38 -  BUY 360 @   1.26 - TOTAL:   1.12\n",
            "CLOSE C (355.13):  BUY 358 @   0.00 - SELL 360 @   0.00 - TOTAL:   0.00\n",
            "**************** Processed Date: 2022-02-07 - Result:  1120.00 ****************\n"
          ]
        },
        {
          "output_type": "stream",
          "name": "stderr",
          "text": [
            "  4%|▍         | 18/421 [00:02<00:46,  8.57it/s]"
          ]
        },
        {
          "output_type": "stream",
          "name": "stdout",
          "text": [
            "**************** Processed Date: 2022-02-09 - Result: -- NA -- ****************\n",
            "**************** Processed Date: 2022-02-11 - Result: -- NA -- ****************\n"
          ]
        },
        {
          "output_type": "stream",
          "name": "stderr",
          "text": [
            "  5%|▍         | 19/421 [00:02<00:51,  7.82it/s]"
          ]
        },
        {
          "output_type": "stream",
          "name": "stdout",
          "text": [
            " OPEN P (347.78): SELL 346 @   1.63 -  BUY 344 @   1.09 - TOTAL:   0.54\n",
            "CLOSE P (347.49):  BUY 346 @   0.00 - SELL 344 @   0.00 - TOTAL:   0.00\n",
            "**************** Processed Date: 2022-02-14 - Result:   540.00 ****************\n",
            " OPEN P (356.75): SELL 355 @   3.81 -  BUY 353 @   2.70 - TOTAL:   1.11\n",
            "CLOSE P (356.04):  BUY 355 @   0.00 - SELL 353 @   0.00 - TOTAL:   0.00\n"
          ]
        },
        {
          "output_type": "stream",
          "name": "stderr",
          "text": [
            "  5%|▍         | 21/421 [00:02<00:59,  6.68it/s]"
          ]
        },
        {
          "output_type": "stream",
          "name": "stdout",
          "text": [
            "**************** Processed Date: 2022-02-16 - Result:  1110.00 ****************\n",
            " OPEN C (341.34): SELL 342 @   2.78 -  BUY 344 @   1.58 - TOTAL:   1.20\n",
            "CLOSE C (341.51):  BUY 342 @   0.00 - SELL 344 @   0.00 - TOTAL:   0.00\n",
            "**************** Processed Date: 2022-02-18 - Result:  1200.00 ****************\n"
          ]
        },
        {
          "output_type": "stream",
          "name": "stderr",
          "text": [
            "  5%|▌         | 23/421 [00:03<00:57,  6.87it/s]"
          ]
        },
        {
          "output_type": "stream",
          "name": "stdout",
          "text": [
            " OPEN P (339.60): SELL 338 @   0.64 -  BUY 336 @   0.36 - TOTAL:   0.28\n",
            "CLOSE P (338.08):  BUY 338 @   0.00 - SELL 336 @   0.00 - TOTAL:   0.00\n",
            "**************** Processed Date: 2022-02-22 - Result:   280.00 ****************\n",
            "**************** Processed Date: 2022-02-23 - Result: -- NA -- ****************\n"
          ]
        },
        {
          "output_type": "stream",
          "name": "stderr",
          "text": [
            "  6%|▌         | 25/421 [00:03<00:54,  7.25it/s]"
          ]
        },
        {
          "output_type": "stream",
          "name": "stdout",
          "text": [
            "**************** Processed Date: 2022-02-25 - Result: -- NA -- ****************\n",
            " OPEN P (343.50): SELL 342 @   1.46 -  BUY 340 @   0.92 - TOTAL:   0.54\n",
            "CLOSE P (346.80):  BUY 342 @   0.00 - SELL 340 @   0.00 - TOTAL:   0.00\n",
            "**************** Processed Date: 2022-02-28 - Result:   540.00 ****************\n"
          ]
        },
        {
          "output_type": "stream",
          "name": "stderr",
          "text": [
            "  6%|▌         | 26/421 [00:03<00:51,  7.61it/s]"
          ]
        },
        {
          "output_type": "stream",
          "name": "stdout",
          "text": [
            "**************** Processed Date: 2022-03-02 - Result: -- NA -- ****************\n",
            "**************** Processed Date: 2022-03-04 - Result: -- NA -- ****************\n"
          ]
        },
        {
          "output_type": "stream",
          "name": "stderr",
          "text": [
            "  7%|▋         | 29/421 [00:03<00:56,  6.97it/s]"
          ]
        },
        {
          "output_type": "stream",
          "name": "stdout",
          "text": [
            " OPEN C (326.44): SELL 327 @   5.26 -  BUY 329 @   3.81 - TOTAL:   1.45\n",
            "CLOSE C (324.86):  BUY 327 @   0.00 - SELL 329 @   0.00 - TOTAL:   0.00\n",
            "**************** Processed Date: 2022-03-07 - Result:  1450.00 ****************\n",
            " OPEN P (336.00): SELL 335 @   3.80 -  BUY 333 @   2.60 - TOTAL:   1.20\n",
            "CLOSE P (334.99):  BUY 335 @   0.01 - SELL 333 @   0.00 - TOTAL:  -0.01\n",
            "**************** Processed Date: 2022-03-09 - Result:  1190.00 ****************\n"
          ]
        },
        {
          "output_type": "stream",
          "name": "stderr",
          "text": [
            "  7%|▋         | 31/421 [00:04<00:54,  7.21it/s]"
          ]
        },
        {
          "output_type": "stream",
          "name": "stdout",
          "text": [
            " OPEN C (325.86): SELL 326 @   4.28 -  BUY 328 @   2.89 - TOTAL:   1.39\n",
            "CLOSE C (324.40):  BUY 326 @   0.00 - SELL 328 @   0.00 - TOTAL:   0.00\n",
            "**************** Processed Date: 2022-03-11 - Result:  1390.00 ****************\n",
            "**************** Processed Date: 2022-03-14 - Result: -- NA -- ****************\n",
            "**************** Processed Date: 2022-03-16 - Result: -- NA -- ****************\n"
          ]
        },
        {
          "output_type": "stream",
          "name": "stderr",
          "text": [
            "  8%|▊         | 34/421 [00:04<00:50,  7.64it/s]"
          ]
        },
        {
          "output_type": "stream",
          "name": "stdout",
          "text": [
            "**************** Processed Date: 2022-03-18 - Result: -- NA -- ****************\n",
            " OPEN P (348.99): SELL 347 @   1.82 -  BUY 345 @   1.01 - TOTAL:   0.81\n",
            "CLOSE P (350.08):  BUY 347 @   0.00 - SELL 345 @   0.00 - TOTAL:   0.00\n",
            "**************** Processed Date: 2022-03-21 - Result:   810.00 ****************\n"
          ]
        },
        {
          "output_type": "stream",
          "name": "stderr",
          "text": [
            "  9%|▊         | 36/421 [00:04<00:53,  7.22it/s]"
          ]
        },
        {
          "output_type": "stream",
          "name": "stdout",
          "text": [
            "**************** Processed Date: 2022-03-23 - Result: -- NA -- ****************\n",
            " OPEN P (358.82): SELL 357 @   0.79 -  BUY 355 @   0.38 - TOTAL:   0.41\n",
            "CLOSE P (359.35):  BUY 357 @   0.00 - SELL 355 @   0.00 - TOTAL:   0.00\n",
            "**************** Processed Date: 2022-03-25 - Result:   410.00 ****************\n"
          ]
        },
        {
          "output_type": "stream",
          "name": "stderr",
          "text": [
            "  9%|▉         | 38/421 [00:05<00:50,  7.57it/s]"
          ]
        },
        {
          "output_type": "stream",
          "name": "stdout",
          "text": [
            "**************** Processed Date: 2022-03-28 - Result: -- NA -- ****************\n"
          ]
        },
        {
          "output_type": "stream",
          "name": "stderr",
          "text": [
            " 10%|▉         | 40/421 [00:05<00:49,  7.74it/s]"
          ]
        },
        {
          "output_type": "stream",
          "name": "stdout",
          "text": [
            "**************** Processed Date: 2022-03-31 - Result: -- NA -- ****************\n",
            " OPEN P (361.09): SELL 360 @   0.86 -  BUY 358 @   0.36 - TOTAL:   0.50\n",
            "CLOSE P (361.85):  BUY 360 @   0.00 - SELL 358 @   0.00 - TOTAL:   0.00\n",
            "**************** Processed Date: 2022-04-01 - Result:   500.00 ****************\n"
          ]
        },
        {
          "output_type": "stream",
          "name": "stderr",
          "text": [
            " 10%|▉         | 42/421 [00:05<00:44,  8.54it/s]"
          ]
        },
        {
          "output_type": "stream",
          "name": "stdout",
          "text": [
            "**************** Processed Date: 2022-04-04 - Result: -- NA -- ****************\n",
            "**************** Processed Date: 2022-04-06 - Result: -- NA -- ****************\n"
          ]
        },
        {
          "output_type": "stream",
          "name": "stderr",
          "text": [
            " 11%|█         | 45/421 [00:05<00:43,  8.61it/s]"
          ]
        },
        {
          "output_type": "stream",
          "name": "stdout",
          "text": [
            " OPEN C (349.57): SELL 350 @   2.13 -  BUY 352 @   1.13 - TOTAL:   1.00\n",
            "CLOSE C (349.15):  BUY 350 @   0.00 - SELL 352 @   0.00 - TOTAL:   0.00\n",
            "**************** Processed Date: 2022-04-08 - Result:  1000.00 ****************\n",
            "**************** Processed Date: 2022-04-11 - Result: -- NA -- ****************\n",
            "**************** Processed Date: 2022-04-13 - Result: -- NA -- ****************\n"
          ]
        },
        {
          "output_type": "stream",
          "name": "stderr",
          "text": [
            " 11%|█         | 47/421 [00:06<00:44,  8.33it/s]"
          ]
        },
        {
          "output_type": "stream",
          "name": "stdout",
          "text": [
            "**************** Processed Date: 2022-04-14 - Result: -- NA -- ****************\n",
            " OPEN P (340.32): SELL 339 @   1.04 -  BUY 337 @   0.52 - TOTAL:   0.52\n",
            "CLOSE P (338.69):  BUY 339 @   0.31 - SELL 337 @   0.00 - TOTAL:  -0.31\n",
            "**************** Processed Date: 2022-04-18 - Result:   210.00 ****************\n"
          ]
        },
        {
          "output_type": "stream",
          "name": "stderr",
          "text": [
            " 12%|█▏        | 49/421 [00:06<00:44,  8.32it/s]"
          ]
        },
        {
          "output_type": "stream",
          "name": "stdout",
          "text": [
            "**************** Processed Date: 2022-04-20 - Result: -- NA -- ****************\n",
            "**************** Processed Date: 2022-04-22 - Result: -- NA -- ****************\n"
          ]
        },
        {
          "output_type": "stream",
          "name": "stderr",
          "text": [
            " 12%|█▏        | 50/421 [00:06<00:50,  7.28it/s]"
          ]
        },
        {
          "output_type": "stream",
          "name": "stdout",
          "text": [
            "**************** Processed Date: 2022-04-25 - Result: -- NA -- ****************\n"
          ]
        },
        {
          "output_type": "stream",
          "name": "stderr",
          "text": [
            " 12%|█▏        | 51/421 [00:06<01:14,  4.97it/s]"
          ]
        },
        {
          "output_type": "stream",
          "name": "stdout",
          "text": [
            " OPEN C (319.38): SELL 320 @   0.83 -  BUY 322 @   0.48 - TOTAL:   0.35\n",
            "CLOSE C (316.76):  BUY 320 @   0.00 - SELL 322 @   0.00 - TOTAL:   0.00\n",
            "**************** Processed Date: 2022-04-27 - Result:   350.00 ****************\n"
          ]
        },
        {
          "output_type": "stream",
          "name": "stderr",
          "text": [
            " 12%|█▏        | 52/421 [00:07<01:26,  4.28it/s]"
          ]
        },
        {
          "output_type": "stream",
          "name": "stdout",
          "text": [
            " OPEN C (317.12): SELL 318 @   5.06 -  BUY 320 @   3.44 - TOTAL:   1.62\n",
            "CLOSE C (313.25):  BUY 318 @   0.00 - SELL 320 @   0.00 - TOTAL:   0.00\n",
            "**************** Processed Date: 2022-04-29 - Result:  1620.00 ****************\n"
          ]
        },
        {
          "output_type": "stream",
          "name": "stderr",
          "text": [
            " 13%|█▎        | 54/421 [00:07<01:28,  4.13it/s]"
          ]
        },
        {
          "output_type": "stream",
          "name": "stdout",
          "text": [
            " OPEN C (310.63): SELL 311 @   6.28 -  BUY 313 @   4.99 - TOTAL:   1.29\n",
            "CLOSE C (318.48):  BUY 311 @   7.48 - SELL 313 @   5.48 - TOTAL:  -2.00\n",
            "**************** Processed Date: 2022-05-02 - Result:  -710.00 ****************\n",
            "**************** Processed Date: 2022-05-04 - Result: -- NA -- ****************\n"
          ]
        },
        {
          "output_type": "stream",
          "name": "stderr",
          "text": [
            " 13%|█▎        | 55/421 [00:08<01:35,  3.85it/s]"
          ]
        },
        {
          "output_type": "stream",
          "name": "stdout",
          "text": [
            " OPEN C (308.36): SELL 309 @   3.26 -  BUY 311 @   2.26 - TOTAL:   1.00\n",
            "CLOSE C (309.25):  BUY 309 @   0.25 - SELL 311 @   0.00 - TOTAL:  -0.25\n",
            "**************** Processed Date: 2022-05-06 - Result:   750.00 ****************\n"
          ]
        },
        {
          "output_type": "stream",
          "name": "stderr",
          "text": [
            " 14%|█▎        | 57/421 [00:08<01:28,  4.13it/s]"
          ]
        },
        {
          "output_type": "stream",
          "name": "stdout",
          "text": [
            " OPEN C (298.38): SELL 299 @   3.73 -  BUY 301 @   2.62 - TOTAL:   1.11\n",
            "CLOSE C (297.15):  BUY 299 @   0.00 - SELL 301 @   0.00 - TOTAL:   0.00\n",
            "**************** Processed Date: 2022-05-09 - Result:  1110.00 ****************\n",
            "**************** Processed Date: 2022-05-11 - Result: -- NA -- ****************\n"
          ]
        },
        {
          "output_type": "stream",
          "name": "stderr",
          "text": [
            " 14%|█▍        | 58/421 [00:08<01:36,  3.76it/s]"
          ]
        },
        {
          "output_type": "stream",
          "name": "stdout",
          "text": [
            " OPEN C (299.02): SELL 300 @   2.09 -  BUY 302 @   1.12 - TOTAL:   0.97\n",
            "CLOSE C (301.94):  BUY 300 @   1.94 - SELL 302 @   0.00 - TOTAL:  -1.94\n",
            "**************** Processed Date: 2022-05-13 - Result:  -970.00 ****************\n"
          ]
        },
        {
          "output_type": "stream",
          "name": "stderr",
          "text": [
            " 14%|█▍        | 60/421 [00:09<01:28,  4.08it/s]"
          ]
        },
        {
          "output_type": "stream",
          "name": "stdout",
          "text": [
            " OPEN P (301.93): SELL 300 @   1.73 -  BUY 298 @   1.05 - TOTAL:   0.68\n",
            "CLOSE P (298.44):  BUY 300 @   1.56 - SELL 298 @   0.00 - TOTAL:  -1.56\n",
            "**************** Processed Date: 2022-05-16 - Result:  -880.00 ****************\n",
            "**************** Processed Date: 2022-05-18 - Result: -- NA -- ****************\n"
          ]
        },
        {
          "output_type": "stream",
          "name": "stderr",
          "text": [
            " 14%|█▍        | 61/421 [00:09<01:36,  3.74it/s]"
          ]
        },
        {
          "output_type": "stream",
          "name": "stdout",
          "text": [
            " OPEN P (281.69): SELL 280 @   0.05 -  BUY 278 @   0.05 - TOTAL:   0.00\n",
            "CLOSE P (288.68):  BUY 280 @   0.00 - SELL 278 @   0.00 - TOTAL:   0.00\n",
            "**************** Processed Date: 2022-05-20 - Result:     0.00 ****************\n"
          ]
        },
        {
          "output_type": "stream",
          "name": "stderr",
          "text": [
            " 15%|█▍        | 62/421 [00:09<01:41,  3.53it/s]"
          ]
        },
        {
          "output_type": "stream",
          "name": "stdout",
          "text": [
            " OPEN P (292.97): SELL 291 @   2.71 -  BUY 289 @   1.61 - TOTAL:   1.10\n",
            "CLOSE P (293.48):  BUY 291 @   0.00 - SELL 289 @   0.00 - TOTAL:   0.00\n",
            "**************** Processed Date: 2022-05-23 - Result:  1100.00 ****************\n"
          ]
        },
        {
          "output_type": "stream",
          "name": "stderr",
          "text": [
            " 15%|█▌        | 64/421 [00:10<01:30,  3.95it/s]"
          ]
        },
        {
          "output_type": "stream",
          "name": "stdout",
          "text": [
            " OPEN P (291.23): SELL 290 @   2.38 -  BUY 288 @   1.50 - TOTAL:   0.88\n",
            "CLOSE P (291.26):  BUY 290 @   0.00 - SELL 288 @   0.00 - TOTAL:   0.00\n",
            "**************** Processed Date: 2022-05-25 - Result:   880.00 ****************\n",
            "**************** Processed Date: 2022-05-27 - Result: -- NA -- ****************\n"
          ]
        },
        {
          "output_type": "stream",
          "name": "stderr",
          "text": [
            " 15%|█▌        | 65/421 [00:10<01:38,  3.62it/s]"
          ]
        },
        {
          "output_type": "stream",
          "name": "stdout",
          "text": [
            " OPEN P (310.65): SELL 309 @   3.43 -  BUY 307 @   1.97 - TOTAL:   1.46\n",
            "CLOSE P (308.28):  BUY 309 @   0.72 - SELL 307 @   0.00 - TOTAL:  -0.72\n",
            "**************** Processed Date: 2022-05-31 - Result:   740.00 ****************\n"
          ]
        },
        {
          "output_type": "stream",
          "name": "stderr",
          "text": [
            " 16%|█▌        | 67/421 [00:11<01:32,  3.83it/s]"
          ]
        },
        {
          "output_type": "stream",
          "name": "stdout",
          "text": [
            " OPEN P (308.11): SELL 307 @   1.20 -  BUY 305 @   0.57 - TOTAL:   0.63\n",
            "CLOSE P (306.00):  BUY 307 @   1.00 - SELL 305 @   0.00 - TOTAL:  -1.00\n",
            "**************** Processed Date: 2022-06-01 - Result:  -370.00 ****************\n",
            "**************** Processed Date: 2022-06-03 - Result: -- NA -- ****************\n"
          ]
        },
        {
          "output_type": "stream",
          "name": "stderr",
          "text": [
            " 16%|█▋        | 69/421 [00:11<01:14,  4.72it/s]"
          ]
        },
        {
          "output_type": "stream",
          "name": "stdout",
          "text": [
            "**************** Processed Date: 2022-06-06 - Result: -- NA -- ****************\n",
            "**************** Processed Date: 2022-06-08 - Result: -- NA -- ****************\n"
          ]
        },
        {
          "output_type": "stream",
          "name": "stderr",
          "text": [
            " 17%|█▋        | 71/421 [00:11<01:05,  5.37it/s]"
          ]
        },
        {
          "output_type": "stream",
          "name": "stdout",
          "text": [
            "**************** Processed Date: 2022-06-10 - Result: -- NA -- ****************\n",
            "**************** Processed Date: 2022-06-13 - Result: -- NA -- ****************\n"
          ]
        },
        {
          "output_type": "stream",
          "name": "stderr",
          "text": [
            " 18%|█▊        | 74/421 [00:12<00:45,  7.65it/s]"
          ]
        },
        {
          "output_type": "stream",
          "name": "stdout",
          "text": [
            "**************** Processed Date: 2022-06-15 - Result: -- NA -- ****************\n",
            "**************** Processed Date: 2022-06-17 - Result: -- NA -- ****************\n",
            "**************** Processed Date: 2022-06-21 - Result: -- NA -- ****************\n"
          ]
        },
        {
          "output_type": "stream",
          "name": "stderr",
          "text": [
            " 18%|█▊        | 77/421 [00:12<00:37,  9.18it/s]"
          ]
        },
        {
          "output_type": "stream",
          "name": "stdout",
          "text": [
            "**************** Processed Date: 2022-06-22 - Result: -- NA -- ****************\n",
            "**************** Processed Date: 2022-06-24 - Result: -- NA -- ****************\n",
            "**************** Processed Date: 2022-06-27 - Result: -- NA -- ****************\n"
          ]
        },
        {
          "output_type": "stream",
          "name": "stderr",
          "text": [
            " 19%|█▊        | 78/421 [00:12<00:42,  8.11it/s]"
          ]
        },
        {
          "output_type": "stream",
          "name": "stdout",
          "text": [
            " OPEN P (283.91): SELL 282 @   0.84 -  BUY 280 @   0.36 - TOTAL:   0.48\n",
            "CLOSE P (283.80):  BUY 282 @   0.00 - SELL 280 @   0.00 - TOTAL:   0.00\n",
            "**************** Processed Date: 2022-06-29 - Result:   480.00 ****************\n",
            "**************** Processed Date: 2022-06-30 - Result: -- NA -- ****************\n"
          ]
        },
        {
          "output_type": "stream",
          "name": "stderr",
          "text": [
            " 19%|█▉        | 80/421 [00:13<00:43,  7.80it/s]"
          ]
        },
        {
          "output_type": "stream",
          "name": "stdout",
          "text": [
            " OPEN P (280.61): SELL 279 @   2.17 -  BUY 277 @   1.19 - TOTAL:   0.98\n",
            "CLOSE P (282.13):  BUY 279 @   0.00 - SELL 277 @   0.00 - TOTAL:   0.00\n",
            "**************** Processed Date: 2022-07-01 - Result:   980.00 ****************\n",
            " OPEN P (284.92): SELL 283 @   4.05 -  BUY 281 @   2.42 - TOTAL:   1.63\n"
          ]
        },
        {
          "output_type": "stream",
          "name": "stderr",
          "text": [
            " 19%|█▉        | 82/421 [00:13<00:45,  7.42it/s]"
          ]
        },
        {
          "output_type": "stream",
          "name": "stdout",
          "text": [
            "CLOSE P (286.96):  BUY 283 @   0.00 - SELL 281 @   0.00 - TOTAL:   0.00\n",
            "**************** Processed Date: 2022-07-05 - Result:  1630.00 ****************\n",
            "**************** Processed Date: 2022-07-06 - Result: -- NA -- ****************\n"
          ]
        },
        {
          "output_type": "stream",
          "name": "stderr",
          "text": []
        },
        {
          "output_type": "stream",
          "name": "stdout",
          "text": [
            " OPEN P (295.73): SELL 294 @   0.92 -  BUY 292 @   0.40 - TOTAL:   0.52\n",
            "CLOSE P (295.35):  BUY 294 @   0.00 - SELL 292 @   0.00 - TOTAL:   0.00\n",
            "**************** Processed Date: 2022-07-08 - Result:   520.00 ****************\n",
            "**************** Processed Date: 2022-07-11 - Result: -- NA -- ****************\n"
          ]
        },
        {
          "output_type": "stream",
          "name": "stderr",
          "text": [
            " 20%|██        | 85/421 [00:13<00:41,  8.09it/s]"
          ]
        },
        {
          "output_type": "stream",
          "name": "stdout",
          "text": [
            "**************** Processed Date: 2022-07-13 - Result: -- NA -- ****************\n",
            "**************** Processed Date: 2022-07-15 - Result: -- NA -- ****************\n"
          ]
        },
        {
          "output_type": "stream",
          "name": "stderr",
          "text": [
            " 21%|██        | 87/421 [00:13<00:42,  7.87it/s]"
          ]
        },
        {
          "output_type": "stream",
          "name": "stdout",
          "text": [
            " OPEN C (291.16): SELL 292 @   3.25 -  BUY 294 @   1.77 - TOTAL:   1.48\n",
            "CLOSE C (289.40):  BUY 292 @   0.00 - SELL 294 @   0.00 - TOTAL:   0.00\n",
            "**************** Processed Date: 2022-07-18 - Result:  1480.00 ****************\n",
            "**************** Processed Date: 2022-07-20 - Result: -- NA -- ****************\n"
          ]
        },
        {
          "output_type": "stream",
          "name": "stderr",
          "text": [
            " 21%|██▏       | 90/421 [00:14<00:42,  7.78it/s]"
          ]
        },
        {
          "output_type": "stream",
          "name": "stdout",
          "text": [
            "**************** Processed Date: 2022-07-22 - Result: -- NA -- ****************\n",
            " OPEN C (299.11): SELL 300 @   1.16 -  BUY 302 @   0.46 - TOTAL:   0.70\n",
            "CLOSE C (300.27):  BUY 300 @   0.27 - SELL 302 @   0.00 - TOTAL:  -0.27\n",
            "**************** Processed Date: 2022-07-25 - Result:   430.00 ****************\n"
          ]
        },
        {
          "output_type": "stream",
          "name": "stderr",
          "text": [
            " 22%|██▏       | 92/421 [00:14<00:43,  7.48it/s]"
          ]
        },
        {
          "output_type": "stream",
          "name": "stdout",
          "text": [
            "**************** Processed Date: 2022-07-27 - Result: -- NA -- ****************\n",
            " OPEN P (314.90): SELL 313 @   1.02 -  BUY 311 @   0.46 - TOTAL:   0.56\n",
            "CLOSE P (315.46):  BUY 313 @   0.00 - SELL 311 @   0.00 - TOTAL:   0.00\n",
            "**************** Processed Date: 2022-07-29 - Result:   560.00 ****************\n"
          ]
        },
        {
          "output_type": "stream",
          "name": "stderr",
          "text": [
            " 22%|██▏       | 93/421 [00:14<00:41,  7.98it/s]"
          ]
        },
        {
          "output_type": "stream",
          "name": "stdout",
          "text": [
            "**************** Processed Date: 2022-08-01 - Result: -- NA -- ****************\n",
            "**************** Processed Date: 2022-08-03 - Result: -- NA -- ****************\n"
          ]
        },
        {
          "output_type": "stream",
          "name": "stderr",
          "text": [
            " 23%|██▎       | 95/421 [00:15<00:41,  7.85it/s]"
          ]
        },
        {
          "output_type": "stream",
          "name": "stdout",
          "text": [
            " OPEN C (319.94): SELL 320 @   3.21 -  BUY 322 @   1.72 - TOTAL:   1.49\n",
            "CLOSE C (321.75):  BUY 320 @   1.75 - SELL 322 @   0.00 - TOTAL:  -1.75\n",
            "**************** Processed Date: 2022-08-05 - Result:  -260.00 ****************\n",
            "**************** Processed Date: 2022-08-08 - Result: -- NA -- ****************\n"
          ]
        },
        {
          "output_type": "stream",
          "name": "stderr",
          "text": [
            " 24%|██▎       | 99/421 [00:15<00:34,  9.29it/s]"
          ]
        },
        {
          "output_type": "stream",
          "name": "stdout",
          "text": [
            "**************** Processed Date: 2022-08-10 - Result: -- NA -- ****************\n",
            "**************** Processed Date: 2022-08-12 - Result: -- NA -- ****************\n",
            "**************** Processed Date: 2022-08-15 - Result: -- NA -- ****************\n"
          ]
        },
        {
          "output_type": "stream",
          "name": "stderr",
          "text": [
            "                                                 "
          ]
        },
        {
          "output_type": "stream",
          "name": "stdout",
          "text": [
            " OPEN P (330.28): SELL 329 @   1.58 -  BUY 327 @   0.68 - TOTAL:   0.90\n",
            "CLOSE P (328.49):  BUY 329 @   0.51 - SELL 327 @   0.00 - TOTAL:  -0.51\n",
            "**************** Processed Date: 2022-08-17 - Result:   390.00 ****************\n",
            "**************** Processed Date: 2022-08-19 - Result: -- NA -- ****************\n"
          ]
        },
        {
          "output_type": "stream",
          "name": "stderr",
          "text": [
            " 24%|██▍       | 103/421 [00:15<00:34,  9.35it/s]"
          ]
        },
        {
          "output_type": "stream",
          "name": "stdout",
          "text": [
            "**************** Processed Date: 2022-08-22 - Result: -- NA -- ****************\n",
            "**************** Processed Date: 2022-08-24 - Result: -- NA -- ****************\n"
          ]
        },
        {
          "output_type": "stream",
          "name": "stderr",
          "text": [
            " 25%|██▍       | 104/421 [00:16<00:38,  8.20it/s]"
          ]
        },
        {
          "output_type": "stream",
          "name": "stdout",
          "text": [
            " OPEN C (309.87): SELL 310 @   5.62 -  BUY 312 @   4.46 - TOTAL:   1.16\n",
            "CLOSE C (307.44):  BUY 310 @   0.00 - SELL 312 @   0.00 - TOTAL:   0.00\n",
            "**************** Processed Date: 2022-08-26 - Result:  1160.00 ****************\n",
            "**************** Processed Date: 2022-08-29 - Result: -- NA -- ****************\n"
          ]
        },
        {
          "output_type": "stream",
          "name": "stderr",
          "text": [
            " 25%|██▌       | 106/421 [00:16<00:35,  8.80it/s]"
          ]
        },
        {
          "output_type": "stream",
          "name": "stdout",
          "text": [
            "**************** Processed Date: 2022-08-31 - Result: -- NA -- ****************\n",
            "**************** Processed Date: 2022-09-02 - Result: -- NA -- ****************\n"
          ]
        },
        {
          "output_type": "stream",
          "name": "stderr",
          "text": [
            " 26%|██▌       | 109/421 [00:16<00:41,  7.57it/s]"
          ]
        },
        {
          "output_type": "stream",
          "name": "stdout",
          "text": [
            " OPEN P (293.55): SELL 292 @   1.61 -  BUY 290 @   0.86 - TOTAL:   0.75\n",
            "CLOSE P (293.05):  BUY 292 @   0.00 - SELL 290 @   0.00 - TOTAL:   0.00\n",
            "**************** Processed Date: 2022-09-06 - Result:   750.00 ****************\n",
            " OPEN P (298.63): SELL 297 @   3.01 -  BUY 295 @   1.71 - TOTAL:   1.30\n",
            "CLOSE P (298.97):  BUY 297 @   0.00 - SELL 295 @   0.00 - TOTAL:   0.00\n",
            "**************** Processed Date: 2022-09-07 - Result:  1300.00 ****************\n"
          ]
        },
        {
          "output_type": "stream",
          "name": "stderr",
          "text": [
            " 26%|██▋       | 111/421 [00:16<00:36,  8.55it/s]"
          ]
        },
        {
          "output_type": "stream",
          "name": "stdout",
          "text": [
            "**************** Processed Date: 2022-09-09 - Result: -- NA -- ****************\n",
            "**************** Processed Date: 2022-09-12 - Result: -- NA -- ****************\n"
          ]
        },
        {
          "output_type": "stream",
          "name": "stderr",
          "text": [
            " 27%|██▋       | 113/421 [00:17<00:43,  7.15it/s]"
          ]
        },
        {
          "output_type": "stream",
          "name": "stdout",
          "text": [
            " OPEN C (294.82): SELL 295 @   1.04 -  BUY 297 @   0.43 - TOTAL:   0.61\n",
            "CLOSE C (296.03):  BUY 295 @   1.03 - SELL 297 @   0.00 - TOTAL:  -1.03\n",
            "**************** Processed Date: 2022-09-14 - Result:  -420.00 ****************\n",
            " OPEN P (287.57): SELL 286 @   1.07 -  BUY 284 @   0.57 - TOTAL:   0.50\n",
            "CLOSE P (289.32):  BUY 286 @   0.00 - SELL 284 @   0.00 - TOTAL:   0.00\n",
            "**************** Processed Date: 2022-09-16 - Result:   500.00 ****************\n"
          ]
        },
        {
          "output_type": "stream",
          "name": "stderr",
          "text": [
            " 27%|██▋       | 115/421 [00:17<00:38,  7.96it/s]"
          ]
        },
        {
          "output_type": "stream",
          "name": "stdout",
          "text": [
            "**************** Processed Date: 2022-09-19 - Result: -- NA -- ****************\n",
            "**************** Processed Date: 2022-09-21 - Result: -- NA -- ****************\n"
          ]
        },
        {
          "output_type": "stream",
          "name": "stderr",
          "text": [
            " 28%|██▊       | 118/421 [00:17<00:35,  8.48it/s]"
          ]
        },
        {
          "output_type": "stream",
          "name": "stdout",
          "text": [
            " OPEN C (273.09): SELL 274 @   2.68 -  BUY 276 @   1.54 - TOTAL:   1.14\n",
            "CLOSE C (275.51):  BUY 274 @   1.51 - SELL 276 @   0.00 - TOTAL:  -1.51\n",
            "**************** Processed Date: 2022-09-23 - Result:  -370.00 ****************\n",
            "**************** Processed Date: 2022-09-26 - Result: -- NA -- ****************\n",
            "**************** Processed Date: 2022-09-28 - Result: -- NA -- ****************\n"
          ]
        },
        {
          "output_type": "stream",
          "name": "stderr",
          "text": [
            " 28%|██▊       | 119/421 [00:18<00:40,  7.53it/s]"
          ]
        },
        {
          "output_type": "stream",
          "name": "stdout",
          "text": [
            " OPEN C (270.93): SELL 271 @   3.00 -  BUY 273 @   1.73 - TOTAL:   1.27\n",
            "CLOSE C (267.26):  BUY 271 @   0.00 - SELL 273 @   0.00 - TOTAL:   0.00\n",
            "**************** Processed Date: 2022-09-30 - Result:  1270.00 ****************\n",
            " OPEN P (274.40): SELL 273 @   2.03 -  BUY 271 @   0.99 - TOTAL:   1.04\n",
            "CLOSE P (273.53):  BUY 273 @   0.00 - SELL 271 @   0.00 - TOTAL:   0.00\n"
          ]
        },
        {
          "output_type": "stream",
          "name": "stderr",
          "text": []
        },
        {
          "output_type": "stream",
          "name": "stdout",
          "text": [
            "**************** Processed Date: 2022-10-03 - Result:  1040.00 ****************\n",
            "**************** Processed Date: 2022-10-05 - Result: -- NA -- ****************\n"
          ]
        },
        {
          "output_type": "stream",
          "name": "stderr",
          "text": [
            " 29%|██▉       | 123/421 [00:18<00:41,  7.17it/s]"
          ]
        },
        {
          "output_type": "stream",
          "name": "stdout",
          "text": [
            "**************** Processed Date: 2022-10-07 - Result: -- NA -- ****************\n",
            " OPEN P (266.55): SELL 265 @   0.38 -  BUY 263 @   0.13 - TOTAL:   0.25\n",
            "CLOSE P (266.41):  BUY 265 @   0.00 - SELL 263 @   0.00 - TOTAL:   0.00\n",
            "**************** Processed Date: 2022-10-10 - Result:   250.00 ****************\n"
          ]
        },
        {
          "output_type": "stream",
          "name": "stderr",
          "text": [
            " 30%|██▉       | 125/421 [00:18<00:40,  7.27it/s]"
          ]
        },
        {
          "output_type": "stream",
          "name": "stdout",
          "text": [
            " OPEN P (264.38): SELL 263 @   1.40 -  BUY 261 @   0.65 - TOTAL:   0.75\n",
            "CLOSE P (262.66):  BUY 263 @   0.34 - SELL 261 @   0.00 - TOTAL:  -0.34\n",
            "**************** Processed Date: 2022-10-12 - Result:   410.00 ****************\n",
            "**************** Processed Date: 2022-10-14 - Result: -- NA -- ****************\n"
          ]
        },
        {
          "output_type": "stream",
          "name": "stderr",
          "text": [
            " 30%|███       | 127/421 [00:18<00:40,  7.26it/s]"
          ]
        },
        {
          "output_type": "stream",
          "name": "stdout",
          "text": [
            "**************** Processed Date: 2022-10-17 - Result: -- NA -- ****************\n",
            " OPEN P (270.28): SELL 269 @   0.29 -  BUY 267 @   0.13 - TOTAL:   0.16\n",
            "CLOSE P (270.49):  BUY 269 @   0.00 - SELL 267 @   0.00 - TOTAL:   0.00\n",
            "**************** Processed Date: 2022-10-19 - Result:   160.00 ****************\n"
          ]
        },
        {
          "output_type": "stream",
          "name": "stderr",
          "text": [
            " 31%|███       | 129/421 [00:19<00:40,  7.15it/s]"
          ]
        },
        {
          "output_type": "stream",
          "name": "stdout",
          "text": [
            " OPEN P (274.26): SELL 273 @   3.43 -  BUY 271 @   2.10 - TOTAL:   1.33\n",
            "CLOSE P (275.43):  BUY 273 @   0.00 - SELL 271 @   0.00 - TOTAL:   0.00\n",
            "**************** Processed Date: 2022-10-21 - Result:  1330.00 ****************\n",
            "**************** Processed Date: 2022-10-24 - Result: -- NA -- ****************\n"
          ]
        },
        {
          "output_type": "stream",
          "name": "stderr",
          "text": [
            " 31%|███       | 131/421 [00:19<00:34,  8.38it/s]"
          ]
        },
        {
          "output_type": "stream",
          "name": "stdout",
          "text": [
            "**************** Processed Date: 2022-10-26 - Result: -- NA -- ****************\n",
            "**************** Processed Date: 2022-10-28 - Result: -- NA -- ****************\n",
            "**************** Processed Date: 2022-10-31 - Result: -- NA -- ****************\n"
          ]
        },
        {
          "output_type": "stream",
          "name": "stderr",
          "text": [
            " 32%|███▏      | 134/421 [00:19<00:39,  7.33it/s]"
          ]
        },
        {
          "output_type": "stream",
          "name": "stdout",
          "text": [
            " OPEN P (277.27): SELL 276 @   4.01 -  BUY 274 @   2.87 - TOTAL:   1.14\n",
            "CLOSE P (265.68):  BUY 276 @  10.32 - SELL 274 @   8.32 - TOTAL:  -2.00\n",
            "**************** Processed Date: 2022-11-02 - Result:  -860.00 ****************\n",
            " OPEN P (260.80): SELL 259 @   0.07 -  BUY 257 @   0.04 - TOTAL:   0.03\n",
            "CLOSE P (264.68):  BUY 259 @   0.00 - SELL 257 @   0.00 - TOTAL:   0.00\n",
            "**************** Processed Date: 2022-11-04 - Result:    30.00 ****************\n"
          ]
        },
        {
          "output_type": "stream",
          "name": "stderr",
          "text": [
            " 33%|███▎      | 137/421 [00:20<00:32,  8.82it/s]"
          ]
        },
        {
          "output_type": "stream",
          "name": "stdout",
          "text": [
            "**************** Processed Date: 2022-11-07 - Result: -- NA -- ****************\n",
            "**************** Processed Date: 2022-11-09 - Result: -- NA -- ****************\n",
            "**************** Processed Date: 2022-11-11 - Result: -- NA -- ****************\n"
          ]
        },
        {
          "output_type": "stream",
          "name": "stderr",
          "text": [
            "                                                 "
          ]
        },
        {
          "output_type": "stream",
          "name": "stdout",
          "text": [
            " OPEN C (287.26): SELL 288 @   0.52 -  BUY 290 @   0.14 - TOTAL:   0.38\n",
            "CLOSE C (285.44):  BUY 288 @   0.00 - SELL 290 @   0.00 - TOTAL:   0.00\n",
            "**************** Processed Date: 2022-11-14 - Result:   380.00 ****************\n",
            "**************** Processed Date: 2022-11-15 - Result: -- NA -- ****************\n"
          ]
        },
        {
          "output_type": "stream",
          "name": "stderr",
          "text": [
            " 33%|███▎      | 141/421 [00:20<00:36,  7.78it/s]"
          ]
        },
        {
          "output_type": "stream",
          "name": "stdout",
          "text": [
            "**************** Processed Date: 2022-11-16 - Result: -- NA -- ****************\n",
            " OPEN C (283.17): SELL 284 @   1.07 -  BUY 286 @   0.41 - TOTAL:   0.66\n",
            "CLOSE C (284.81):  BUY 284 @   0.81 - SELL 286 @   0.00 - TOTAL:  -0.81\n",
            "**************** Processed Date: 2022-11-17 - Result:  -150.00 ****************\n"
          ]
        },
        {
          "output_type": "stream",
          "name": "stderr",
          "text": [
            " 34%|███▍      | 143/421 [00:21<00:36,  7.56it/s]"
          ]
        },
        {
          "output_type": "stream",
          "name": "stdout",
          "text": [
            " OPEN P (284.62): SELL 283 @   0.61 -  BUY 281 @   0.24 - TOTAL:   0.37\n",
            "CLOSE P (284.82):  BUY 283 @   0.00 - SELL 281 @   0.00 - TOTAL:   0.00\n",
            "**************** Processed Date: 2022-11-18 - Result:   370.00 ****************\n",
            "**************** Processed Date: 2022-11-21 - Result: -- NA -- ****************\n"
          ]
        },
        {
          "output_type": "stream",
          "name": "stderr",
          "text": [
            " 34%|███▍      | 145/421 [00:21<00:37,  7.35it/s]"
          ]
        },
        {
          "output_type": "stream",
          "name": "stdout",
          "text": [
            " OPEN P (285.37): SELL 284 @   1.68 -  BUY 282 @   0.79 - TOTAL:   0.89\n",
            "CLOSE P (285.95):  BUY 284 @   0.00 - SELL 282 @   0.00 - TOTAL:   0.00\n",
            "**************** Processed Date: 2022-11-22 - Result:   890.00 ****************\n",
            "**************** Processed Date: 2022-11-23 - Result: -- NA -- ****************\n"
          ]
        },
        {
          "output_type": "stream",
          "name": "stderr",
          "text": [
            " 35%|███▍      | 147/421 [00:21<00:31,  8.60it/s]"
          ]
        },
        {
          "output_type": "stream",
          "name": "stdout",
          "text": [
            "**************** Processed Date: 2022-11-28 - Result: -- NA -- ****************\n",
            "**************** Processed Date: 2022-11-29 - Result: -- NA -- ****************\n",
            "**************** Processed Date: 2022-11-30 - Result: -- NA -- ****************\n"
          ]
        },
        {
          "output_type": "stream",
          "name": "stderr",
          "text": [
            " 36%|███▌      | 150/421 [00:21<00:32,  8.30it/s]"
          ]
        },
        {
          "output_type": "stream",
          "name": "stdout",
          "text": [
            "**************** Processed Date: 2022-12-01 - Result: -- NA -- ****************\n",
            " OPEN P (292.61): SELL 291 @   1.93 -  BUY 289 @   0.91 - TOTAL:   1.02\n",
            "CLOSE P (292.55):  BUY 291 @   0.00 - SELL 289 @   0.00 - TOTAL:   0.00\n",
            "**************** Processed Date: 2022-12-02 - Result:  1020.00 ****************\n"
          ]
        },
        {
          "output_type": "stream",
          "name": "stderr",
          "text": [
            " 36%|███▌      | 152/421 [00:22<00:35,  7.68it/s]"
          ]
        },
        {
          "output_type": "stream",
          "name": "stdout",
          "text": [
            "**************** Processed Date: 2022-12-05 - Result: -- NA -- ****************\n",
            "**************** Processed Date: 2022-12-06 - Result: -- NA -- ****************\n"
          ]
        },
        {
          "output_type": "stream",
          "name": "stderr",
          "text": [
            " 36%|███▋      | 153/421 [00:22<00:37,  7.06it/s]"
          ]
        },
        {
          "output_type": "stream",
          "name": "stdout",
          "text": [
            "**************** Processed Date: 2022-12-07 - Result: -- NA -- ****************\n"
          ]
        },
        {
          "output_type": "stream",
          "name": "stderr",
          "text": [
            " 37%|███▋      | 155/421 [00:22<00:48,  5.53it/s]"
          ]
        },
        {
          "output_type": "stream",
          "name": "stdout",
          "text": [
            " OPEN P (284.40): SELL 283 @   0.81 -  BUY 281 @   0.31 - TOTAL:   0.50\n",
            "CLOSE P (283.85):  BUY 283 @   0.00 - SELL 281 @   0.00 - TOTAL:   0.00\n",
            "**************** Processed Date: 2022-12-08 - Result:   500.00 ****************\n",
            "**************** Processed Date: 2022-12-09 - Result: -- NA -- ****************\n"
          ]
        },
        {
          "output_type": "stream",
          "name": "stderr",
          "text": [
            " 37%|███▋      | 157/421 [00:23<00:52,  5.03it/s]"
          ]
        },
        {
          "output_type": "stream",
          "name": "stdout",
          "text": [
            " OPEN P (284.75): SELL 283 @   1.61 -  BUY 281 @   0.63 - TOTAL:   0.98\n",
            "CLOSE P (285.58):  BUY 283 @   0.00 - SELL 281 @   0.00 - TOTAL:   0.00\n",
            "**************** Processed Date: 2022-12-12 - Result:   980.00 ****************\n",
            "**************** Processed Date: 2022-12-13 - Result: -- NA -- ****************\n"
          ]
        },
        {
          "output_type": "stream",
          "name": "stderr",
          "text": [
            " 38%|███▊      | 158/421 [00:23<00:50,  5.24it/s]"
          ]
        },
        {
          "output_type": "stream",
          "name": "stdout",
          "text": [
            "**************** Processed Date: 2022-12-14 - Result: -- NA -- ****************\n"
          ]
        },
        {
          "output_type": "stream",
          "name": "stderr",
          "text": [
            " 38%|███▊      | 159/421 [00:23<00:59,  4.42it/s]"
          ]
        },
        {
          "output_type": "stream",
          "name": "stdout",
          "text": [
            " OPEN P (277.59): SELL 276 @   0.49 -  BUY 274 @   0.17 - TOTAL:   0.32\n",
            "CLOSE P (276.89):  BUY 276 @   0.00 - SELL 274 @   0.00 - TOTAL:   0.00\n",
            "**************** Processed Date: 2022-12-15 - Result:   320.00 ****************\n"
          ]
        },
        {
          "output_type": "stream",
          "name": "stderr",
          "text": [
            " 38%|███▊      | 161/421 [00:24<00:57,  4.53it/s]"
          ]
        },
        {
          "output_type": "stream",
          "name": "stdout",
          "text": [
            " OPEN P (275.36): SELL 274 @   1.26 -  BUY 272 @   0.59 - TOTAL:   0.67\n",
            "CLOSE P (274.25):  BUY 274 @   0.00 - SELL 272 @   0.00 - TOTAL:   0.00\n",
            "**************** Processed Date: 2022-12-16 - Result:   670.00 ****************\n",
            "**************** Processed Date: 2022-12-19 - Result: -- NA -- ****************\n"
          ]
        },
        {
          "output_type": "stream",
          "name": "stderr",
          "text": [
            " 39%|███▊      | 163/421 [00:24<00:49,  5.24it/s]"
          ]
        },
        {
          "output_type": "stream",
          "name": "stdout",
          "text": [
            "**************** Processed Date: 2022-12-20 - Result: -- NA -- ****************\n",
            "**************** Processed Date: 2022-12-21 - Result: -- NA -- ****************\n"
          ]
        },
        {
          "output_type": "stream",
          "name": "stderr",
          "text": [
            " 39%|███▉      | 165/421 [00:24<00:52,  4.85it/s]"
          ]
        },
        {
          "output_type": "stream",
          "name": "stdout",
          "text": [
            " OPEN P (266.61): SELL 265 @   0.77 -  BUY 263 @   0.23 - TOTAL:   0.54\n",
            "CLOSE P (266.76):  BUY 265 @   0.00 - SELL 263 @   0.00 - TOTAL:   0.00\n",
            "**************** Processed Date: 2022-12-22 - Result:   540.00 ****************\n",
            "**************** Processed Date: 2022-12-23 - Result: -- NA -- ****************\n"
          ]
        },
        {
          "output_type": "stream",
          "name": "stderr",
          "text": [
            " 40%|███▉      | 167/421 [00:25<00:46,  5.41it/s]"
          ]
        },
        {
          "output_type": "stream",
          "name": "stdout",
          "text": [
            "**************** Processed Date: 2022-12-27 - Result: -- NA -- ****************\n",
            "**************** Processed Date: 2022-12-28 - Result: -- NA -- ****************\n"
          ]
        },
        {
          "output_type": "stream",
          "name": "stderr",
          "text": [
            " 40%|████      | 169/421 [00:25<00:43,  5.80it/s]"
          ]
        },
        {
          "output_type": "stream",
          "name": "stdout",
          "text": [
            "**************** Processed Date: 2022-12-29 - Result: -- NA -- ****************\n",
            "**************** Processed Date: 2022-12-30 - Result: -- NA -- ****************\n"
          ]
        },
        {
          "output_type": "stream",
          "name": "stderr",
          "text": [
            " 41%|████      | 171/421 [00:26<00:48,  5.11it/s]"
          ]
        },
        {
          "output_type": "stream",
          "name": "stdout",
          "text": [
            " OPEN P (264.62): SELL 263 @   0.90 -  BUY 261 @   0.33 - TOTAL:   0.57\n",
            "CLOSE P (264.48):  BUY 263 @   0.00 - SELL 261 @   0.00 - TOTAL:   0.00\n",
            "**************** Processed Date: 2023-01-03 - Result:   570.00 ****************\n",
            "**************** Processed Date: 2023-01-04 - Result: -- NA -- ****************\n"
          ]
        },
        {
          "output_type": "stream",
          "name": "stderr",
          "text": [
            " 41%|████      | 173/421 [00:26<00:39,  6.26it/s]"
          ]
        },
        {
          "output_type": "stream",
          "name": "stdout",
          "text": [
            "**************** Processed Date: 2023-01-05 - Result: -- NA -- ****************\n",
            "**************** Processed Date: 2023-01-06 - Result: -- NA -- ****************\n"
          ]
        },
        {
          "output_type": "stream",
          "name": "stderr",
          "text": [
            " 42%|████▏     | 175/421 [00:26<00:36,  6.68it/s]"
          ]
        },
        {
          "output_type": "stream",
          "name": "stdout",
          "text": [
            " OPEN C (270.99): SELL 271 @   2.75 -  BUY 273 @   1.25 - TOTAL:   1.50\n",
            "CLOSE C (270.54):  BUY 271 @   0.00 - SELL 273 @   0.00 - TOTAL:   0.00\n",
            "**************** Processed Date: 2023-01-09 - Result:  1500.00 ****************\n",
            "**************** Processed Date: 2023-01-10 - Result: -- NA -- ****************\n"
          ]
        },
        {
          "output_type": "stream",
          "name": "stderr",
          "text": [
            " 42%|████▏     | 177/421 [00:26<00:30,  8.11it/s]"
          ]
        },
        {
          "output_type": "stream",
          "name": "stdout",
          "text": [
            "**************** Processed Date: 2023-01-11 - Result: -- NA -- ****************\n",
            "**************** Processed Date: 2023-01-12 - Result: -- NA -- ****************\n",
            "**************** Processed Date: 2023-01-13 - Result: -- NA -- ****************\n"
          ]
        },
        {
          "output_type": "stream",
          "name": "stderr",
          "text": [
            " 43%|████▎     | 181/421 [00:27<00:24,  9.67it/s]"
          ]
        },
        {
          "output_type": "stream",
          "name": "stdout",
          "text": [
            "**************** Processed Date: 2023-01-17 - Result: -- NA -- ****************\n",
            "**************** Processed Date: 2023-01-18 - Result: -- NA -- ****************\n",
            "**************** Processed Date: 2023-01-19 - Result: -- NA -- ****************\n"
          ]
        },
        {
          "output_type": "stream",
          "name": "stderr",
          "text": [
            " 43%|████▎     | 183/421 [00:27<00:24,  9.86it/s]"
          ]
        },
        {
          "output_type": "stream",
          "name": "stdout",
          "text": [
            "**************** Processed Date: 2023-01-20 - Result: -- NA -- ****************\n",
            "**************** Processed Date: 2023-01-23 - Result: -- NA -- ****************\n",
            "**************** Processed Date: 2023-01-24 - Result: -- NA -- ****************\n"
          ]
        },
        {
          "output_type": "stream",
          "name": "stderr",
          "text": [
            " 44%|████▍     | 187/421 [00:27<00:22, 10.21it/s]"
          ]
        },
        {
          "output_type": "stream",
          "name": "stdout",
          "text": [
            "**************** Processed Date: 2023-01-25 - Result: -- NA -- ****************\n",
            "**************** Processed Date: 2023-01-26 - Result: -- NA -- ****************\n",
            "**************** Processed Date: 2023-01-27 - Result: -- NA -- ****************\n"
          ]
        },
        {
          "output_type": "stream",
          "name": "stderr",
          "text": [
            " 45%|████▍     | 189/421 [00:28<00:22, 10.53it/s]"
          ]
        },
        {
          "output_type": "stream",
          "name": "stdout",
          "text": [
            "**************** Processed Date: 2023-01-30 - Result: -- NA -- ****************\n",
            "**************** Processed Date: 2023-01-31 - Result: -- NA -- ****************\n",
            "**************** Processed Date: 2023-02-01 - Result: -- NA -- ****************\n"
          ]
        },
        {
          "output_type": "stream",
          "name": "stderr",
          "text": [
            " 45%|████▌     | 191/421 [00:28<00:21, 10.59it/s]"
          ]
        },
        {
          "output_type": "stream",
          "name": "stdout",
          "text": [
            "**************** Processed Date: 2023-02-02 - Result: -- NA -- ****************\n",
            "**************** Processed Date: 2023-02-03 - Result: -- NA -- ****************\n"
          ]
        },
        {
          "output_type": "stream",
          "name": "stderr",
          "text": [
            " 46%|████▌     | 194/421 [00:28<00:27,  8.39it/s]"
          ]
        },
        {
          "output_type": "stream",
          "name": "stdout",
          "text": [
            " OPEN C (302.86): SELL 303 @   1.25 -  BUY 305 @   0.53 - TOTAL:   0.72\n",
            "CLOSE C (303.59):  BUY 303 @   0.59 - SELL 305 @   0.00 - TOTAL:  -0.59\n",
            "**************** Processed Date: 2023-02-06 - Result:   130.00 ****************\n",
            " OPEN P (309.31): SELL 308 @   5.25 -  BUY 306 @   3.39 - TOTAL:   1.86\n",
            "CLOSE P (309.88):  BUY 308 @   0.00 - SELL 306 @   0.00 - TOTAL:   0.00\n",
            "**************** Processed Date: 2023-02-07 - Result:  1860.00 ****************\n"
          ]
        },
        {
          "output_type": "stream",
          "name": "stderr",
          "text": [
            " 47%|████▋     | 196/421 [00:28<00:30,  7.49it/s]"
          ]
        },
        {
          "output_type": "stream",
          "name": "stdout",
          "text": [
            "**************** Processed Date: 2023-02-08 - Result: -- NA -- ****************\n",
            " OPEN C (300.91): SELL 301 @   5.85 -  BUY 303 @   3.64 - TOTAL:   2.21\n",
            "CLOSE C (301.68):  BUY 301 @   0.68 - SELL 303 @   0.00 - TOTAL:  -0.68\n",
            "**************** Processed Date: 2023-02-09 - Result:  1530.00 ****************\n"
          ]
        },
        {
          "output_type": "stream",
          "name": "stderr",
          "text": [
            " 47%|████▋     | 199/421 [00:29<00:24,  8.91it/s]"
          ]
        },
        {
          "output_type": "stream",
          "name": "stdout",
          "text": [
            "**************** Processed Date: 2023-02-10 - Result: -- NA -- ****************\n",
            "**************** Processed Date: 2023-02-13 - Result: -- NA -- ****************\n",
            "**************** Processed Date: 2023-02-14 - Result: -- NA -- ****************\n"
          ]
        },
        {
          "output_type": "stream",
          "name": "stderr",
          "text": [
            " 48%|████▊     | 201/421 [00:29<00:26,  8.43it/s]"
          ]
        },
        {
          "output_type": "stream",
          "name": "stdout",
          "text": [
            "**************** Processed Date: 2023-02-15 - Result: -- NA -- ****************\n",
            " OPEN C (303.87): SELL 304 @   3.07 -  BUY 306 @   1.61 - TOTAL:   1.46\n",
            "CLOSE C (303.30):  BUY 304 @   0.00 - SELL 306 @   0.00 - TOTAL:   0.00\n",
            "**************** Processed Date: 2023-02-16 - Result:  1460.00 ****************\n"
          ]
        },
        {
          "output_type": "stream",
          "name": "stderr",
          "text": [
            " 48%|████▊     | 202/421 [00:29<00:25,  8.58it/s]"
          ]
        },
        {
          "output_type": "stream",
          "name": "stdout",
          "text": [
            "**************** Processed Date: 2023-02-17 - Result: -- NA -- ****************\n",
            "**************** Processed Date: 2023-02-21 - Result: -- NA -- ****************\n",
            "**************** Processed Date: 2023-02-22 - Result: -- NA -- ****************\n"
          ]
        },
        {
          "output_type": "stream",
          "name": "stderr",
          "text": [
            " 49%|████▉     | 206/421 [00:29<00:25,  8.38it/s]"
          ]
        },
        {
          "output_type": "stream",
          "name": "stdout",
          "text": [
            " OPEN P (297.59): SELL 296 @   0.99 -  BUY 294 @   0.35 - TOTAL:   0.64\n",
            "CLOSE P (296.82):  BUY 296 @   0.00 - SELL 294 @   0.00 - TOTAL:   0.00\n",
            "**************** Processed Date: 2023-02-23 - Result:   640.00 ****************\n",
            "**************** Processed Date: 2023-02-24 - Result: -- NA -- ****************\n"
          ]
        },
        {
          "output_type": "stream",
          "name": "stderr",
          "text": [
            " 49%|████▉     | 208/421 [00:30<00:26,  7.94it/s]"
          ]
        },
        {
          "output_type": "stream",
          "name": "stdout",
          "text": [
            "**************** Processed Date: 2023-02-27 - Result: -- NA -- ****************\n",
            " OPEN C (294.24): SELL 295 @   0.50 -  BUY 297 @   0.12 - TOTAL:   0.38\n",
            "CLOSE C (293.56):  BUY 295 @   0.00 - SELL 297 @   0.00 - TOTAL:   0.00\n",
            "**************** Processed Date: 2023-02-28 - Result:   380.00 ****************\n"
          ]
        },
        {
          "output_type": "stream",
          "name": "stderr",
          "text": [
            " 50%|█████     | 211/421 [00:30<00:23,  9.12it/s]"
          ]
        },
        {
          "output_type": "stream",
          "name": "stdout",
          "text": [
            "**************** Processed Date: 2023-03-01 - Result: -- NA -- ****************\n",
            "**************** Processed Date: 2023-03-02 - Result: -- NA -- ****************\n",
            "**************** Processed Date: 2023-03-03 - Result: -- NA -- ****************\n"
          ]
        },
        {
          "output_type": "stream",
          "name": "stderr",
          "text": [
            " 50%|█████     | 212/421 [00:30<00:26,  7.79it/s]"
          ]
        },
        {
          "output_type": "stream",
          "name": "stdout",
          "text": [
            " OPEN C (299.87): SELL 300 @   2.90 -  BUY 302 @   1.37 - TOTAL:   1.53\n",
            "CLOSE C (300.02):  BUY 300 @   0.02 - SELL 302 @   0.00 - TOTAL:  -0.02\n",
            "**************** Processed Date: 2023-03-06 - Result:  1510.00 ****************\n",
            "**************** Processed Date: 2023-03-07 - Result: -- NA -- ****************\n"
          ]
        },
        {
          "output_type": "stream",
          "name": "stderr",
          "text": [
            " 51%|█████     | 215/421 [00:31<00:26,  7.74it/s]"
          ]
        },
        {
          "output_type": "stream",
          "name": "stdout",
          "text": [
            "**************** Processed Date: 2023-03-08 - Result: -- NA -- ****************\n",
            " OPEN C (292.36): SELL 293 @   7.00 -  BUY 295 @   4.96 - TOTAL:   2.04\n",
            "CLOSE C (292.66):  BUY 293 @   0.00 - SELL 295 @   0.00 - TOTAL:   0.00\n",
            "**************** Processed Date: 2023-03-09 - Result:  2040.00 ****************\n"
          ]
        },
        {
          "output_type": "stream",
          "name": "stderr",
          "text": [
            " 52%|█████▏    | 217/421 [00:31<00:28,  7.26it/s]"
          ]
        },
        {
          "output_type": "stream",
          "name": "stdout",
          "text": [
            "**************** Processed Date: 2023-03-10 - Result: -- NA -- ****************\n",
            " OPEN P (294.03): SELL 293 @   3.89 -  BUY 291 @   2.58 - TOTAL:   1.31\n",
            "CLOSE P (290.69):  BUY 293 @   2.31 - SELL 291 @   0.31 - TOTAL:  -2.00\n",
            "**************** Processed Date: 2023-03-13 - Result:  -690.00 ****************\n"
          ]
        },
        {
          "output_type": "stream",
          "name": "stderr",
          "text": [
            " 52%|█████▏    | 219/421 [00:31<00:27,  7.31it/s]"
          ]
        },
        {
          "output_type": "stream",
          "name": "stdout",
          "text": [
            "**************** Processed Date: 2023-03-14 - Result: -- NA -- ****************\n",
            " OPEN P (298.48): SELL 297 @   2.87 -  BUY 295 @   1.80 - TOTAL:   1.07\n",
            "CLOSE P (298.93):  BUY 297 @   0.00 - SELL 295 @   0.00 - TOTAL:   0.00\n",
            "**************** Processed Date: 2023-03-15 - Result:  1070.00 ****************\n"
          ]
        },
        {
          "output_type": "stream",
          "name": "stderr",
          "text": [
            " 52%|█████▏    | 221/421 [00:31<00:29,  6.88it/s]"
          ]
        },
        {
          "output_type": "stream",
          "name": "stdout",
          "text": [
            "**************** Processed Date: 2023-03-16 - Result: -- NA -- ****************\n",
            " OPEN C (304.40): SELL 305 @   2.13 -  BUY 307 @   1.01 - TOTAL:   1.12\n",
            "CLOSE C (305.36):  BUY 305 @   0.36 - SELL 307 @   0.00 - TOTAL:  -0.36\n",
            "**************** Processed Date: 2023-03-17 - Result:   760.00 ****************\n"
          ]
        },
        {
          "output_type": "stream",
          "name": "stderr",
          "text": [
            " 53%|█████▎    | 222/421 [00:32<00:26,  7.39it/s]"
          ]
        },
        {
          "output_type": "stream",
          "name": "stdout",
          "text": [
            "**************** Processed Date: 2023-03-20 - Result: -- NA -- ****************\n",
            "**************** Processed Date: 2023-03-21 - Result: -- NA -- ****************\n"
          ]
        },
        {
          "output_type": "stream",
          "name": "stderr",
          "text": [
            " 53%|█████▎    | 225/421 [00:32<00:28,  6.93it/s]"
          ]
        },
        {
          "output_type": "stream",
          "name": "stdout",
          "text": [
            " OPEN P (312.60): SELL 311 @   2.28 -  BUY 309 @   1.46 - TOTAL:   0.82\n",
            "CLOSE P (306.12):  BUY 311 @   4.88 - SELL 309 @   2.88 - TOTAL:  -2.00\n",
            "**************** Processed Date: 2023-03-22 - Result: -1180.00 ****************\n",
            " OPEN C (309.28): SELL 310 @   2.45 -  BUY 312 @   1.15 - TOTAL:   1.30\n",
            "CLOSE C (309.75):  BUY 310 @   0.00 - SELL 312 @   0.00 - TOTAL:   0.00\n",
            "**************** Processed Date: 2023-03-23 - Result:  1300.00 ****************\n"
          ]
        },
        {
          "output_type": "stream",
          "name": "stderr",
          "text": [
            " 54%|█████▍    | 228/421 [00:32<00:23,  8.31it/s]"
          ]
        },
        {
          "output_type": "stream",
          "name": "stdout",
          "text": [
            "**************** Processed Date: 2023-03-24 - Result: -- NA -- ****************\n",
            "**************** Processed Date: 2023-03-27 - Result: -- NA -- ****************\n",
            "**************** Processed Date: 2023-03-28 - Result: -- NA -- ****************\n"
          ]
        },
        {
          "output_type": "stream",
          "name": "stderr",
          "text": [
            " 55%|█████▍    | 230/421 [00:33<00:21,  9.02it/s]"
          ]
        },
        {
          "output_type": "stream",
          "name": "stdout",
          "text": [
            "**************** Processed Date: 2023-03-29 - Result: -- NA -- ****************\n",
            "**************** Processed Date: 2023-03-30 - Result: -- NA -- ****************\n",
            "**************** Processed Date: 2023-03-31 - Result: -- NA -- ****************\n"
          ]
        },
        {
          "output_type": "stream",
          "name": "stderr",
          "text": [
            " 56%|█████▌    | 234/421 [00:33<00:18, 10.14it/s]"
          ]
        },
        {
          "output_type": "stream",
          "name": "stdout",
          "text": [
            "**************** Processed Date: 2023-04-03 - Result: -- NA -- ****************\n",
            "**************** Processed Date: 2023-04-04 - Result: -- NA -- ****************\n",
            "**************** Processed Date: 2023-04-05 - Result: -- NA -- ****************\n"
          ]
        },
        {
          "output_type": "stream",
          "name": "stderr",
          "text": [
            " 56%|█████▌    | 236/421 [00:33<00:18, 10.27it/s]"
          ]
        },
        {
          "output_type": "stream",
          "name": "stdout",
          "text": [
            "**************** Processed Date: 2023-04-06 - Result: -- NA -- ****************\n",
            "**************** Processed Date: 2023-04-10 - Result: -- NA -- ****************\n",
            "**************** Processed Date: 2023-04-11 - Result: -- NA -- ****************\n"
          ]
        },
        {
          "output_type": "stream",
          "name": "stderr",
          "text": [
            " 57%|█████▋    | 239/421 [00:33<00:19,  9.18it/s]"
          ]
        },
        {
          "output_type": "stream",
          "name": "stdout",
          "text": [
            " OPEN C (314.22): SELL 315 @   2.26 -  BUY 317 @   1.03 - TOTAL:   1.23\n",
            "CLOSE C (313.00):  BUY 315 @   0.00 - SELL 317 @   0.00 - TOTAL:   0.00\n",
            "**************** Processed Date: 2023-04-12 - Result:  1230.00 ****************\n",
            "**************** Processed Date: 2023-04-13 - Result: -- NA -- ****************\n"
          ]
        },
        {
          "output_type": "stream",
          "name": "stderr",
          "text": [
            " 57%|█████▋    | 241/421 [00:34<00:21,  8.33it/s]"
          ]
        },
        {
          "output_type": "stream",
          "name": "stdout",
          "text": [
            " OPEN P (318.19): SELL 317 @   0.63 -  BUY 315 @   0.20 - TOTAL:   0.43\n",
            "CLOSE P (318.57):  BUY 317 @   0.00 - SELL 315 @   0.00 - TOTAL:   0.00\n",
            "**************** Processed Date: 2023-04-14 - Result:   430.00 ****************\n",
            "**************** Processed Date: 2023-04-17 - Result: -- NA -- ****************\n"
          ]
        },
        {
          "output_type": "stream",
          "name": "stderr",
          "text": [
            " 58%|█████▊    | 243/421 [00:34<00:19,  9.02it/s]"
          ]
        },
        {
          "output_type": "stream",
          "name": "stdout",
          "text": [
            "**************** Processed Date: 2023-04-18 - Result: -- NA -- ****************\n",
            "**************** Processed Date: 2023-04-19 - Result: -- NA -- ****************\n"
          ]
        },
        {
          "output_type": "stream",
          "name": "stderr",
          "text": [
            " 58%|█████▊    | 245/421 [00:34<00:21,  8.31it/s]"
          ]
        },
        {
          "output_type": "stream",
          "name": "stdout",
          "text": [
            " OPEN C (317.07): SELL 318 @   0.75 -  BUY 320 @   0.14 - TOTAL:   0.61\n",
            "CLOSE C (316.28):  BUY 318 @   0.00 - SELL 320 @   0.00 - TOTAL:   0.00\n",
            "**************** Processed Date: 2023-04-20 - Result:   610.00 ****************\n",
            "**************** Processed Date: 2023-04-21 - Result: -- NA -- ****************\n"
          ]
        },
        {
          "output_type": "stream",
          "name": "stderr",
          "text": [
            " 59%|█████▊    | 247/421 [00:35<00:19,  8.92it/s]"
          ]
        },
        {
          "output_type": "stream",
          "name": "stdout",
          "text": [
            "**************** Processed Date: 2023-04-24 - Result: -- NA -- ****************\n",
            "**************** Processed Date: 2023-04-25 - Result: -- NA -- ****************\n",
            "**************** Processed Date: 2023-04-26 - Result: -- NA -- ****************\n"
          ]
        },
        {
          "output_type": "stream",
          "name": "stderr",
          "text": [
            " 60%|█████▉    | 251/421 [00:35<00:16, 10.07it/s]"
          ]
        },
        {
          "output_type": "stream",
          "name": "stdout",
          "text": [
            "**************** Processed Date: 2023-04-27 - Result: -- NA -- ****************\n",
            "**************** Processed Date: 2023-04-28 - Result: -- NA -- ****************\n",
            "**************** Processed Date: 2023-05-01 - Result: -- NA -- ****************\n"
          ]
        },
        {
          "output_type": "stream",
          "name": "stderr",
          "text": [
            " 60%|██████    | 253/421 [00:35<00:16, 10.29it/s]"
          ]
        },
        {
          "output_type": "stream",
          "name": "stdout",
          "text": [
            "**************** Processed Date: 2023-05-02 - Result: -- NA -- ****************\n",
            "**************** Processed Date: 2023-05-03 - Result: -- NA -- ****************\n"
          ]
        },
        {
          "output_type": "stream",
          "name": "stderr",
          "text": [
            " 61%|██████    | 255/421 [00:35<00:18,  9.00it/s]"
          ]
        },
        {
          "output_type": "stream",
          "name": "stdout",
          "text": [
            " OPEN C (316.38): SELL 317 @   0.53 -  BUY 319 @   0.16 - TOTAL:   0.37\n",
            "CLOSE C (316.17):  BUY 317 @   0.00 - SELL 319 @   0.00 - TOTAL:   0.00\n",
            "**************** Processed Date: 2023-05-04 - Result:   370.00 ****************\n",
            "**************** Processed Date: 2023-05-05 - Result: -- NA -- ****************\n"
          ]
        },
        {
          "output_type": "stream",
          "name": "stderr",
          "text": [
            " 61%|██████    | 257/421 [00:35<00:17,  9.33it/s]"
          ]
        },
        {
          "output_type": "stream",
          "name": "stdout",
          "text": [
            "**************** Processed Date: 2023-05-08 - Result: -- NA -- ****************\n",
            "**************** Processed Date: 2023-05-09 - Result: -- NA -- ****************\n"
          ]
        },
        {
          "output_type": "stream",
          "name": "stderr",
          "text": [
            " 62%|██████▏   | 259/421 [00:36<00:19,  8.51it/s]"
          ]
        },
        {
          "output_type": "stream",
          "name": "stdout",
          "text": [
            " OPEN P (323.81): SELL 322 @   0.11 -  BUY 320 @   0.04 - TOTAL:   0.07\n",
            "CLOSE P (325.14):  BUY 322 @   0.00 - SELL 320 @   0.00 - TOTAL:   0.00\n",
            "**************** Processed Date: 2023-05-10 - Result:    70.00 ****************\n",
            "**************** Processed Date: 2023-05-11 - Result: -- NA -- ****************\n"
          ]
        },
        {
          "output_type": "stream",
          "name": "stderr",
          "text": [
            " 62%|██████▏   | 261/421 [00:36<00:21,  7.47it/s]"
          ]
        },
        {
          "output_type": "stream",
          "name": "stdout",
          "text": [
            "**************** Processed Date: 2023-05-12 - Result: -- NA -- ****************\n",
            "**************** Processed Date: 2023-05-15 - Result: -- NA -- ****************\n"
          ]
        },
        {
          "output_type": "stream",
          "name": "stderr",
          "text": [
            " 62%|██████▏   | 263/421 [00:36<00:23,  6.64it/s]"
          ]
        },
        {
          "output_type": "stream",
          "name": "stdout",
          "text": [
            "**************** Processed Date: 2023-05-16 - Result: -- NA -- ****************\n",
            "**************** Processed Date: 2023-05-17 - Result: -- NA -- ****************\n"
          ]
        },
        {
          "output_type": "stream",
          "name": "stderr",
          "text": [
            " 63%|██████▎   | 265/421 [00:37<00:24,  6.37it/s]"
          ]
        },
        {
          "output_type": "stream",
          "name": "stdout",
          "text": [
            "**************** Processed Date: 2023-05-18 - Result: -- NA -- ****************\n",
            "**************** Processed Date: 2023-05-19 - Result: -- NA -- ****************\n"
          ]
        },
        {
          "output_type": "stream",
          "name": "stderr",
          "text": [
            " 63%|██████▎   | 267/421 [00:37<00:25,  6.11it/s]"
          ]
        },
        {
          "output_type": "stream",
          "name": "stdout",
          "text": [
            "**************** Processed Date: 2023-05-22 - Result: -- NA -- ****************\n",
            "**************** Processed Date: 2023-05-23 - Result: -- NA -- ****************\n"
          ]
        },
        {
          "output_type": "stream",
          "name": "stderr",
          "text": [
            " 64%|██████▍   | 269/421 [00:37<00:25,  5.89it/s]"
          ]
        },
        {
          "output_type": "stream",
          "name": "stdout",
          "text": [
            "**************** Processed Date: 2023-05-24 - Result: -- NA -- ****************\n",
            "**************** Processed Date: 2023-05-25 - Result: -- NA -- ****************\n"
          ]
        },
        {
          "output_type": "stream",
          "name": "stderr",
          "text": [
            " 64%|██████▍   | 271/421 [00:38<00:25,  5.99it/s]"
          ]
        },
        {
          "output_type": "stream",
          "name": "stdout",
          "text": [
            "**************** Processed Date: 2023-05-26 - Result: -- NA -- ****************\n",
            "**************** Processed Date: 2023-05-30 - Result: -- NA -- ****************\n"
          ]
        },
        {
          "output_type": "stream",
          "name": "stderr",
          "text": [
            " 65%|██████▍   | 273/421 [00:38<00:23,  6.20it/s]"
          ]
        },
        {
          "output_type": "stream",
          "name": "stdout",
          "text": [
            "**************** Processed Date: 2023-05-31 - Result: -- NA -- ****************\n",
            "**************** Processed Date: 2023-06-01 - Result: -- NA -- ****************\n"
          ]
        },
        {
          "output_type": "stream",
          "name": "stderr",
          "text": [
            " 65%|██████▌   | 275/421 [00:38<00:23,  6.19it/s]"
          ]
        },
        {
          "output_type": "stream",
          "name": "stdout",
          "text": [
            "**************** Processed Date: 2023-06-02 - Result: -- NA -- ****************\n",
            "**************** Processed Date: 2023-06-05 - Result: -- NA -- ****************\n"
          ]
        },
        {
          "output_type": "stream",
          "name": "stderr",
          "text": [
            " 66%|██████▌   | 277/421 [00:39<00:23,  6.14it/s]"
          ]
        },
        {
          "output_type": "stream",
          "name": "stdout",
          "text": [
            "**************** Processed Date: 2023-06-06 - Result: -- NA -- ****************\n",
            "**************** Processed Date: 2023-06-07 - Result: -- NA -- ****************\n"
          ]
        },
        {
          "output_type": "stream",
          "name": "stderr",
          "text": [
            " 66%|██████▋   | 279/421 [00:39<00:23,  6.11it/s]"
          ]
        },
        {
          "output_type": "stream",
          "name": "stdout",
          "text": [
            "**************** Processed Date: 2023-06-08 - Result: -- NA -- ****************\n",
            "**************** Processed Date: 2023-06-09 - Result: -- NA -- ****************\n"
          ]
        },
        {
          "output_type": "stream",
          "name": "stderr",
          "text": [
            " 67%|██████▋   | 280/421 [00:39<00:23,  6.11it/s]"
          ]
        },
        {
          "output_type": "stream",
          "name": "stdout",
          "text": [
            "**************** Processed Date: 2023-06-12 - Result: -- NA -- ****************\n"
          ]
        },
        {
          "output_type": "stream",
          "name": "stderr",
          "text": [
            " 67%|██████▋   | 281/421 [00:39<00:29,  4.76it/s]"
          ]
        },
        {
          "output_type": "stream",
          "name": "stdout",
          "text": [
            " OPEN C (361.62): SELL 362 @   0.90 -  BUY 364 @   0.38 - TOTAL:   0.52\n",
            "CLOSE C (363.26):  BUY 362 @   1.26 - SELL 364 @   0.00 - TOTAL:  -1.26\n",
            "**************** Processed Date: 2023-06-13 - Result:  -740.00 ****************\n"
          ]
        },
        {
          "output_type": "stream",
          "name": "stderr",
          "text": [
            " 67%|██████▋   | 283/421 [00:40<00:29,  4.61it/s]"
          ]
        },
        {
          "output_type": "stream",
          "name": "stdout",
          "text": [
            " OPEN C (362.27): SELL 363 @   3.00 -  BUY 365 @   1.86 - TOTAL:   1.14\n",
            "CLOSE C (365.90):  BUY 363 @   2.90 - SELL 365 @   0.90 - TOTAL:  -2.00\n",
            "**************** Processed Date: 2023-06-14 - Result:  -860.00 ****************\n",
            "**************** Processed Date: 2023-06-15 - Result: -- NA -- ****************\n"
          ]
        },
        {
          "output_type": "stream",
          "name": "stderr",
          "text": [
            " 68%|██████▊   | 285/421 [00:40<00:21,  6.31it/s]"
          ]
        },
        {
          "output_type": "stream",
          "name": "stdout",
          "text": [
            "**************** Processed Date: 2023-06-16 - Result: -- NA -- ****************\n",
            "**************** Processed Date: 2023-06-20 - Result: -- NA -- ****************\n"
          ]
        },
        {
          "output_type": "stream",
          "name": "stderr",
          "text": [
            " 68%|██████▊   | 287/421 [00:40<00:20,  6.65it/s]"
          ]
        },
        {
          "output_type": "stream",
          "name": "stdout",
          "text": [
            " OPEN P (364.12): SELL 363 @   0.91 -  BUY 361 @   0.31 - TOTAL:   0.60\n",
            "CLOSE P (361.90):  BUY 363 @   1.10 - SELL 361 @   0.00 - TOTAL:  -1.10\n",
            "**************** Processed Date: 2023-06-21 - Result:  -500.00 ****************\n",
            "**************** Processed Date: 2023-06-22 - Result: -- NA -- ****************\n"
          ]
        },
        {
          "output_type": "stream",
          "name": "stderr",
          "text": [
            "                                                 "
          ]
        },
        {
          "output_type": "stream",
          "name": "stdout",
          "text": [
            "**************** Processed Date: 2023-06-23 - Result: -- NA -- ****************\n",
            "**************** Processed Date: 2023-06-26 - Result: -- NA -- ****************\n"
          ]
        },
        {
          "output_type": "stream",
          "name": "stderr",
          "text": [
            " 69%|██████▉   | 292/421 [00:41<00:14,  9.07it/s]"
          ]
        },
        {
          "output_type": "stream",
          "name": "stdout",
          "text": [
            "**************** Processed Date: 2023-06-27 - Result: -- NA -- ****************\n",
            "**************** Processed Date: 2023-06-28 - Result: -- NA -- ****************\n",
            "**************** Processed Date: 2023-06-29 - Result: -- NA -- ****************\n"
          ]
        },
        {
          "output_type": "stream",
          "name": "stderr",
          "text": [
            " 70%|██████▉   | 294/421 [00:41<00:13,  9.57it/s]"
          ]
        },
        {
          "output_type": "stream",
          "name": "stdout",
          "text": [
            "**************** Processed Date: 2023-06-30 - Result: -- NA -- ****************\n",
            "**************** Processed Date: 2023-07-05 - Result: -- NA -- ****************\n",
            "**************** Processed Date: 2023-07-06 - Result: -- NA -- ****************\n"
          ]
        },
        {
          "output_type": "stream",
          "name": "stderr",
          "text": [
            " 71%|███████   | 298/421 [00:42<00:12, 10.20it/s]"
          ]
        },
        {
          "output_type": "stream",
          "name": "stdout",
          "text": [
            "**************** Processed Date: 2023-07-07 - Result: -- NA -- ****************\n",
            "**************** Processed Date: 2023-07-10 - Result: -- NA -- ****************\n",
            "**************** Processed Date: 2023-07-11 - Result: -- NA -- ****************\n"
          ]
        },
        {
          "output_type": "stream",
          "name": "stderr",
          "text": [
            " 71%|███████▏  | 300/421 [00:42<00:11, 10.12it/s]"
          ]
        },
        {
          "output_type": "stream",
          "name": "stdout",
          "text": [
            "**************** Processed Date: 2023-07-12 - Result: -- NA -- ****************\n",
            "**************** Processed Date: 2023-07-13 - Result: -- NA -- ****************\n"
          ]
        },
        {
          "output_type": "stream",
          "name": "stderr",
          "text": [
            " 72%|███████▏  | 302/421 [00:42<00:12,  9.90it/s]"
          ]
        },
        {
          "output_type": "stream",
          "name": "stdout",
          "text": [
            "**************** Processed Date: 2023-07-14 - Result: -- NA -- ****************\n",
            "**************** Processed Date: 2023-07-17 - Result: -- NA -- ****************\n"
          ]
        },
        {
          "output_type": "stream",
          "name": "stderr",
          "text": [
            " 72%|███████▏  | 303/421 [00:42<00:13,  8.63it/s]"
          ]
        },
        {
          "output_type": "stream",
          "name": "stdout",
          "text": [
            " OPEN P (386.38): SELL 385 @   4.28 -  BUY 383 @   2.53 - TOTAL:   1.75\n",
            "CLOSE P (385.74):  BUY 385 @   0.00 - SELL 383 @   0.00 - TOTAL:   0.00\n",
            "**************** Processed Date: 2023-07-18 - Result:  1750.00 ****************\n",
            "**************** Processed Date: 2023-07-19 - Result: -- NA -- ****************\n"
          ]
        },
        {
          "output_type": "stream",
          "name": "stderr",
          "text": [
            " 73%|███████▎  | 306/421 [00:42<00:13,  8.30it/s]"
          ]
        },
        {
          "output_type": "stream",
          "name": "stdout",
          "text": [
            " OPEN C (377.58): SELL 378 @   2.77 -  BUY 380 @   1.37 - TOTAL:   1.40\n",
            "CLOSE C (376.76):  BUY 378 @   0.00 - SELL 380 @   0.00 - TOTAL:   0.00\n",
            "**************** Processed Date: 2023-07-20 - Result:  1400.00 ****************\n",
            "**************** Processed Date: 2023-07-21 - Result: -- NA -- ****************\n"
          ]
        },
        {
          "output_type": "stream",
          "name": "stderr",
          "text": [
            " 73%|███████▎  | 309/421 [00:43<00:12,  9.05it/s]"
          ]
        },
        {
          "output_type": "stream",
          "name": "stdout",
          "text": [
            "**************** Processed Date: 2023-07-24 - Result: -- NA -- ****************\n",
            "**************** Processed Date: 2023-07-25 - Result: -- NA -- ****************\n",
            "**************** Processed Date: 2023-07-26 - Result: -- NA -- ****************\n"
          ]
        },
        {
          "output_type": "stream",
          "name": "stderr",
          "text": [
            " 74%|███████▍  | 311/421 [00:43<00:13,  8.06it/s]"
          ]
        },
        {
          "output_type": "stream",
          "name": "stdout",
          "text": [
            " OPEN C (378.15): SELL 379 @   2.83 -  BUY 381 @   1.39 - TOTAL:   1.44\n",
            "CLOSE C (376.62):  BUY 379 @   0.00 - SELL 381 @   0.00 - TOTAL:   0.00\n",
            "**************** Processed Date: 2023-07-27 - Result:  1440.00 ****************\n",
            "**************** Processed Date: 2023-07-28 - Result: -- NA -- ****************\n"
          ]
        },
        {
          "output_type": "stream",
          "name": "stderr",
          "text": [
            " 75%|███████▍  | 314/421 [00:43<00:11,  9.39it/s]"
          ]
        },
        {
          "output_type": "stream",
          "name": "stdout",
          "text": [
            "**************** Processed Date: 2023-07-31 - Result: -- NA -- ****************\n",
            "**************** Processed Date: 2023-08-01 - Result: -- NA -- ****************\n",
            "**************** Processed Date: 2023-08-02 - Result: -- NA -- ****************\n"
          ]
        },
        {
          "output_type": "stream",
          "name": "stderr",
          "text": [
            " 75%|███████▌  | 316/421 [00:44<00:12,  8.14it/s]"
          ]
        },
        {
          "output_type": "stream",
          "name": "stdout",
          "text": [
            "**************** Processed Date: 2023-08-03 - Result: -- NA -- ****************\n",
            " OPEN C (373.92): SELL 374 @   1.51 -  BUY 376 @   0.56 - TOTAL:   0.95\n",
            "CLOSE C (372.04):  BUY 374 @   0.00 - SELL 376 @   0.00 - TOTAL:   0.00\n",
            "**************** Processed Date: 2023-08-04 - Result:   950.00 ****************\n"
          ]
        },
        {
          "output_type": "stream",
          "name": "stderr",
          "text": [
            " 76%|███████▌  | 318/421 [00:44<00:12,  8.56it/s]"
          ]
        },
        {
          "output_type": "stream",
          "name": "stdout",
          "text": [
            "**************** Processed Date: 2023-08-07 - Result: -- NA -- ****************\n",
            "**************** Processed Date: 2023-08-08 - Result: -- NA -- ****************\n",
            "**************** Processed Date: 2023-08-09 - Result: -- NA -- ****************\n"
          ]
        },
        {
          "output_type": "stream",
          "name": "stderr",
          "text": [
            " 76%|███████▋  | 322/421 [00:44<00:09,  9.94it/s]"
          ]
        },
        {
          "output_type": "stream",
          "name": "stdout",
          "text": [
            "**************** Processed Date: 2023-08-10 - Result: -- NA -- ****************\n",
            "**************** Processed Date: 2023-08-11 - Result: -- NA -- ****************\n",
            "**************** Processed Date: 2023-08-14 - Result: -- NA -- ****************\n"
          ]
        },
        {
          "output_type": "stream",
          "name": "stderr",
          "text": [
            " 77%|███████▋  | 324/421 [00:44<00:10,  8.97it/s]"
          ]
        },
        {
          "output_type": "stream",
          "name": "stdout",
          "text": [
            "**************** Processed Date: 2023-08-15 - Result: -- NA -- ****************\n",
            " OPEN P (365.80): SELL 364 @   0.32 -  BUY 362 @   0.10 - TOTAL:   0.22\n",
            "CLOSE P (362.54):  BUY 364 @   1.46 - SELL 362 @   0.00 - TOTAL:  -1.46\n",
            "**************** Processed Date: 2023-08-16 - Result: -1240.00 ****************\n"
          ]
        },
        {
          "output_type": "stream",
          "name": "stderr",
          "text": [
            " 77%|███████▋  | 326/421 [00:45<00:10,  9.01it/s]"
          ]
        },
        {
          "output_type": "stream",
          "name": "stdout",
          "text": [
            "**************** Processed Date: 2023-08-17 - Result: -- NA -- ****************\n",
            "**************** Processed Date: 2023-08-18 - Result: -- NA -- ****************\n"
          ]
        },
        {
          "output_type": "stream",
          "name": "stderr",
          "text": [
            " 78%|███████▊  | 329/421 [00:45<00:09,  9.81it/s]"
          ]
        },
        {
          "output_type": "stream",
          "name": "stdout",
          "text": [
            "**************** Processed Date: 2023-08-21 - Result: -- NA -- ****************\n",
            "**************** Processed Date: 2023-08-22 - Result: -- NA -- ****************\n",
            "**************** Processed Date: 2023-08-23 - Result: -- NA -- ****************\n"
          ]
        },
        {
          "output_type": "stream",
          "name": "stderr",
          "text": [
            " 79%|███████▊  | 331/421 [00:45<00:10,  8.71it/s]"
          ]
        },
        {
          "output_type": "stream",
          "name": "stdout",
          "text": [
            "**************** Processed Date: 2023-08-24 - Result: -- NA -- ****************\n",
            " OPEN P (363.84): SELL 362 @   1.95 -  BUY 360 @   1.08 - TOTAL:   0.87\n",
            "CLOSE P (364.02):  BUY 362 @   0.00 - SELL 360 @   0.00 - TOTAL:   0.00\n",
            "**************** Processed Date: 2023-08-25 - Result:   870.00 ****************\n"
          ]
        },
        {
          "output_type": "stream",
          "name": "stderr",
          "text": [
            " 79%|███████▉  | 333/421 [00:46<00:11,  7.95it/s]"
          ]
        },
        {
          "output_type": "stream",
          "name": "stdout",
          "text": [
            " OPEN C (365.25): SELL 366 @   1.65 -  BUY 368 @   0.64 - TOTAL:   1.01\n",
            "CLOSE C (366.76):  BUY 366 @   0.76 - SELL 368 @   0.00 - TOTAL:  -0.76\n",
            "**************** Processed Date: 2023-08-28 - Result:   250.00 ****************\n",
            "**************** Processed Date: 2023-08-29 - Result: -- NA -- ****************\n"
          ]
        },
        {
          "output_type": "stream",
          "name": "stderr",
          "text": [
            " 80%|███████▉  | 335/421 [00:46<00:09,  8.89it/s]"
          ]
        },
        {
          "output_type": "stream",
          "name": "stdout",
          "text": [
            "**************** Processed Date: 2023-08-30 - Result: -- NA -- ****************\n",
            "**************** Processed Date: 2023-08-31 - Result: -- NA -- ****************\n"
          ]
        },
        {
          "output_type": "stream",
          "name": "stderr",
          "text": [
            " 80%|████████  | 338/421 [00:46<00:08,  9.63it/s]"
          ]
        },
        {
          "output_type": "stream",
          "name": "stdout",
          "text": [
            "**************** Processed Date: 2023-09-01 - Result: -- NA -- ****************\n",
            "**************** Processed Date: 2023-09-05 - Result: -- NA -- ****************\n",
            "**************** Processed Date: 2023-09-06 - Result: -- NA -- ****************\n"
          ]
        },
        {
          "output_type": "stream",
          "name": "stderr",
          "text": [
            " 81%|████████  | 340/421 [00:46<00:08, 10.00it/s]"
          ]
        },
        {
          "output_type": "stream",
          "name": "stdout",
          "text": [
            "**************** Processed Date: 2023-09-07 - Result: -- NA -- ****************\n",
            "**************** Processed Date: 2023-09-08 - Result: -- NA -- ****************\n",
            "**************** Processed Date: 2023-09-11 - Result: -- NA -- ****************\n"
          ]
        },
        {
          "output_type": "stream",
          "name": "stderr",
          "text": [
            " 81%|████████  | 342/421 [00:46<00:08,  9.06it/s]"
          ]
        },
        {
          "output_type": "stream",
          "name": "stdout",
          "text": [
            " OPEN C (373.70): SELL 374 @   1.23 -  BUY 376 @   0.37 - TOTAL:   0.86\n",
            "CLOSE C (372.79):  BUY 374 @   0.00 - SELL 376 @   0.00 - TOTAL:   0.00\n",
            "**************** Processed Date: 2023-09-12 - Result:   860.00 ****************\n"
          ]
        },
        {
          "output_type": "stream",
          "name": "stderr",
          "text": [
            " 82%|████████▏ | 344/421 [00:47<00:10,  7.33it/s]"
          ]
        },
        {
          "output_type": "stream",
          "name": "stdout",
          "text": [
            "**************** Processed Date: 2023-09-13 - Result: -- NA -- ****************\n",
            "**************** Processed Date: 2023-09-14 - Result: -- NA -- ****************\n"
          ]
        },
        {
          "output_type": "stream",
          "name": "stderr",
          "text": [
            " 82%|████████▏ | 346/421 [00:47<00:08,  8.35it/s]"
          ]
        },
        {
          "output_type": "stream",
          "name": "stdout",
          "text": [
            "**************** Processed Date: 2023-09-15 - Result: -- NA -- ****************\n",
            "**************** Processed Date: 2023-09-18 - Result: -- NA -- ****************\n",
            "**************** Processed Date: 2023-09-19 - Result: -- NA -- ****************\n"
          ]
        },
        {
          "output_type": "stream",
          "name": "stderr",
          "text": [
            " 83%|████████▎ | 348/421 [00:47<00:08,  9.12it/s]"
          ]
        },
        {
          "output_type": "stream",
          "name": "stdout",
          "text": [
            "**************** Processed Date: 2023-09-20 - Result: -- NA -- ****************\n"
          ]
        },
        {
          "output_type": "stream",
          "name": "stderr",
          "text": [
            " 83%|████████▎ | 350/421 [00:48<00:10,  7.00it/s]"
          ]
        },
        {
          "output_type": "stream",
          "name": "stdout",
          "text": [
            " OPEN C (359.61): SELL 360 @   1.35 -  BUY 362 @   0.51 - TOTAL:   0.84\n",
            "CLOSE C (357.86):  BUY 360 @   0.00 - SELL 362 @   0.00 - TOTAL:   0.00\n",
            "**************** Processed Date: 2023-09-21 - Result:   840.00 ****************\n",
            "**************** Processed Date: 2023-09-22 - Result: -- NA -- ****************\n"
          ]
        },
        {
          "output_type": "stream",
          "name": "stderr",
          "text": [
            " 84%|████████▎ | 352/421 [00:48<00:08,  8.07it/s]"
          ]
        },
        {
          "output_type": "stream",
          "name": "stdout",
          "text": [
            "**************** Processed Date: 2023-09-25 - Result: -- NA -- ****************\n",
            "**************** Processed Date: 2023-09-26 - Result: -- NA -- ****************\n",
            "**************** Processed Date: 2023-09-27 - Result: -- NA -- ****************\n"
          ]
        },
        {
          "output_type": "stream",
          "name": "stderr",
          "text": [
            " 84%|████████▍ | 355/421 [00:48<00:07,  9.09it/s]"
          ]
        },
        {
          "output_type": "stream",
          "name": "stdout",
          "text": [
            "**************** Processed Date: 2023-09-28 - Result: -- NA -- ****************\n",
            "**************** Processed Date: 2023-09-29 - Result: -- NA -- ****************\n",
            "**************** Processed Date: 2023-10-02 - Result: -- NA -- ****************\n"
          ]
        },
        {
          "output_type": "stream",
          "name": "stderr",
          "text": [
            " 85%|████████▍ | 357/421 [00:48<00:06,  9.71it/s]"
          ]
        },
        {
          "output_type": "stream",
          "name": "stdout",
          "text": [
            "**************** Processed Date: 2023-10-03 - Result: -- NA -- ****************\n",
            "**************** Processed Date: 2023-10-04 - Result: -- NA -- ****************\n"
          ]
        },
        {
          "output_type": "stream",
          "name": "stderr",
          "text": [
            " 86%|████████▌ | 360/421 [00:49<00:06,  8.80it/s]"
          ]
        },
        {
          "output_type": "stream",
          "name": "stdout",
          "text": [
            " OPEN P (358.68): SELL 357 @   1.12 -  BUY 355 @   0.40 - TOTAL:   0.72\n",
            "CLOSE P (358.69):  BUY 357 @   0.00 - SELL 355 @   0.00 - TOTAL:   0.00\n",
            "**************** Processed Date: 2023-10-05 - Result:   720.00 ****************\n",
            "**************** Processed Date: 2023-10-06 - Result: -- NA -- ****************\n"
          ]
        },
        {
          "output_type": "stream",
          "name": "stderr",
          "text": [
            " 86%|████████▌ | 362/421 [00:49<00:07,  7.90it/s]"
          ]
        },
        {
          "output_type": "stream",
          "name": "stdout",
          "text": [
            " OPEN P (366.75): SELL 365 @   2.60 -  BUY 363 @   1.30 - TOTAL:   1.30\n",
            "CLOSE P (366.56):  BUY 365 @   0.00 - SELL 363 @   0.00 - TOTAL:   0.00\n",
            "**************** Processed Date: 2023-10-09 - Result:  1300.00 ****************\n",
            "**************** Processed Date: 2023-10-10 - Result: -- NA -- ****************\n"
          ]
        },
        {
          "output_type": "stream",
          "name": "stderr",
          "text": [
            " 86%|████████▋ | 364/421 [00:49<00:06,  8.86it/s]"
          ]
        },
        {
          "output_type": "stream",
          "name": "stdout",
          "text": [
            "**************** Processed Date: 2023-10-11 - Result: -- NA -- ****************\n",
            "**************** Processed Date: 2023-10-12 - Result: -- NA -- ****************\n",
            "**************** Processed Date: 2023-10-13 - Result: -- NA -- ****************\n"
          ]
        },
        {
          "output_type": "stream",
          "name": "stderr",
          "text": [
            " 87%|████████▋ | 368/421 [00:50<00:05,  9.79it/s]"
          ]
        },
        {
          "output_type": "stream",
          "name": "stdout",
          "text": [
            "**************** Processed Date: 2023-10-16 - Result: -- NA -- ****************\n",
            "**************** Processed Date: 2023-10-17 - Result: -- NA -- ****************\n",
            "**************** Processed Date: 2023-10-18 - Result: -- NA -- ****************\n"
          ]
        },
        {
          "output_type": "stream",
          "name": "stderr",
          "text": [
            " 88%|████████▊ | 369/421 [00:50<00:06,  8.41it/s]"
          ]
        },
        {
          "output_type": "stream",
          "name": "stdout",
          "text": [
            " OPEN C (361.83): SELL 362 @   1.95 -  BUY 364 @   1.04 - TOTAL:   0.91\n",
            "CLOSE C (359.97):  BUY 362 @   0.00 - SELL 364 @   0.00 - TOTAL:   0.00\n",
            "**************** Processed Date: 2023-10-19 - Result:   910.00 ****************\n",
            " OPEN C (355.68): SELL 356 @   1.97 -  BUY 358 @   0.98 - TOTAL:   0.99\n",
            "CLOSE C (354.60):  BUY 356 @   0.00 - SELL 358 @   0.00 - TOTAL:   0.00\n"
          ]
        },
        {
          "output_type": "stream",
          "name": "stderr",
          "text": [
            " 88%|████████▊ | 371/421 [00:50<00:07,  6.93it/s]"
          ]
        },
        {
          "output_type": "stream",
          "name": "stdout",
          "text": [
            "**************** Processed Date: 2023-10-20 - Result:   990.00 ****************\n",
            "**************** Processed Date: 2023-10-23 - Result: -- NA -- ****************\n"
          ]
        },
        {
          "output_type": "stream",
          "name": "stderr",
          "text": [
            " 89%|████████▊ | 373/421 [00:50<00:07,  6.44it/s]"
          ]
        },
        {
          "output_type": "stream",
          "name": "stdout",
          "text": [
            "**************** Processed Date: 2023-10-24 - Result: -- NA -- ****************\n",
            "**************** Processed Date: 2023-10-25 - Result: -- NA -- ****************\n"
          ]
        },
        {
          "output_type": "stream",
          "name": "stderr",
          "text": [
            " 89%|████████▉ | 375/421 [00:51<00:08,  5.21it/s]"
          ]
        },
        {
          "output_type": "stream",
          "name": "stdout",
          "text": [
            " OPEN P (345.06): SELL 344 @   0.63 -  BUY 342 @   0.24 - TOTAL:   0.39\n",
            "CLOSE P (343.66):  BUY 344 @   0.34 - SELL 342 @   0.00 - TOTAL:  -0.34\n",
            "**************** Processed Date: 2023-10-26 - Result:    50.00 ****************\n",
            "**************** Processed Date: 2023-10-27 - Result: -- NA -- ****************\n"
          ]
        },
        {
          "output_type": "stream",
          "name": "stderr",
          "text": [
            " 90%|████████▉ | 377/421 [00:51<00:07,  5.74it/s]"
          ]
        },
        {
          "output_type": "stream",
          "name": "stdout",
          "text": [
            "**************** Processed Date: 2023-10-30 - Result: -- NA -- ****************\n",
            "**************** Processed Date: 2023-10-31 - Result: -- NA -- ****************\n"
          ]
        },
        {
          "output_type": "stream",
          "name": "stderr",
          "text": [
            " 90%|█████████ | 379/421 [00:52<00:07,  5.95it/s]"
          ]
        },
        {
          "output_type": "stream",
          "name": "stdout",
          "text": [
            "**************** Processed Date: 2023-11-01 - Result: -- NA -- ****************\n",
            "**************** Processed Date: 2023-11-02 - Result: -- NA -- ****************\n"
          ]
        },
        {
          "output_type": "stream",
          "name": "stderr",
          "text": [
            " 90%|█████████ | 381/421 [00:52<00:06,  5.98it/s]"
          ]
        },
        {
          "output_type": "stream",
          "name": "stdout",
          "text": [
            "**************** Processed Date: 2023-11-03 - Result: -- NA -- ****************\n",
            "**************** Processed Date: 2023-11-06 - Result: -- NA -- ****************\n"
          ]
        },
        {
          "output_type": "stream",
          "name": "stderr",
          "text": [
            " 91%|█████████ | 383/421 [00:52<00:06,  6.01it/s]"
          ]
        },
        {
          "output_type": "stream",
          "name": "stdout",
          "text": [
            "**************** Processed Date: 2023-11-07 - Result: -- NA -- ****************\n",
            "**************** Processed Date: 2023-11-08 - Result: -- NA -- ****************\n"
          ]
        },
        {
          "output_type": "stream",
          "name": "stderr",
          "text": [
            " 91%|█████████▏| 385/421 [00:53<00:07,  5.13it/s]"
          ]
        },
        {
          "output_type": "stream",
          "name": "stdout",
          "text": [
            " OPEN C (370.27): SELL 371 @   1.87 -  BUY 373 @   0.77 - TOTAL:   1.10\n",
            "CLOSE C (370.08):  BUY 371 @   0.00 - SELL 373 @   0.00 - TOTAL:   0.00\n",
            "**************** Processed Date: 2023-11-09 - Result:  1100.00 ****************\n",
            "**************** Processed Date: 2023-11-10 - Result: -- NA -- ****************\n"
          ]
        },
        {
          "output_type": "stream",
          "name": "stderr",
          "text": [
            " 92%|█████████▏| 387/421 [00:53<00:06,  5.47it/s]"
          ]
        },
        {
          "output_type": "stream",
          "name": "stdout",
          "text": [
            "**************** Processed Date: 2023-11-13 - Result: -- NA -- ****************\n",
            "**************** Processed Date: 2023-11-14 - Result: -- NA -- ****************\n"
          ]
        },
        {
          "output_type": "stream",
          "name": "stderr",
          "text": [
            " 92%|█████████▏| 389/421 [00:53<00:06,  5.32it/s]"
          ]
        },
        {
          "output_type": "stream",
          "name": "stdout",
          "text": [
            "**************** Processed Date: 2023-11-15 - Result: -- NA -- ****************\n",
            "**************** Processed Date: 2023-11-16 - Result: -- NA -- ****************\n"
          ]
        },
        {
          "output_type": "stream",
          "name": "stderr",
          "text": [
            " 93%|█████████▎| 391/421 [00:54<00:05,  5.71it/s]"
          ]
        },
        {
          "output_type": "stream",
          "name": "stdout",
          "text": [
            "**************** Processed Date: 2023-11-17 - Result: -- NA -- ****************\n",
            "**************** Processed Date: 2023-11-20 - Result: -- NA -- ****************\n"
          ]
        },
        {
          "output_type": "stream",
          "name": "stderr",
          "text": [
            " 93%|█████████▎| 393/421 [00:54<00:04,  5.89it/s]"
          ]
        },
        {
          "output_type": "stream",
          "name": "stdout",
          "text": [
            "**************** Processed Date: 2023-11-21 - Result: -- NA -- ****************\n",
            "**************** Processed Date: 2023-11-22 - Result: -- NA -- ****************\n"
          ]
        },
        {
          "output_type": "stream",
          "name": "stderr",
          "text": [
            "                                                 "
          ]
        },
        {
          "output_type": "stream",
          "name": "stdout",
          "text": [
            "**************** Processed Date: 2023-11-27 - Result: -- NA -- ****************\n",
            "**************** Processed Date: 2023-11-28 - Result: -- NA -- ****************\n"
          ]
        },
        {
          "output_type": "stream",
          "name": "stderr",
          "text": [
            " 94%|█████████▍| 397/421 [00:55<00:03,  7.98it/s]"
          ]
        },
        {
          "output_type": "stream",
          "name": "stdout",
          "text": [
            "**************** Processed Date: 2023-11-29 - Result: -- NA -- ****************\n",
            "**************** Processed Date: 2023-11-30 - Result: -- NA -- ****************\n",
            "**************** Processed Date: 2023-12-01 - Result: -- NA -- ****************\n"
          ]
        },
        {
          "output_type": "stream",
          "name": "stderr",
          "text": [
            " 95%|█████████▌| 401/421 [00:55<00:02,  9.48it/s]"
          ]
        },
        {
          "output_type": "stream",
          "name": "stdout",
          "text": [
            "**************** Processed Date: 2023-12-04 - Result: -- NA -- ****************\n",
            "**************** Processed Date: 2023-12-05 - Result: -- NA -- ****************\n",
            "**************** Processed Date: 2023-12-06 - Result: -- NA -- ****************\n"
          ]
        },
        {
          "output_type": "stream",
          "name": "stderr",
          "text": [
            " 96%|█████████▌| 403/421 [00:55<00:01,  9.86it/s]"
          ]
        },
        {
          "output_type": "stream",
          "name": "stdout",
          "text": [
            "**************** Processed Date: 2023-12-07 - Result: -- NA -- ****************\n",
            "**************** Processed Date: 2023-12-08 - Result: -- NA -- ****************\n",
            "**************** Processed Date: 2023-12-11 - Result: -- NA -- ****************\n"
          ]
        },
        {
          "output_type": "stream",
          "name": "stderr",
          "text": [
            " 97%|█████████▋| 407/421 [00:56<00:01, 10.02it/s]"
          ]
        },
        {
          "output_type": "stream",
          "name": "stdout",
          "text": [
            "**************** Processed Date: 2023-12-12 - Result: -- NA -- ****************\n",
            "**************** Processed Date: 2023-12-13 - Result: -- NA -- ****************\n",
            "**************** Processed Date: 2023-12-14 - Result: -- NA -- ****************\n"
          ]
        },
        {
          "output_type": "stream",
          "name": "stderr",
          "text": [
            " 97%|█████████▋| 410/421 [00:56<00:01, 10.14it/s]"
          ]
        },
        {
          "output_type": "stream",
          "name": "stdout",
          "text": [
            "**************** Processed Date: 2023-12-15 - Result: -- NA -- ****************\n",
            "**************** Processed Date: 2023-12-18 - Result: -- NA -- ****************\n",
            "**************** Processed Date: 2023-12-19 - Result: -- NA -- ****************\n"
          ]
        },
        {
          "output_type": "stream",
          "name": "stderr",
          "text": [
            " 98%|█████████▊| 412/421 [00:56<00:01,  7.96it/s]"
          ]
        },
        {
          "output_type": "stream",
          "name": "stdout",
          "text": [
            " OPEN C (404.15): SELL 405 @   5.25 -  BUY 407 @   3.19 - TOTAL:   2.06\n",
            "CLOSE C (403.08):  BUY 405 @   0.00 - SELL 407 @   0.00 - TOTAL:   0.00\n",
            "**************** Processed Date: 2023-12-20 - Result:  2060.00 ****************\n",
            " OPEN P (407.42): SELL 406 @   1.16 -  BUY 404 @   0.49 - TOTAL:   0.67\n",
            "CLOSE P (407.80):  BUY 406 @   0.00 - SELL 404 @   0.00 - TOTAL:   0.00\n",
            "**************** Processed Date: 2023-12-21 - Result:   670.00 ****************\n"
          ]
        },
        {
          "output_type": "stream",
          "name": "stderr",
          "text": [
            " 98%|█████████▊| 414/421 [00:57<00:00,  7.16it/s]"
          ]
        },
        {
          "output_type": "stream",
          "name": "stdout",
          "text": [
            " OPEN P (408.62): SELL 407 @   0.20 -  BUY 405 @   0.07 - TOTAL:   0.13\n",
            "CLOSE P (408.38):  BUY 407 @   0.00 - SELL 405 @   0.00 - TOTAL:   0.00\n",
            "**************** Processed Date: 2023-12-22 - Result:   130.00 ****************\n",
            "**************** Processed Date: 2023-12-26 - Result: -- NA -- ****************\n"
          ]
        },
        {
          "output_type": "stream",
          "name": "stderr",
          "text": [
            " 99%|█████████▉| 417/421 [00:57<00:00,  8.47it/s]"
          ]
        },
        {
          "output_type": "stream",
          "name": "stdout",
          "text": [
            "**************** Processed Date: 2023-12-27 - Result: -- NA -- ****************\n",
            "**************** Processed Date: 2023-12-28 - Result: -- NA -- ****************\n",
            "**************** Processed Date: 2023-12-29 - Result: -- NA -- ****************\n"
          ]
        },
        {
          "output_type": "stream",
          "name": "stderr",
          "text": [
            "100%|█████████▉| 419/421 [00:57<00:00,  8.05it/s]"
          ]
        },
        {
          "output_type": "stream",
          "name": "stdout",
          "text": [
            "**************** Processed Date: 2024-01-02 - Result: -- NA -- ****************\n",
            " OPEN C (398.90): SELL 399 @   1.31 -  BUY 401 @   0.47 - TOTAL:   0.84\n",
            "CLOSE C (398.33):  BUY 399 @   0.00 - SELL 401 @   0.00 - TOTAL:   0.00\n",
            "**************** Processed Date: 2024-01-03 - Result:   840.00 ****************\n"
          ]
        },
        {
          "output_type": "stream",
          "name": "stderr",
          "text": [
            "100%|██████████| 421/421 [00:57<00:00,  7.27it/s]"
          ]
        },
        {
          "output_type": "stream",
          "name": "stdout",
          "text": [
            "**************** Processed Date: 2024-01-04 - Result: -- NA -- ****************\n",
            " OPEN C (395.58): SELL 396 @   2.66 -  BUY 398 @   1.16 - TOTAL:   1.50\n",
            "CLOSE C (396.75):  BUY 396 @   0.75 - SELL 398 @   0.00 - TOTAL:  -0.75\n",
            "**************** Processed Date: 2024-01-05 - Result:   750.00 ****************\n"
          ]
        },
        {
          "output_type": "stream",
          "name": "stderr",
          "text": [
            "\n"
          ]
        }
      ]
    },
    {
      "cell_type": "code",
      "source": [
        "### Generate result ###\n",
        "\n",
        "# Calculate Net Result\n",
        "df_result = pd.DataFrame(pnl, columns=['expire_date','gross_result'])\n",
        "df_result['net_result'] = df_result['gross_result'] - CONTRACTS * FEES_PER_CONTRACT * 2 # Let them expire\n",
        "df_result['wins'] = np.where(df_result['net_result'] > 0, 1, 0)\n",
        "df_result['losses'] = np.where(df_result['net_result'] < 0, 1, 0)"
      ],
      "metadata": {
        "id": "NpX4bi5qnTM4"
      },
      "execution_count": 8,
      "outputs": []
    },
    {
      "cell_type": "code",
      "source": [
        "# Show the parameters\n",
        "print(f' PARAMETERS '.center(70, '*'))\n",
        "print(f'* Hour Open: {HOUR_OPEN}')\n",
        "print(f'* Minute Open: {MINUTE_OPEN}')\n",
        "print(f'* Strikes From Price: {STRIKES}')\n",
        "print(f'* Distance Between Strikes: {DIST_BETWEEN_STRIKES}')\n",
        "print(f'* Max % Change To Open A Bearish Trade: {MAX_CHANGE_BEARISH}')\n",
        "print(f'* Min % Change To Open A Bullish Trade: {MIN_CHANGE_BULLISH}')\n",
        "\n",
        "# Show the Total Result\n",
        "print(f' SUMMARIZED RESULT '.center(70, '*'))\n",
        "print(f'* Trading Days: {len(df_result)}')\n",
        "print(f'* Gross PnL: $ {df_result[\"gross_result\"].sum():.2f}')\n",
        "print(f'* Net PnL: $ {df_result[\"net_result\"].sum():.2f}')\n",
        "print(f'* Win Rate: {100 * (df_result[\"wins\"].sum() / (df_result[\"wins\"].sum() + df_result[\"losses\"].sum())):.2f} %')\n",
        "\n",
        "# Show The Monthly Result\n",
        "print(f' MONTHLY DETAIL RESULT '.center(70, '*'))\n",
        "df_monthly = df_result[['expire_date','gross_result','net_result','wins','losses']]\n",
        "df_monthly['year_month'] = df_monthly['expire_date'].str[0:7]\n",
        "df_monthly = df_monthly.drop('expire_date', axis=1)\n",
        "df_monthly = df_monthly.groupby(['year_month']).sum()\n",
        "\n",
        "print(df_monthly)\n"
      ],
      "metadata": {
        "id": "vzPXDAynnTKZ",
        "colab": {
          "base_uri": "https://localhost:8080/"
        },
        "outputId": "c4681e47-fd2c-4a2b-c497-a2ad5d885c98"
      },
      "execution_count": 9,
      "outputs": [
        {
          "output_type": "stream",
          "name": "stdout",
          "text": [
            "***************************** PARAMETERS *****************************\n",
            "* Hour Open: 10\n",
            "* Minute Open: 30\n",
            "* Strikes From Price: 1\n",
            "* Distance Between Strikes: 2\n",
            "* Max % Change To Open A Bearish Trade: -0.35\n",
            "* Min % Change To Open A Bullish Trade: 0.35\n",
            "************************* SUMMARIZED RESULT **************************\n",
            "* Trading Days: 106\n",
            "* Gross PnL: $ 68310.00\n",
            "* Net PnL: $ 67038.00\n",
            "* Win Rate: 84.91 %\n",
            "*********************** MONTHLY DETAIL RESULT ************************\n",
            "            gross_result  net_result  wins  losses\n",
            "year_month                                        \n",
            "2022-01           4530.0      4482.0     4       0\n",
            "2022-02           4790.0      4718.0     6       0\n",
            "2022-03           5250.0      5190.0     5       0\n",
            "2022-04           3680.0      3620.0     5       0\n",
            "2022-05           2020.0      1912.0     5       4\n",
            "2022-06            110.0        86.0     1       1\n",
            "2022-07           5600.0      5528.0     6       0\n",
            "2022-08           1290.0      1254.0     2       1\n",
            "2022-09           3030.0      2958.0     4       2\n",
            "2022-10           3190.0      3130.0     5       0\n",
            "2022-11            660.0       588.0     4       2\n",
            "2022-12           4030.0      3958.0     6       0\n",
            "2023-01           2070.0      2046.0     2       0\n",
            "2023-02           6000.0      5928.0     6       0\n",
            "2023-03           4810.0      4726.0     5       2\n",
            "2023-04           2270.0      2234.0     3       0\n",
            "2023-05            440.0       416.0     2       0\n",
            "2023-06          -2100.0     -2136.0     0       3\n",
            "2023-07           4590.0      4554.0     3       0\n",
            "2023-08            830.0       782.0     3       1\n",
            "2023-09           1700.0      1676.0     2       0\n",
            "2023-10           3970.0      3910.0     5       0\n",
            "2023-11           1100.0      1088.0     1       0\n",
            "2023-12           2860.0      2824.0     3       0\n",
            "2024-01           1590.0      1566.0     2       0\n"
          ]
        }
      ]
    },
    {
      "cell_type": "code",
      "source": [],
      "metadata": {
        "id": "lRDNtP4VmZfI"
      },
      "execution_count": 9,
      "outputs": []
    }
  ]
}